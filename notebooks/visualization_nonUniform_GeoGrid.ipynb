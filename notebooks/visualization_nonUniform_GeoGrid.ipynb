{
 "cells": [
  {
   "cell_type": "markdown",
   "metadata": {},
   "source": [
    "# Testing and visualize regoinal-global cluster grid  \n",
    "\n",
    "\n",
    "##  Fei Zhang\n",
    "### 2018-09-24\n",
    "\n",
    "\n",
    "\n"
   ]
  },
  {
   "cell_type": "markdown",
   "metadata": {},
   "source": [
    "Read in a CSV files containing the cell center coordinates of a Grid Model\n",
    "\n",
    "Visualize the Grid centers to see if the Grid definition and spatial point mapping is correct"
   ]
  },
  {
   "cell_type": "code",
   "execution_count": 2,
   "metadata": {},
   "outputs": [
    {
     "name": "stdout",
     "output_type": "stream",
     "text": [
      "/g/data1a/ha3/fxz547/miniconda3/bin/python\r\n"
     ]
    }
   ],
   "source": [
    "!which python"
   ]
  },
  {
   "cell_type": "code",
   "execution_count": 3,
   "metadata": {},
   "outputs": [
    {
     "name": "stdout",
     "output_type": "stream",
     "text": [
      "Python 3.6.6\r\n"
     ]
    }
   ],
   "source": [
    "!python -V"
   ]
  },
  {
   "cell_type": "code",
   "execution_count": 4,
   "metadata": {},
   "outputs": [],
   "source": [
    "import pandas as pd\n",
    "import geopandas as geopd\n",
    "\n",
    "import matplotlib.pyplot as plt\n",
    "\n",
    "# from IPython.display import display\n",
    "# %matplotlib inline"
   ]
  },
  {
   "cell_type": "code",
   "execution_count": 5,
   "metadata": {},
   "outputs": [],
   "source": [
    "import sys\n",
    "# get the pst packages into PYTHONPATH \n",
    "sys.path.append(\"/Softlab/Githubz/passive-seismic\")  \n",
    "\n",
    "from seismic.traveltime.cluster_grid import Grid2 \n",
    "from seismic.traveltime.sort_rays import sort,sort2"
   ]
  },
  {
   "cell_type": "code",
   "execution_count": 6,
   "metadata": {},
   "outputs": [],
   "source": [
    "def csv2pdf(csvfile):\n",
    "    \"\"\"\n",
    "    Read in a csv file into a pandas dataframe. \n",
    "    Make sure the column names match the csv files. \n",
    "    delimiter/separator is whitespace or comma\n",
    "    \"\"\"\n",
    "    \n",
    "    # read infile, tweek below\n",
    "    in_pdf =  pd.read_csv(csvfile, header='infer')   #  assume there is header line=0; separator = comma,\n",
    "    # finalpdf =  pd.read_csv(csvfile, header=None,  names=col_names ) #  no header line, separator = comma,\n",
    "    #finalpdf =  pd.read_csv(csvfile,  sep='\\s+', header=None,  names=col_names) # white space\n",
    "  \n",
    "    # columns you are interested?\n",
    "#     col_names=['source_block', 'station_block', 'residual', 'event_number', \n",
    "#             'source_longitude','source_latitude','source_depth',  \n",
    "#             'station_longitude','station_latitude', 'observed_tt', 'locations2degrees', 'station_code','SNR', 'P_or_S']   \n",
    "    \n",
    "    # finalpdf = in_pdf[col_names]  # take a subset of columns\n",
    "    \n",
    "    return in_pdf  #pandas_data_frame"
   ]
  },
  {
   "cell_type": "code",
   "execution_count": 7,
   "metadata": {},
   "outputs": [],
   "source": [
    "# my_grid= Grid2()\n",
    "# mypdf = my_grid.generate_latlong_grid()\n",
    "\n",
    "# OR read in already created CSV file:\n",
    "\n",
    "mycsvfile='/g/data/ha3/fxz547/travel_time_tomography/Cluster_Grids/cluster_grid3D_v4.csv'\n",
    "\n",
    "# mycsvfile = '/Softlab/travel_time_tomography/CSV_Data/cluster_grid_3d.csv'\n",
    "\n",
    "mypdf= csv2pdf(mycsvfile)"
   ]
  },
  {
   "cell_type": "markdown",
   "metadata": {},
   "source": [
    " "
   ]
  },
  {
   "cell_type": "code",
   "execution_count": 8,
   "metadata": {},
   "outputs": [
    {
     "data": {
      "text/plain": [
       "Index(['blockn', 'xc', 'yc', 'zc', 'long', 'lat', 'depthmeter'], dtype='object')"
      ]
     },
     "execution_count": 8,
     "metadata": {},
     "output_type": "execute_result"
    }
   ],
   "source": [
    "\n",
    "pdf2=mypdf\n",
    "\n",
    "pdf2.columns\n"
   ]
  },
  {
   "cell_type": "code",
   "execution_count": 9,
   "metadata": {},
   "outputs": [
    {
     "data": {
      "text/plain": [
       "(1234758, 7)"
      ]
     },
     "execution_count": 9,
     "metadata": {},
     "output_type": "execute_result"
    }
   ],
   "source": [
    "pdf2.shape"
   ]
  },
  {
   "cell_type": "code",
   "execution_count": 10,
   "metadata": {},
   "outputs": [
    {
     "data": {
      "text/plain": [
       "796754"
      ]
     },
     "execution_count": 10,
     "metadata": {},
     "output_type": "execute_result"
    }
   ],
   "source": [
    "pdf2.blockn.nunique()  # number of unique values"
   ]
  },
  {
   "cell_type": "code",
   "execution_count": 11,
   "metadata": {},
   "outputs": [
    {
     "data": {
      "text/plain": [
       "53"
      ]
     },
     "execution_count": 11,
     "metadata": {},
     "output_type": "execute_result"
    }
   ],
   "source": [
    "pdf2.zc.nunique()"
   ]
  },
  {
   "cell_type": "code",
   "execution_count": 12,
   "metadata": {},
   "outputs": [],
   "source": [
    "depth_list = pdf2.zc.unique()"
   ]
  },
  {
   "cell_type": "code",
   "execution_count": 13,
   "metadata": {},
   "outputs": [],
   "source": [
    "depth_list.sort()"
   ]
  },
  {
   "cell_type": "code",
   "execution_count": 14,
   "metadata": {},
   "outputs": [
    {
     "name": "stdout",
     "output_type": "stream",
     "text": [
      "[2.50000e+03 7.50000e+03 1.62500e+04 2.75000e+04 2.87500e+04 4.37500e+04\n",
      " 6.12500e+04 8.00000e+04 8.25000e+04 1.00000e+05 1.22500e+05 1.47500e+05\n",
      " 1.52500e+05 1.97500e+05 2.37500e+05 2.72500e+05 3.12500e+05 3.47500e+05\n",
      " 3.77500e+05 4.22500e+05 4.72500e+05 5.47500e+05 5.97500e+05 6.72500e+05\n",
      " 7.05000e+05 7.35000e+05 7.95000e+05 8.35000e+05 8.85000e+05 9.35000e+05\n",
      " 9.75000e+05 1.03500e+06 1.07750e+06 1.14500e+06 1.19250e+06 1.28750e+06\n",
      " 1.36250e+06 1.45000e+06 1.55000e+06 1.66250e+06 1.78750e+06 1.90000e+06\n",
      " 2.00000e+06 2.10000e+06 2.20000e+06 2.30000e+06 2.40000e+06 2.48750e+06\n",
      " 2.56250e+06 2.63750e+06 2.71250e+06 2.78475e+06 2.85425e+06]\n"
     ]
    }
   ],
   "source": [
    "print(depth_list)"
   ]
  },
  {
   "cell_type": "code",
   "execution_count": 15,
   "metadata": {},
   "outputs": [
    {
     "data": {
      "text/plain": [
       "(796754, 6)"
      ]
     },
     "execution_count": 15,
     "metadata": {},
     "output_type": "execute_result"
    }
   ],
   "source": [
    "pdf2.groupby(['blockn']).count().shape"
   ]
  },
  {
   "cell_type": "code",
   "execution_count": 16,
   "metadata": {},
   "outputs": [
    {
     "data": {
      "text/html": [
       "<div>\n",
       "<table border=\"1\" class=\"dataframe\">\n",
       "  <thead>\n",
       "    <tr style=\"text-align: right;\">\n",
       "      <th></th>\n",
       "      <th>xc</th>\n",
       "      <th>yc</th>\n",
       "      <th>zc</th>\n",
       "      <th>long</th>\n",
       "      <th>lat</th>\n",
       "      <th>depthmeter</th>\n",
       "    </tr>\n",
       "    <tr>\n",
       "      <th>blockn</th>\n",
       "      <th></th>\n",
       "      <th></th>\n",
       "      <th></th>\n",
       "      <th></th>\n",
       "      <th></th>\n",
       "      <th></th>\n",
       "    </tr>\n",
       "  </thead>\n",
       "  <tbody>\n",
       "    <tr>\n",
       "      <th>13161</th>\n",
       "      <td>1</td>\n",
       "      <td>1</td>\n",
       "      <td>1</td>\n",
       "      <td>1</td>\n",
       "      <td>1</td>\n",
       "      <td>1</td>\n",
       "    </tr>\n",
       "    <tr>\n",
       "      <th>13162</th>\n",
       "      <td>1</td>\n",
       "      <td>1</td>\n",
       "      <td>1</td>\n",
       "      <td>1</td>\n",
       "      <td>1</td>\n",
       "      <td>1</td>\n",
       "    </tr>\n",
       "    <tr>\n",
       "      <th>13163</th>\n",
       "      <td>1</td>\n",
       "      <td>1</td>\n",
       "      <td>1</td>\n",
       "      <td>1</td>\n",
       "      <td>1</td>\n",
       "      <td>1</td>\n",
       "    </tr>\n",
       "    <tr>\n",
       "      <th>13164</th>\n",
       "      <td>1</td>\n",
       "      <td>1</td>\n",
       "      <td>1</td>\n",
       "      <td>1</td>\n",
       "      <td>1</td>\n",
       "      <td>1</td>\n",
       "    </tr>\n",
       "    <tr>\n",
       "      <th>13165</th>\n",
       "      <td>1</td>\n",
       "      <td>1</td>\n",
       "      <td>1</td>\n",
       "      <td>1</td>\n",
       "      <td>1</td>\n",
       "      <td>1</td>\n",
       "    </tr>\n",
       "  </tbody>\n",
       "</table>\n",
       "</div>"
      ],
      "text/plain": [
       "        xc  yc  zc  long  lat  depthmeter\n",
       "blockn                                   \n",
       "13161    1   1   1     1    1           1\n",
       "13162    1   1   1     1    1           1\n",
       "13163    1   1   1     1    1           1\n",
       "13164    1   1   1     1    1           1\n",
       "13165    1   1   1     1    1           1"
      ]
     },
     "execution_count": 16,
     "metadata": {},
     "output_type": "execute_result"
    }
   ],
   "source": [
    "pdf2.groupby(['blockn']).count().head()"
   ]
  },
  {
   "cell_type": "code",
   "execution_count": 17,
   "metadata": {},
   "outputs": [],
   "source": [
    "final_pdf = pdf2.drop_duplicates(subset=['blockn'], keep='first', inplace=False)"
   ]
  },
  {
   "cell_type": "code",
   "execution_count": 18,
   "metadata": {},
   "outputs": [
    {
     "data": {
      "text/html": [
       "<div>\n",
       "<table border=\"1\" class=\"dataframe\">\n",
       "  <thead>\n",
       "    <tr style=\"text-align: right;\">\n",
       "      <th></th>\n",
       "      <th>blockn</th>\n",
       "      <th>xc</th>\n",
       "      <th>yc</th>\n",
       "      <th>zc</th>\n",
       "      <th>long</th>\n",
       "      <th>lat</th>\n",
       "      <th>depthmeter</th>\n",
       "    </tr>\n",
       "  </thead>\n",
       "  <tbody>\n",
       "    <tr>\n",
       "      <th>0</th>\n",
       "      <td>7795442</td>\n",
       "      <td>1.25</td>\n",
       "      <td>-88.75</td>\n",
       "      <td>27500.0</td>\n",
       "      <td>0.0</td>\n",
       "      <td>-90.0</td>\n",
       "      <td>0.0</td>\n",
       "    </tr>\n",
       "    <tr>\n",
       "      <th>1</th>\n",
       "      <td>7795586</td>\n",
       "      <td>1.25</td>\n",
       "      <td>-86.25</td>\n",
       "      <td>27500.0</td>\n",
       "      <td>0.0</td>\n",
       "      <td>-88.7</td>\n",
       "      <td>0.0</td>\n",
       "    </tr>\n",
       "    <tr>\n",
       "      <th>2</th>\n",
       "      <td>7795730</td>\n",
       "      <td>1.25</td>\n",
       "      <td>-83.75</td>\n",
       "      <td>27500.0</td>\n",
       "      <td>0.0</td>\n",
       "      <td>-86.2</td>\n",
       "      <td>0.0</td>\n",
       "    </tr>\n",
       "    <tr>\n",
       "      <th>3</th>\n",
       "      <td>7795874</td>\n",
       "      <td>1.25</td>\n",
       "      <td>-81.25</td>\n",
       "      <td>27500.0</td>\n",
       "      <td>0.0</td>\n",
       "      <td>-83.7</td>\n",
       "      <td>0.0</td>\n",
       "    </tr>\n",
       "    <tr>\n",
       "      <th>4</th>\n",
       "      <td>7796018</td>\n",
       "      <td>1.25</td>\n",
       "      <td>-78.75</td>\n",
       "      <td>27500.0</td>\n",
       "      <td>0.0</td>\n",
       "      <td>-81.2</td>\n",
       "      <td>0.0</td>\n",
       "    </tr>\n",
       "  </tbody>\n",
       "</table>\n",
       "</div>"
      ],
      "text/plain": [
       "    blockn    xc     yc       zc  long   lat  depthmeter\n",
       "0  7795442  1.25 -88.75  27500.0   0.0 -90.0         0.0\n",
       "1  7795586  1.25 -86.25  27500.0   0.0 -88.7         0.0\n",
       "2  7795730  1.25 -83.75  27500.0   0.0 -86.2         0.0\n",
       "3  7795874  1.25 -81.25  27500.0   0.0 -83.7         0.0\n",
       "4  7796018  1.25 -78.75  27500.0   0.0 -81.2         0.0"
      ]
     },
     "execution_count": 18,
     "metadata": {},
     "output_type": "execute_result"
    }
   ],
   "source": [
    "final_pdf.head()"
   ]
  },
  {
   "cell_type": "code",
   "execution_count": 19,
   "metadata": {},
   "outputs": [
    {
     "data": {
      "text/plain": [
       "(796754, 7)"
      ]
     },
     "execution_count": 19,
     "metadata": {},
     "output_type": "execute_result"
    }
   ],
   "source": [
    "final_pdf.shape"
   ]
  },
  {
   "cell_type": "code",
   "execution_count": 20,
   "metadata": {},
   "outputs": [],
   "source": [
    "global_grid = final_pdf[final_pdf.zc > depth_list[-1] -1]"
   ]
  },
  {
   "cell_type": "code",
   "execution_count": 21,
   "metadata": {},
   "outputs": [
    {
     "data": {
      "text/plain": [
       "(9633, 7)"
      ]
     },
     "execution_count": 21,
     "metadata": {},
     "output_type": "execute_result"
    }
   ],
   "source": [
    "global_grid.shape"
   ]
  },
  {
   "cell_type": "code",
   "execution_count": 22,
   "metadata": {},
   "outputs": [],
   "source": [
    "regional_grid = final_pdf[final_pdf.zc < depth_list[0] +1 ]"
   ]
  },
  {
   "cell_type": "code",
   "execution_count": 23,
   "metadata": {},
   "outputs": [
    {
     "data": {
      "text/html": [
       "<div>\n",
       "<table border=\"1\" class=\"dataframe\">\n",
       "  <thead>\n",
       "    <tr style=\"text-align: right;\">\n",
       "      <th></th>\n",
       "      <th>blockn</th>\n",
       "      <th>xc</th>\n",
       "      <th>yc</th>\n",
       "      <th>zc</th>\n",
       "      <th>long</th>\n",
       "      <th>lat</th>\n",
       "      <th>depthmeter</th>\n",
       "    </tr>\n",
       "  </thead>\n",
       "  <tbody>\n",
       "    <tr>\n",
       "      <th>2993</th>\n",
       "      <td>13161</td>\n",
       "      <td>100.25</td>\n",
       "      <td>-53.75</td>\n",
       "      <td>2500.0</td>\n",
       "      <td>100.0</td>\n",
       "      <td>-54.0</td>\n",
       "      <td>0.0</td>\n",
       "    </tr>\n",
       "    <tr>\n",
       "      <th>2994</th>\n",
       "      <td>13341</td>\n",
       "      <td>100.25</td>\n",
       "      <td>-53.25</td>\n",
       "      <td>2500.0</td>\n",
       "      <td>100.0</td>\n",
       "      <td>-53.7</td>\n",
       "      <td>0.0</td>\n",
       "    </tr>\n",
       "    <tr>\n",
       "      <th>2995</th>\n",
       "      <td>13521</td>\n",
       "      <td>100.25</td>\n",
       "      <td>-52.75</td>\n",
       "      <td>2500.0</td>\n",
       "      <td>100.0</td>\n",
       "      <td>-53.2</td>\n",
       "      <td>0.0</td>\n",
       "    </tr>\n",
       "    <tr>\n",
       "      <th>2996</th>\n",
       "      <td>13701</td>\n",
       "      <td>100.25</td>\n",
       "      <td>-52.25</td>\n",
       "      <td>2500.0</td>\n",
       "      <td>100.0</td>\n",
       "      <td>-52.7</td>\n",
       "      <td>0.0</td>\n",
       "    </tr>\n",
       "    <tr>\n",
       "      <th>2997</th>\n",
       "      <td>13881</td>\n",
       "      <td>100.25</td>\n",
       "      <td>-51.75</td>\n",
       "      <td>2500.0</td>\n",
       "      <td>100.0</td>\n",
       "      <td>-52.2</td>\n",
       "      <td>0.0</td>\n",
       "    </tr>\n",
       "  </tbody>\n",
       "</table>\n",
       "</div>"
      ],
      "text/plain": [
       "      blockn      xc     yc      zc   long   lat  depthmeter\n",
       "2993   13161  100.25 -53.75  2500.0  100.0 -54.0         0.0\n",
       "2994   13341  100.25 -53.25  2500.0  100.0 -53.7         0.0\n",
       "2995   13521  100.25 -52.75  2500.0  100.0 -53.2         0.0\n",
       "2996   13701  100.25 -52.25  2500.0  100.0 -52.7         0.0\n",
       "2997   13881  100.25 -51.75  2500.0  100.0 -52.2         0.0"
      ]
     },
     "execution_count": 23,
     "metadata": {},
     "output_type": "execute_result"
    }
   ],
   "source": [
    "regional_grid.head()"
   ]
  },
  {
   "cell_type": "code",
   "execution_count": 24,
   "metadata": {},
   "outputs": [
    {
     "data": {
      "text/plain": [
       "(19621, 7)"
      ]
     },
     "execution_count": 24,
     "metadata": {},
     "output_type": "execute_result"
    }
   ],
   "source": [
    "regional_grid.shape"
   ]
  },
  {
   "cell_type": "code",
   "execution_count": 25,
   "metadata": {},
   "outputs": [],
   "source": [
    "# stop break"
   ]
  },
  {
   "cell_type": "code",
   "execution_count": 26,
   "metadata": {},
   "outputs": [
    {
     "data": {
      "text/plain": [
       "358.75"
      ]
     },
     "execution_count": 26,
     "metadata": {},
     "output_type": "execute_result"
    }
   ],
   "source": [
    "final_pdf.xc.max()"
   ]
  },
  {
   "cell_type": "code",
   "execution_count": 27,
   "metadata": {},
   "outputs": [
    {
     "data": {
      "text/plain": [
       "1.25"
      ]
     },
     "execution_count": 27,
     "metadata": {},
     "output_type": "execute_result"
    }
   ],
   "source": [
    "final_pdf.xc.min()"
   ]
  },
  {
   "cell_type": "code",
   "execution_count": 28,
   "metadata": {},
   "outputs": [
    {
     "data": {
      "text/plain": [
       "88.75"
      ]
     },
     "execution_count": 28,
     "metadata": {},
     "output_type": "execute_result"
    }
   ],
   "source": [
    "final_pdf.yc.max()"
   ]
  },
  {
   "cell_type": "code",
   "execution_count": 29,
   "metadata": {},
   "outputs": [
    {
     "data": {
      "text/plain": [
       "-88.75"
      ]
     },
     "execution_count": 29,
     "metadata": {},
     "output_type": "execute_result"
    }
   ],
   "source": [
    "final_pdf.yc.min()"
   ]
  },
  {
   "cell_type": "code",
   "execution_count": 30,
   "metadata": {},
   "outputs": [],
   "source": [
    "# stop"
   ]
  },
  {
   "cell_type": "markdown",
   "metadata": {},
   "source": [
    "# Begin to Visualize the data"
   ]
  },
  {
   "cell_type": "markdown",
   "metadata": {},
   "source": [
    "# 1. Python Pandas package plot function (with basemap) "
   ]
  },
  {
   "cell_type": "code",
   "execution_count": 31,
   "metadata": {},
   "outputs": [
    {
     "data": {
      "text/plain": [
       "<matplotlib.axes._subplots.AxesSubplot at 0x7fd5b7337c18>"
      ]
     },
     "execution_count": 31,
     "metadata": {},
     "output_type": "execute_result"
    },
    {
     "data": {
      "image/png": "[encoded data removed]",
      "text/plain": [
       "<Figure size 864x576 with 1 Axes>"
      ]
     },
     "metadata": {
      "needs_background": "light"
     },
     "output_type": "display_data"
    }
   ],
   "source": [
    "#plt.figure(); \n",
    "regional_grid.plot.scatter(x='xc', y='yc',  figsize=(12,8))"
   ]
  },
  {
   "cell_type": "code",
   "execution_count": 32,
   "metadata": {},
   "outputs": [
    {
     "data": {
      "text/plain": [
       "<matplotlib.axes._subplots.AxesSubplot at 0x7fd5b7337518>"
      ]
     },
     "execution_count": 32,
     "metadata": {},
     "output_type": "execute_result"
    },
    {
     "data": {
      "image/png": "[encoded data removed]",
      "text/plain": [
       "<Figure size 864x576 with 1 Axes>"
      ]
     },
     "metadata": {
      "needs_background": "light"
     },
     "output_type": "display_data"
    }
   ],
   "source": [
    "global_grid.plot.scatter(x='xc', y='yc', figsize=(12,8))"
   ]
  },
  {
   "cell_type": "code",
   "execution_count": null,
   "metadata": {},
   "outputs": [],
   "source": []
  },
  {
   "cell_type": "markdown",
   "metadata": {},
   "source": [
    "# 3. Geopandas and Maps"
   ]
  },
  {
   "cell_type": "code",
   "execution_count": 33,
   "metadata": {},
   "outputs": [],
   "source": [
    "import geopandas as gpd\n",
    "\n",
    "from shapely.geometry import mapping\n",
    "from shapely.geometry import Point\n",
    "from shapely.geometry import Point, Polygon, LineString, LinearRing"
   ]
  },
  {
   "cell_type": "code",
   "execution_count": 34,
   "metadata": {},
   "outputs": [],
   "source": [
    "event_locations = [Point(xy) for xy in zip(regional_grid.xc, regional_grid.yc)]\n",
    "#OR pdf['geometry'] = pdf.apply(lambda z: Point(z.lon, z.lat), axis=1)\n",
    "#if you want to df = df.drop(['Lon', 'Lat'], axis=1)\n",
    "mycrs = {'init': 'epsg:4326'}  # WGS84\n",
    "mycrs = {'init': 'epsg:4283'}  # GDA94\n",
    "reg_geopdf = gpd.GeoDataFrame(regional_grid, crs=mycrs, geometry=event_locations)"
   ]
  },
  {
   "cell_type": "code",
   "execution_count": 35,
   "metadata": {},
   "outputs": [],
   "source": [
    "# myax = geopdf.plot(figsize=[20,10])\n",
    "\n",
    "\n",
    "# myax.set_xlabel('Longitude')\n",
    "# myax.set_ylabel('Latitude+\n",
    "# title_str= \"event locations\"\n",
    "# myax.set_title(title_str)"
   ]
  },
  {
   "cell_type": "code",
   "execution_count": 36,
   "metadata": {
    "scrolled": false
   },
   "outputs": [
    {
     "data": {
      "image/png": "[encoded data removed]",
      "text/plain": [
       "<Figure size 1440x720 with 1 Axes>"
      ]
     },
     "metadata": {
      "needs_background": "light"
     },
     "output_type": "display_data"
    }
   ],
   "source": [
    "# geopandas included shape datasets\n",
    "world = gpd.read_file(gpd.datasets.get_path('naturalearth_lowres'))\n",
    "myax=world.plot(alpha=0.5,  figsize=(20, 10))\n",
    "\n",
    "myax.set_xlim([90,200])\n",
    "myax.set_ylim([-70,10])\n",
    "              \n",
    "reg_geopdf.plot(ax=myax, marker='o', color='red', markersize=2);\n"
   ]
  },
  {
   "cell_type": "code",
   "execution_count": 37,
   "metadata": {},
   "outputs": [],
   "source": [
    "# geopandas included shape datasets\n",
    "grid_locations = [Point(xy) for xy in zip(global_grid.xc, global_grid.yc)]\n",
    "#OR pdf['geometry'] = pdf.apply(lambda z: Point(z.lon, z.lat), axis=1)\n",
    "#if you want to df = df.drop(['Lon', 'Lat'], axis=1)\n",
    "mycrs = {'init': 'epsg:4326'}  # WGS84\n",
    "mycrs = {'init': 'epsg:4283'}  # GDA94\n",
    "glob_geopdf = gpd.GeoDataFrame(global_grid, crs=mycrs, geometry=grid_locations)\n"
   ]
  },
  {
   "cell_type": "code",
   "execution_count": 38,
   "metadata": {},
   "outputs": [
    {
     "data": {
      "image/png": "[encoded data removed]",
      "text/plain": [
       "<Figure size 1440x720 with 1 Axes>"
      ]
     },
     "metadata": {
      "needs_background": "light"
     },
     "output_type": "display_data"
    }
   ],
   "source": [
    "# geopandas included shape datasets\n",
    "world = gpd.read_file(gpd.datasets.get_path('naturalearth_lowres'))\n",
    "myax=world.plot(alpha=0.5,  figsize=(20, 10))\n",
    "\n",
    "myax.set_xlim([90,200])\n",
    "myax.set_ylim([-70,10])\n",
    "\n",
    "# myax.set_xlim([160,200])\n",
    "# myax.set_ylim([-10,10])\n",
    "\n",
    "\n",
    "myax.set_xlabel('Longitude')\n",
    "myax.set_ylabel('Latitude')\n",
    "title_str= \"Reginal Grid Centers (red) and Global Grid Centres (Blue) \"\n",
    "myax.set_title(title_str)\n",
    "\n",
    "glob_geopdf.plot(ax=myax, marker='*', color='blue', markersize=32);\n",
    "\n",
    "reg_geopdf.plot(ax=myax, marker='o', color='red', markersize=2);"
   ]
  },
  {
   "cell_type": "code",
   "execution_count": 39,
   "metadata": {},
   "outputs": [
    {
     "data": {
      "image/png": "[encoded data removed]",
      "text/plain": [
       "<Figure size 1440x720 with 1 Axes>"
      ]
     },
     "metadata": {
      "needs_background": "light"
     },
     "output_type": "display_data"
    }
   ],
   "source": [
    "# geopandas included shape datasets\n",
    "world = gpd.read_file(gpd.datasets.get_path('naturalearth_lowres'))\n",
    "myax=world.plot(alpha=0.5,  figsize=(20, 10))\n",
    "\n",
    "# myax.set_xlim([90,200])\n",
    "# myax.set_ylim([-70,10])\n",
    "\n",
    "\n",
    "myax.set_xlim([160,200])\n",
    "myax.set_ylim([-10,10])\n",
    "\n",
    "\n",
    "myax.set_xlabel('Longitude')\n",
    "myax.set_ylabel('Latitude')\n",
    "title_str= \"Reginal Grid Centers (red) and Global Grid Centres (Blue) \"\n",
    "myax.set_title(title_str)\n",
    "\n",
    "glob_geopdf.plot(ax=myax, marker='*', color='blue', markersize=32);\n",
    "\n",
    "reg_geopdf.plot(ax=myax, marker='o', color='red', markersize=8);"
   ]
  },
  {
   "cell_type": "code",
   "execution_count": 40,
   "metadata": {},
   "outputs": [
    {
     "ename": "SyntaxError",
     "evalue": "'break' outside loop (<ipython-input-40-6aaf1f276005>, line 1)",
     "output_type": "error",
     "traceback": [
      "\u001b[0;36m  File \u001b[0;32m\"<ipython-input-40-6aaf1f276005>\"\u001b[0;36m, line \u001b[0;32m1\u001b[0m\n\u001b[0;31m    break\u001b[0m\n\u001b[0m         ^\u001b[0m\n\u001b[0;31mSyntaxError\u001b[0m\u001b[0;31m:\u001b[0m 'break' outside loop\n"
     ]
    }
   ],
   "source": [
    "break"
   ]
  },
  {
   "cell_type": "markdown",
   "metadata": {},
   "source": [
    "# The next cell will show many horizontal slices of the discrete model"
   ]
  },
  {
   "cell_type": "code",
   "execution_count": null,
   "metadata": {
    "scrolled": false
   },
   "outputs": [],
   "source": [
    "for adepth in depth_list:\n",
    "    hview_grid = final_pdf[final_pdf.zc == adepth]\n",
    "    \n",
    "    title_str=\"horizontal view grid at depth = %s, %s, %s, %s\"%(adepth, hview_grid.shape, hview_grid.blockn.min(), hview_grid.blockn.max())\n",
    "    print (title_str)\n",
    "    hview_grid.plot.scatter(x='xc', y='yc',  figsize=(12,8))"
   ]
  },
  {
   "cell_type": "code",
   "execution_count": null,
   "metadata": {},
   "outputs": [],
   "source": [
    "\n",
    "    "
   ]
  },
  {
   "cell_type": "code",
   "execution_count": null,
   "metadata": {},
   "outputs": [],
   "source": []
  },
  {
   "cell_type": "code",
   "execution_count": null,
   "metadata": {},
   "outputs": [],
   "source": []
  },
  {
   "cell_type": "markdown",
   "metadata": {},
   "source": [
    "# Grid properties"
   ]
  },
  {
   "cell_type": "code",
   "execution_count": 41,
   "metadata": {},
   "outputs": [
    {
     "name": "stdout",
     "output_type": "stream",
     "text": [
      "Use the default harded-coded Grid parameters in  /g/data1a/ha3/fxz547/Githubz/passive-seismic/seismic/traveltime/cluster_grid.py\n"
     ]
    }
   ],
   "source": [
    "mygrid=Grid2()"
   ]
  },
  {
   "cell_type": "code",
   "execution_count": 42,
   "metadata": {},
   "outputs": [
    {
     "name": "stdout",
     "output_type": "stream",
     "text": [
      "****** Show all attributes of the Grid instance:  ******* \n",
      "['LAT : (-54.0, 0.0) ', 'LON : (100.0, 190.0) ', 'REGION_MAX_BN : 7795441 ', 'dx : 0.5 ', 'dy : 0.5 ', 'gdepth : (0, 110, 280, 410, 660, 840, 1020, 1250, 1400, 1600, 1850, 2050, 2250, 2450, 2600, 2750, 2889) ', 'gdx : 2.5 ', 'gdy : 2.5 ', 'gmeters : [      0  110000  280000  410000  660000  840000 1020000 1250000 1400000\\n 1600000 1850000 2050000 2250000 2450000 2600000 2750000 2889000] ', 'gnx : 144 ', 'gny : 72.0 ', 'gnz : 16 ', 'ndis : 2 ', 'nx : 180 ', 'ny : 108 ', 'nz : 23 ', 'rdepth : (0, 10, 35, 70, 110, 160, 210, 260, 310, 360, 410, 460, 510, 560, 610, 660, 710, 810, 910, 1010, 1110, 1250, 1400, 1600) ', 'refgmeters : [      0   55000  110000  195000  280000  345000  410000  535000  660000\\n  750000  840000  930000 1020000 1135000 1250000 1325000 1400000 1500000\\n 1600000 1725000 1850000 1950000 2050000 2150000 2250000 2350000 2450000\\n 2525000 2600000 2675000 2750000 2819500 2889000] ', 'refrmeters : [      0    5000   10000   22500   35000   52500   70000   90000  110000\\n  135000  160000  185000  210000  235000  260000  285000  310000  335000\\n  360000  385000  410000  435000  460000  485000  510000  535000  560000\\n  585000  610000  635000  660000  685000  710000  760000  810000  860000\\n  910000  960000 1010000 1060000 1110000 1180000 1250000 1325000 1400000\\n 1500000 1600000] ', 'rmeters : [      0   10000   35000   70000  110000  160000  210000  260000  310000\\n  360000  410000  460000  510000  560000  610000  660000  710000  810000\\n  910000 1010000 1110000 1250000 1400000 1600000] ']\n",
      "**********************************\n",
      "The refined discretization divided by =  2\n",
      "Reginal grid prop=  0.5 0.5 180 108\n",
      "Gloabl grid prop=  2.5 2.5 144 72.0\n",
      "The MAX BLOCK Number inside ANZ region 7795441\n",
      "The refined regional depth steps and size: [      0    5000   10000   22500   35000   52500   70000   90000  110000\n",
      "  135000  160000  185000  210000  235000  260000  285000  310000  335000\n",
      "  360000  385000  410000  435000  460000  485000  510000  535000  560000\n",
      "  585000  610000  635000  660000  685000  710000  760000  810000  860000\n",
      "  910000  960000 1010000 1060000 1110000 1180000 1250000 1325000 1400000\n",
      " 1500000 1600000] 47\n",
      "The refined global depth steps and size: [      0   55000  110000  195000  280000  345000  410000  535000  660000\n",
      "  750000  840000  930000 1020000 1135000 1250000 1325000 1400000 1500000\n",
      " 1600000 1725000 1850000 1950000 2050000 2150000 2250000 2350000 2450000\n",
      " 2525000 2600000 2675000 2750000 2819500 2889000] 33\n",
      "Regional: The k index = 1\n",
      "Regional: The zcm  = 2500.0\n",
      "Global: The k index = 1\n",
      "Global: The zcm  = 27500.0\n",
      "Global: (7795442, 1.25, -88.75, 27500.0)\n",
      "Global: (7795442, 1.25, -88.75, 27500.0)\n",
      "regional: (32243, 101.25, -0.75, 2500.0)\n",
      "regional: (31885, 102.25, -1.75, 2500.0)\n"
     ]
    }
   ],
   "source": [
    "mygrid.show_properties()"
   ]
  },
  {
   "cell_type": "code",
   "execution_count": 43,
   "metadata": {},
   "outputs": [
    {
     "data": {
      "text/plain": [
       "(32601, 190.25, -0.25, 2500.0)"
      ]
     },
     "execution_count": 43,
     "metadata": {},
     "output_type": "execute_result"
    }
   ],
   "source": [
    "# border corner point mapping to the grid, \n",
    "# floating point errors, discontinuity\n",
    "# bugs in code \n",
    "\n",
    "# inside and at border of the ANZ region\n",
    "mygrid.find_block_number(-0.5,189.8, 2000.0)"
   ]
  },
  {
   "cell_type": "code",
   "execution_count": 44,
   "metadata": {},
   "outputs": [
    {
     "data": {
      "text/plain": [
       "(7801242, 101.25, 11.25, 27500.0)"
      ]
     },
     "execution_count": 44,
     "metadata": {},
     "output_type": "execute_result"
    }
   ],
   "source": [
    "# outside the ANZ region\n",
    "\n",
    "mygrid.find_block_number(10, 100, 2000.0)"
   ]
  },
  {
   "cell_type": "markdown",
   "metadata": {},
   "source": [
    "#  More"
   ]
  },
  {
   "cell_type": "code",
   "execution_count": 45,
   "metadata": {},
   "outputs": [
    {
     "data": {
      "text/plain": [
       "15033.094339622641"
      ]
     },
     "execution_count": 45,
     "metadata": {},
     "output_type": "execute_result"
    }
   ],
   "source": [
    "796754/53"
   ]
  },
  {
   "cell_type": "code",
   "execution_count": 46,
   "metadata": {},
   "outputs": [
    {
     "data": {
      "text/plain": [
       "29399.0"
      ]
     },
     "execution_count": 46,
     "metadata": {},
     "output_type": "execute_result"
    }
   ],
   "source": [
    "587980/20\n",
    "\n"
   ]
  },
  {
   "cell_type": "code",
   "execution_count": 47,
   "metadata": {},
   "outputs": [
    {
     "data": {
      "text/plain": [
       "20.0"
      ]
     },
     "execution_count": 47,
     "metadata": {},
     "output_type": "execute_result"
    }
   ],
   "source": [
    "587980/29399"
   ]
  },
  {
   "cell_type": "code",
   "execution_count": 48,
   "metadata": {},
   "outputs": [
    {
     "data": {
      "text/plain": [
       "array([0.000e+00, 2.000e-01, 4.000e-01, ..., 3.596e+02, 3.598e+02,\n",
       "       3.600e+02])"
      ]
     },
     "execution_count": 48,
     "metadata": {},
     "output_type": "execute_result"
    }
   ],
   "source": [
    "import numpy as np\n",
    "np.linspace(0, 360, num=360*5+1)"
   ]
  },
  {
   "cell_type": "code",
   "execution_count": 49,
   "metadata": {},
   "outputs": [
    {
     "data": {
      "text/plain": [
       "array([-90. , -89.8, -89.6, -89.4, -89.2, -89. , -88.8, -88.6, -88.4,\n",
       "       -88.2, -88. , -87.8, -87.6, -87.4, -87.2, -87. , -86.8, -86.6,\n",
       "       -86.4, -86.2, -86. , -85.8, -85.6, -85.4, -85.2, -85. , -84.8,\n",
       "       -84.6, -84.4, -84.2, -84. , -83.8, -83.6, -83.4, -83.2, -83. ,\n",
       "       -82.8, -82.6, -82.4, -82.2, -82. , -81.8, -81.6, -81.4, -81.2,\n",
       "       -81. , -80.8, -80.6, -80.4, -80.2, -80. , -79.8, -79.6, -79.4,\n",
       "       -79.2, -79. , -78.8, -78.6, -78.4, -78.2, -78. , -77.8, -77.6,\n",
       "       -77.4, -77.2, -77. , -76.8, -76.6, -76.4, -76.2, -76. , -75.8,\n",
       "       -75.6, -75.4, -75.2, -75. , -74.8, -74.6, -74.4, -74.2, -74. ,\n",
       "       -73.8, -73.6, -73.4, -73.2, -73. , -72.8, -72.6, -72.4, -72.2,\n",
       "       -72. , -71.8, -71.6, -71.4, -71.2, -71. , -70.8, -70.6, -70.4,\n",
       "       -70.2, -70. , -69.8, -69.6, -69.4, -69.2, -69. , -68.8, -68.6,\n",
       "       -68.4, -68.2, -68. , -67.8, -67.6, -67.4, -67.2, -67. , -66.8,\n",
       "       -66.6, -66.4, -66.2, -66. , -65.8, -65.6, -65.4, -65.2, -65. ,\n",
       "       -64.8, -64.6, -64.4, -64.2, -64. , -63.8, -63.6, -63.4, -63.2,\n",
       "       -63. , -62.8, -62.6, -62.4, -62.2, -62. , -61.8, -61.6, -61.4,\n",
       "       -61.2, -61. , -60.8, -60.6, -60.4, -60.2, -60. , -59.8, -59.6,\n",
       "       -59.4, -59.2, -59. , -58.8, -58.6, -58.4, -58.2, -58. , -57.8,\n",
       "       -57.6, -57.4, -57.2, -57. , -56.8, -56.6, -56.4, -56.2, -56. ,\n",
       "       -55.8, -55.6, -55.4, -55.2, -55. , -54.8, -54.6, -54.4, -54.2,\n",
       "       -54. , -53.8, -53.6, -53.4, -53.2, -53. , -52.8, -52.6, -52.4,\n",
       "       -52.2, -52. , -51.8, -51.6, -51.4, -51.2, -51. , -50.8, -50.6,\n",
       "       -50.4, -50.2, -50. , -49.8, -49.6, -49.4, -49.2, -49. , -48.8,\n",
       "       -48.6, -48.4, -48.2, -48. , -47.8, -47.6, -47.4, -47.2, -47. ,\n",
       "       -46.8, -46.6, -46.4, -46.2, -46. , -45.8, -45.6, -45.4, -45.2,\n",
       "       -45. , -44.8, -44.6, -44.4, -44.2, -44. , -43.8, -43.6, -43.4,\n",
       "       -43.2, -43. , -42.8, -42.6, -42.4, -42.2, -42. , -41.8, -41.6,\n",
       "       -41.4, -41.2, -41. , -40.8, -40.6, -40.4, -40.2, -40. , -39.8,\n",
       "       -39.6, -39.4, -39.2, -39. , -38.8, -38.6, -38.4, -38.2, -38. ,\n",
       "       -37.8, -37.6, -37.4, -37.2, -37. , -36.8, -36.6, -36.4, -36.2,\n",
       "       -36. , -35.8, -35.6, -35.4, -35.2, -35. , -34.8, -34.6, -34.4,\n",
       "       -34.2, -34. , -33.8, -33.6, -33.4, -33.2, -33. , -32.8, -32.6,\n",
       "       -32.4, -32.2, -32. , -31.8, -31.6, -31.4, -31.2, -31. , -30.8,\n",
       "       -30.6, -30.4, -30.2, -30. , -29.8, -29.6, -29.4, -29.2, -29. ,\n",
       "       -28.8, -28.6, -28.4, -28.2, -28. , -27.8, -27.6, -27.4, -27.2,\n",
       "       -27. , -26.8, -26.6, -26.4, -26.2, -26. , -25.8, -25.6, -25.4,\n",
       "       -25.2, -25. , -24.8, -24.6, -24.4, -24.2, -24. , -23.8, -23.6,\n",
       "       -23.4, -23.2, -23. , -22.8, -22.6, -22.4, -22.2, -22. , -21.8,\n",
       "       -21.6, -21.4, -21.2, -21. , -20.8, -20.6, -20.4, -20.2, -20. ,\n",
       "       -19.8, -19.6, -19.4, -19.2, -19. , -18.8, -18.6, -18.4, -18.2,\n",
       "       -18. , -17.8, -17.6, -17.4, -17.2, -17. , -16.8, -16.6, -16.4,\n",
       "       -16.2, -16. , -15.8, -15.6, -15.4, -15.2, -15. , -14.8, -14.6,\n",
       "       -14.4, -14.2, -14. , -13.8, -13.6, -13.4, -13.2, -13. , -12.8,\n",
       "       -12.6, -12.4, -12.2, -12. , -11.8, -11.6, -11.4, -11.2, -11. ,\n",
       "       -10.8, -10.6, -10.4, -10.2, -10. ,  -9.8,  -9.6,  -9.4,  -9.2,\n",
       "        -9. ,  -8.8,  -8.6,  -8.4,  -8.2,  -8. ,  -7.8,  -7.6,  -7.4,\n",
       "        -7.2,  -7. ,  -6.8,  -6.6,  -6.4,  -6.2,  -6. ,  -5.8,  -5.6,\n",
       "        -5.4,  -5.2,  -5. ,  -4.8,  -4.6,  -4.4,  -4.2,  -4. ,  -3.8,\n",
       "        -3.6,  -3.4,  -3.2,  -3. ,  -2.8,  -2.6,  -2.4,  -2.2,  -2. ,\n",
       "        -1.8,  -1.6,  -1.4,  -1.2,  -1. ,  -0.8,  -0.6,  -0.4,  -0.2,\n",
       "         0. ,   0.2,   0.4,   0.6,   0.8,   1. ,   1.2,   1.4,   1.6,\n",
       "         1.8,   2. ,   2.2,   2.4,   2.6,   2.8,   3. ,   3.2,   3.4,\n",
       "         3.6,   3.8,   4. ,   4.2,   4.4,   4.6,   4.8,   5. ,   5.2,\n",
       "         5.4,   5.6,   5.8,   6. ,   6.2,   6.4,   6.6,   6.8,   7. ,\n",
       "         7.2,   7.4,   7.6,   7.8,   8. ,   8.2,   8.4,   8.6,   8.8,\n",
       "         9. ,   9.2,   9.4,   9.6,   9.8,  10. ,  10.2,  10.4,  10.6,\n",
       "        10.8,  11. ,  11.2,  11.4,  11.6,  11.8,  12. ,  12.2,  12.4,\n",
       "        12.6,  12.8,  13. ,  13.2,  13.4,  13.6,  13.8,  14. ,  14.2,\n",
       "        14.4,  14.6,  14.8,  15. ,  15.2,  15.4,  15.6,  15.8,  16. ,\n",
       "        16.2,  16.4,  16.6,  16.8,  17. ,  17.2,  17.4,  17.6,  17.8,\n",
       "        18. ,  18.2,  18.4,  18.6,  18.8,  19. ,  19.2,  19.4,  19.6,\n",
       "        19.8,  20. ,  20.2,  20.4,  20.6,  20.8,  21. ,  21.2,  21.4,\n",
       "        21.6,  21.8,  22. ,  22.2,  22.4,  22.6,  22.8,  23. ,  23.2,\n",
       "        23.4,  23.6,  23.8,  24. ,  24.2,  24.4,  24.6,  24.8,  25. ,\n",
       "        25.2,  25.4,  25.6,  25.8,  26. ,  26.2,  26.4,  26.6,  26.8,\n",
       "        27. ,  27.2,  27.4,  27.6,  27.8,  28. ,  28.2,  28.4,  28.6,\n",
       "        28.8,  29. ,  29.2,  29.4,  29.6,  29.8,  30. ,  30.2,  30.4,\n",
       "        30.6,  30.8,  31. ,  31.2,  31.4,  31.6,  31.8,  32. ,  32.2,\n",
       "        32.4,  32.6,  32.8,  33. ,  33.2,  33.4,  33.6,  33.8,  34. ,\n",
       "        34.2,  34.4,  34.6,  34.8,  35. ,  35.2,  35.4,  35.6,  35.8,\n",
       "        36. ,  36.2,  36.4,  36.6,  36.8,  37. ,  37.2,  37.4,  37.6,\n",
       "        37.8,  38. ,  38.2,  38.4,  38.6,  38.8,  39. ,  39.2,  39.4,\n",
       "        39.6,  39.8,  40. ,  40.2,  40.4,  40.6,  40.8,  41. ,  41.2,\n",
       "        41.4,  41.6,  41.8,  42. ,  42.2,  42.4,  42.6,  42.8,  43. ,\n",
       "        43.2,  43.4,  43.6,  43.8,  44. ,  44.2,  44.4,  44.6,  44.8,\n",
       "        45. ,  45.2,  45.4,  45.6,  45.8,  46. ,  46.2,  46.4,  46.6,\n",
       "        46.8,  47. ,  47.2,  47.4,  47.6,  47.8,  48. ,  48.2,  48.4,\n",
       "        48.6,  48.8,  49. ,  49.2,  49.4,  49.6,  49.8,  50. ,  50.2,\n",
       "        50.4,  50.6,  50.8,  51. ,  51.2,  51.4,  51.6,  51.8,  52. ,\n",
       "        52.2,  52.4,  52.6,  52.8,  53. ,  53.2,  53.4,  53.6,  53.8,\n",
       "        54. ,  54.2,  54.4,  54.6,  54.8,  55. ,  55.2,  55.4,  55.6,\n",
       "        55.8,  56. ,  56.2,  56.4,  56.6,  56.8,  57. ,  57.2,  57.4,\n",
       "        57.6,  57.8,  58. ,  58.2,  58.4,  58.6,  58.8,  59. ,  59.2,\n",
       "        59.4,  59.6,  59.8,  60. ,  60.2,  60.4,  60.6,  60.8,  61. ,\n",
       "        61.2,  61.4,  61.6,  61.8,  62. ,  62.2,  62.4,  62.6,  62.8,\n",
       "        63. ,  63.2,  63.4,  63.6,  63.8,  64. ,  64.2,  64.4,  64.6,\n",
       "        64.8,  65. ,  65.2,  65.4,  65.6,  65.8,  66. ,  66.2,  66.4,\n",
       "        66.6,  66.8,  67. ,  67.2,  67.4,  67.6,  67.8,  68. ,  68.2,\n",
       "        68.4,  68.6,  68.8,  69. ,  69.2,  69.4,  69.6,  69.8,  70. ,\n",
       "        70.2,  70.4,  70.6,  70.8,  71. ,  71.2,  71.4,  71.6,  71.8,\n",
       "        72. ,  72.2,  72.4,  72.6,  72.8,  73. ,  73.2,  73.4,  73.6,\n",
       "        73.8,  74. ,  74.2,  74.4,  74.6,  74.8,  75. ,  75.2,  75.4,\n",
       "        75.6,  75.8,  76. ,  76.2,  76.4,  76.6,  76.8,  77. ,  77.2,\n",
       "        77.4,  77.6,  77.8,  78. ,  78.2,  78.4,  78.6,  78.8,  79. ,\n",
       "        79.2,  79.4,  79.6,  79.8,  80. ,  80.2,  80.4,  80.6,  80.8,\n",
       "        81. ,  81.2,  81.4,  81.6,  81.8,  82. ,  82.2,  82.4,  82.6,\n",
       "        82.8,  83. ,  83.2,  83.4,  83.6,  83.8,  84. ,  84.2,  84.4,\n",
       "        84.6,  84.8,  85. ,  85.2,  85.4,  85.6,  85.8,  86. ,  86.2,\n",
       "        86.4,  86.6,  86.8,  87. ,  87.2,  87.4,  87.6,  87.8,  88. ,\n",
       "        88.2,  88.4,  88.6,  88.8,  89. ,  89.2,  89.4,  89.6,  89.8,\n",
       "        90. ])"
      ]
     },
     "execution_count": 49,
     "metadata": {},
     "output_type": "execute_result"
    }
   ],
   "source": [
    "np.linspace(-90,90, num=180*5+1)"
   ]
  },
  {
   "cell_type": "code",
   "execution_count": 50,
   "metadata": {},
   "outputs": [
    {
     "data": {
      "image/png": "[encoded data removed]",
      "text/plain": [
       "<Figure size 432x288 with 1 Axes>"
      ]
     },
     "metadata": {
      "needs_background": "light"
     },
     "output_type": "display_data"
    }
   ],
   "source": [
    "import matplotlib.pyplot as plt\n",
    "N = 8\n",
    "y=np.zeros(N)\n",
    "x1 = np.linspace(0, 10, N, endpoint=True)\n",
    "x2 = np.linspace(0, 10, N, endpoint=False)\n",
    "plt.plot(x1, y, 'o')\n",
    "\n",
    "plt.plot(x2, y + 0.2, 'o')\n",
    "\n",
    "plt.ylim([-0.4, 0.6])\n",
    "# (-0.5, 1)\n",
    "plt.show()"
   ]
  },
  {
   "cell_type": "code",
   "execution_count": 51,
   "metadata": {},
   "outputs": [
    {
     "name": "stdout",
     "output_type": "stream",
     "text": [
      "[ 0.          1.42857143  2.85714286  4.28571429  5.71428571  7.14285714\n",
      "  8.57142857 10.        ] [0.   1.25 2.5  3.75 5.   6.25 7.5  8.75]\n"
     ]
    }
   ],
   "source": [
    "print (x1, x2)"
   ]
  },
  {
   "cell_type": "code",
   "execution_count": 52,
   "metadata": {},
   "outputs": [],
   "source": [
    "x1 = np.linspace(0, 10, num=N+1)  # good grid\n",
    "x2 = np.linspace(0, 10, N+1, endpoint=False)  # no good"
   ]
  },
  {
   "cell_type": "code",
   "execution_count": 53,
   "metadata": {},
   "outputs": [
    {
     "name": "stdout",
     "output_type": "stream",
     "text": [
      "[ 0.    1.25  2.5   3.75  5.    6.25  7.5   8.75 10.  ] [0.         1.11111111 2.22222222 3.33333333 4.44444444 5.55555556\n",
      " 6.66666667 7.77777778 8.88888889]\n"
     ]
    }
   ],
   "source": [
    "print (x1, x2)"
   ]
  }
 ],
 "metadata": {
  "kernelspec": {
   "display_name": "Python 3",
   "language": "python",
   "name": "python3"
  },
  "language_info": {
   "codemirror_mode": {
    "name": "ipython",
    "version": 3
   },
   "file_extension": ".py",
   "mimetype": "text/x-python",
   "name": "python",
   "nbconvert_exporter": "python",
   "pygments_lexer": "ipython3",
   "version": "3.6.6"
  }
 },
 "nbformat": 4,
 "nbformat_minor": 1
}
