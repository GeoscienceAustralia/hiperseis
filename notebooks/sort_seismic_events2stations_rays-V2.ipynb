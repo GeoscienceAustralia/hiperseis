{
 "cells": [
  {
   "cell_type": "markdown",
   "metadata": {},
   "source": [
    "# Use Pandas to  analyze CSV files of seismic rays \n",
    "\n",
    "## Explore the pandas functions, and validate testing the algorithms.\n",
    "\n",
    "### Change the input csv file: P-waves first, then S-waves \n",
    "\n",
    "###  Fei Zhang\n",
    "### Last updated 2019-06-14"
   ]
  },
  {
   "cell_type": "code",
   "execution_count": 53,
   "metadata": {},
   "outputs": [
    {
     "name": "stdout",
     "output_type": "stream",
     "text": [
      "/g/data/ha3/fxz547/Githubz/passive-seismic/\n"
     ]
    },
    {
     "data": {
      "text/html": [
       "<div>\n",
       "<table border=\"1\" class=\"dataframe\">\n",
       "  <thead>\n",
       "    <tr style=\"text-align: right;\">\n",
       "      <th></th>\n",
       "      <th>#eventID</th>\n",
       "      <th>originTimestamp</th>\n",
       "      <th>mag</th>\n",
       "      <th>originLon</th>\n",
       "      <th>originLat</th>\n",
       "      <th>originDepthKm</th>\n",
       "      <th>net</th>\n",
       "      <th>sta</th>\n",
       "      <th>cha</th>\n",
       "      <th>pickTimestamp</th>\n",
       "      <th>...</th>\n",
       "      <th>az</th>\n",
       "      <th>baz</th>\n",
       "      <th>distance</th>\n",
       "      <th>ttResidual</th>\n",
       "      <th>snr</th>\n",
       "      <th>qualityMeasureCWT</th>\n",
       "      <th>domFreq</th>\n",
       "      <th>qualityMeasureSlope</th>\n",
       "      <th>bandIndex</th>\n",
       "      <th>nSigma</th>\n",
       "    </tr>\n",
       "  </thead>\n",
       "  <tbody>\n",
       "    <tr>\n",
       "      <th>0</th>\n",
       "      <td>smi:local/102160r49</td>\n",
       "      <td>1.197052e+09</td>\n",
       "      <td>4.8</td>\n",
       "      <td>144.212962</td>\n",
       "      <td>-4.554822</td>\n",
       "      <td>98.8</td>\n",
       "      <td>AU</td>\n",
       "      <td>KNA</td>\n",
       "      <td>BHZ</td>\n",
       "      <td>1.197052e+09</td>\n",
       "      <td>...</td>\n",
       "      <td>232.647636</td>\n",
       "      <td>55.399525</td>\n",
       "      <td>18.838486</td>\n",
       "      <td>-0.134955</td>\n",
       "      <td>0.0</td>\n",
       "      <td>0.0</td>\n",
       "      <td>0.0</td>\n",
       "      <td>0.0</td>\n",
       "      <td>0</td>\n",
       "      <td>0</td>\n",
       "    </tr>\n",
       "    <tr>\n",
       "      <th>1</th>\n",
       "      <td>smi:local/102160r49</td>\n",
       "      <td>1.197052e+09</td>\n",
       "      <td>4.8</td>\n",
       "      <td>144.212962</td>\n",
       "      <td>-4.554822</td>\n",
       "      <td>98.8</td>\n",
       "      <td>IR</td>\n",
       "      <td>QLP</td>\n",
       "      <td>BHZ</td>\n",
       "      <td>1.197052e+09</td>\n",
       "      <td>...</td>\n",
       "      <td>179.947115</td>\n",
       "      <td>359.941088</td>\n",
       "      <td>21.923102</td>\n",
       "      <td>1.734943</td>\n",
       "      <td>0.0</td>\n",
       "      <td>0.0</td>\n",
       "      <td>0.0</td>\n",
       "      <td>0.0</td>\n",
       "      <td>0</td>\n",
       "      <td>0</td>\n",
       "    </tr>\n",
       "    <tr>\n",
       "      <th>2</th>\n",
       "      <td>smi:local/102160r49</td>\n",
       "      <td>1.197052e+09</td>\n",
       "      <td>4.8</td>\n",
       "      <td>144.212962</td>\n",
       "      <td>-4.554822</td>\n",
       "      <td>98.8</td>\n",
       "      <td>AU</td>\n",
       "      <td>RMQ</td>\n",
       "      <td>BHZ</td>\n",
       "      <td>1.197052e+09</td>\n",
       "      <td>...</td>\n",
       "      <td>169.186187</td>\n",
       "      <td>347.946731</td>\n",
       "      <td>22.255710</td>\n",
       "      <td>3.240389</td>\n",
       "      <td>0.0</td>\n",
       "      <td>0.0</td>\n",
       "      <td>0.0</td>\n",
       "      <td>0.0</td>\n",
       "      <td>0</td>\n",
       "      <td>0</td>\n",
       "    </tr>\n",
       "    <tr>\n",
       "      <th>3</th>\n",
       "      <td>smi:local/102160r49</td>\n",
       "      <td>1.197052e+09</td>\n",
       "      <td>4.8</td>\n",
       "      <td>144.212962</td>\n",
       "      <td>-4.554822</td>\n",
       "      <td>98.8</td>\n",
       "      <td>GE</td>\n",
       "      <td>WSI</td>\n",
       "      <td>BHZ</td>\n",
       "      <td>1.197052e+09</td>\n",
       "      <td>...</td>\n",
       "      <td>256.588695</td>\n",
       "      <td>79.595928</td>\n",
       "      <td>24.286730</td>\n",
       "      <td>-0.985012</td>\n",
       "      <td>0.0</td>\n",
       "      <td>0.0</td>\n",
       "      <td>0.0</td>\n",
       "      <td>0.0</td>\n",
       "      <td>0</td>\n",
       "      <td>0</td>\n",
       "    </tr>\n",
       "    <tr>\n",
       "      <th>4</th>\n",
       "      <td>smi:local/102160r49</td>\n",
       "      <td>1.197052e+09</td>\n",
       "      <td>4.8</td>\n",
       "      <td>144.212962</td>\n",
       "      <td>-4.554822</td>\n",
       "      <td>98.8</td>\n",
       "      <td>GE</td>\n",
       "      <td>ARMA</td>\n",
       "      <td>BHZ</td>\n",
       "      <td>1.197052e+09</td>\n",
       "      <td>...</td>\n",
       "      <td>165.616858</td>\n",
       "      <td>343.327251</td>\n",
       "      <td>26.681831</td>\n",
       "      <td>2.491256</td>\n",
       "      <td>0.0</td>\n",
       "      <td>0.0</td>\n",
       "      <td>0.0</td>\n",
       "      <td>0.0</td>\n",
       "      <td>0</td>\n",
       "      <td>0</td>\n",
       "    </tr>\n",
       "  </tbody>\n",
       "</table>\n",
       "<p>5 rows × 23 columns</p>\n",
       "</div>"
      ],
      "text/plain": [
       "              #eventID  originTimestamp  mag   originLon  originLat  \\\n",
       "0  smi:local/102160r49     1.197052e+09  4.8  144.212962  -4.554822   \n",
       "1  smi:local/102160r49     1.197052e+09  4.8  144.212962  -4.554822   \n",
       "2  smi:local/102160r49     1.197052e+09  4.8  144.212962  -4.554822   \n",
       "3  smi:local/102160r49     1.197052e+09  4.8  144.212962  -4.554822   \n",
       "4  smi:local/102160r49     1.197052e+09  4.8  144.212962  -4.554822   \n",
       "\n",
       "   originDepthKm net   sta  cha  pickTimestamp   ...            az  \\\n",
       "0           98.8  AU   KNA  BHZ   1.197052e+09   ...    232.647636   \n",
       "1           98.8  IR   QLP  BHZ   1.197052e+09   ...    179.947115   \n",
       "2           98.8  AU   RMQ  BHZ   1.197052e+09   ...    169.186187   \n",
       "3           98.8  GE   WSI  BHZ   1.197052e+09   ...    256.588695   \n",
       "4           98.8  GE  ARMA  BHZ   1.197052e+09   ...    165.616858   \n",
       "\n",
       "          baz   distance  ttResidual  snr  qualityMeasureCWT  domFreq  \\\n",
       "0   55.399525  18.838486   -0.134955  0.0                0.0      0.0   \n",
       "1  359.941088  21.923102    1.734943  0.0                0.0      0.0   \n",
       "2  347.946731  22.255710    3.240389  0.0                0.0      0.0   \n",
       "3   79.595928  24.286730   -0.985012  0.0                0.0      0.0   \n",
       "4  343.327251  26.681831    2.491256  0.0                0.0      0.0   \n",
       "\n",
       "   qualityMeasureSlope  bandIndex  nSigma  \n",
       "0                  0.0          0       0  \n",
       "1                  0.0          0       0  \n",
       "2                  0.0          0       0  \n",
       "3                  0.0          0       0  \n",
       "4                  0.0          0       0  \n",
       "\n",
       "[5 rows x 23 columns]"
      ]
     },
     "execution_count": 53,
     "metadata": {},
     "output_type": "execute_result"
    }
   ],
   "source": [
    "import os\n",
    "import pandas as pd\n",
    "import matplotlib.pyplot as plt\n",
    "\n",
    "print(os.environ['PSTHOME'])\n",
    "\n",
    "# input CSV and phases (P or S)\n",
    "phase='P'\n",
    "inputcsv = os.path.join(os.environ['PSTHOME'],'tests/testdata/100K_ensemble.p.txt')\n",
    "\n",
    "#inputcsv = '/MySoft/Githubz/passive-seismic/tests/testdata/100K_ensemble.p.txt'\n",
    "\n",
    "\n",
    "csv_data = pd.read_csv(inputcsv, sep='\\s+', header='infer')\n",
    "\n",
    "csv_data.head()"
   ]
  },
  {
   "cell_type": "code",
   "execution_count": null,
   "metadata": {},
   "outputs": [],
   "source": []
  },
  {
   "cell_type": "markdown",
   "metadata": {},
   "source": [
    "# How to setup install ellip-corr?"
   ]
  },
  {
   "cell_type": "code",
   "execution_count": 2,
   "metadata": {},
   "outputs": [],
   "source": [
    "# See: https://github.com/GeoscienceAustralia/ellip-corr\n",
    "\n",
    "# cd ellip-corr; \n",
    "# pip install --user .\n",
    "# export PSTHOME=/MySoft/Githubz/passive-seismic\n",
    "\n",
    "# export ELLIPCORR=$PSTHOME/ellip-corr/"
   ]
  },
  {
   "cell_type": "code",
   "execution_count": 54,
   "metadata": {},
   "outputs": [
    {
     "name": "stdout",
     "output_type": "stream",
     "text": [
      "/g/data/ha3/fxz547/Githubz/passive-seismic//ellip-corr/\n",
      "/g/data1a/ha3/fxz547/Githubz/passive-seismic/ellipcorr.cpython-36m-x86_64-linux-gnu.so\n"
     ]
    },
    {
     "data": {
      "text/plain": [
       "-0.7800000309944153"
      ]
     },
     "execution_count": 54,
     "metadata": {},
     "output_type": "execute_result"
    }
   ],
   "source": [
    "# testing ellip-corr \n",
    "import os\n",
    "print(os.environ['ELLIPCORR'])\n",
    "\n",
    "import ellipcorr\n",
    "print(ellipcorr.__file__)\n",
    "\n",
    "ellipcorr.ellipticity_corr('sP', 65, 124, 45, 39)\n",
    "# Out[2]: -0.38976147770881653\n",
    "\n",
    "#ellipcorr.ellipticity_corr('P', 65, 124, 45, 39)\n",
    "# Out[3]: -0.3774765431880951\n",
    "\n",
    "ellipcorr.ellipticity_corr('pPKiKP', 65, 124, 45, 39)\n",
    "# Out[4]: -0.7800000309944153"
   ]
  },
  {
   "cell_type": "code",
   "execution_count": 55,
   "metadata": {},
   "outputs": [
    {
     "name": "stdout",
     "output_type": "stream",
     "text": [
      "The initial CSV size= (99999, 23)\n",
      "After residual cutoff, CSV size= (91229, 24)\n",
      "After qualityMeasureCWT, CSV size= (84442, 24)\n",
      "After qualityMeasureSlope, CSV size= (82639, 24)\n",
      "After nSigma, CSV size= (82551, 24)\n",
      "The Number of Saved P Rays =  82551 ['AU_KNA_smi:local/102160r49', 'IR_QLP_smi:local/102160r49', 'AU_RMQ_smi:local/102160r49']\n"
     ]
    }
   ],
   "source": [
    "from seismic.traveltime.cluster_grid import Grid2\n",
    "import seismic.traveltime.sort_rays as sortrays\n",
    "\n",
    "\n",
    "column_name_map={\n",
    "    \"originLon\": \"source_lon\",\n",
    "    \"originLat\": \"source_lat\",\n",
    "    \"originDepthKm\":\"source_depth_km\",\n",
    "    \"stationLon\": \"station_lon\",\n",
    "    \"stationLat\": \"station_lat\",\n",
    "    \"ttResidual\":  \"tt_residual\"\n",
    "}\n",
    "\n",
    "# rename the columns\n",
    "csv_data.rename(columns=column_name_map, inplace=True)\n",
    "\n",
    "# apply filters\n",
    "\n",
    "csv_data = sortrays.apply_filters(csv_data, phase)"
   ]
  },
  {
   "cell_type": "code",
   "execution_count": 56,
   "metadata": {},
   "outputs": [
    {
     "name": "stdout",
     "output_type": "stream",
     "text": [
      "(82551, 24)\n"
     ]
    },
    {
     "data": {
      "text/html": [
       "<div>\n",
       "<table border=\"1\" class=\"dataframe\">\n",
       "  <thead>\n",
       "    <tr style=\"text-align: right;\">\n",
       "      <th></th>\n",
       "      <th>#eventID</th>\n",
       "      <th>originTimestamp</th>\n",
       "      <th>mag</th>\n",
       "      <th>source_lon</th>\n",
       "      <th>source_lat</th>\n",
       "      <th>source_depth_km</th>\n",
       "      <th>net</th>\n",
       "      <th>sta</th>\n",
       "      <th>cha</th>\n",
       "      <th>pickTimestamp</th>\n",
       "      <th>...</th>\n",
       "      <th>baz</th>\n",
       "      <th>distance</th>\n",
       "      <th>tt_residual</th>\n",
       "      <th>snr</th>\n",
       "      <th>qualityMeasureCWT</th>\n",
       "      <th>domFreq</th>\n",
       "      <th>qualityMeasureSlope</th>\n",
       "      <th>bandIndex</th>\n",
       "      <th>nSigma</th>\n",
       "      <th>manual_picks_flag</th>\n",
       "    </tr>\n",
       "  </thead>\n",
       "  <tbody>\n",
       "    <tr>\n",
       "      <th>0</th>\n",
       "      <td>smi:local/102160r49</td>\n",
       "      <td>1.197052e+09</td>\n",
       "      <td>4.8</td>\n",
       "      <td>144.212962</td>\n",
       "      <td>-4.554822</td>\n",
       "      <td>98.8</td>\n",
       "      <td>AU</td>\n",
       "      <td>KNA</td>\n",
       "      <td>BHZ</td>\n",
       "      <td>1.197052e+09</td>\n",
       "      <td>...</td>\n",
       "      <td>55.399525</td>\n",
       "      <td>18.838486</td>\n",
       "      <td>-0.134955</td>\n",
       "      <td>0.0</td>\n",
       "      <td>0.0</td>\n",
       "      <td>0.0</td>\n",
       "      <td>0.0</td>\n",
       "      <td>0</td>\n",
       "      <td>0</td>\n",
       "      <td>1</td>\n",
       "    </tr>\n",
       "    <tr>\n",
       "      <th>1</th>\n",
       "      <td>smi:local/102160r49</td>\n",
       "      <td>1.197052e+09</td>\n",
       "      <td>4.8</td>\n",
       "      <td>144.212962</td>\n",
       "      <td>-4.554822</td>\n",
       "      <td>98.8</td>\n",
       "      <td>IR</td>\n",
       "      <td>QLP</td>\n",
       "      <td>BHZ</td>\n",
       "      <td>1.197052e+09</td>\n",
       "      <td>...</td>\n",
       "      <td>359.941088</td>\n",
       "      <td>21.923102</td>\n",
       "      <td>1.734943</td>\n",
       "      <td>0.0</td>\n",
       "      <td>0.0</td>\n",
       "      <td>0.0</td>\n",
       "      <td>0.0</td>\n",
       "      <td>0</td>\n",
       "      <td>0</td>\n",
       "      <td>1</td>\n",
       "    </tr>\n",
       "    <tr>\n",
       "      <th>2</th>\n",
       "      <td>smi:local/102160r49</td>\n",
       "      <td>1.197052e+09</td>\n",
       "      <td>4.8</td>\n",
       "      <td>144.212962</td>\n",
       "      <td>-4.554822</td>\n",
       "      <td>98.8</td>\n",
       "      <td>AU</td>\n",
       "      <td>RMQ</td>\n",
       "      <td>BHZ</td>\n",
       "      <td>1.197052e+09</td>\n",
       "      <td>...</td>\n",
       "      <td>347.946731</td>\n",
       "      <td>22.255710</td>\n",
       "      <td>3.240389</td>\n",
       "      <td>0.0</td>\n",
       "      <td>0.0</td>\n",
       "      <td>0.0</td>\n",
       "      <td>0.0</td>\n",
       "      <td>0</td>\n",
       "      <td>0</td>\n",
       "      <td>1</td>\n",
       "    </tr>\n",
       "    <tr>\n",
       "      <th>3</th>\n",
       "      <td>smi:local/102160r49</td>\n",
       "      <td>1.197052e+09</td>\n",
       "      <td>4.8</td>\n",
       "      <td>144.212962</td>\n",
       "      <td>-4.554822</td>\n",
       "      <td>98.8</td>\n",
       "      <td>GE</td>\n",
       "      <td>WSI</td>\n",
       "      <td>BHZ</td>\n",
       "      <td>1.197052e+09</td>\n",
       "      <td>...</td>\n",
       "      <td>79.595928</td>\n",
       "      <td>24.286730</td>\n",
       "      <td>-0.985012</td>\n",
       "      <td>0.0</td>\n",
       "      <td>0.0</td>\n",
       "      <td>0.0</td>\n",
       "      <td>0.0</td>\n",
       "      <td>0</td>\n",
       "      <td>0</td>\n",
       "      <td>1</td>\n",
       "    </tr>\n",
       "    <tr>\n",
       "      <th>4</th>\n",
       "      <td>smi:local/102160r49</td>\n",
       "      <td>1.197052e+09</td>\n",
       "      <td>4.8</td>\n",
       "      <td>144.212962</td>\n",
       "      <td>-4.554822</td>\n",
       "      <td>98.8</td>\n",
       "      <td>GE</td>\n",
       "      <td>ARMA</td>\n",
       "      <td>BHZ</td>\n",
       "      <td>1.197052e+09</td>\n",
       "      <td>...</td>\n",
       "      <td>343.327251</td>\n",
       "      <td>26.681831</td>\n",
       "      <td>2.491256</td>\n",
       "      <td>0.0</td>\n",
       "      <td>0.0</td>\n",
       "      <td>0.0</td>\n",
       "      <td>0.0</td>\n",
       "      <td>0</td>\n",
       "      <td>0</td>\n",
       "      <td>1</td>\n",
       "    </tr>\n",
       "  </tbody>\n",
       "</table>\n",
       "<p>5 rows × 24 columns</p>\n",
       "</div>"
      ],
      "text/plain": [
       "              #eventID  originTimestamp  mag  source_lon  source_lat  \\\n",
       "0  smi:local/102160r49     1.197052e+09  4.8  144.212962   -4.554822   \n",
       "1  smi:local/102160r49     1.197052e+09  4.8  144.212962   -4.554822   \n",
       "2  smi:local/102160r49     1.197052e+09  4.8  144.212962   -4.554822   \n",
       "3  smi:local/102160r49     1.197052e+09  4.8  144.212962   -4.554822   \n",
       "4  smi:local/102160r49     1.197052e+09  4.8  144.212962   -4.554822   \n",
       "\n",
       "   source_depth_km net   sta  cha  pickTimestamp        ...          \\\n",
       "0             98.8  AU   KNA  BHZ   1.197052e+09        ...           \n",
       "1             98.8  IR   QLP  BHZ   1.197052e+09        ...           \n",
       "2             98.8  AU   RMQ  BHZ   1.197052e+09        ...           \n",
       "3             98.8  GE   WSI  BHZ   1.197052e+09        ...           \n",
       "4             98.8  GE  ARMA  BHZ   1.197052e+09        ...           \n",
       "\n",
       "          baz   distance  tt_residual  snr  qualityMeasureCWT  domFreq  \\\n",
       "0   55.399525  18.838486    -0.134955  0.0                0.0      0.0   \n",
       "1  359.941088  21.923102     1.734943  0.0                0.0      0.0   \n",
       "2  347.946731  22.255710     3.240389  0.0                0.0      0.0   \n",
       "3   79.595928  24.286730    -0.985012  0.0                0.0      0.0   \n",
       "4  343.327251  26.681831     2.491256  0.0                0.0      0.0   \n",
       "\n",
       "   qualityMeasureSlope  bandIndex  nSigma  manual_picks_flag  \n",
       "0                  0.0          0       0                  1  \n",
       "1                  0.0          0       0                  1  \n",
       "2                  0.0          0       0                  1  \n",
       "3                  0.0          0       0                  1  \n",
       "4                  0.0          0       0                  1  \n",
       "\n",
       "[5 rows x 24 columns]"
      ]
     },
     "execution_count": 56,
     "metadata": {},
     "output_type": "execute_result"
    }
   ],
   "source": [
    "# the csv size after filters applied:\n",
    "print(csv_data.shape)\n",
    "\n",
    "csv_data.head()"
   ]
  },
  {
   "cell_type": "code",
   "execution_count": 57,
   "metadata": {},
   "outputs": [
    {
     "name": "stdout",
     "output_type": "stream",
     "text": [
      "before drop_duplicates() p_events_df.shape = (82551, 3)\n",
      "After drop_duplicates() p_events_df.shape = (82551, 3)\n"
     ]
    }
   ],
   "source": [
    "\n",
    "p_events_df= pd.read_csv(\"P_EVENTS.csv\", header='infer')\n",
    "\n",
    "#p_events_df.head()\n",
    "\n",
    "\n",
    "print(\"before drop_duplicates() p_events_df.shape =\", p_events_df.shape)\n",
    "\n",
    "p_events_df.drop_duplicates() #p_events_df.drop_duplicates() has no effect\n",
    "\n",
    "print(\"After drop_duplicates() p_events_df.shape =\", p_events_df.shape)\n"
   ]
  },
  {
   "cell_type": "code",
   "execution_count": null,
   "metadata": {},
   "outputs": [],
   "source": []
  },
  {
   "cell_type": "code",
   "execution_count": 58,
   "metadata": {},
   "outputs": [],
   "source": [
    "if phase == 'S':\n",
    "    \n",
    "    p_events_df = p_events_df.groupby(by=['#eventID', 'net', 'sta']).count().reset_index()\n",
    "\n",
    "    print(\"After reset_index p_events_df.shape =\", p_events_df.shape)\n",
    "\n",
    "\n",
    "    merged_df = pd.merge(csv_data, p_events_df, \n",
    "                     how='inner',  # This matters a lot\n",
    "                     on=['#eventID', 'net','sta'])\n",
    "    \n",
    "    print(\"The csv_data.shape before merge\", csv_data.shape)\n",
    "    \n",
    "    print(\"The merged_df.shape  \", merged_df.shape)"
   ]
  },
  {
   "cell_type": "code",
   "execution_count": null,
   "metadata": {},
   "outputs": [],
   "source": []
  },
  {
   "cell_type": "code",
   "execution_count": null,
   "metadata": {},
   "outputs": [],
   "source": []
  },
  {
   "cell_type": "code",
   "execution_count": null,
   "metadata": {},
   "outputs": [],
   "source": []
  },
  {
   "cell_type": "markdown",
   "metadata": {},
   "source": [
    "# Map seismic events and stations onto a grid model, then cluster sort rays"
   ]
  },
  {
   "cell_type": "code",
   "execution_count": 59,
   "metadata": {},
   "outputs": [],
   "source": [
    "mygrid = Grid2(param_file=os.path.join(os.environ['PSTHOME'],\"seismic/traveltime/param1x1\"))\n"
   ]
  },
  {
   "cell_type": "code",
   "execution_count": 60,
   "metadata": {},
   "outputs": [],
   "source": [
    "import ellipcorr\n",
    "\n",
    "from obspy.geodetics import gps2dist_azimuth, locations2degrees\n",
    "import logging\n",
    "from seismic.traveltime import pslog\n",
    "from seismic.traveltime.cluster_grid import Grid2\n",
    "\n",
    "# DPI = asin(1.0) / 90.0\n",
    "# R2D = 90. / asin(1.)\n",
    "# FLOAT_FORMAT = '%.4f'\n",
    "\n",
    "log = logging.getLogger(__name__)\n",
    "log.setLevel(logging.DEBUG)\n",
    "\n",
    "def compute_ellipticity_corr(arrival_phase, ev_latitude, ev_longitude, ev_depth_km, sta_latitude, sta_longitude,\n",
    "                             degrees_to_source):\n",
    "    \"\"\"\n",
    "    Utility function to compute ellipticity correction.\n",
    "\n",
    "    :param arrival_phase: P or S\n",
    "    :param ev_latitude:  event lat\n",
    "    :param ev_longitude: event long\n",
    "    :param ev_depth_km: event depth in km\n",
    "    :param sta_latitude: station lat\n",
    "    :param sta_longitude: station long\n",
    "    :param degrees_to_source: degree to source\n",
    "    :return: ellipticity correction float value\n",
    "    \"\"\"\n",
    "    myazim = gps2dist_azimuth(ev_latitude, ev_longitude, sta_latitude, sta_longitude)[1]  # [1] shall be taken\n",
    "    # see https://docs.obspy.org/_modules/obspy/geodetics/base.html#gps2dist_azimuth\n",
    "    # this function returns 3 values (Great_circle_distance_in_m, azimuth_A->B_in_degrees, azimuth_B->A_in degrees)\n",
    "\n",
    "    log.debug(\"Check input params to ellipticity_corr = %s, %s, %s, %s, %s\", arrival_phase, degrees_to_source,\n",
    "              ev_depth_km, 90 - ev_latitude, myazim)\n",
    "\n",
    "    ellipticity_corr = ellipcorr.ellipticity_corr(\n",
    "        phase=arrival_phase,\n",
    "        edist=degrees_to_source,\n",
    "        edepth=ev_depth_km,\n",
    "        ecolat=90 - ev_latitude,  # conversion to co-latitude\n",
    "        azim=myazim\n",
    "    )\n",
    "\n",
    "    log.debug(\"ellipticity_corr = %s\", ellipticity_corr)\n",
    "\n",
    "    return ellipticity_corr\n",
    "\n",
    "\n",
    "def sort_cluster(csv_data, phase, outputcsv):\n",
    "    \n",
    "    \n",
    "    print(\"Initial csv_data size\", csv_data.shape)\n",
    "    \n",
    "    csv_data['source_block'] = csv_data.apply(\n",
    "        lambda x: mygrid.find_block_number(x.source_lat, x.source_lon, 1000 * (x.source_depth_km))[0], axis=1)\n",
    "\n",
    "    csv_data['station_block'] = csv_data.apply(\n",
    "        lambda x: mygrid.find_block_number(x.station_lat, x.station_lon, 0.0)[0], axis=1)\n",
    "\n",
    "    csv_data['observed_tt'] = csv_data.pickTimestamp - csv_data.originTimestamp\n",
    "\n",
    "    # cluster_data.to_csv(outputcsv+\"_debug.CSV\", header=True, index=False, sep=',')\n",
    "\n",
    "    log.info('Begin Sorting arrivals.')\n",
    "\n",
    "    # groupby automatically sorts\n",
    "    med = csv_data.groupby(by=['source_block', 'station_block'])[\n",
    "        'observed_tt'].quantile(q=.5, interpolation='lower').reset_index()\n",
    "    \n",
    "    print(\"The medium observed_tt rows:  \", med.shape)\n",
    "\n",
    "    final_df = pd.merge(csv_data, med, how='right',\n",
    "                        on=['source_block', 'station_block', 'observed_tt'],\n",
    "                        sort=True, right_index=True)\n",
    "\n",
    "    print(\"The merged csv_data and med size\", final_df.shape)\n",
    "    # use the following to keep only unique  prim_key: ['source_block', 'station_block']\n",
    "    # final_df.drop_duplicates(subset=['source_block', 'station_block'],keep='first', inplace=True)\n",
    "    # Note that some near-by stations may be cluster into one station_block_number, if want to keep stations try\n",
    "    # final_df.drop_duplicates(subset=['source_block', 'station_block', 'station_code'],keep='first', inplace=True)\n",
    "\n",
    "    final_df.drop_duplicates(subset=['source_block', 'station_block'], keep='first', inplace=True)\n",
    "    \n",
    "    print(\"the size of the final_df after drop_duplicates on source_block, station_block\", final_df.shape)\n",
    "\n",
    "    # elliptic correction to the  observed_travel_time;\n",
    "\n",
    "    final_df['locations_to_degrees'] = final_df.apply(lambda x: locations2degrees(x.source_lat, x.source_lon,\n",
    "                                                                                  x.station_lat, x.station_lon), axis=1)\n",
    "    final_df['my_azim'] = final_df.apply(lambda x: gps2dist_azimuth(x.source_lat, x.source_lon,\n",
    "                                                                    x.station_lat, x.station_lon)[1], axis=1)\n",
    "\n",
    "    final_df['my_bazim'] = final_df.apply(lambda x: gps2dist_azimuth(x.source_lat, x.source_lon,\n",
    "                                                                     x.station_lat, x.station_lon)[2], axis=1)\n",
    "    final_df['ellipticity_corr'] = final_df.apply(lambda x:\n",
    "                                                  compute_ellipticity_corr(phase, x.source_lat, x.source_lon,\n",
    "                                                                           x.source_depth_km,\n",
    "                                                                           x.station_lat, x.station_lon, x.distance),\n",
    "                                                  axis=1)\n",
    "\n",
    "    final_df['observed_tt'] = final_df.observed_tt + final_df.ellipticity_corr\n",
    "\n",
    "    # make sure the originDepth/source_depth is in KM for required by inversion program\n",
    "\n",
    "    final_df.to_csv(outputcsv, header=True, index=False, sep=',')  # use comma separator,\n",
    "\n",
    "    # inpdf.to_csv(outputcsv, header=True, index=False, sep=' ')   # mismatch columns in space-delimited csv file as the NaN => empty space !\n",
    "\n",
    "    # prepare for inversion-program input\n",
    "    \n",
    "    if phase == 'P':\n",
    "        final_df['P_or_S'] = 1\n",
    "    elif phase == 'S':\n",
    "        final_df['P_or_S'] = 2\n",
    "    else:\n",
    "        raise Exception(\"Phase must be P or S !!!\")\n",
    "\n",
    "    final_df['event_number'] = final_df.apply(lambda x: int(x.originTimestamp), axis=1)\n",
    "\n",
    "    # the following values are required for inversion program. the event_number defined as int(originTimestamp)\n",
    "    # the columns must be in the order:\n",
    "    required_columns = ['source_block', 'station_block', 'tt_residual', 'event_number',\n",
    "                        'source_lon', 'source_lat', 'source_depth_km',\n",
    "                        'station_lon', 'station_lat', 'observed_tt', 'locations_to_degrees', 'P_or_S']\n",
    "\n",
    "    pdf4inv = final_df[required_columns]\n",
    "\n",
    "    inv_txt = \"%s_inv.txt\" % outputcsv\n",
    "    pdf4inv.to_csv(inv_txt, header=False, index=False, sep=' ', float_format='%.6f')  # space delimitted txt file\n",
    "\n",
    "    print(\"Output CSV files = \",outputcsv, inv_txt)\n",
    "    \n",
    "    return (final_df, pdf4inv)"
   ]
  },
  {
   "cell_type": "code",
   "execution_count": 61,
   "metadata": {},
   "outputs": [
    {
     "name": "stdout",
     "output_type": "stream",
     "text": [
      "Initial csv_data size (82551, 24)\n",
      "The medium observed_tt rows:   (36393, 3)\n",
      "The merged csv_data and med size (44252, 27)\n",
      "the size of the final_df after drop_duplicates on source_block, station_block (36393, 27)\n",
      "Output CSV files =  P_sort_cluster.csv P_sort_cluster.csv_inv.txt\n"
     ]
    }
   ],
   "source": [
    "pdf1, pdf4 = sort_cluster(csv_data, phase, \"%s_sort_cluster.csv\"%phase)"
   ]
  },
  {
   "cell_type": "code",
   "execution_count": 62,
   "metadata": {},
   "outputs": [
    {
     "data": {
      "text/html": [
       "<div>\n",
       "<table border=\"1\" class=\"dataframe\">\n",
       "  <thead>\n",
       "    <tr style=\"text-align: right;\">\n",
       "      <th></th>\n",
       "      <th>#eventID</th>\n",
       "      <th>originTimestamp</th>\n",
       "      <th>mag</th>\n",
       "      <th>source_lon</th>\n",
       "      <th>source_lat</th>\n",
       "      <th>source_depth_km</th>\n",
       "      <th>net</th>\n",
       "      <th>sta</th>\n",
       "      <th>cha</th>\n",
       "      <th>pickTimestamp</th>\n",
       "      <th>...</th>\n",
       "      <th>manual_picks_flag</th>\n",
       "      <th>source_block</th>\n",
       "      <th>station_block</th>\n",
       "      <th>observed_tt</th>\n",
       "      <th>locations_to_degrees</th>\n",
       "      <th>my_azim</th>\n",
       "      <th>my_bazim</th>\n",
       "      <th>ellipticity_corr</th>\n",
       "      <th>P_or_S</th>\n",
       "      <th>event_number</th>\n",
       "    </tr>\n",
       "  </thead>\n",
       "  <tbody>\n",
       "    <tr>\n",
       "      <th>63889</th>\n",
       "      <td>smi:local/193401r68</td>\n",
       "      <td>1.283532e+09</td>\n",
       "      <td>7.3</td>\n",
       "      <td>171.984919</td>\n",
       "      <td>-43.37618</td>\n",
       "      <td>2.098619</td>\n",
       "      <td>II</td>\n",
       "      <td>TAU</td>\n",
       "      <td>BHZ</td>\n",
       "      <td>1.283532e+09</td>\n",
       "      <td>...</td>\n",
       "      <td>0</td>\n",
       "      <td>17085</td>\n",
       "      <td>17216</td>\n",
       "      <td>252.51243</td>\n",
       "      <td>17.937228</td>\n",
       "      <td>262.955847</td>\n",
       "      <td>99.962177</td>\n",
       "      <td>-0.14757</td>\n",
       "      <td>1</td>\n",
       "      <td>1283531746</td>\n",
       "    </tr>\n",
       "  </tbody>\n",
       "</table>\n",
       "<p>1 rows × 33 columns</p>\n",
       "</div>"
      ],
      "text/plain": [
       "                  #eventID  originTimestamp  mag  source_lon  source_lat  \\\n",
       "63889  smi:local/193401r68     1.283532e+09  7.3  171.984919   -43.37618   \n",
       "\n",
       "       source_depth_km net  sta  cha  pickTimestamp      ...       \\\n",
       "63889         2.098619  II  TAU  BHZ   1.283532e+09      ...        \n",
       "\n",
       "      manual_picks_flag  source_block  station_block  observed_tt  \\\n",
       "63889                 0         17085          17216    252.51243   \n",
       "\n",
       "       locations_to_degrees     my_azim   my_bazim  ellipticity_corr  P_or_S  \\\n",
       "63889             17.937228  262.955847  99.962177          -0.14757       1   \n",
       "\n",
       "       event_number  \n",
       "63889    1283531746  \n",
       "\n",
       "[1 rows x 33 columns]"
      ]
     },
     "execution_count": 62,
     "metadata": {},
     "output_type": "execute_result"
    }
   ],
   "source": [
    "pdf1.head(1)"
   ]
  },
  {
   "cell_type": "code",
   "execution_count": 63,
   "metadata": {},
   "outputs": [
    {
     "data": {
      "text/html": [
       "<div>\n",
       "<table border=\"1\" class=\"dataframe\">\n",
       "  <thead>\n",
       "    <tr style=\"text-align: right;\">\n",
       "      <th></th>\n",
       "      <th>source_block</th>\n",
       "      <th>station_block</th>\n",
       "      <th>tt_residual</th>\n",
       "      <th>event_number</th>\n",
       "      <th>source_lon</th>\n",
       "      <th>source_lat</th>\n",
       "      <th>source_depth_km</th>\n",
       "      <th>station_lon</th>\n",
       "      <th>station_lat</th>\n",
       "      <th>observed_tt</th>\n",
       "      <th>locations_to_degrees</th>\n",
       "      <th>P_or_S</th>\n",
       "    </tr>\n",
       "  </thead>\n",
       "  <tbody>\n",
       "    <tr>\n",
       "      <th>63889</th>\n",
       "      <td>17085</td>\n",
       "      <td>17216</td>\n",
       "      <td>0.949630</td>\n",
       "      <td>1283531746</td>\n",
       "      <td>171.984919</td>\n",
       "      <td>-43.37618</td>\n",
       "      <td>2.098619</td>\n",
       "      <td>147.3200</td>\n",
       "      <td>-42.9089</td>\n",
       "      <td>252.512430</td>\n",
       "      <td>17.937228</td>\n",
       "      <td>1</td>\n",
       "    </tr>\n",
       "    <tr>\n",
       "      <th>63619</th>\n",
       "      <td>17085</td>\n",
       "      <td>19192</td>\n",
       "      <td>-1.956863</td>\n",
       "      <td>1283531746</td>\n",
       "      <td>171.984919</td>\n",
       "      <td>-43.37618</td>\n",
       "      <td>2.098619</td>\n",
       "      <td>145.4906</td>\n",
       "      <td>-37.5714</td>\n",
       "      <td>281.680508</td>\n",
       "      <td>20.873575</td>\n",
       "      <td>1</td>\n",
       "    </tr>\n",
       "  </tbody>\n",
       "</table>\n",
       "</div>"
      ],
      "text/plain": [
       "       source_block  station_block  tt_residual  event_number  source_lon  \\\n",
       "63889         17085          17216     0.949630    1283531746  171.984919   \n",
       "63619         17085          19192    -1.956863    1283531746  171.984919   \n",
       "\n",
       "       source_lat  source_depth_km  station_lon  station_lat  observed_tt  \\\n",
       "63889   -43.37618         2.098619     147.3200     -42.9089   252.512430   \n",
       "63619   -43.37618         2.098619     145.4906     -37.5714   281.680508   \n",
       "\n",
       "       locations_to_degrees  P_or_S  \n",
       "63889             17.937228       1  \n",
       "63619             20.873575       1  "
      ]
     },
     "execution_count": 63,
     "metadata": {},
     "output_type": "execute_result"
    }
   ],
   "source": [
    "pdf4.head(2)"
   ]
  },
  {
   "cell_type": "code",
   "execution_count": 64,
   "metadata": {},
   "outputs": [
    {
     "name": "stdout",
     "output_type": "stream",
     "text": [
      "(36393, 33) (36393, 12)\n"
     ]
    }
   ],
   "source": [
    "print(pdf1.shape, pdf4.shape)"
   ]
  },
  {
   "cell_type": "code",
   "execution_count": null,
   "metadata": {},
   "outputs": [],
   "source": []
  },
  {
   "cell_type": "markdown",
   "metadata": {},
   "source": [
    "# Do the clustering and sorting of pdf1 again, should converge to the same CSV."
   ]
  },
  {
   "cell_type": "code",
   "execution_count": 65,
   "metadata": {},
   "outputs": [
    {
     "name": "stdout",
     "output_type": "stream",
     "text": [
      "Initial csv_data size (36393, 33)\n",
      "The medium observed_tt rows:   (36393, 3)\n",
      "The merged csv_data and med size (36393, 33)\n",
      "the size of the final_df after drop_duplicates on source_block, station_block (36393, 33)\n",
      "Output CSV files =  P_sort_cluster_A.csv P_sort_cluster_A.csv_inv.txt\n"
     ]
    }
   ],
   "source": [
    "# apply the same function\n",
    "\n",
    "pdf1_A, pdf4_A = sort_cluster(pdf1, phase, \"%s_sort_cluster_A.csv\"%phase)"
   ]
  },
  {
   "cell_type": "code",
   "execution_count": 66,
   "metadata": {},
   "outputs": [
    {
     "name": "stdout",
     "output_type": "stream",
     "text": [
      "(36393, 33) (36393, 12)\n"
     ]
    }
   ],
   "source": [
    "print(pdf1_A.shape, pdf4_A.shape)"
   ]
  },
  {
   "cell_type": "code",
   "execution_count": 67,
   "metadata": {},
   "outputs": [
    {
     "data": {
      "text/html": [
       "<div>\n",
       "<table border=\"1\" class=\"dataframe\">\n",
       "  <thead>\n",
       "    <tr style=\"text-align: right;\">\n",
       "      <th></th>\n",
       "      <th>#eventID</th>\n",
       "      <th>originTimestamp</th>\n",
       "      <th>mag</th>\n",
       "      <th>source_lon</th>\n",
       "      <th>source_lat</th>\n",
       "      <th>source_depth_km</th>\n",
       "      <th>net</th>\n",
       "      <th>sta</th>\n",
       "      <th>cha</th>\n",
       "      <th>pickTimestamp</th>\n",
       "      <th>...</th>\n",
       "      <th>manual_picks_flag</th>\n",
       "      <th>source_block</th>\n",
       "      <th>station_block</th>\n",
       "      <th>observed_tt</th>\n",
       "      <th>locations_to_degrees</th>\n",
       "      <th>my_azim</th>\n",
       "      <th>my_bazim</th>\n",
       "      <th>ellipticity_corr</th>\n",
       "      <th>P_or_S</th>\n",
       "      <th>event_number</th>\n",
       "    </tr>\n",
       "  </thead>\n",
       "  <tbody>\n",
       "    <tr>\n",
       "      <th>63889</th>\n",
       "      <td>smi:local/193401r68</td>\n",
       "      <td>1.283532e+09</td>\n",
       "      <td>7.3</td>\n",
       "      <td>171.984919</td>\n",
       "      <td>-43.37618</td>\n",
       "      <td>2.098619</td>\n",
       "      <td>II</td>\n",
       "      <td>TAU</td>\n",
       "      <td>BHZ</td>\n",
       "      <td>1.283532e+09</td>\n",
       "      <td>...</td>\n",
       "      <td>0</td>\n",
       "      <td>17085</td>\n",
       "      <td>17216</td>\n",
       "      <td>252.51243</td>\n",
       "      <td>17.937228</td>\n",
       "      <td>262.955847</td>\n",
       "      <td>99.962177</td>\n",
       "      <td>-0.14757</td>\n",
       "      <td>1</td>\n",
       "      <td>1283531746</td>\n",
       "    </tr>\n",
       "  </tbody>\n",
       "</table>\n",
       "<p>1 rows × 33 columns</p>\n",
       "</div>"
      ],
      "text/plain": [
       "                  #eventID  originTimestamp  mag  source_lon  source_lat  \\\n",
       "63889  smi:local/193401r68     1.283532e+09  7.3  171.984919   -43.37618   \n",
       "\n",
       "       source_depth_km net  sta  cha  pickTimestamp      ...       \\\n",
       "63889         2.098619  II  TAU  BHZ   1.283532e+09      ...        \n",
       "\n",
       "      manual_picks_flag  source_block  station_block  observed_tt  \\\n",
       "63889                 0         17085          17216    252.51243   \n",
       "\n",
       "       locations_to_degrees     my_azim   my_bazim  ellipticity_corr  P_or_S  \\\n",
       "63889             17.937228  262.955847  99.962177          -0.14757       1   \n",
       "\n",
       "       event_number  \n",
       "63889    1283531746  \n",
       "\n",
       "[1 rows x 33 columns]"
      ]
     },
     "execution_count": 67,
     "metadata": {},
     "output_type": "execute_result"
    }
   ],
   "source": [
    "pdf1_A.head(1)"
   ]
  },
  {
   "cell_type": "code",
   "execution_count": 68,
   "metadata": {},
   "outputs": [
    {
     "data": {
      "text/plain": [
       "True    36393\n",
       "Name: #eventID, dtype: int64"
      ]
     },
     "execution_count": 68,
     "metadata": {},
     "output_type": "execute_result"
    }
   ],
   "source": [
    "# how to compare the vaules of two pdf dataframes pdf1 and pdf1_A??\n",
    "\n",
    "pdf1['#eventID'].isin(pdf1_A['#eventID']).value_counts()"
   ]
  },
  {
   "cell_type": "code",
   "execution_count": 69,
   "metadata": {},
   "outputs": [
    {
     "data": {
      "text/plain": [
       "True    36393\n",
       "Name: #eventID, dtype: int64"
      ]
     },
     "execution_count": 69,
     "metadata": {},
     "output_type": "execute_result"
    }
   ],
   "source": [
    "pdf1_A['#eventID'].isin(pdf1['#eventID']).value_counts()"
   ]
  },
  {
   "cell_type": "markdown",
   "metadata": {},
   "source": [
    "# Analyse the Algorithm"
   ]
  },
  {
   "cell_type": "code",
   "execution_count": 70,
   "metadata": {},
   "outputs": [
    {
     "data": {
      "text/plain": [
       "(82551, 27)"
      ]
     },
     "execution_count": 70,
     "metadata": {},
     "output_type": "execute_result"
    }
   ],
   "source": [
    "\n",
    "csv_data.shape"
   ]
  },
  {
   "cell_type": "code",
   "execution_count": 71,
   "metadata": {},
   "outputs": [
    {
     "name": "stdout",
     "output_type": "stream",
     "text": [
      "The med shape:   (36393, 3)\n"
     ]
    }
   ],
   "source": [
    "med = csv_data.groupby(by=['source_block', 'station_block'])[\n",
    "        'observed_tt'].quantile(q=.5, interpolation='lower').reset_index()\n",
    "    \n",
    "print(\"The med shape:  \", med.shape)\n"
   ]
  },
  {
   "cell_type": "code",
   "execution_count": 72,
   "metadata": {},
   "outputs": [
    {
     "data": {
      "text/html": [
       "<div>\n",
       "<table border=\"1\" class=\"dataframe\">\n",
       "  <thead>\n",
       "    <tr style=\"text-align: right;\">\n",
       "      <th></th>\n",
       "      <th>source_block</th>\n",
       "      <th>station_block</th>\n",
       "      <th>observed_tt</th>\n",
       "    </tr>\n",
       "  </thead>\n",
       "  <tbody>\n",
       "    <tr>\n",
       "      <th>0</th>\n",
       "      <td>17085</td>\n",
       "      <td>17216</td>\n",
       "      <td>252.66</td>\n",
       "    </tr>\n",
       "    <tr>\n",
       "      <th>1</th>\n",
       "      <td>17085</td>\n",
       "      <td>19192</td>\n",
       "      <td>281.80</td>\n",
       "    </tr>\n",
       "    <tr>\n",
       "      <th>2</th>\n",
       "      <td>17085</td>\n",
       "      <td>19379</td>\n",
       "      <td>255.26</td>\n",
       "    </tr>\n",
       "    <tr>\n",
       "      <th>3</th>\n",
       "      <td>17085</td>\n",
       "      <td>19919</td>\n",
       "      <td>263.76</td>\n",
       "    </tr>\n",
       "    <tr>\n",
       "      <th>4</th>\n",
       "      <td>17085</td>\n",
       "      <td>19920</td>\n",
       "      <td>263.38</td>\n",
       "    </tr>\n",
       "  </tbody>\n",
       "</table>\n",
       "</div>"
      ],
      "text/plain": [
       "   source_block  station_block  observed_tt\n",
       "0         17085          17216       252.66\n",
       "1         17085          19192       281.80\n",
       "2         17085          19379       255.26\n",
       "3         17085          19919       263.76\n",
       "4         17085          19920       263.38"
      ]
     },
     "execution_count": 72,
     "metadata": {},
     "output_type": "execute_result"
    }
   ],
   "source": [
    "med.head()"
   ]
  },
  {
   "cell_type": "code",
   "execution_count": 73,
   "metadata": {},
   "outputs": [
    {
     "data": {
      "text/html": [
       "<div>\n",
       "<table border=\"1\" class=\"dataframe\">\n",
       "  <thead>\n",
       "    <tr style=\"text-align: right;\">\n",
       "      <th></th>\n",
       "      <th>source_block</th>\n",
       "      <th>station_block</th>\n",
       "      <th>observed_tt</th>\n",
       "    </tr>\n",
       "  </thead>\n",
       "  <tbody>\n",
       "    <tr>\n",
       "      <th>63889</th>\n",
       "      <td>17085</td>\n",
       "      <td>17216</td>\n",
       "      <td>252.66</td>\n",
       "    </tr>\n",
       "    <tr>\n",
       "      <th>63619</th>\n",
       "      <td>17085</td>\n",
       "      <td>19192</td>\n",
       "      <td>281.80</td>\n",
       "    </tr>\n",
       "    <tr>\n",
       "      <th>63612</th>\n",
       "      <td>17085</td>\n",
       "      <td>19379</td>\n",
       "      <td>255.26</td>\n",
       "    </tr>\n",
       "    <tr>\n",
       "      <th>63614</th>\n",
       "      <td>17085</td>\n",
       "      <td>19919</td>\n",
       "      <td>263.76</td>\n",
       "    </tr>\n",
       "    <tr>\n",
       "      <th>63615</th>\n",
       "      <td>17085</td>\n",
       "      <td>19919</td>\n",
       "      <td>263.79</td>\n",
       "    </tr>\n",
       "    <tr>\n",
       "      <th>63613</th>\n",
       "      <td>17085</td>\n",
       "      <td>19920</td>\n",
       "      <td>263.38</td>\n",
       "    </tr>\n",
       "    <tr>\n",
       "      <th>63657</th>\n",
       "      <td>17085</td>\n",
       "      <td>20029</td>\n",
       "      <td>496.06</td>\n",
       "    </tr>\n",
       "    <tr>\n",
       "      <th>63616</th>\n",
       "      <td>17085</td>\n",
       "      <td>20278</td>\n",
       "      <td>276.51</td>\n",
       "    </tr>\n",
       "    <tr>\n",
       "      <th>63653</th>\n",
       "      <td>17085</td>\n",
       "      <td>20755</td>\n",
       "      <td>485.18</td>\n",
       "    </tr>\n",
       "    <tr>\n",
       "      <th>63652</th>\n",
       "      <td>17085</td>\n",
       "      <td>20755</td>\n",
       "      <td>485.16</td>\n",
       "    </tr>\n",
       "    <tr>\n",
       "      <th>63625</th>\n",
       "      <td>17085</td>\n",
       "      <td>21164</td>\n",
       "      <td>339.13</td>\n",
       "    </tr>\n",
       "    <tr>\n",
       "      <th>63623</th>\n",
       "      <td>17085</td>\n",
       "      <td>21164</td>\n",
       "      <td>337.06</td>\n",
       "    </tr>\n",
       "    <tr>\n",
       "      <th>63624</th>\n",
       "      <td>17085</td>\n",
       "      <td>21164</td>\n",
       "      <td>337.01</td>\n",
       "    </tr>\n",
       "    <tr>\n",
       "      <th>63617</th>\n",
       "      <td>17085</td>\n",
       "      <td>21724</td>\n",
       "      <td>280.98</td>\n",
       "    </tr>\n",
       "    <tr>\n",
       "      <th>63618</th>\n",
       "      <td>17085</td>\n",
       "      <td>21724</td>\n",
       "      <td>280.98</td>\n",
       "    </tr>\n",
       "    <tr>\n",
       "      <th>63610</th>\n",
       "      <td>17085</td>\n",
       "      <td>22145</td>\n",
       "      <td>231.36</td>\n",
       "    </tr>\n",
       "    <tr>\n",
       "      <th>63611</th>\n",
       "      <td>17085</td>\n",
       "      <td>22145</td>\n",
       "      <td>231.40</td>\n",
       "    </tr>\n",
       "    <tr>\n",
       "      <th>63622</th>\n",
       "      <td>17085</td>\n",
       "      <td>23523</td>\n",
       "      <td>323.12</td>\n",
       "    </tr>\n",
       "    <tr>\n",
       "      <th>63831</th>\n",
       "      <td>17085</td>\n",
       "      <td>24209</td>\n",
       "      <td>426.41</td>\n",
       "    </tr>\n",
       "    <tr>\n",
       "      <th>63883</th>\n",
       "      <td>17085</td>\n",
       "      <td>24209</td>\n",
       "      <td>426.76</td>\n",
       "    </tr>\n",
       "    <tr>\n",
       "      <th>63835</th>\n",
       "      <td>17085</td>\n",
       "      <td>24209</td>\n",
       "      <td>426.36</td>\n",
       "    </tr>\n",
       "    <tr>\n",
       "      <th>63844</th>\n",
       "      <td>17085</td>\n",
       "      <td>24209</td>\n",
       "      <td>426.51</td>\n",
       "    </tr>\n",
       "    <tr>\n",
       "      <th>63824</th>\n",
       "      <td>17085</td>\n",
       "      <td>24209</td>\n",
       "      <td>426.26</td>\n",
       "    </tr>\n",
       "    <tr>\n",
       "      <th>63822</th>\n",
       "      <td>17085</td>\n",
       "      <td>24209</td>\n",
       "      <td>426.76</td>\n",
       "    </tr>\n",
       "    <tr>\n",
       "      <th>63637</th>\n",
       "      <td>17085</td>\n",
       "      <td>24209</td>\n",
       "      <td>427.28</td>\n",
       "    </tr>\n",
       "    <tr>\n",
       "      <th>63638</th>\n",
       "      <td>17085</td>\n",
       "      <td>24209</td>\n",
       "      <td>427.28</td>\n",
       "    </tr>\n",
       "    <tr>\n",
       "      <th>63620</th>\n",
       "      <td>17085</td>\n",
       "      <td>24814</td>\n",
       "      <td>289.75</td>\n",
       "    </tr>\n",
       "    <tr>\n",
       "      <th>63621</th>\n",
       "      <td>17085</td>\n",
       "      <td>24814</td>\n",
       "      <td>294.32</td>\n",
       "    </tr>\n",
       "    <tr>\n",
       "      <th>63662</th>\n",
       "      <td>17085</td>\n",
       "      <td>25080</td>\n",
       "      <td>523.60</td>\n",
       "    </tr>\n",
       "    <tr>\n",
       "      <th>63826</th>\n",
       "      <td>17085</td>\n",
       "      <td>25300</td>\n",
       "      <td>414.51</td>\n",
       "    </tr>\n",
       "    <tr>\n",
       "      <th>...</th>\n",
       "      <td>...</td>\n",
       "      <td>...</td>\n",
       "      <td>...</td>\n",
       "    </tr>\n",
       "    <tr>\n",
       "      <th>63749</th>\n",
       "      <td>17085</td>\n",
       "      <td>7802402</td>\n",
       "      <td>771.06</td>\n",
       "    </tr>\n",
       "    <tr>\n",
       "      <th>63755</th>\n",
       "      <td>17085</td>\n",
       "      <td>7802546</td>\n",
       "      <td>777.46</td>\n",
       "    </tr>\n",
       "    <tr>\n",
       "      <th>63733</th>\n",
       "      <td>17085</td>\n",
       "      <td>7802554</td>\n",
       "      <td>737.71</td>\n",
       "    </tr>\n",
       "    <tr>\n",
       "      <th>63732</th>\n",
       "      <td>17085</td>\n",
       "      <td>7802554</td>\n",
       "      <td>741.34</td>\n",
       "    </tr>\n",
       "    <tr>\n",
       "      <th>63782</th>\n",
       "      <td>17085</td>\n",
       "      <td>7802686</td>\n",
       "      <td>809.06</td>\n",
       "    </tr>\n",
       "    <tr>\n",
       "      <th>63776</th>\n",
       "      <td>17085</td>\n",
       "      <td>7802689</td>\n",
       "      <td>799.96</td>\n",
       "    </tr>\n",
       "    <tr>\n",
       "      <th>63758</th>\n",
       "      <td>17085</td>\n",
       "      <td>7802837</td>\n",
       "      <td>777.06</td>\n",
       "    </tr>\n",
       "    <tr>\n",
       "      <th>63759</th>\n",
       "      <td>17085</td>\n",
       "      <td>7802837</td>\n",
       "      <td>777.06</td>\n",
       "    </tr>\n",
       "    <tr>\n",
       "      <th>63760</th>\n",
       "      <td>17085</td>\n",
       "      <td>7802837</td>\n",
       "      <td>777.01</td>\n",
       "    </tr>\n",
       "    <tr>\n",
       "      <th>63757</th>\n",
       "      <td>17085</td>\n",
       "      <td>7802837</td>\n",
       "      <td>777.01</td>\n",
       "    </tr>\n",
       "    <tr>\n",
       "      <th>63754</th>\n",
       "      <td>17085</td>\n",
       "      <td>7802837</td>\n",
       "      <td>776.46</td>\n",
       "    </tr>\n",
       "    <tr>\n",
       "      <th>63745</th>\n",
       "      <td>17085</td>\n",
       "      <td>7802841</td>\n",
       "      <td>760.35</td>\n",
       "    </tr>\n",
       "    <tr>\n",
       "      <th>63787</th>\n",
       "      <td>17085</td>\n",
       "      <td>7802976</td>\n",
       "      <td>811.66</td>\n",
       "    </tr>\n",
       "    <tr>\n",
       "      <th>63788</th>\n",
       "      <td>17085</td>\n",
       "      <td>7802976</td>\n",
       "      <td>811.65</td>\n",
       "    </tr>\n",
       "    <tr>\n",
       "      <th>63777</th>\n",
       "      <td>17085</td>\n",
       "      <td>7802979</td>\n",
       "      <td>798.46</td>\n",
       "    </tr>\n",
       "    <tr>\n",
       "      <th>63779</th>\n",
       "      <td>17085</td>\n",
       "      <td>7803123</td>\n",
       "      <td>803.16</td>\n",
       "    </tr>\n",
       "    <tr>\n",
       "      <th>63772</th>\n",
       "      <td>17085</td>\n",
       "      <td>7803126</td>\n",
       "      <td>795.36</td>\n",
       "    </tr>\n",
       "    <tr>\n",
       "      <th>63774</th>\n",
       "      <td>17085</td>\n",
       "      <td>7803127</td>\n",
       "      <td>793.46</td>\n",
       "    </tr>\n",
       "    <tr>\n",
       "      <th>63753</th>\n",
       "      <td>17085</td>\n",
       "      <td>7803131</td>\n",
       "      <td>777.35</td>\n",
       "    </tr>\n",
       "    <tr>\n",
       "      <th>63783</th>\n",
       "      <td>17085</td>\n",
       "      <td>7803268</td>\n",
       "      <td>810.96</td>\n",
       "    </tr>\n",
       "    <tr>\n",
       "      <th>63780</th>\n",
       "      <td>17085</td>\n",
       "      <td>7803270</td>\n",
       "      <td>806.78</td>\n",
       "    </tr>\n",
       "    <tr>\n",
       "      <th>63778</th>\n",
       "      <td>17085</td>\n",
       "      <td>7803271</td>\n",
       "      <td>797.88</td>\n",
       "    </tr>\n",
       "    <tr>\n",
       "      <th>63766</th>\n",
       "      <td>17085</td>\n",
       "      <td>7803275</td>\n",
       "      <td>784.87</td>\n",
       "    </tr>\n",
       "    <tr>\n",
       "      <th>63761</th>\n",
       "      <td>17085</td>\n",
       "      <td>7803276</td>\n",
       "      <td>780.66</td>\n",
       "    </tr>\n",
       "    <tr>\n",
       "      <th>63765</th>\n",
       "      <td>17085</td>\n",
       "      <td>7803277</td>\n",
       "      <td>784.16</td>\n",
       "    </tr>\n",
       "    <tr>\n",
       "      <th>63775</th>\n",
       "      <td>17085</td>\n",
       "      <td>7803419</td>\n",
       "      <td>795.06</td>\n",
       "    </tr>\n",
       "    <tr>\n",
       "      <th>63790</th>\n",
       "      <td>17085</td>\n",
       "      <td>7803559</td>\n",
       "      <td>819.56</td>\n",
       "    </tr>\n",
       "    <tr>\n",
       "      <th>63785</th>\n",
       "      <td>17085</td>\n",
       "      <td>7803713</td>\n",
       "      <td>813.60</td>\n",
       "    </tr>\n",
       "    <tr>\n",
       "      <th>63784</th>\n",
       "      <td>17085</td>\n",
       "      <td>7803713</td>\n",
       "      <td>812.86</td>\n",
       "    </tr>\n",
       "    <tr>\n",
       "      <th>63786</th>\n",
       "      <td>17085</td>\n",
       "      <td>7803713</td>\n",
       "      <td>809.71</td>\n",
       "    </tr>\n",
       "  </tbody>\n",
       "</table>\n",
       "<p>192 rows × 3 columns</p>\n",
       "</div>"
      ],
      "text/plain": [
       "       source_block  station_block  observed_tt\n",
       "63889         17085          17216       252.66\n",
       "63619         17085          19192       281.80\n",
       "63612         17085          19379       255.26\n",
       "63614         17085          19919       263.76\n",
       "63615         17085          19919       263.79\n",
       "63613         17085          19920       263.38\n",
       "63657         17085          20029       496.06\n",
       "63616         17085          20278       276.51\n",
       "63653         17085          20755       485.18\n",
       "63652         17085          20755       485.16\n",
       "63625         17085          21164       339.13\n",
       "63623         17085          21164       337.06\n",
       "63624         17085          21164       337.01\n",
       "63617         17085          21724       280.98\n",
       "63618         17085          21724       280.98\n",
       "63610         17085          22145       231.36\n",
       "63611         17085          22145       231.40\n",
       "63622         17085          23523       323.12\n",
       "63831         17085          24209       426.41\n",
       "63883         17085          24209       426.76\n",
       "63835         17085          24209       426.36\n",
       "63844         17085          24209       426.51\n",
       "63824         17085          24209       426.26\n",
       "63822         17085          24209       426.76\n",
       "63637         17085          24209       427.28\n",
       "63638         17085          24209       427.28\n",
       "63620         17085          24814       289.75\n",
       "63621         17085          24814       294.32\n",
       "63662         17085          25080       523.60\n",
       "63826         17085          25300       414.51\n",
       "...             ...            ...          ...\n",
       "63749         17085        7802402       771.06\n",
       "63755         17085        7802546       777.46\n",
       "63733         17085        7802554       737.71\n",
       "63732         17085        7802554       741.34\n",
       "63782         17085        7802686       809.06\n",
       "63776         17085        7802689       799.96\n",
       "63758         17085        7802837       777.06\n",
       "63759         17085        7802837       777.06\n",
       "63760         17085        7802837       777.01\n",
       "63757         17085        7802837       777.01\n",
       "63754         17085        7802837       776.46\n",
       "63745         17085        7802841       760.35\n",
       "63787         17085        7802976       811.66\n",
       "63788         17085        7802976       811.65\n",
       "63777         17085        7802979       798.46\n",
       "63779         17085        7803123       803.16\n",
       "63772         17085        7803126       795.36\n",
       "63774         17085        7803127       793.46\n",
       "63753         17085        7803131       777.35\n",
       "63783         17085        7803268       810.96\n",
       "63780         17085        7803270       806.78\n",
       "63778         17085        7803271       797.88\n",
       "63766         17085        7803275       784.87\n",
       "63761         17085        7803276       780.66\n",
       "63765         17085        7803277       784.16\n",
       "63775         17085        7803419       795.06\n",
       "63790         17085        7803559       819.56\n",
       "63785         17085        7803713       813.60\n",
       "63784         17085        7803713       812.86\n",
       "63786         17085        7803713       809.71\n",
       "\n",
       "[192 rows x 3 columns]"
      ]
     },
     "execution_count": 73,
     "metadata": {},
     "output_type": "execute_result"
    }
   ],
   "source": [
    "csv_data.loc[csv_data.source_block==17085][['source_block', 'station_block', 'observed_tt']].sort_values(by='station_block')"
   ]
  },
  {
   "cell_type": "code",
   "execution_count": 74,
   "metadata": {},
   "outputs": [
    {
     "name": "stdout",
     "output_type": "stream",
     "text": [
      "csv_data.shape (82551, 27)\n",
      "The final_df (merged csv_data and med) size = (44252, 27)\n"
     ]
    }
   ],
   "source": [
    "# Check the merged final_pdf\n",
    "print(\"csv_data.shape\", csv_data.shape)\n",
    "final_df = pd.merge(csv_data, med, how='right',\n",
    "                    on=['source_block', 'station_block', 'observed_tt'],\n",
    "                    sort=True, right_index=True)\n",
    "\n",
    "print(\"The final_df (merged csv_data and med) size =\", final_df.shape)"
   ]
  },
  {
   "cell_type": "code",
   "execution_count": 75,
   "metadata": {},
   "outputs": [
    {
     "data": {
      "text/html": [
       "<div>\n",
       "<table border=\"1\" class=\"dataframe\">\n",
       "  <thead>\n",
       "    <tr style=\"text-align: right;\">\n",
       "      <th></th>\n",
       "      <th>source_block</th>\n",
       "      <th>station_block</th>\n",
       "      <th>observed_tt</th>\n",
       "    </tr>\n",
       "  </thead>\n",
       "  <tbody>\n",
       "    <tr>\n",
       "      <th>63754</th>\n",
       "      <td>17085</td>\n",
       "      <td>7802837</td>\n",
       "      <td>776.46</td>\n",
       "    </tr>\n",
       "    <tr>\n",
       "      <th>63757</th>\n",
       "      <td>17085</td>\n",
       "      <td>7802837</td>\n",
       "      <td>777.01</td>\n",
       "    </tr>\n",
       "    <tr>\n",
       "      <th>63760</th>\n",
       "      <td>17085</td>\n",
       "      <td>7802837</td>\n",
       "      <td>777.01</td>\n",
       "    </tr>\n",
       "    <tr>\n",
       "      <th>63758</th>\n",
       "      <td>17085</td>\n",
       "      <td>7802837</td>\n",
       "      <td>777.06</td>\n",
       "    </tr>\n",
       "    <tr>\n",
       "      <th>63759</th>\n",
       "      <td>17085</td>\n",
       "      <td>7802837</td>\n",
       "      <td>777.06</td>\n",
       "    </tr>\n",
       "  </tbody>\n",
       "</table>\n",
       "</div>"
      ],
      "text/plain": [
       "       source_block  station_block  observed_tt\n",
       "63754         17085        7802837       776.46\n",
       "63757         17085        7802837       777.01\n",
       "63760         17085        7802837       777.01\n",
       "63758         17085        7802837       777.06\n",
       "63759         17085        7802837       777.06"
      ]
     },
     "execution_count": 75,
     "metadata": {},
     "output_type": "execute_result"
    }
   ],
   "source": [
    " \n",
    "src_bn=17085; sta_bn=17216 # only 1\n",
    "\n",
    "src_bn=17085; sta_bn=24209 # 8 rays in cluster\n",
    "\n",
    "src_bn=17085; sta_bn=7803713 # 3 rows\n",
    "\n",
    "src_bn=17085; sta_bn=7802837  # 5 rows\n",
    "\n",
    "csv_data.loc[(csv_data.source_block==src_bn) & (csv_data.station_block==sta_bn), ['source_block', 'station_block', 'observed_tt']].sort_values(by='observed_tt')"
   ]
  },
  {
   "cell_type": "code",
   "execution_count": 76,
   "metadata": {},
   "outputs": [
    {
     "data": {
      "text/html": [
       "<div>\n",
       "<table border=\"1\" class=\"dataframe\">\n",
       "  <thead>\n",
       "    <tr style=\"text-align: right;\">\n",
       "      <th></th>\n",
       "      <th>source_block</th>\n",
       "      <th>station_block</th>\n",
       "      <th>observed_tt</th>\n",
       "    </tr>\n",
       "  </thead>\n",
       "  <tbody>\n",
       "    <tr>\n",
       "      <th>114</th>\n",
       "      <td>17085</td>\n",
       "      <td>7802837</td>\n",
       "      <td>777.01</td>\n",
       "    </tr>\n",
       "  </tbody>\n",
       "</table>\n",
       "</div>"
      ],
      "text/plain": [
       "     source_block  station_block  observed_tt\n",
       "114         17085        7802837       777.01"
      ]
     },
     "execution_count": 76,
     "metadata": {},
     "output_type": "execute_result"
    }
   ],
   "source": [
    "# compare with the selection result in med dataframe\n",
    "\n",
    "med.loc[(med.source_block==src_bn) & (med.station_block==sta_bn) ]"
   ]
  },
  {
   "cell_type": "code",
   "execution_count": null,
   "metadata": {},
   "outputs": [],
   "source": []
  },
  {
   "cell_type": "code",
   "execution_count": 77,
   "metadata": {},
   "outputs": [],
   "source": [
    "# The final_df has many duplicate rows in keys ['source_block', 'station_block', 'observed_tt'] due to duplications in catalogues\n",
    "\n",
    "# for example, at src_bn=17085; sta_bn=7802837  # 5 rows\n",
    "\n",
    "# \tsource_block \tstation_block \tobserved_tt\n",
    "# 63757 \t17085 \t7802837 \t777.01\n",
    "# 63760 \t17085 \t7802837 \t777.01"
   ]
  },
  {
   "cell_type": "code",
   "execution_count": 78,
   "metadata": {},
   "outputs": [
    {
     "data": {
      "text/html": [
       "<div>\n",
       "<table border=\"1\" class=\"dataframe\">\n",
       "  <thead>\n",
       "    <tr style=\"text-align: right;\">\n",
       "      <th></th>\n",
       "      <th>source_block</th>\n",
       "      <th>station_block</th>\n",
       "      <th>observed_tt</th>\n",
       "    </tr>\n",
       "  </thead>\n",
       "  <tbody>\n",
       "    <tr>\n",
       "      <th>63757</th>\n",
       "      <td>17085</td>\n",
       "      <td>7802837</td>\n",
       "      <td>777.01</td>\n",
       "    </tr>\n",
       "    <tr>\n",
       "      <th>63760</th>\n",
       "      <td>17085</td>\n",
       "      <td>7802837</td>\n",
       "      <td>777.01</td>\n",
       "    </tr>\n",
       "  </tbody>\n",
       "</table>\n",
       "</div>"
      ],
      "text/plain": [
       "       source_block  station_block  observed_tt\n",
       "63757         17085        7802837       777.01\n",
       "63760         17085        7802837       777.01"
      ]
     },
     "execution_count": 78,
     "metadata": {},
     "output_type": "execute_result"
    }
   ],
   "source": [
    "\n",
    "final_df.loc[(final_df.source_block==src_bn) & (final_df.station_block==sta_bn), ['source_block', 'station_block', 'observed_tt']].sort_values(by='observed_tt')"
   ]
  },
  {
   "cell_type": "code",
   "execution_count": 79,
   "metadata": {},
   "outputs": [],
   "source": [
    "# now let's drop the duplicates:\n",
    "\n",
    "final_df.drop_duplicates(subset=['source_block', 'station_block'], keep='first', inplace=True)"
   ]
  },
  {
   "cell_type": "code",
   "execution_count": 80,
   "metadata": {},
   "outputs": [
    {
     "data": {
      "text/html": [
       "<div>\n",
       "<table border=\"1\" class=\"dataframe\">\n",
       "  <thead>\n",
       "    <tr style=\"text-align: right;\">\n",
       "      <th></th>\n",
       "      <th>source_block</th>\n",
       "      <th>station_block</th>\n",
       "      <th>observed_tt</th>\n",
       "    </tr>\n",
       "  </thead>\n",
       "  <tbody>\n",
       "    <tr>\n",
       "      <th>63757</th>\n",
       "      <td>17085</td>\n",
       "      <td>7802837</td>\n",
       "      <td>777.01</td>\n",
       "    </tr>\n",
       "  </tbody>\n",
       "</table>\n",
       "</div>"
      ],
      "text/plain": [
       "       source_block  station_block  observed_tt\n",
       "63757         17085        7802837       777.01"
      ]
     },
     "execution_count": 80,
     "metadata": {},
     "output_type": "execute_result"
    }
   ],
   "source": [
    "# only one will be left \n",
    "final_df.loc[(final_df.source_block==src_bn) & (final_df.station_block==sta_bn), ['source_block', 'station_block', 'observed_tt']].sort_values(by='observed_tt')"
   ]
  },
  {
   "cell_type": "code",
   "execution_count": 81,
   "metadata": {},
   "outputs": [
    {
     "data": {
      "text/plain": [
       "(36393, 27)"
      ]
     },
     "execution_count": 81,
     "metadata": {},
     "output_type": "execute_result"
    }
   ],
   "source": [
    "final_df.shape"
   ]
  },
  {
   "cell_type": "code",
   "execution_count": null,
   "metadata": {},
   "outputs": [],
   "source": []
  },
  {
   "cell_type": "code",
   "execution_count": null,
   "metadata": {},
   "outputs": [],
   "source": []
  },
  {
   "cell_type": "code",
   "execution_count": 82,
   "metadata": {},
   "outputs": [
    {
     "data": {
      "text/plain": [
       "<matplotlib.axes._subplots.AxesSubplot at 0x7f774987dba8>"
      ]
     },
     "execution_count": 82,
     "metadata": {},
     "output_type": "execute_result"
    },
    {
     "data": {
      "text/plain": [
       "<Figure size 432x288 with 0 Axes>"
      ]
     },
     "metadata": {},
     "output_type": "display_data"
    },
    {
     "data": {
      "image/png": "[encoded data removed]",
      "text/plain": [
       "<Figure size 432x288 with 1 Axes>"
      ]
     },
     "metadata": {
      "needs_background": "light"
     },
     "output_type": "display_data"
    }
   ],
   "source": [
    "plt.figure(); pdf1.plot(x='event_number', y='observed_tt')\n",
    "# plt.figure(); pdf2.plot(x='event_number', y='source_depth')\n",
    "# plt.figure(); pdf2.plot(x='event_number', y='locations2degrees')\n",
    "# plt.figure(); pdf2.plot(x='event_number', y='residual')  # less than +-10s\n",
    "\n"
   ]
  },
  {
   "cell_type": "code",
   "execution_count": 83,
   "metadata": {},
   "outputs": [
    {
     "data": {
      "text/plain": [
       "<matplotlib.axes._subplots.AxesSubplot at 0x7f77491b4cc0>"
      ]
     },
     "execution_count": 83,
     "metadata": {},
     "output_type": "execute_result"
    },
    {
     "data": {
      "text/plain": [
       "<Figure size 432x288 with 0 Axes>"
      ]
     },
     "metadata": {},
     "output_type": "display_data"
    },
    {
     "data": {
      "image/png": "[encoded data removed]",
      "text/plain": [
       "<Figure size 432x288 with 1 Axes>"
      ]
     },
     "metadata": {
      "needs_background": "light"
     },
     "output_type": "display_data"
    }
   ],
   "source": [
    "plt.figure(); pdf1.plot.scatter(x='source_block', y='station_block')"
   ]
  },
  {
   "cell_type": "code",
   "execution_count": 84,
   "metadata": {},
   "outputs": [
    {
     "data": {
      "text/plain": [
       "<matplotlib.axes._subplots.AxesSubplot at 0x7f7749233b00>"
      ]
     },
     "execution_count": 84,
     "metadata": {},
     "output_type": "execute_result"
    },
    {
     "data": {
      "text/plain": [
       "<Figure size 432x288 with 0 Axes>"
      ]
     },
     "metadata": {},
     "output_type": "display_data"
    },
    {
     "data": {
      "image/png": "[encoded data removed]",
      "text/plain": [
       "<Figure size 432x288 with 1 Axes>"
      ]
     },
     "metadata": {
      "needs_background": "light"
     },
     "output_type": "display_data"
    }
   ],
   "source": [
    "plt.figure(); pdf1.plot.scatter(x='source_lon', y='source_lat')"
   ]
  },
  {
   "cell_type": "code",
   "execution_count": 85,
   "metadata": {},
   "outputs": [
    {
     "data": {
      "text/plain": [
       "<matplotlib.axes._subplots.AxesSubplot at 0x7f774848b4a8>"
      ]
     },
     "execution_count": 85,
     "metadata": {},
     "output_type": "execute_result"
    },
    {
     "data": {
      "text/plain": [
       "<Figure size 432x288 with 0 Axes>"
      ]
     },
     "metadata": {},
     "output_type": "display_data"
    },
    {
     "data": {
      "image/png": "[encoded data removed]",
      "text/plain": [
       "<Figure size 432x288 with 1 Axes>"
      ]
     },
     "metadata": {
      "needs_background": "light"
     },
     "output_type": "display_data"
    }
   ],
   "source": [
    "plt.figure(); pdf1.plot.scatter(x='station_lon', y='station_lat')"
   ]
  },
  {
   "cell_type": "code",
   "execution_count": 86,
   "metadata": {},
   "outputs": [],
   "source": [
    " med = pdf1.groupby(by=['source_block', 'station_block'])[\n",
    "        'observed_tt'].quantile(q=.5, interpolation='lower').reset_index()"
   ]
  },
  {
   "cell_type": "code",
   "execution_count": 87,
   "metadata": {},
   "outputs": [
    {
     "data": {
      "text/html": [
       "<div>\n",
       "<table border=\"1\" class=\"dataframe\">\n",
       "  <thead>\n",
       "    <tr style=\"text-align: right;\">\n",
       "      <th></th>\n",
       "      <th>source_block</th>\n",
       "      <th>station_block</th>\n",
       "      <th>observed_tt</th>\n",
       "    </tr>\n",
       "  </thead>\n",
       "  <tbody>\n",
       "    <tr>\n",
       "      <th>0</th>\n",
       "      <td>17085</td>\n",
       "      <td>17216</td>\n",
       "      <td>252.66</td>\n",
       "    </tr>\n",
       "    <tr>\n",
       "      <th>1</th>\n",
       "      <td>17085</td>\n",
       "      <td>19192</td>\n",
       "      <td>281.80</td>\n",
       "    </tr>\n",
       "    <tr>\n",
       "      <th>2</th>\n",
       "      <td>17085</td>\n",
       "      <td>19379</td>\n",
       "      <td>255.26</td>\n",
       "    </tr>\n",
       "    <tr>\n",
       "      <th>3</th>\n",
       "      <td>17085</td>\n",
       "      <td>19919</td>\n",
       "      <td>263.76</td>\n",
       "    </tr>\n",
       "    <tr>\n",
       "      <th>4</th>\n",
       "      <td>17085</td>\n",
       "      <td>19920</td>\n",
       "      <td>263.38</td>\n",
       "    </tr>\n",
       "  </tbody>\n",
       "</table>\n",
       "</div>"
      ],
      "text/plain": [
       "   source_block  station_block  observed_tt\n",
       "0         17085          17216       252.66\n",
       "1         17085          19192       281.80\n",
       "2         17085          19379       255.26\n",
       "3         17085          19919       263.76\n",
       "4         17085          19920       263.38"
      ]
     },
     "execution_count": 87,
     "metadata": {},
     "output_type": "execute_result"
    }
   ],
   "source": [
    "med.head()"
   ]
  },
  {
   "cell_type": "code",
   "execution_count": 88,
   "metadata": {},
   "outputs": [
    {
     "data": {
      "text/plain": [
       "(36393, 3)"
      ]
     },
     "execution_count": 88,
     "metadata": {},
     "output_type": "execute_result"
    }
   ],
   "source": [
    "med.shape"
   ]
  },
  {
   "cell_type": "code",
   "execution_count": null,
   "metadata": {},
   "outputs": [],
   "source": []
  },
  {
   "cell_type": "code",
   "execution_count": null,
   "metadata": {},
   "outputs": [],
   "source": []
  },
  {
   "cell_type": "code",
   "execution_count": 89,
   "metadata": {},
   "outputs": [
    {
     "data": {
      "text/plain": [
       "(36393, 33)"
      ]
     },
     "execution_count": 89,
     "metadata": {},
     "output_type": "execute_result"
    }
   ],
   "source": [
    "pdf1.shape"
   ]
  },
  {
   "cell_type": "code",
   "execution_count": 90,
   "metadata": {},
   "outputs": [],
   "source": [
    "pdf3=csv_data.groupby(by=['source_block', 'station_block']).count()"
   ]
  },
  {
   "cell_type": "code",
   "execution_count": 91,
   "metadata": {},
   "outputs": [
    {
     "data": {
      "text/plain": [
       "(36393, 25)"
      ]
     },
     "execution_count": 91,
     "metadata": {},
     "output_type": "execute_result"
    }
   ],
   "source": [
    "pdf3.shape"
   ]
  },
  {
   "cell_type": "code",
   "execution_count": 92,
   "metadata": {},
   "outputs": [
    {
     "data": {
      "text/html": [
       "<div>\n",
       "<table border=\"1\" class=\"dataframe\">\n",
       "  <thead>\n",
       "    <tr style=\"text-align: right;\">\n",
       "      <th></th>\n",
       "      <th></th>\n",
       "      <th>#eventID</th>\n",
       "      <th>originTimestamp</th>\n",
       "      <th>mag</th>\n",
       "      <th>source_lon</th>\n",
       "      <th>source_lat</th>\n",
       "      <th>source_depth_km</th>\n",
       "      <th>net</th>\n",
       "      <th>sta</th>\n",
       "      <th>cha</th>\n",
       "      <th>pickTimestamp</th>\n",
       "      <th>...</th>\n",
       "      <th>distance</th>\n",
       "      <th>tt_residual</th>\n",
       "      <th>snr</th>\n",
       "      <th>qualityMeasureCWT</th>\n",
       "      <th>domFreq</th>\n",
       "      <th>qualityMeasureSlope</th>\n",
       "      <th>bandIndex</th>\n",
       "      <th>nSigma</th>\n",
       "      <th>manual_picks_flag</th>\n",
       "      <th>observed_tt</th>\n",
       "    </tr>\n",
       "    <tr>\n",
       "      <th>source_block</th>\n",
       "      <th>station_block</th>\n",
       "      <th></th>\n",
       "      <th></th>\n",
       "      <th></th>\n",
       "      <th></th>\n",
       "      <th></th>\n",
       "      <th></th>\n",
       "      <th></th>\n",
       "      <th></th>\n",
       "      <th></th>\n",
       "      <th></th>\n",
       "      <th></th>\n",
       "      <th></th>\n",
       "      <th></th>\n",
       "      <th></th>\n",
       "      <th></th>\n",
       "      <th></th>\n",
       "      <th></th>\n",
       "      <th></th>\n",
       "      <th></th>\n",
       "      <th></th>\n",
       "      <th></th>\n",
       "    </tr>\n",
       "  </thead>\n",
       "  <tbody>\n",
       "    <tr>\n",
       "      <th rowspan=\"5\" valign=\"top\">17085</th>\n",
       "      <th>17216</th>\n",
       "      <td>1</td>\n",
       "      <td>1</td>\n",
       "      <td>1</td>\n",
       "      <td>1</td>\n",
       "      <td>1</td>\n",
       "      <td>1</td>\n",
       "      <td>1</td>\n",
       "      <td>1</td>\n",
       "      <td>1</td>\n",
       "      <td>1</td>\n",
       "      <td>...</td>\n",
       "      <td>1</td>\n",
       "      <td>1</td>\n",
       "      <td>1</td>\n",
       "      <td>1</td>\n",
       "      <td>1</td>\n",
       "      <td>1</td>\n",
       "      <td>1</td>\n",
       "      <td>1</td>\n",
       "      <td>1</td>\n",
       "      <td>1</td>\n",
       "    </tr>\n",
       "    <tr>\n",
       "      <th>19192</th>\n",
       "      <td>1</td>\n",
       "      <td>1</td>\n",
       "      <td>1</td>\n",
       "      <td>1</td>\n",
       "      <td>1</td>\n",
       "      <td>1</td>\n",
       "      <td>1</td>\n",
       "      <td>1</td>\n",
       "      <td>1</td>\n",
       "      <td>1</td>\n",
       "      <td>...</td>\n",
       "      <td>1</td>\n",
       "      <td>1</td>\n",
       "      <td>1</td>\n",
       "      <td>1</td>\n",
       "      <td>1</td>\n",
       "      <td>1</td>\n",
       "      <td>1</td>\n",
       "      <td>1</td>\n",
       "      <td>1</td>\n",
       "      <td>1</td>\n",
       "    </tr>\n",
       "    <tr>\n",
       "      <th>19379</th>\n",
       "      <td>1</td>\n",
       "      <td>1</td>\n",
       "      <td>1</td>\n",
       "      <td>1</td>\n",
       "      <td>1</td>\n",
       "      <td>1</td>\n",
       "      <td>1</td>\n",
       "      <td>1</td>\n",
       "      <td>1</td>\n",
       "      <td>1</td>\n",
       "      <td>...</td>\n",
       "      <td>1</td>\n",
       "      <td>1</td>\n",
       "      <td>1</td>\n",
       "      <td>1</td>\n",
       "      <td>1</td>\n",
       "      <td>1</td>\n",
       "      <td>1</td>\n",
       "      <td>1</td>\n",
       "      <td>1</td>\n",
       "      <td>1</td>\n",
       "    </tr>\n",
       "    <tr>\n",
       "      <th>19919</th>\n",
       "      <td>2</td>\n",
       "      <td>2</td>\n",
       "      <td>2</td>\n",
       "      <td>2</td>\n",
       "      <td>2</td>\n",
       "      <td>2</td>\n",
       "      <td>2</td>\n",
       "      <td>2</td>\n",
       "      <td>2</td>\n",
       "      <td>2</td>\n",
       "      <td>...</td>\n",
       "      <td>2</td>\n",
       "      <td>2</td>\n",
       "      <td>2</td>\n",
       "      <td>2</td>\n",
       "      <td>2</td>\n",
       "      <td>2</td>\n",
       "      <td>2</td>\n",
       "      <td>2</td>\n",
       "      <td>2</td>\n",
       "      <td>2</td>\n",
       "    </tr>\n",
       "    <tr>\n",
       "      <th>19920</th>\n",
       "      <td>1</td>\n",
       "      <td>1</td>\n",
       "      <td>1</td>\n",
       "      <td>1</td>\n",
       "      <td>1</td>\n",
       "      <td>1</td>\n",
       "      <td>1</td>\n",
       "      <td>1</td>\n",
       "      <td>1</td>\n",
       "      <td>1</td>\n",
       "      <td>...</td>\n",
       "      <td>1</td>\n",
       "      <td>1</td>\n",
       "      <td>1</td>\n",
       "      <td>1</td>\n",
       "      <td>1</td>\n",
       "      <td>1</td>\n",
       "      <td>1</td>\n",
       "      <td>1</td>\n",
       "      <td>1</td>\n",
       "      <td>1</td>\n",
       "    </tr>\n",
       "  </tbody>\n",
       "</table>\n",
       "<p>5 rows × 25 columns</p>\n",
       "</div>"
      ],
      "text/plain": [
       "                            #eventID  originTimestamp  mag  source_lon  \\\n",
       "source_block station_block                                               \n",
       "17085        17216                 1                1    1           1   \n",
       "             19192                 1                1    1           1   \n",
       "             19379                 1                1    1           1   \n",
       "             19919                 2                2    2           2   \n",
       "             19920                 1                1    1           1   \n",
       "\n",
       "                            source_lat  source_depth_km  net  sta  cha  \\\n",
       "source_block station_block                                               \n",
       "17085        17216                   1                1    1    1    1   \n",
       "             19192                   1                1    1    1    1   \n",
       "             19379                   1                1    1    1    1   \n",
       "             19919                   2                2    2    2    2   \n",
       "             19920                   1                1    1    1    1   \n",
       "\n",
       "                            pickTimestamp     ...       distance  tt_residual  \\\n",
       "source_block station_block                    ...                               \n",
       "17085        17216                      1     ...              1            1   \n",
       "             19192                      1     ...              1            1   \n",
       "             19379                      1     ...              1            1   \n",
       "             19919                      2     ...              2            2   \n",
       "             19920                      1     ...              1            1   \n",
       "\n",
       "                            snr  qualityMeasureCWT  domFreq  \\\n",
       "source_block station_block                                    \n",
       "17085        17216            1                  1        1   \n",
       "             19192            1                  1        1   \n",
       "             19379            1                  1        1   \n",
       "             19919            2                  2        2   \n",
       "             19920            1                  1        1   \n",
       "\n",
       "                            qualityMeasureSlope  bandIndex  nSigma  \\\n",
       "source_block station_block                                           \n",
       "17085        17216                            1          1       1   \n",
       "             19192                            1          1       1   \n",
       "             19379                            1          1       1   \n",
       "             19919                            2          2       2   \n",
       "             19920                            1          1       1   \n",
       "\n",
       "                            manual_picks_flag  observed_tt  \n",
       "source_block station_block                                  \n",
       "17085        17216                          1            1  \n",
       "             19192                          1            1  \n",
       "             19379                          1            1  \n",
       "             19919                          2            2  \n",
       "             19920                          1            1  \n",
       "\n",
       "[5 rows x 25 columns]"
      ]
     },
     "execution_count": 92,
     "metadata": {},
     "output_type": "execute_result"
    }
   ],
   "source": [
    "pdf3.head()"
   ]
  },
  {
   "cell_type": "code",
   "execution_count": 93,
   "metadata": {},
   "outputs": [],
   "source": [
    "pdf4=pdf3[(pdf3['tt_residual']>=2)]  # more than one ray in the source->station set of rays"
   ]
  },
  {
   "cell_type": "code",
   "execution_count": 94,
   "metadata": {},
   "outputs": [
    {
     "data": {
      "text/plain": [
       "(14570, 25)"
      ]
     },
     "execution_count": 94,
     "metadata": {},
     "output_type": "execute_result"
    }
   ],
   "source": [
    "pdf4.shape"
   ]
  },
  {
   "cell_type": "code",
   "execution_count": 95,
   "metadata": {},
   "outputs": [
    {
     "data": {
      "text/html": [
       "<div>\n",
       "<table border=\"1\" class=\"dataframe\">\n",
       "  <thead>\n",
       "    <tr style=\"text-align: right;\">\n",
       "      <th></th>\n",
       "      <th></th>\n",
       "      <th>#eventID</th>\n",
       "      <th>originTimestamp</th>\n",
       "      <th>mag</th>\n",
       "      <th>source_lon</th>\n",
       "      <th>source_lat</th>\n",
       "      <th>source_depth_km</th>\n",
       "      <th>net</th>\n",
       "      <th>sta</th>\n",
       "      <th>cha</th>\n",
       "      <th>pickTimestamp</th>\n",
       "      <th>...</th>\n",
       "      <th>distance</th>\n",
       "      <th>tt_residual</th>\n",
       "      <th>snr</th>\n",
       "      <th>qualityMeasureCWT</th>\n",
       "      <th>domFreq</th>\n",
       "      <th>qualityMeasureSlope</th>\n",
       "      <th>bandIndex</th>\n",
       "      <th>nSigma</th>\n",
       "      <th>manual_picks_flag</th>\n",
       "      <th>observed_tt</th>\n",
       "    </tr>\n",
       "    <tr>\n",
       "      <th>source_block</th>\n",
       "      <th>station_block</th>\n",
       "      <th></th>\n",
       "      <th></th>\n",
       "      <th></th>\n",
       "      <th></th>\n",
       "      <th></th>\n",
       "      <th></th>\n",
       "      <th></th>\n",
       "      <th></th>\n",
       "      <th></th>\n",
       "      <th></th>\n",
       "      <th></th>\n",
       "      <th></th>\n",
       "      <th></th>\n",
       "      <th></th>\n",
       "      <th></th>\n",
       "      <th></th>\n",
       "      <th></th>\n",
       "      <th></th>\n",
       "      <th></th>\n",
       "      <th></th>\n",
       "      <th></th>\n",
       "    </tr>\n",
       "  </thead>\n",
       "  <tbody>\n",
       "    <tr>\n",
       "      <th rowspan=\"5\" valign=\"top\">7874268</th>\n",
       "      <th>7804693</th>\n",
       "      <td>2</td>\n",
       "      <td>2</td>\n",
       "      <td>2</td>\n",
       "      <td>2</td>\n",
       "      <td>2</td>\n",
       "      <td>2</td>\n",
       "      <td>2</td>\n",
       "      <td>2</td>\n",
       "      <td>2</td>\n",
       "      <td>2</td>\n",
       "      <td>...</td>\n",
       "      <td>2</td>\n",
       "      <td>2</td>\n",
       "      <td>2</td>\n",
       "      <td>2</td>\n",
       "      <td>2</td>\n",
       "      <td>2</td>\n",
       "      <td>2</td>\n",
       "      <td>2</td>\n",
       "      <td>2</td>\n",
       "      <td>2</td>\n",
       "    </tr>\n",
       "    <tr>\n",
       "      <th>7804793</th>\n",
       "      <td>2</td>\n",
       "      <td>2</td>\n",
       "      <td>2</td>\n",
       "      <td>2</td>\n",
       "      <td>2</td>\n",
       "      <td>2</td>\n",
       "      <td>2</td>\n",
       "      <td>2</td>\n",
       "      <td>2</td>\n",
       "      <td>2</td>\n",
       "      <td>...</td>\n",
       "      <td>2</td>\n",
       "      <td>2</td>\n",
       "      <td>2</td>\n",
       "      <td>2</td>\n",
       "      <td>2</td>\n",
       "      <td>2</td>\n",
       "      <td>2</td>\n",
       "      <td>2</td>\n",
       "      <td>2</td>\n",
       "      <td>2</td>\n",
       "    </tr>\n",
       "    <tr>\n",
       "      <th>7805052</th>\n",
       "      <td>2</td>\n",
       "      <td>2</td>\n",
       "      <td>2</td>\n",
       "      <td>2</td>\n",
       "      <td>2</td>\n",
       "      <td>2</td>\n",
       "      <td>2</td>\n",
       "      <td>2</td>\n",
       "      <td>2</td>\n",
       "      <td>2</td>\n",
       "      <td>...</td>\n",
       "      <td>2</td>\n",
       "      <td>2</td>\n",
       "      <td>2</td>\n",
       "      <td>2</td>\n",
       "      <td>2</td>\n",
       "      <td>2</td>\n",
       "      <td>2</td>\n",
       "      <td>2</td>\n",
       "      <td>2</td>\n",
       "      <td>2</td>\n",
       "    </tr>\n",
       "    <tr>\n",
       "      <th>7805097</th>\n",
       "      <td>2</td>\n",
       "      <td>2</td>\n",
       "      <td>2</td>\n",
       "      <td>2</td>\n",
       "      <td>2</td>\n",
       "      <td>2</td>\n",
       "      <td>2</td>\n",
       "      <td>2</td>\n",
       "      <td>2</td>\n",
       "      <td>2</td>\n",
       "      <td>...</td>\n",
       "      <td>2</td>\n",
       "      <td>2</td>\n",
       "      <td>2</td>\n",
       "      <td>2</td>\n",
       "      <td>2</td>\n",
       "      <td>2</td>\n",
       "      <td>2</td>\n",
       "      <td>2</td>\n",
       "      <td>2</td>\n",
       "      <td>2</td>\n",
       "    </tr>\n",
       "    <tr>\n",
       "      <th>7805239</th>\n",
       "      <td>2</td>\n",
       "      <td>2</td>\n",
       "      <td>2</td>\n",
       "      <td>2</td>\n",
       "      <td>2</td>\n",
       "      <td>2</td>\n",
       "      <td>2</td>\n",
       "      <td>2</td>\n",
       "      <td>2</td>\n",
       "      <td>2</td>\n",
       "      <td>...</td>\n",
       "      <td>2</td>\n",
       "      <td>2</td>\n",
       "      <td>2</td>\n",
       "      <td>2</td>\n",
       "      <td>2</td>\n",
       "      <td>2</td>\n",
       "      <td>2</td>\n",
       "      <td>2</td>\n",
       "      <td>2</td>\n",
       "      <td>2</td>\n",
       "    </tr>\n",
       "  </tbody>\n",
       "</table>\n",
       "<p>5 rows × 25 columns</p>\n",
       "</div>"
      ],
      "text/plain": [
       "                            #eventID  originTimestamp  mag  source_lon  \\\n",
       "source_block station_block                                               \n",
       "7874268      7804693               2                2    2           2   \n",
       "             7804793               2                2    2           2   \n",
       "             7805052               2                2    2           2   \n",
       "             7805097               2                2    2           2   \n",
       "             7805239               2                2    2           2   \n",
       "\n",
       "                            source_lat  source_depth_km  net  sta  cha  \\\n",
       "source_block station_block                                               \n",
       "7874268      7804693                 2                2    2    2    2   \n",
       "             7804793                 2                2    2    2    2   \n",
       "             7805052                 2                2    2    2    2   \n",
       "             7805097                 2                2    2    2    2   \n",
       "             7805239                 2                2    2    2    2   \n",
       "\n",
       "                            pickTimestamp     ...       distance  tt_residual  \\\n",
       "source_block station_block                    ...                               \n",
       "7874268      7804693                    2     ...              2            2   \n",
       "             7804793                    2     ...              2            2   \n",
       "             7805052                    2     ...              2            2   \n",
       "             7805097                    2     ...              2            2   \n",
       "             7805239                    2     ...              2            2   \n",
       "\n",
       "                            snr  qualityMeasureCWT  domFreq  \\\n",
       "source_block station_block                                    \n",
       "7874268      7804693          2                  2        2   \n",
       "             7804793          2                  2        2   \n",
       "             7805052          2                  2        2   \n",
       "             7805097          2                  2        2   \n",
       "             7805239          2                  2        2   \n",
       "\n",
       "                            qualityMeasureSlope  bandIndex  nSigma  \\\n",
       "source_block station_block                                           \n",
       "7874268      7804693                          2          2       2   \n",
       "             7804793                          2          2       2   \n",
       "             7805052                          2          2       2   \n",
       "             7805097                          2          2       2   \n",
       "             7805239                          2          2       2   \n",
       "\n",
       "                            manual_picks_flag  observed_tt  \n",
       "source_block station_block                                  \n",
       "7874268      7804693                        2            2  \n",
       "             7804793                        2            2  \n",
       "             7805052                        2            2  \n",
       "             7805097                        2            2  \n",
       "             7805239                        2            2  \n",
       "\n",
       "[5 rows x 25 columns]"
      ]
     },
     "execution_count": 95,
     "metadata": {},
     "output_type": "execute_result"
    }
   ],
   "source": [
    "pdf4.tail()"
   ]
  },
  {
   "cell_type": "code",
   "execution_count": 96,
   "metadata": {},
   "outputs": [],
   "source": [
    "# select rows\n",
    "rowmask= (pdf1['source_block'] == 7875846) & (pdf1['station_block']==7803235)  #select certain rows\n",
    "pdf5=pdf1.loc[ rowmask ]"
   ]
  },
  {
   "cell_type": "code",
   "execution_count": 97,
   "metadata": {},
   "outputs": [
    {
     "data": {
      "text/html": [
       "<div>\n",
       "<table border=\"1\" class=\"dataframe\">\n",
       "  <thead>\n",
       "    <tr style=\"text-align: right;\">\n",
       "      <th></th>\n",
       "      <th>#eventID</th>\n",
       "      <th>originTimestamp</th>\n",
       "      <th>mag</th>\n",
       "      <th>source_lon</th>\n",
       "      <th>source_lat</th>\n",
       "      <th>source_depth_km</th>\n",
       "      <th>net</th>\n",
       "      <th>sta</th>\n",
       "      <th>cha</th>\n",
       "      <th>pickTimestamp</th>\n",
       "      <th>...</th>\n",
       "      <th>manual_picks_flag</th>\n",
       "      <th>source_block</th>\n",
       "      <th>station_block</th>\n",
       "      <th>observed_tt</th>\n",
       "      <th>locations_to_degrees</th>\n",
       "      <th>my_azim</th>\n",
       "      <th>my_bazim</th>\n",
       "      <th>ellipticity_corr</th>\n",
       "      <th>P_or_S</th>\n",
       "      <th>event_number</th>\n",
       "    </tr>\n",
       "  </thead>\n",
       "  <tbody>\n",
       "  </tbody>\n",
       "</table>\n",
       "<p>0 rows × 33 columns</p>\n",
       "</div>"
      ],
      "text/plain": [
       "Empty DataFrame\n",
       "Columns: [#eventID, originTimestamp, mag, source_lon, source_lat, source_depth_km, net, sta, cha, pickTimestamp, phase, station_lon, station_lat, az, baz, distance, tt_residual, snr, qualityMeasureCWT, domFreq, qualityMeasureSlope, bandIndex, nSigma, manual_picks_flag, source_block, station_block, observed_tt, locations_to_degrees, my_azim, my_bazim, ellipticity_corr, P_or_S, event_number]\n",
       "Index: []\n",
       "\n",
       "[0 rows x 33 columns]"
      ]
     },
     "execution_count": 97,
     "metadata": {},
     "output_type": "execute_result"
    }
   ],
   "source": [
    "pdf5.head()"
   ]
  },
  {
   "cell_type": "code",
   "execution_count": 98,
   "metadata": {},
   "outputs": [
    {
     "data": {
      "text/plain": [
       "source_block            1.708500e+04\n",
       "station_block           1.721600e+04\n",
       "tt_residual             9.496300e-01\n",
       "event_number            1.283532e+09\n",
       "source_lon              1.719849e+02\n",
       "source_lat             -4.337618e+01\n",
       "source_depth_km         2.098619e+00\n",
       "station_lon             1.473200e+02\n",
       "station_lat            -4.290890e+01\n",
       "observed_tt             2.525124e+02\n",
       "locations_to_degrees    1.793723e+01\n",
       "P_or_S                  1.000000e+00\n",
       "Name: 63889, dtype: float64"
      ]
     },
     "execution_count": 98,
     "metadata": {},
     "output_type": "execute_result"
    }
   ],
   "source": [
    "# iloc[] select by row and column numbers as in the CSV table\n",
    "# loc[] select by index OR by boolean or conditional lookup\n",
    "\n",
    "# .iloc returns a Pandas Series when one row is selected,\n",
    "# and a Pandas DataFrame when multiple rows are selected, or if any column in full is selected. \n",
    "# To counter this, pass a single-valued list if you require DataFrame output.\n",
    "# https://www.shanelynn.ie/select-pandas-dataframe-rows-and-columns-using-iloc-loc-and-ix/\n",
    "\n",
    "pdf4_A.iloc[0]\n"
   ]
  },
  {
   "cell_type": "code",
   "execution_count": 99,
   "metadata": {},
   "outputs": [
    {
     "data": {
      "text/html": [
       "<div>\n",
       "<table border=\"1\" class=\"dataframe\">\n",
       "  <thead>\n",
       "    <tr style=\"text-align: right;\">\n",
       "      <th></th>\n",
       "      <th>source_block</th>\n",
       "      <th>station_block</th>\n",
       "      <th>tt_residual</th>\n",
       "      <th>event_number</th>\n",
       "      <th>source_lon</th>\n",
       "      <th>source_lat</th>\n",
       "      <th>source_depth_km</th>\n",
       "      <th>station_lon</th>\n",
       "      <th>station_lat</th>\n",
       "      <th>observed_tt</th>\n",
       "      <th>locations_to_degrees</th>\n",
       "      <th>P_or_S</th>\n",
       "    </tr>\n",
       "  </thead>\n",
       "  <tbody>\n",
       "    <tr>\n",
       "      <th>63889</th>\n",
       "      <td>17085</td>\n",
       "      <td>17216</td>\n",
       "      <td>0.94963</td>\n",
       "      <td>1283531746</td>\n",
       "      <td>171.984919</td>\n",
       "      <td>-43.37618</td>\n",
       "      <td>2.098619</td>\n",
       "      <td>147.32</td>\n",
       "      <td>-42.9089</td>\n",
       "      <td>252.51243</td>\n",
       "      <td>17.937228</td>\n",
       "      <td>1</td>\n",
       "    </tr>\n",
       "  </tbody>\n",
       "</table>\n",
       "</div>"
      ],
      "text/plain": [
       "       source_block  station_block  tt_residual  event_number  source_lon  \\\n",
       "63889         17085          17216      0.94963    1283531746  171.984919   \n",
       "\n",
       "       source_lat  source_depth_km  station_lon  station_lat  observed_tt  \\\n",
       "63889   -43.37618         2.098619       147.32     -42.9089    252.51243   \n",
       "\n",
       "       locations_to_degrees  P_or_S  \n",
       "63889             17.937228       1  "
      ]
     },
     "execution_count": 99,
     "metadata": {},
     "output_type": "execute_result"
    }
   ],
   "source": [
    "pdf4_A.iloc[[0]]"
   ]
  },
  {
   "cell_type": "code",
   "execution_count": 100,
   "metadata": {},
   "outputs": [],
   "source": [
    "rowmask= (pdf4_A['source_block'] == 7875846) & (pdf4_A['station_block']==7803235)  #select certain rows\n",
    "pdf5=pdf4_A.loc[ rowmask ]"
   ]
  },
  {
   "cell_type": "code",
   "execution_count": 101,
   "metadata": {},
   "outputs": [
    {
     "data": {
      "text/html": [
       "<div>\n",
       "<table border=\"1\" class=\"dataframe\">\n",
       "  <thead>\n",
       "    <tr style=\"text-align: right;\">\n",
       "      <th></th>\n",
       "      <th>source_block</th>\n",
       "      <th>station_block</th>\n",
       "      <th>tt_residual</th>\n",
       "      <th>event_number</th>\n",
       "      <th>source_lon</th>\n",
       "      <th>source_lat</th>\n",
       "      <th>source_depth_km</th>\n",
       "      <th>station_lon</th>\n",
       "      <th>station_lat</th>\n",
       "      <th>observed_tt</th>\n",
       "      <th>locations_to_degrees</th>\n",
       "      <th>P_or_S</th>\n",
       "    </tr>\n",
       "  </thead>\n",
       "  <tbody>\n",
       "  </tbody>\n",
       "</table>\n",
       "</div>"
      ],
      "text/plain": [
       "Empty DataFrame\n",
       "Columns: [source_block, station_block, tt_residual, event_number, source_lon, source_lat, source_depth_km, station_lon, station_lat, observed_tt, locations_to_degrees, P_or_S]\n",
       "Index: []"
      ]
     },
     "execution_count": 101,
     "metadata": {},
     "output_type": "execute_result"
    }
   ],
   "source": [
    "pdf5.head()"
   ]
  },
  {
   "cell_type": "code",
   "execution_count": 102,
   "metadata": {},
   "outputs": [
    {
     "ename": "SyntaxError",
     "evalue": "invalid syntax (<ipython-input-102-0bdb1988fcad>, line 3)",
     "output_type": "error",
     "traceback": [
      "\u001b[0;36m  File \u001b[0;32m\"<ipython-input-102-0bdb1988fcad>\"\u001b[0;36m, line \u001b[0;32m3\u001b[0m\n\u001b[0;31m    stop here\u001b[0m\n\u001b[0m            ^\u001b[0m\n\u001b[0;31mSyntaxError\u001b[0m\u001b[0;31m:\u001b[0m invalid syntax\n"
     ]
    }
   ],
   "source": [
    "#################################\n",
    "\n",
    "stop here"
   ]
  },
  {
   "cell_type": "code",
   "execution_count": null,
   "metadata": {},
   "outputs": [],
   "source": [
    "import random\n",
    "\n",
    "def generate_random_point(left, right, bottom, top):\n",
    "    x=random.randrange(left,right)\n",
    "    y=random.randrange(bottom,top)\n",
    "    return (x,y)\n",
    "\n",
    "############################################### test run\n",
    "left=-1087626\n",
    "right=1669944\n",
    "bottom= -2842701\n",
    "top= -958506\n",
    "\n",
    "for ipoint in range(0,10):\n",
    "    lonlat = generate_random_point(left, right, bottom, top)\n",
    "    print(\"Random Point (lot, lat) =:\", lonlat)"
   ]
  },
  {
   "cell_type": "code",
   "execution_count": null,
   "metadata": {},
   "outputs": [],
   "source": [
    "-170%360"
   ]
  },
  {
   "cell_type": "code",
   "execution_count": null,
   "metadata": {},
   "outputs": [],
   "source": []
  }
 ],
 "metadata": {
  "kernelspec": {
   "display_name": "Python 3",
   "language": "python",
   "name": "python3"
  },
  "language_info": {
   "codemirror_mode": {
    "name": "ipython",
    "version": 3
   },
   "file_extension": ".py",
   "mimetype": "text/x-python",
   "name": "python",
   "nbconvert_exporter": "python",
   "pygments_lexer": "ipython3",
   "version": "3.6.6"
  }
 },
 "nbformat": 4,
 "nbformat_minor": 2
}
