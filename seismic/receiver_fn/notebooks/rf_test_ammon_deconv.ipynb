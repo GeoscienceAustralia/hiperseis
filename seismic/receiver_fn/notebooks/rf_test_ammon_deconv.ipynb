{
 "cells": [
  {
   "cell_type": "markdown",
   "metadata": {},
   "source": [
    "# Use test data from Ammon to test and valid Python iterative deconvolution"
   ]
  },
  {
   "cell_type": "code",
   "execution_count": null,
   "metadata": {},
   "outputs": [],
   "source": [
    "import os\n",
    "\n",
    "import numpy as np\n",
    "import matplotlib.pyplot as plt\n",
    "\n",
    "import obspy"
   ]
  },
  {
   "cell_type": "code",
   "execution_count": null,
   "metadata": {},
   "outputs": [],
   "source": [
    "from seismic.receiver_fn.rf_deconvolution import iter_deconv_pulsetrain"
   ]
  },
  {
   "cell_type": "code",
   "execution_count": null,
   "metadata": {},
   "outputs": [],
   "source": [
    "src_sac_z = \"Ammon_test/lac_sp.z\"\n",
    "src_sac_r = \"Ammon_test/lac_sp.r\"\n",
    "src_expected_rf = \"Ammon_test/lac.i.eqr\"\n",
    "src_observed = \"Ammon_test/observed\"\n",
    "src_predicted = \"Ammon_test/predicted\"\n",
    "source = obspy.read(src_sac_z, format='sac')\n",
    "response = obspy.read(src_sac_r, format='sac')\n",
    "expected_rf = obspy.read(src_expected_rf, format='sac')\n",
    "observed_radial = obspy.read(src_observed, format='sac')\n",
    "predicted_radial = obspy.read(src_predicted, format='sac')"
   ]
  },
  {
   "cell_type": "code",
   "execution_count": null,
   "metadata": {},
   "outputs": [],
   "source": [
    "times = source[0].times()\n",
    "plt.figure(figsize=(16,9))\n",
    "plt.plot(times, source[0].data, '-o', markersize=4)\n",
    "plt.plot(times, response[0].data, '-o', markersize=4)\n",
    "plt.plot(times, observed_radial[0], '--^', markersize=4)\n",
    "plt.grid(\"#80808080\", linestyle=':')\n",
    "# plt.xlim(5, 15)\n",
    "plt.legend(['Source (Z) component', 'Radial response (R)', 'Observed R (objective signal)'])\n",
    "plt.show()"
   ]
  },
  {
   "cell_type": "code",
   "execution_count": null,
   "metadata": {},
   "outputs": [],
   "source": [
    "# Run algorithm on Ammon input\n",
    "time_shift = 5.0\n",
    "F_s = source[0].stats.sampling_rate\n",
    "rf_trace, _, _, predicted_response, fit = iter_deconv_pulsetrain(response[0].data, source[0].data, F_s, time_shift, 200, gwidth=2.5)"
   ]
  },
  {
   "cell_type": "code",
   "execution_count": null,
   "metadata": {},
   "outputs": [],
   "source": [
    "# Plot the results of expected vs computed\n",
    "times = np.arange(len(observed_radial[0]))/observed_radial[0].stats.sampling_rate - time_shift\n",
    "plt.figure(figsize=(12, 8))\n",
    "plt.plot(times, observed_radial[0].data, alpha=0.8)\n",
    "# plt.plot(times, expected_response, \":\", alpha=0.8)\n",
    "plt.plot(times, predicted_radial[0].data, alpha=0.8)\n",
    "plt.plot(times, predicted_response.data, alpha=0.8)\n",
    "plt.xlabel(\"Time (s)\")\n",
    "plt.ylabel(\"Radial amplitude\")\n",
    "plt.text(0.02, 0.02, \"Prediction match to observation: {:.2f}%\".format(fit), transform=plt.gca().transAxes)\n",
    "plt.grid(\"#80808080\", linestyle=':')\n",
    "plt.legend(['Observed', 'Predicted observation (Ammon)', 'Predicted observation (Python port)'])\n",
    "plt.title(\"Iterative deconv test, Radial component\")\n",
    "# plt.savefig('ammon_iterdeconvd_observation.png', dpi=300)\n",
    "plt.show()\n",
    "plt.close()"
   ]
  },
  {
   "cell_type": "code",
   "execution_count": null,
   "metadata": {},
   "outputs": [],
   "source": [
    "plt.figure(figsize=(12, 8))\n",
    "# Normalize so that sum of squares is 1.\n",
    "sum_sq = np.sum(np.square(expected_rf[0].data))\n",
    "plt.plot(times, expected_rf[0].data/np.sqrt(sum_sq), '-o', markersize=2, fillstyle='none', alpha=0.8)\n",
    "sum_sq = np.sum(np.square(rf_trace.data))\n",
    "plt.plot(times, rf_trace.data/np.sqrt(sum_sq), '-^', markersize=2, fillstyle='none', alpha=0.8)\n",
    "plt.xlabel(\"Time (s)\")\n",
    "plt.ylabel(\"RF amplitude (arb. units)\")\n",
    "plt.grid(\"#80808080\", linestyle=':')\n",
    "plt.legend(['Ammon reference RF', 'Computed RF (Python port)'])\n",
    "plt.title(\"Iterative deconv test, Receiver Function\")\n",
    "# plt.savefig('ammon_iterdeconvd_RF.png', dpi=300)\n",
    "plt.show()\n",
    "plt.close()"
   ]
  },
  {
   "cell_type": "code",
   "execution_count": null,
   "metadata": {},
   "outputs": [],
   "source": []
  }
 ],
 "metadata": {
  "kernelspec": {
   "display_name": "Python 3",
   "language": "python",
   "name": "python3"
  },
  "language_info": {
   "codemirror_mode": {
    "name": "ipython",
    "version": 3
   },
   "file_extension": ".py",
   "mimetype": "text/x-python",
   "name": "python",
   "nbconvert_exporter": "python",
   "pygments_lexer": "ipython3",
   "version": "3.6.7"
  }
 },
 "nbformat": 4,
 "nbformat_minor": 4
}
