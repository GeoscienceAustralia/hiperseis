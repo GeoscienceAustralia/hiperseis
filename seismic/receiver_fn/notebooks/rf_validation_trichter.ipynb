{
 "cells": [
  {
   "cell_type": "markdown",
   "metadata": {},
   "source": [
    "# Use public data to replicate T.Richter thesis results Figure 4.7"
   ]
  },
  {
   "cell_type": "code",
   "execution_count": null,
   "metadata": {},
   "outputs": [],
   "source": [
    "import os\n",
    "\n",
    "import numpy as np\n",
    "import pandas as pd\n",
    "\n",
    "import rf\n",
    "import rf.imaging\n",
    "import matplotlib.pyplot as plt\n",
    "\n",
    "# import scipy\n",
    "# import obspy\n",
    "from obspy import UTCDateTime"
   ]
  },
  {
   "cell_type": "code",
   "execution_count": null,
   "metadata": {},
   "outputs": [],
   "source": [
    "import seismic.receiver_fn.rf_util as rf_util"
   ]
  },
  {
   "cell_type": "markdown",
   "metadata": {},
   "source": [
    "## Load the data file of processed traces using our RF workflow"
   ]
  },
  {
   "cell_type": "code",
   "execution_count": null,
   "metadata": {},
   "outputs": [],
   "source": [
    "# TODO: Document provenance of this data file.\n",
    "data = rf_util.read_h5_rf(r\"..\\DATA\\CX.PB01_rf_qual.h5\", root='/waveforms/CX.PB01.')"
   ]
  },
  {
   "cell_type": "code",
   "execution_count": null,
   "metadata": {},
   "outputs": [],
   "source": [
    "data"
   ]
  },
  {
   "cell_type": "markdown",
   "metadata": {},
   "source": [
    "## Load the raw record of which events Richter used in station PB01 RF plot"
   ]
  },
  {
   "cell_type": "code",
   "execution_count": null,
   "metadata": {},
   "outputs": [],
   "source": [
    "df_event_usage = pd.read_csv(r\"..\\DATA\\dissertation_richter_raw_data.csv\", parse_dates=[0])\n",
    "df_event_usage.columns = df_event_usage.columns.map(str.strip)\n",
    "df_event_usage['date and time'] = df_event_usage['date and time'].map(UTCDateTime)\n",
    "df_event_usage['RF usage 123456789ABCDEFGHMPSL'] = df_event_usage['RF usage 123456789ABCDEFGHMPSL'].map(str.strip)\n",
    "df_event_usage['Flinn-Engdahl region'] = df_event_usage['Flinn-Engdahl region'].map(str.strip)\n",
    "df_event_usage[0:10]"
   ]
  },
  {
   "cell_type": "markdown",
   "metadata": {},
   "source": [
    "## Separate the RF streams from the raw streams in the loaded data"
   ]
  },
  {
   "cell_type": "code",
   "execution_count": null,
   "metadata": {},
   "outputs": [],
   "source": [
    "data_rf = rf.RFStream(sorted([tr for tr in data if tr.stats.type == 'rf'], key=lambda v: v.stats.back_azimuth))"
   ]
  },
  {
   "cell_type": "code",
   "execution_count": null,
   "metadata": {},
   "outputs": [],
   "source": [
    "data_rf"
   ]
  },
  {
   "cell_type": "code",
   "execution_count": null,
   "metadata": {},
   "outputs": [],
   "source": [
    "data_rf[0].stats"
   ]
  },
  {
   "cell_type": "markdown",
   "metadata": {},
   "source": [
    "## Check available channels and pick the predominant one"
   ]
  },
  {
   "cell_type": "code",
   "execution_count": null,
   "metadata": {},
   "outputs": [],
   "source": [
    "set([tr.stats.channel for tr in data_rf])"
   ]
  },
  {
   "cell_type": "code",
   "execution_count": null,
   "metadata": {},
   "outputs": [],
   "source": [
    "print(\"BHQ: \" + str(np.sum(np.array([tr.stats.channel for tr in data_rf]) == 'BHQ')))\n",
    "print(\"HHQ: \" + str(np.sum(np.array([tr.stats.channel for tr in data_rf]) == 'HHQ')))\n",
    "print(\"BHR: \" + str(np.sum(np.array([tr.stats.channel for tr in data_rf]) == 'BHR')))\n",
    "print(\"HHR: \" + str(np.sum(np.array([tr.stats.channel for tr in data_rf]) == 'HHR')))"
   ]
  },
  {
   "cell_type": "code",
   "execution_count": null,
   "metadata": {},
   "outputs": [],
   "source": [
    "channel = 'HHQ'\n",
    "# channel = 'HHR'"
   ]
  },
  {
   "cell_type": "markdown",
   "metadata": {},
   "source": [
    "## Select events matching Richter's event database for PB01 from our loaded `data_rf`"
   ]
  },
  {
   "cell_type": "code",
   "execution_count": null,
   "metadata": {},
   "outputs": [],
   "source": [
    "def use_for_pb01(tr, df_richter):\n",
    "    \"\"\"Determine if an event trace was used by Richter, based on matching trace metadata to table of event usage from Richter.\n",
    "    \"\"\"\n",
    "    trace_meta = [tr.stats.event_time, tr.stats.event_latitude, tr.stats.event_longitude, tr.stats.event_magnitude]\n",
    "#     print(\"Trace meta: {}\".format(trace_meta))\n",
    "    series_timedelta = df_richter['date and time'] - tr.stats.event_time\n",
    "    # Allow a difference of 10 seconds\n",
    "    matching_event = ((np.abs(series_timedelta) <= 10.0) & np.isclose(df_richter['latitude (deg)'], tr.stats.event_latitude, rtol=1e-3, atol=0.2)\n",
    "                      & np.isclose(df_richter['longitude (deg)'], tr.stats.event_longitude, rtol=1e-3, atol=0.2)\n",
    "                      & np.isclose(df_richter['magnitude'], tr.stats.event_magnitude, rtol=0.01, atol=0.1))\n",
    "    candidate_event = df_richter[matching_event]\n",
    "#     print(\"Candidate event: {}\".format(candidate_event[[\"date and time\", \"latitude (deg)\", \"longitude (deg)\", \"magnitude\"]].values))\n",
    "    if candidate_event.empty:\n",
    "        return False\n",
    "    assert len(candidate_event) == 1, \"Found {} events for {}:\\n{}\".format(len(candidate_event), trace_meta, candidate_event)\n",
    "    event_usage = candidate_event['RF usage 123456789ABCDEFGHMPSL'].iloc[0]\n",
    "    return event_usage[0].lower() == 'x'"
   ]
  },
  {
   "cell_type": "code",
   "execution_count": null,
   "metadata": {},
   "outputs": [],
   "source": [
    "data_richter = rf.RFStream(sorted([tr for tr in data_rf if use_for_pb01(tr, df_event_usage) and tr.stats.channel == channel], key=lambda v: v.stats.back_azimuth))\n",
    "assert len(data_richter) == 182  # This is the number of traces on Fig 4.7"
   ]
  },
  {
   "cell_type": "markdown",
   "metadata": {},
   "source": [
    "## Replicate Fig 4.7, as close as possible within limits of `rf` library plotting.\n",
    "Any significant differences in waveforms indicate our processing pipeline differs from Richter, since we have started from the same raw data on the same events."
   ]
  },
  {
   "cell_type": "code",
   "execution_count": null,
   "metadata": {},
   "outputs": [],
   "source": [
    "time_window=(-5.0, 22.0)\n",
    "trace_height=0.06\n",
    "stack_height=0.6\n",
    "scale=2.5"
   ]
  },
  {
   "cell_type": "code",
   "execution_count": null,
   "metadata": {},
   "outputs": [],
   "source": [
    "do_moveout = True\n",
    "if do_moveout:\n",
    "    data_richter.moveout('Ps')"
   ]
  },
  {
   "cell_type": "code",
   "execution_count": null,
   "metadata": {},
   "outputs": [],
   "source": [
    "_ = data_richter.plot_rf(fillcolors=('#000000', '#a0a0a0'), trim=time_window, scale=scale, trace_height=trace_height, stack_height=stack_height)"
   ]
  },
  {
   "cell_type": "markdown",
   "metadata": {},
   "source": [
    "## TODO: Try to replicate the quality filtering criteria used by Richter\n",
    "\n",
    "We should be able to filter down to the same 182 traces, without reverting to using Richter's usage table."
   ]
  },
  {
   "cell_type": "code",
   "execution_count": null,
   "metadata": {},
   "outputs": [],
   "source": [
    "snr_all = np.array([tr.stats.snr for tr in data_rf])\n",
    "snr_prior_all = np.array([tr.stats.snr_prior for tr in data_rf])\n",
    "entropy_all = np.array([tr.stats.entropy for tr in data_rf])"
   ]
  },
  {
   "cell_type": "code",
   "execution_count": null,
   "metadata": {},
   "outputs": [],
   "source": [
    "plt.hist(snr_all, bins=20)\n",
    "plt.show()\n",
    "plt.hist(snr_prior_all, bins=50)\n",
    "plt.xlim((0, 10))\n",
    "plt.show()\n",
    "plt.hist(entropy_all, bins=20)\n",
    "plt.show()"
   ]
  },
  {
   "cell_type": "code",
   "execution_count": null,
   "metadata": {},
   "outputs": [],
   "source": [
    "snr_cutoff = 1.75\n",
    "# snr_cutoff = 1.7\n",
    "print(np.sum(snr_all >= snr_cutoff))\n",
    "print(np.sum(snr_all < snr_cutoff))"
   ]
  },
  {
   "cell_type": "code",
   "execution_count": null,
   "metadata": {},
   "outputs": [],
   "source": [
    "data_good = rf.RFStream([tr for tr in data_rf if (tr.stats.snr >= snr_cutoff) and (tr.stats.channel == channel)])\n",
    "# data_bad = rf.RFStream([tr for tr in data_rf if (tr.stats.snr < snr_cutoff) and (tr.stats.channel == channel)])"
   ]
  },
  {
   "cell_type": "code",
   "execution_count": null,
   "metadata": {},
   "outputs": [],
   "source": [
    "_ = data_good.plot_rf(fillcolors=('#000000', '#a0a0a0'), trim=time_window, scale=scale, trace_height=trace_height, stack_height=stack_height)"
   ]
  },
  {
   "cell_type": "code",
   "execution_count": null,
   "metadata": {},
   "outputs": [],
   "source": [
    "snr_cutoff = 1.75\n",
    "print(np.sum(snr_prior_all >= snr_cutoff))\n",
    "print(np.sum(snr_prior_all < snr_cutoff))"
   ]
  },
  {
   "cell_type": "code",
   "execution_count": null,
   "metadata": {},
   "outputs": [],
   "source": [
    "data_prior_good = rf.RFStream([tr for tr in data_rf if (tr.stats.snr_prior >= snr_cutoff) and (tr.stats.channel == channel)])"
   ]
  },
  {
   "cell_type": "code",
   "execution_count": null,
   "metadata": {},
   "outputs": [],
   "source": [
    "_ = data_prior_good.plot_rf(fillcolors=('#000000', '#a0a0a0'), trim=time_window, scale=scale, trace_height=trace_height, stack_height=stack_height)"
   ]
  },
  {
   "cell_type": "code",
   "execution_count": null,
   "metadata": {},
   "outputs": [],
   "source": [
    "event_ids_ga = [tr.stats.event_id for tr in data_good]\n",
    "event_ids_prior_ga = [tr.stats.event_id for tr in data_prior_good]"
   ]
  },
  {
   "cell_type": "code",
   "execution_count": null,
   "metadata": {},
   "outputs": [],
   "source": [
    "event_ids_richter = [tr.stats.event_id for tr in data_richter]"
   ]
  },
  {
   "cell_type": "code",
   "execution_count": null,
   "metadata": {},
   "outputs": [],
   "source": [
    "print(np.array(sorted(event_ids_ga)))\n",
    "print(np.array(sorted(event_ids_prior_ga)))"
   ]
  },
  {
   "cell_type": "code",
   "execution_count": null,
   "metadata": {},
   "outputs": [],
   "source": [
    "print(np.array(sorted(event_ids_richter)))"
   ]
  },
  {
   "cell_type": "code",
   "execution_count": null,
   "metadata": {},
   "outputs": [],
   "source": [
    "print(len(set(event_ids_ga) & set(event_ids_richter)))\n",
    "print(len(set(event_ids_prior_ga) & set(event_ids_richter)))"
   ]
  },
  {
   "cell_type": "code",
   "execution_count": null,
   "metadata": {},
   "outputs": [],
   "source": [
    "print(len(event_ids_ga))\n",
    "print(len(event_ids_prior_ga))"
   ]
  },
  {
   "cell_type": "code",
   "execution_count": null,
   "metadata": {},
   "outputs": [],
   "source": [
    "print(100*131/180)\n",
    "print(100*139/177)"
   ]
  },
  {
   "cell_type": "code",
   "execution_count": null,
   "metadata": {},
   "outputs": [],
   "source": []
  },
  {
   "cell_type": "code",
   "execution_count": null,
   "metadata": {},
   "outputs": [],
   "source": [
    "data_good[0].stats.processing"
   ]
  },
  {
   "cell_type": "code",
   "execution_count": null,
   "metadata": {},
   "outputs": [],
   "source": [
    "data_good[0].stats.processing[6]"
   ]
  },
  {
   "cell_type": "code",
   "execution_count": null,
   "metadata": {},
   "outputs": [],
   "source": [
    "'ZNE->LQT' in data_good[0].stats.processing[6]"
   ]
  },
  {
   "cell_type": "code",
   "execution_count": null,
   "metadata": {},
   "outputs": [],
   "source": [
    "'NE->RT' in data_good[0].stats.processing[6]"
   ]
  },
  {
   "cell_type": "markdown",
   "metadata": {},
   "source": [
    "## The above results indicate it doesn't make a lot of difference whether we use SNR or prior SNR for filtering to best quality RFs. Especially once stacked, the stacks are very similar."
   ]
  },
  {
   "cell_type": "code",
   "execution_count": null,
   "metadata": {},
   "outputs": [],
   "source": [
    "data_raw = rf.RFStream(sorted([tr for tr in data if tr.stats.type == 'raw_resampled'], key=lambda v: v.stats.back_azimuth))"
   ]
  },
  {
   "cell_type": "code",
   "execution_count": null,
   "metadata": {},
   "outputs": [],
   "source": [
    "data_raw[0:20]\n"
   ]
  },
  {
   "cell_type": "code",
   "execution_count": null,
   "metadata": {},
   "outputs": [],
   "source": [
    "[tr.stats.endtime for tr in data_raw[0:20]]"
   ]
  },
  {
   "cell_type": "code",
   "execution_count": null,
   "metadata": {},
   "outputs": [],
   "source": []
  }
 ],
 "metadata": {
  "kernelspec": {
   "display_name": "Python 3",
   "language": "python",
   "name": "python3"
  },
  "language_info": {
   "codemirror_mode": {
    "name": "ipython",
    "version": 3
   },
   "file_extension": ".py",
   "mimetype": "text/x-python",
   "name": "python",
   "nbconvert_exporter": "python",
   "pygments_lexer": "ipython3",
   "version": "3.6.7"
  }
 },
 "nbformat": 4,
 "nbformat_minor": 4
}
