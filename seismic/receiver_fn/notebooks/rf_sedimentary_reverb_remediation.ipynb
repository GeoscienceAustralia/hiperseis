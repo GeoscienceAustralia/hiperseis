{
 "cells": [
  {
   "cell_type": "code",
   "execution_count": null,
   "metadata": {},
   "outputs": [],
   "source": [
    "import numpy as np\n",
    "import matplotlib.pyplot as plt\n",
    "import scipy.signal as signal\n",
    "import numpy.fft as fft\n",
    "\n",
    "import rf\n",
    "\n",
    "import seismic.receiver_fn.rf_util as rf_util\n",
    "import seismic.receiver_fn.rf_plot_utils as rf_plot_utils\n",
    "import seismic.receiver_fn.rf_stacking as rf_stacking"
   ]
  },
  {
   "cell_type": "code",
   "execution_count": null,
   "metadata": {},
   "outputs": [],
   "source": [
    "# References:\n",
    "# Yu, Y., J. Song, K. H. Liu, and S. S. Gao (2015), Determining crustal structure beneath seismic stations overlying a low-velocity\n",
    "# sedimentary layer using receiver functions, J. Geophys. Res. Solid Earth, 120, 3208–3218, doi:10.1002/2014JB011610.\n",
    "# http://dx.doi.org/10.1002/2014JB011610"
   ]
  },
  {
   "cell_type": "markdown",
   "metadata": {},
   "source": [
    "## Data loading"
   ]
  },
  {
   "cell_type": "code",
   "execution_count": null,
   "metadata": {},
   "outputs": [],
   "source": [
    "rf_type = rf_type = 'ZRT_it'"
   ]
  },
  {
   "cell_type": "code",
   "execution_count": null,
   "metadata": {},
   "outputs": [],
   "source": [
    "# network = 'AQ'\n",
    "# target_station = 'AQT4'\n",
    "network = 'OA'\n",
    "target_station = 'CI21'"
   ]
  },
  {
   "cell_type": "code",
   "execution_count": null,
   "metadata": {},
   "outputs": [],
   "source": [
    "# src_file = r\"/g/data/ha3/am7399/shared/AQT_RF_analysis/AQT_rfs_20151128T042000-20191108T000317_{}_rev1_qual.h5\".format(rf_type)\n",
    "src_file = r\"/g/data/ha3/am7399/shared/OA_RF_analysis/OA_rfs_20170911T000036-20181128T230620_{}_rev15_qual.h5\".format(rf_type)"
   ]
  },
  {
   "cell_type": "code",
   "execution_count": null,
   "metadata": {},
   "outputs": [],
   "source": [
    "# data_all = rf_util.read_h5_rf(src_file, network, target_station)\n",
    "data_all = rf_util.read_h5_rf(src_file, network, target_station, loc='0M')"
   ]
  },
  {
   "cell_type": "code",
   "execution_count": null,
   "metadata": {},
   "outputs": [],
   "source": [
    "data_all"
   ]
  },
  {
   "cell_type": "markdown",
   "metadata": {},
   "source": [
    "## Select R-channel data"
   ]
  },
  {
   "cell_type": "code",
   "execution_count": null,
   "metadata": {},
   "outputs": [],
   "source": [
    "db = rf_util.rf_to_dict(data_all)"
   ]
  },
  {
   "cell_type": "code",
   "execution_count": null,
   "metadata": {},
   "outputs": [],
   "source": [
    "station_db = db[target_station]"
   ]
  },
  {
   "cell_type": "code",
   "execution_count": null,
   "metadata": {},
   "outputs": [],
   "source": [
    "channel = rf_util.choose_rf_source_channel(rf_type, station_db)\n",
    "print(\"Selected channel: {}\".format(channel))\n",
    "channel_data = station_db[channel]\n",
    "len(channel_data)"
   ]
  },
  {
   "cell_type": "code",
   "execution_count": null,
   "metadata": {},
   "outputs": [],
   "source": [
    "channel_data[0].stats.sampling_rate"
   ]
  },
  {
   "cell_type": "markdown",
   "metadata": {},
   "source": [
    "## Quality filter the RFs"
   ]
  },
  {
   "cell_type": "code",
   "execution_count": null,
   "metadata": {},
   "outputs": [],
   "source": [
    "rf_util.label_rf_quality_simple_amplitude(rf_type, channel_data)"
   ]
  },
  {
   "cell_type": "code",
   "execution_count": null,
   "metadata": {},
   "outputs": [],
   "source": [
    "# Only keep 'a' quality traces\n",
    "channel_data = [tr for tr in channel_data if tr.stats.predicted_quality == 'a']\n",
    "channel_data = sorted(channel_data, key=lambda v: v.stats.back_azimuth)"
   ]
  },
  {
   "cell_type": "code",
   "execution_count": null,
   "metadata": {},
   "outputs": [],
   "source": [
    "len(channel_data)"
   ]
  },
  {
   "cell_type": "markdown",
   "metadata": {},
   "source": [
    "## Plot initial data"
   ]
  },
  {
   "cell_type": "code",
   "execution_count": null,
   "metadata": {},
   "outputs": [],
   "source": [
    "fig = rf_plot_utils.plot_rf_stack(rf.RFStream(channel_data))\n",
    "fig.savefig(\"{}.{}_RFs_quality.png\".format(network, target_station), dpi=300)\n",
    "plt.show()"
   ]
  },
  {
   "cell_type": "markdown",
   "metadata": {},
   "source": [
    "## Look at initial $H-k$ stack"
   ]
  },
  {
   "cell_type": "code",
   "execution_count": null,
   "metadata": {},
   "outputs": [],
   "source": [
    "k_grid, h_grid, hk = rf_stacking.compute_hk_stack(channel_data, include_t3=True, root_order=2,\n",
    "                                                  k_range=np.linspace(1.5, 2.0, 301))\n",
    "w = (0.5, 0.4, 0.1)\n",
    "w_str = \"w={:1.2f},{:1.2f},{:1.2f}\".format(*w)\n",
    "stack = rf_stacking.compute_weighted_stack(hk, weighting=w)\n",
    "hk_fig = rf_plot_utils.plot_hk_stack(k_grid, h_grid, stack, num=len(channel_data),\n",
    "                                     title=\"{}.{} original $H$-$\\kappa$ stack ({})\".format(\n",
    "                                         network, target_station, w_str))\n",
    "hk_fig.savefig(\"{}.{}_Hk_stack_original.png\".format(network, target_station), dpi=300)\n",
    "plt.show()"
   ]
  },
  {
   "cell_type": "markdown",
   "metadata": {},
   "source": [
    "## Generate reverb removal filter"
   ]
  },
  {
   "cell_type": "code",
   "execution_count": null,
   "metadata": {},
   "outputs": [],
   "source": [
    "x = np.array([d for d in channel_data])"
   ]
  },
  {
   "cell_type": "code",
   "execution_count": null,
   "metadata": {},
   "outputs": [],
   "source": [
    "ac = np.apply_along_axis(lambda _x: np.correlate(_x, _x, 'full')/np.dot(_x, _x), axis=1, arr=x)"
   ]
  },
  {
   "cell_type": "code",
   "execution_count": null,
   "metadata": {},
   "outputs": [],
   "source": [
    "ac_causal = ac[:, ac.shape[1]//2:]"
   ]
  },
  {
   "cell_type": "code",
   "execution_count": null,
   "metadata": {},
   "outputs": [],
   "source": [
    "plt.figure(figsize=(16,9))\n",
    "plt.plot(ac_causal[:, :500].T, alpha=0.5)\n",
    "plt.show()\n",
    "plt.close()"
   ]
  },
  {
   "cell_type": "code",
   "execution_count": null,
   "metadata": {},
   "outputs": [],
   "source": [
    "ac_extrema = np.apply_along_axis(lambda _x: signal.argrelextrema(_x, np.less)[0][0], axis=1, arr=ac_causal)\n",
    "# ac_extrema"
   ]
  },
  {
   "cell_type": "code",
   "execution_count": null,
   "metadata": {},
   "outputs": [],
   "source": [
    "def reverb_removal_filter(offset, amplitude):\n",
    "    reverb_removal_kernel = np.zeros(offset + 1)\n",
    "    reverb_removal_kernel[0] = 1\n",
    "    reverb_removal_kernel[-1] = amplitude\n",
    "    return reverb_removal_kernel"
   ]
  },
  {
   "cell_type": "code",
   "execution_count": null,
   "metadata": {},
   "outputs": [],
   "source": [
    "de_reverb = [reverb_removal_filter(ac_extrema[i], -ac_causal[i, ac_extrema[i]]) for i in range(len(x))]"
   ]
  },
  {
   "cell_type": "markdown",
   "metadata": {},
   "source": [
    "## Apply reverb removal filter"
   ]
  },
  {
   "cell_type": "code",
   "execution_count": null,
   "metadata": {},
   "outputs": [],
   "source": [
    "x_norev = [np.convolve(_x, de_reverb[i], 'full') for i, _x in enumerate(x)]"
   ]
  },
  {
   "cell_type": "code",
   "execution_count": null,
   "metadata": {},
   "outputs": [],
   "source": [
    "x_norev = [_x[:(-ac_extrema[i] + 1)] for i, _x in enumerate(x_norev)]"
   ]
  },
  {
   "cell_type": "code",
   "execution_count": null,
   "metadata": {},
   "outputs": [],
   "source": [
    "plt.plot(x[0,200:1000])\n",
    "plt.plot(np.array(x_norev)[0,200:1000])\n",
    "plt.show()"
   ]
  },
  {
   "cell_type": "markdown",
   "metadata": {},
   "source": [
    "## Construct and plot RF stream from de-reverbed traces"
   ]
  },
  {
   "cell_type": "code",
   "execution_count": null,
   "metadata": {},
   "outputs": [],
   "source": [
    "traces = []\n",
    "for i, tr in enumerate(channel_data):\n",
    "    new_tr = tr.copy()\n",
    "    new_tr.data = x_norev[i]\n",
    "    traces.append(new_tr)\n",
    "# end for\n",
    "channel_data_noreverb = rf.RFStream(traces)"
   ]
  },
  {
   "cell_type": "code",
   "execution_count": null,
   "metadata": {},
   "outputs": [],
   "source": [
    "fig = rf_plot_utils.plot_rf_stack(rf.RFStream(channel_data_noreverb))\n",
    "fig.savefig(\"{}.{}_RFs_dereverb.png\".format(network, target_station), dpi=300)\n",
    "plt.show()"
   ]
  },
  {
   "cell_type": "markdown",
   "metadata": {},
   "source": [
    "## Look at H-k stacking of de-reverbed traces (no subsedimentary correction)"
   ]
  },
  {
   "cell_type": "code",
   "execution_count": null,
   "metadata": {},
   "outputs": [],
   "source": [
    "k_grid, h_grid, hk = rf_stacking.compute_hk_stack(channel_data_noreverb, include_t3=True,\n",
    "                                                  root_order=2, k_range=np.linspace(1.5, 2.0, 301))\n",
    "w = (0.5, 0.4, 0.1)\n",
    "w_str = \"w={:1.2f},{:1.2f},{:1.2f}\".format(*w)\n",
    "stack = rf_stacking.compute_weighted_stack(hk, weighting=w)\n",
    "hk_fig = rf_plot_utils.plot_hk_stack(k_grid, h_grid, stack, num=len(channel_data_noreverb),\n",
    "                                     title=\"{}.{} refined $H$-$\\kappa$ stack, reduced reverb ({})\".format(\n",
    "                                         network, target_station, w_str))\n",
    "plt.show()"
   ]
  },
  {
   "cell_type": "markdown",
   "metadata": {},
   "source": [
    "## Determine subsediment crustal thickness using modified $H-k$ stacking"
   ]
  },
  {
   "cell_type": "code",
   "execution_count": null,
   "metadata": {},
   "outputs": [],
   "source": [
    "def estimate_Pbs_timedelta(tr):\n",
    "    '''Estimate time delta to PbS phase arrival relative to P, using heuristic rules.\n",
    "    '''\n",
    "    lead_time = tr.stats.onset - tr.stats.starttime\n",
    "    times_rel = tr.times() - lead_time\n",
    "    mask = np.array((times_rel >= 0.0) & (times_rel <= 5.0))\n",
    "    loc = np.nonzero(mask & (tr.data == np.max(tr.data[mask])))\n",
    "    return tr.times()[loc[0][0]] - lead_time\n",
    "# end func"
   ]
  },
  {
   "cell_type": "code",
   "execution_count": null,
   "metadata": {},
   "outputs": [],
   "source": [
    "for i, tr in enumerate(channel_data_noreverb):\n",
    "    pbs_delta = estimate_Pbs_timedelta(tr)\n",
    "    tt_delta = ac_extrema[i]/tr.stats.sampling_rate\n",
    "    tr.stats.sediment = {'t1_offset': pbs_delta,\n",
    "                         't2_offset': tt_delta - pbs_delta,\n",
    "                         't3_offset': tt_delta}"
   ]
  },
  {
   "cell_type": "code",
   "execution_count": null,
   "metadata": {},
   "outputs": [],
   "source": [
    "k_grid, h_grid, hk = rf_stacking.compute_hk_stack(channel_data_noreverb, include_t3=True,\n",
    "                                                  root_order=2, k_range=np.linspace(1.5, 2.0, 301))\n",
    "w = (0.5, 0.4, 0.1)\n",
    "w_str = \"w={:1.2f},{:1.2f},{:1.2f}\".format(*w)\n",
    "stack = rf_stacking.compute_weighted_stack(hk, weighting=w)\n",
    "hk_fig = rf_plot_utils.plot_hk_stack(k_grid, h_grid, stack, num=len(channel_data_noreverb),\n",
    "                                     title=\"{}.{} refined $H$-$\\kappa$ stack, subsedimentary ({})\".format(\n",
    "                                         network, target_station, w_str))\n",
    "\n",
    "H_crust, k_crust = rf_stacking.find_global_hk_maximum(k_grid, h_grid, stack)\n",
    "print('Subsedimentary crustal H-k solution: H = {}, k = {}'.format(H_crust, k_crust))\n",
    "#***************\n",
    "# Override\n",
    "if target_station == 'CG23':\n",
    "    H_crust, k_crust = 35, 1.75\n",
    "elif target_station == 'CH21':\n",
    "    H_crust, k_crust = 37, 1.62\n",
    "elif target_station == 'CI23':\n",
    "    H_crust, k_crust = 33, 1.71\n",
    "elif target_station == 'CJ27':\n",
    "    H_crust, k_crust = 33, 1.59\n",
    "#***************\n",
    "plt.scatter(k_crust, H_crust, marker='+', c=\"#000000\", s=20)\n",
    "if k_crust >= 1.75:\n",
    "    plt.text(k_crust - 0.01, H_crust + 1, \"Solution $H$ = {:.3f}, $\\kappa$ = {:.3f}\".format(H_crust, k_crust),\n",
    "             color=\"#ffffff\", fontsize=16, horizontalalignment='right')\n",
    "else:\n",
    "    plt.text(k_crust + 0.01, H_crust + 1, \"Solution $H$ = {:.3f}, $\\kappa$ = {:.3f}\".format(H_crust, k_crust),\n",
    "             color=\"#ffffff\", fontsize=16)\n",
    "# end if\n",
    "\n",
    "hk_fig.savefig(\"{}.{}_Hk_stack_subsediment.png\".format(network, target_station), dpi=300)\n",
    "plt.show()"
   ]
  },
  {
   "cell_type": "code",
   "execution_count": null,
   "metadata": {},
   "outputs": [],
   "source": []
  },
  {
   "cell_type": "markdown",
   "metadata": {},
   "source": [
    "## Perform shallow $H-k$ stacking to determine sedimentary thickness"
   ]
  },
  {
   "cell_type": "code",
   "execution_count": null,
   "metadata": {},
   "outputs": [],
   "source": [
    "V_p = rf_stacking.infer_Vp_from_traces(channel_data_noreverb)\n",
    "# Assume V-p in sedimentary layer.\n",
    "# (Yu used 3.6 km/s or 2.1 km/s based on empirical data.)\n",
    "V_p_sediment = 2.5\n",
    "print(\"Inferred V_p = {}\".format(V_p))"
   ]
  },
  {
   "cell_type": "code",
   "execution_count": null,
   "metadata": {},
   "outputs": [],
   "source": [
    "for i, tr in enumerate(channel_data_noreverb):\n",
    "    _, t2_subsediment, t3_subsediment = rf_stacking.compute_theoretical_phase_times(tr, H_crust, k_crust, V_p)\n",
    "    tr.stats.sediment = {'t1_offset': 0.0,\n",
    "                         't2_offset': t2_subsediment,\n",
    "                         't3_offset': t3_subsediment}"
   ]
  },
  {
   "cell_type": "code",
   "execution_count": null,
   "metadata": {},
   "outputs": [],
   "source": [
    "k_grid, h_grid, hk = rf_stacking.compute_hk_stack(channel_data_noreverb, V_p=V_p_sediment,\n",
    "                                                  h_range=np.linspace(0.1, 5.0, 501),\n",
    "                                                  k_range=np.linspace(1.5, 7.5, 601),\n",
    "                                                  root_order=2, include_t3=True)\n",
    "w = (0.05, 0.7, 0.25)\n",
    "w_str = \"w={:1.2f},{:1.2f},{:1.2f}\".format(*w)\n",
    "stack = rf_stacking.compute_weighted_stack(hk, weighting=w)\n",
    "hk_fig = rf_plot_utils.plot_hk_stack(k_grid, h_grid, stack, num=len(channel_data_noreverb),\n",
    "                                     title=\"{}.{} sedimentary $H$-$\\kappa$ stack ({})\".format(\n",
    "                                         network, target_station, w_str))\n",
    "\n",
    "H_sediment, k_sediment = rf_stacking.find_global_hk_maximum(k_grid, h_grid, stack)\n",
    "print('Sedimentary layer H-k solution: H = {}, k = {}'.format(H_sediment, k_sediment))\n",
    "plt.scatter(k_sediment, H_sediment, marker='+', c=\"#000000\", s=20)\n",
    "if k_sediment >= 4.5:\n",
    "    plt.text(k_sediment - 0.05, H_sediment + 0.2, \"Solution $H$ = {:.3f}, $\\kappa$ = {:.3f}\".format(H_sediment, k_sediment),\n",
    "             color=\"#ffffff\", fontsize=16, horizontalalignment='right')\n",
    "else:\n",
    "    plt.text(k_sediment + 0.05, H_sediment + 0.2, \"Solution $H$ = {:.3f}, $\\kappa$ = {:.3f}\".format(H_sediment, k_sediment),\n",
    "             color=\"#ffffff\", fontsize=16)\n",
    "# end if\n",
    "\n",
    "hk_fig.savefig(\"{}.{}_Hk_stack_sediment.png\".format(network, target_station), dpi=300)\n",
    "plt.show()"
   ]
  },
  {
   "cell_type": "code",
   "execution_count": null,
   "metadata": {},
   "outputs": [],
   "source": [
    "print(\"Total estimated Moho depth, H = {} km (below sediment of {} km)\".format(H_sediment + H_crust, H_sediment))"
   ]
  },
  {
   "cell_type": "code",
   "execution_count": null,
   "metadata": {},
   "outputs": [],
   "source": []
  }
 ],
 "metadata": {
  "kernelspec": {
   "display_name": "Python 3",
   "language": "python",
   "name": "python3"
  },
  "language_info": {
   "codemirror_mode": {
    "name": "ipython",
    "version": 3
   },
   "file_extension": ".py",
   "mimetype": "text/x-python",
   "name": "python",
   "nbconvert_exporter": "python",
   "pygments_lexer": "ipython3",
   "version": "3.5.2"
  }
 },
 "nbformat": 4,
 "nbformat_minor": 4
}
