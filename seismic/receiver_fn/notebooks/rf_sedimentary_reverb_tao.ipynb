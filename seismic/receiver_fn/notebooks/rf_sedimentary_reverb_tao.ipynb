{
 "cells": [
  {
   "cell_type": "code",
   "execution_count": null,
   "metadata": {},
   "outputs": [],
   "source": [
    "# References:\n",
    "# Kai Tao, Tianze Liu, Jieyuan Ning, Fenglin Niu, \"Estimating sedimentary and crustal structure\n",
    "# using wavefield continuation: theory, techniques and applications\", Geophysical Journal International,\n",
    "# Volume 197, Issue 1, April, 2014, Pages 443-457, https://doi.org/10.1093/gji/ggt515"
   ]
  },
  {
   "cell_type": "markdown",
   "metadata": {},
   "source": [
    "--------------------------------------------------------"
   ]
  },
  {
   "cell_type": "markdown",
   "metadata": {},
   "source": [
    "# Functions to codify the algorithm"
   ]
  },
  {
   "cell_type": "code",
   "execution_count": null,
   "metadata": {},
   "outputs": [],
   "source": [
    "def mode_matrices(Vp, Vs, rho, p):\n",
    "    \"\"\"Compute M, M_inv and Q for a single layer for a scalar or array of ray parameters p.\n",
    "    \n",
    "    :param Vp: P-wave body wave velocity (scalar, labeled α in Tao's paper)\n",
    "    :type Vp: \n",
    "    :param Vs: S-wave body wave velocity (scalar, labeled β in Tao's paper)\n",
    "    :type Vs: \n",
    "    :param rho: Bulk material density, ρ (scalar)\n",
    "    :type rho: \n",
    "    :param p: Scalar or array of ray parameters (one per event)\n",
    "    :type p: \n",
    "    \"\"\"\n",
    "    qa = np.sqrt((1/Vp**2 - p*p).astype(np.complex))\n",
    "    assert not np.any(np.isnan(qa)), qa\n",
    "    qb = np.sqrt((1/Vs**2 - p*p).astype(np.complex))\n",
    "    assert not np.any(np.isnan(qb)), qb\n",
    "    eta = 1/Vs**2 - 2*p*p\n",
    "    mu = rho*Vs*Vs\n",
    "    trp = 2*mu*p*qa\n",
    "    trs = 2*mu*p*qb\n",
    "    mu_eta = mu*eta\n",
    "    # First compute without velocity factors for reduced operation count.\n",
    "    M = np.array([\n",
    "        [p, p, qb, qb],\n",
    "        [qa, -qa, -p, p],\n",
    "        [-trp, trp, -mu_eta, mu_eta],\n",
    "        [-mu_eta, -mu_eta, trs, trs]\n",
    "    ])\n",
    "    # Then times by velocity factors\n",
    "    Vfactors = np.diag([Vp, Vp, Vs, Vs])\n",
    "    M = np.matmul(np.moveaxis(M, -1, 0), Vfactors)\n",
    "    \n",
    "    Q = np.dstack([np.expand_dims(np.array([-_1, _1, -_2, _2]), 1) for (_1, _2) in zip(qa, qb)])\n",
    "    Q = np.moveaxis(Q, -1, 0)\n",
    "\n",
    "    # First compute without velocity factors for reduced operation count.\n",
    "    mu_p = mu*p\n",
    "    Minv = (1.0/rho)*np.array([\n",
    "        [mu_p, mu_eta/2/qa, -p/2/qa, -0.5*np.ones(p.shape)],\n",
    "        [mu_p, -mu_eta/2/qa, p/2/qa, -0.5*np.ones(p.shape)],\n",
    "        [mu_eta/2/qb, -mu_p, -0.5*np.ones(p.shape), p/2/qb],\n",
    "        [mu_eta/2/qb, mu_p, 0.5*np.ones(p.shape), p/2/qb]\n",
    "    ])\n",
    "    # Then times by velocity factors\n",
    "    Vfactors_inv = np.diag([1/Vp, 1/Vp, 1/Vs, 1/Vs])\n",
    "    Minv = np.matmul(Vfactors_inv, np.moveaxis(Minv, -1, 0))\n",
    "    \n",
    "#     # DEBUG CHECK - verify M*Minv is close to identity\n",
    "#     for i in range(M.shape[0]):\n",
    "#         _M = M[i,:,:]\n",
    "#         _Minv = Minv[i,:,:]\n",
    "#         assert _M.shape[0] == _M.shape[1]\n",
    "#         assert np.allclose(np.matmul(_M, _Minv).flatten(), np.eye(_M.shape[0]).flatten()), i\n",
    "    \n",
    "    return (M, Minv, Q)\n",
    "# end func"
   ]
  },
  {
   "cell_type": "code",
   "execution_count": null,
   "metadata": {},
   "outputs": [],
   "source": [
    "class LayerProps():\n",
    "    # Helper class to contain layer bulk material properties\n",
    "    def __init__(self, vp, vs, rho, thickness):\n",
    "        self.Vp = vp\n",
    "        self.Vs = vs\n",
    "        self.rho = rho\n",
    "        self.H = thickness # H value here is thickness of the individual layer, NOT depth relative to surface\n",
    "    # end func\n",
    "    \n",
    "    def __repr__(self):\n",
    "        return '(' + ', '.join(['Vp=' + str(self.Vp),\n",
    "                                'Vs=' + str(self.Vs),\n",
    "                                'ρ=' + str(self.rho),\n",
    "                                'H=' + str(self.H)]) + ')'\n",
    "    # end func\n",
    "\n",
    "# end class"
   ]
  },
  {
   "cell_type": "code",
   "execution_count": null,
   "metadata": {},
   "outputs": [],
   "source": [
    "def propagate_layers(fv0, w, layer_props, p):\n",
    "    \"\"\"\n",
    "    layer_props is a list of LayerProps\n",
    "    \"\"\"\n",
    "    fz = np.hstack((fv0, np.zeros_like(fv0)))\n",
    "    for layer in layer_props:\n",
    "        M, Minv, Q = mode_matrices(layer.Vp, layer.Vs, layer.rho, p)\n",
    "        fz = np.matmul(Minv, fz)\n",
    "#         phase_args = np.outer(Q - Q[1], w)\n",
    "#         phase_args = np.matmul(Q, np.expand_dims(w, 0))\n",
    "        # Expanding dims on w here means that at each level of the stack, phase_args is np.outer(Q, w)\n",
    "        phase_args = np.matmul(Q, np.expand_dims(np.expand_dims(w, 0), 0))\n",
    "        assert np.allclose(np.outer(Q[0,:,:], w).flatten(), phase_args[0,:,:].flatten()), (Q, w)\n",
    "        phase_factors = np.exp(1j*layer.H*phase_args)\n",
    "        fz = phase_factors*fz  # point-wise multiplication\n",
    "        fz = np.matmul(M, fz)\n",
    "    # end for\n",
    "    return fz\n",
    "# end func"
   ]
  },
  {
   "cell_type": "code",
   "execution_count": null,
   "metadata": {},
   "outputs": [],
   "source": [
    "def compute_su_energy(v0, f_s, p, mantle_props, layer_props,\n",
    "                      time_window=(-20, 50), flux_window=(-10, 20)):\n",
    "    \"\"\"Compute upgoing S-wave energy for a given set of seismic time series v0.\n",
    "    \n",
    "    :param v0: Numpy array of shape (N_events, 2, N_samples) containing the R- and\n",
    "        Z-component traces for all events at sample rate f_s and covering duration\n",
    "        of time_window.\n",
    "    :param mantle_props: LayerProps representing mantle properties.\n",
    "    :param layer_props: List of LayerProps.\n",
    "    \"\"\"\n",
    "    dt = 1.0/f_s\n",
    "    npts = v0.shape[2]\n",
    "    nevts = v0.shape[0]\n",
    "    t = np.linspace(*time_window, npts)\n",
    "\n",
    "    # Reshape to facilitate max_vz normalization using numpy broadcast rules.\n",
    "    v0 = np.moveaxis(v0, 0, -1)\n",
    "\n",
    "    # Normalize each event signal by the maximum z-component amplitude.\n",
    "    # We perform this succinctly using numpy multidimensional broadcasting rules.\n",
    "    max_vz = np.abs(v0[1,:,:]).max(axis=0)\n",
    "    v0 = v0/max_vz\n",
    "\n",
    "    # Reshape back to original shape.\n",
    "    v0 = np.moveaxis(v0, -1, 0)\n",
    "\n",
    "    # Transform v0 to the spectral domain using real FFT\n",
    "    fv0 = np.fft.rfft(v0, axis=-1)\n",
    "\n",
    "    # Compute discrete frequencies\n",
    "    w = 2*np.pi*np.fft.rfftfreq(v0.shape[-1], dt)\n",
    "\n",
    "    # Extend w to full spectral domain.\n",
    "    w_full = np.hstack((w, -np.flipud(w[1:])))\n",
    "\n",
    "    # To extend fv0, we need to flip left-right and take complex conjugate.\n",
    "    fv0_full = np.dstack((fv0, np.fliplr(np.conj(fv0[:, :, 1:]))))\n",
    "\n",
    "    # Compute mode matrices for mantle\n",
    "    M_m, Minv_m, _ = mode_matrices(mantle_props.Vp, mantle_props.Vs, mantle_props.rho, p)\n",
    "\n",
    "    # Propagate from surface\n",
    "    fvm = propagate_layers(fv0_full, w_full, layer_props, p)\n",
    "    fvm = np.matmul(Minv_m, fvm) \n",
    "\n",
    "    num_pos_freq_terms = (fvm.shape[2] + 1)//2\n",
    "    # Velocities at top of mantle\n",
    "    vm = np.fft.irfft(fvm[:, :, :num_pos_freq_terms], v0.shape[2], axis=2)\n",
    "\n",
    "    # Compute coefficients of energy integral for upgoing S-wave\n",
    "    qb_m = np.sqrt(1/mantle_props.Vs**2 - p*p)\n",
    "    Nsu = dt*mantle_props.rho*(mantle_props.Vs**2)*qb_m\n",
    "\n",
    "    # Compute mask for the energy integral time window\n",
    "    integral_mask = (t >= flux_window[0]) & (t <= flux_window[1])\n",
    "    vm_windowed = vm[:, :, integral_mask]\n",
    "\n",
    "    # Take the su component.\n",
    "    su_windowed = vm_windowed[:, 3, :]\n",
    "\n",
    "    # Integrate in time\n",
    "    Esu_per_event = Nsu*np.sum(np.abs(su_windowed)**2, axis=1)\n",
    "\n",
    "    # Compute mean over events\n",
    "    Esu = np.mean(Esu_per_event)\n",
    "\n",
    "    return Esu, Esu_per_event, vm\n",
    "# end func"
   ]
  },
  {
   "cell_type": "code",
   "execution_count": null,
   "metadata": {},
   "outputs": [],
   "source": [
    "def _streamdict_to_array(data, f_s, time_window, cut_window):\n",
    "    \"\"\"\n",
    "    Convert dict of streams (indexed by event id) to numpy array in format required\n",
    "    by function compute_su_energy(), including resampling to f_s and applying a cut\n",
    "    window and sinc resampling.\n",
    "\n",
    "    This conversion may be expensive and compute_su_energy() may need to be called\n",
    "    many times, so preconverting the format to numpy array once only is important\n",
    "    to overall performance.\n",
    "    \n",
    "    Any quality filtering needs to be performed prior to calling this function.\n",
    "    \n",
    "    Note: This function modifies in-place the traces in the values of data.\n",
    "    \"\"\"\n",
    "    from seismic.receiver_fn.rf_util import sinc_resampling\n",
    "\n",
    "    # Resample to f_s if any trace is not already as f_s\n",
    "    for evid, stream in data.items():\n",
    "        if np.any(np.array([tr.stats.sampling_rate != f_s for tr in stream])):\n",
    "            # Resampling lowpass only, as per Tao (anti-aliasing)\n",
    "            stream.filter('lowpass', freq=f_s/2.0, corners=2, zerophase=True).interpolate(\n",
    "                          f_s, method='lanczos', a=10)\n",
    "        # end if\n",
    "    # end for\n",
    "\n",
    "    # Trim to time window\n",
    "    for evid, stream in data.items():\n",
    "        stream.trim(stream[0].stats.onset + time_window[0],\n",
    "                    stream[0].stats.onset + time_window[1])\n",
    "    # end for\n",
    "\n",
    "    # Cut central data segment and resample back to original length using sinc interpolation.\n",
    "    for stream in data.values():\n",
    "        for tr in stream:\n",
    "            times = tr.times() - (tr.stats.onset - tr.stats.starttime)\n",
    "            tr_cut = tr.copy().trim(tr.stats.onset + cut_window[0], tr.stats.onset + cut_window[1])\n",
    "            tr_cut.detrend('linear')\n",
    "            tr_cut.taper(0.10)\n",
    "            cut_times = tr_cut.times() - (tr_cut.stats.onset - tr_cut.stats.starttime)\n",
    "            cut_data = tr_cut.data\n",
    "            resampled_data = sinc_resampling(cut_times, cut_data, times)\n",
    "            # Replace trace data with cut resampled data\n",
    "            tr.data = resampled_data\n",
    "        # end for\n",
    "    # end for\n",
    "\n",
    "    # Pull data arrays out into matrix format\n",
    "    v0 = np.array([[  st.select(component='R')[0].data.tolist(),\n",
    "                    (-st.select(component='Z')[0].data).tolist()] for st in data.values()])\n",
    "\n",
    "    return v0\n",
    "# end func"
   ]
  },
  {
   "cell_type": "code",
   "execution_count": null,
   "metadata": {},
   "outputs": [],
   "source": [
    "def job_caller(i, j, v0, f_s, p, mantle, earth_model, flux_window):\n",
    "    energy, _, _ = compute_su_energy(v0, f_s, p, mantle, earth_model, flux_window=flux_window)\n",
    "    return (i, j, energy)"
   ]
  },
  {
   "cell_type": "code",
   "execution_count": null,
   "metadata": {},
   "outputs": [],
   "source": [
    "def find_energy_minimum_location(energy, h_grid, vs_grid):\n",
    "    min_loc = np.unravel_index(np.argmin(energy), energy.shape)\n",
    "    H_min = h_grid[0, min_loc[1]]\n",
    "    Vs_min = vs_grid[min_loc[0], 0]\n",
    "    return (H_min, Vs_min)\n",
    "# end func"
   ]
  },
  {
   "cell_type": "markdown",
   "metadata": {},
   "source": [
    "--------------------------------"
   ]
  },
  {
   "cell_type": "markdown",
   "metadata": {},
   "source": [
    "# Import required libraries and run case studies"
   ]
  },
  {
   "cell_type": "code",
   "execution_count": null,
   "metadata": {},
   "outputs": [],
   "source": [
    "from collections import defaultdict, OrderedDict\n",
    "import logging\n",
    "\n",
    "import numpy as np\n",
    "import matplotlib.pyplot as plt\n",
    "import scipy.signal as signal\n",
    "import numpy.fft as fft\n",
    "from scipy import stats\n",
    "\n",
    "import h5py\n",
    "import obspy\n",
    "import obspyh5\n",
    "\n",
    "from seismic.receiver_fn.stream_quality_filter import curate_stream3c\n",
    "from seismic.receiver_fn.rf_util import compute_vertical_snr\n",
    "from seismic.receiver_fn.rf_util import KM_PER_DEG\n",
    "from seismic.receiver_fn.rf_util import sinc_resampling\n",
    "from seismic.receiver_fn.rf_synthetic import synthesize_ideal_seismogram"
   ]
  },
  {
   "cell_type": "code",
   "execution_count": null,
   "metadata": {},
   "outputs": [],
   "source": [
    "from tqdm.auto import tqdm\n",
    "from joblib import Parallel, delayed"
   ]
  },
  {
   "cell_type": "markdown",
   "metadata": {},
   "source": [
    "-----------------------------"
   ]
  },
  {
   "cell_type": "markdown",
   "metadata": {},
   "source": [
    "## Run using on-demand synthetic data to validate implementation"
   ]
  },
  {
   "cell_type": "code",
   "execution_count": null,
   "metadata": {},
   "outputs": [],
   "source": [
    "network = 'AU'\n",
    "target_station = 'QIS'"
   ]
  },
  {
   "cell_type": "code",
   "execution_count": null,
   "metadata": {},
   "outputs": [],
   "source": [
    "f_s = 10\n",
    "data_synth = synthesize_ideal_seismogram(network, target_station, 'velocity', 65, 140, f_s=f_s,\n",
    "                                         sourcedepthmetres=0)\n",
    "# data_synth"
   ]
  },
  {
   "cell_type": "code",
   "execution_count": null,
   "metadata": {},
   "outputs": [],
   "source": [
    "data_synth.plot(type='relative', reftime=data_synth[0].stats.onset, outfile='synth_event.png', dpi=300)"
   ]
  },
  {
   "cell_type": "code",
   "execution_count": null,
   "metadata": {},
   "outputs": [],
   "source": [
    "# Time window to trim input traces to\n",
    "TIME_WINDOW = (-20, 50)\n",
    "# Snippet around onset to use for processing\n",
    "CUT_WINDOW = (-5, 30)\n",
    "# Time window used for integration of energy flux\n",
    "FLUX_WINDOW = (-10, 20)"
   ]
  },
  {
   "cell_type": "code",
   "execution_count": null,
   "metadata": {},
   "outputs": [],
   "source": [
    "t_onset = data_synth[0].stats.onset - data_synth[0].stats.starttime"
   ]
  },
  {
   "cell_type": "code",
   "execution_count": null,
   "metadata": {},
   "outputs": [],
   "source": [
    "data_all = {'synth_event_0': data_synth}"
   ]
  },
  {
   "cell_type": "code",
   "execution_count": null,
   "metadata": {},
   "outputs": [],
   "source": [
    "v0 = _streamdict_to_array(data_all, f_s, TIME_WINDOW, CUT_WINDOW)"
   ]
  },
  {
   "cell_type": "code",
   "execution_count": null,
   "metadata": {},
   "outputs": [],
   "source": [
    "# Get ray params for the events\n",
    "p = np.array([st[0].stats.slowness/KM_PER_DEG for st in data_all.values()])"
   ]
  },
  {
   "cell_type": "code",
   "execution_count": null,
   "metadata": {},
   "outputs": [],
   "source": [
    "# Define bulk properties of mantle (lowermost half-space)\n",
    "mantle_props = LayerProps(8.0, 4.5, 3.3, np.Infinity)"
   ]
  },
  {
   "cell_type": "code",
   "execution_count": null,
   "metadata": {},
   "outputs": [],
   "source": [
    "# Define single layer earth model (crust over mantle only, no sediment)\n",
    "# Vs here is postulated.\n",
    "# H here is postulated.\n",
    "earth_props = np.array([LayerProps(6.1, 3.7, 2.7, 35.0)])"
   ]
  },
  {
   "cell_type": "code",
   "execution_count": null,
   "metadata": {},
   "outputs": [],
   "source": [
    "energy, energy_per_event, mantle_wave_components = compute_su_energy(v0, f_s, p, mantle_props, earth_props,\n",
    "                                                                    flux_window=FLUX_WINDOW)"
   ]
  },
  {
   "cell_type": "code",
   "execution_count": null,
   "metadata": {},
   "outputs": [],
   "source": [
    "print(energy)"
   ]
  },
  {
   "cell_type": "code",
   "execution_count": null,
   "metadata": {},
   "outputs": [],
   "source": [
    "# Plot the wavefield decomposition at the top of the mantle\n",
    "plt.figure(figsize=(16,12))\n",
    "t = np.arange(v0.shape[2])/f_s - t_onset\n",
    "plt.plot(t, mantle_wave_components[0,0,:], label='$P_{down}$', alpha=0.8, linewidth=2)\n",
    "plt.plot(t, mantle_wave_components[0,1,:], label='$P_{up}$', alpha=0.8, linewidth=2)\n",
    "plt.plot(t, mantle_wave_components[0,2,:], label='$S_{down}$', alpha=0.8, linewidth=2)\n",
    "plt.plot(t, mantle_wave_components[0,3,:], label='$S_{up}$', alpha=0.8, linewidth=2)\n",
    "plt.plot(t, np.sum(mantle_wave_components[0,:,:], axis=0), color='#40404080', label='Total', linewidth=4)\n",
    "plt.xlabel('Time (s)', fontsize=16)\n",
    "plt.ylabel('Amplitude (normalized)', fontsize=16)\n",
    "plt.xticks(fontsize=16)\n",
    "plt.yticks(fontsize=16)\n",
    "plt.grid(linestyle=':', color=\"#80808080\")\n",
    "plt.title(\"Waveform at top of mantle\", fontsize=20, y=1.01)\n",
    "plt.legend(fontsize=14)\n",
    "plt.savefig('synth_waveform_top_mantle.png', dpi=300)\n",
    "plt.show()"
   ]
  },
  {
   "cell_type": "code",
   "execution_count": null,
   "metadata": {},
   "outputs": [],
   "source": [
    "# Define grid search space\n",
    "H, Vs = np.meshgrid(np.linspace(25, 50, 121), np.linspace(3.2, 4.0, 81))\n",
    "Esu = np.zeros(H.shape)"
   ]
  },
  {
   "cell_type": "code",
   "execution_count": null,
   "metadata": {},
   "outputs": [],
   "source": [
    "# Run grid search and collect results\n",
    "results = []\n",
    "for i, (H_arr, Vs_arr) in tqdm(enumerate(zip(H, Vs)), total=H.shape[0], desc='Outer loop'):\n",
    "    results.extend(Parallel(n_jobs=-1)(delayed(job_caller)(i, j, v0, f_s, p, mantle_props,\n",
    "                                                           [LayerProps(6.1, _Vs, 2.7, _H)], FLUX_WINDOW)\n",
    "                                       for j, (_H, _Vs) in enumerate(zip(H_arr, Vs_arr))))\n",
    "# end for\n",
    "for i, j, energy in results:\n",
    "    Esu[i, j] = energy"
   ]
  },
  {
   "cell_type": "code",
   "execution_count": null,
   "metadata": {},
   "outputs": [],
   "source": [
    "# Plot energy flux across search space\n",
    "colmap = 'plasma'\n",
    "fig = plt.figure(figsize=(16, 12))\n",
    "plt.contourf(Vs, H, Esu, levels=50, cmap=colmap)\n",
    "cb = plt.colorbar()\n",
    "plt.contour(Vs, H, Esu, levels=10, colors='k', linewidths=1, antialiased=True)\n",
    "plt.xlabel('$V_s$ (km/s)', fontsize=14)\n",
    "plt.ylabel('$H$ Moho depth (km)', fontsize=14)\n",
    "plt.tick_params(right=True, labelright=True, which='both')\n",
    "plt.tick_params(top=True, labeltop=True, which='both')\n",
    "plt.xticks(fontsize=14)\n",
    "plt.yticks(fontsize=14)\n",
    "plt.minorticks_on()\n",
    "plt.xlim(np.min(Vs), np.max(Vs))\n",
    "plt.ylim(np.min(H), np.max(H))\n",
    "plt.grid(linestyle=':', color=\"#80808080\")\n",
    "plt.title('{}.{} synthetic'.format(network, target_station), fontsize=20, y=1.05)\n",
    "plt.savefig('AU.QIS_synth_energy_flux.png', dpi=300)\n",
    "plt.show()"
   ]
  },
  {
   "cell_type": "code",
   "execution_count": null,
   "metadata": {},
   "outputs": [],
   "source": [
    "find_energy_minimum_location(Esu, H, Vs)"
   ]
  },
  {
   "cell_type": "markdown",
   "metadata": {},
   "source": [
    "------------------------"
   ]
  },
  {
   "cell_type": "markdown",
   "metadata": {},
   "source": [
    "## Run on data converted from Tao's SAC files\n",
    "\n",
    "Replicate work of Tao on NE68"
   ]
  },
  {
   "cell_type": "code",
   "execution_count": null,
   "metadata": {},
   "outputs": [],
   "source": [
    "network = 'BD'\n",
    "target_station = 'NE68'"
   ]
  },
  {
   "cell_type": "code",
   "execution_count": null,
   "metadata": {},
   "outputs": [],
   "source": [
    "# Resampling rate\n",
    "f_s = 10.0  # Matches dt==0.1 used by Tao\n",
    "# Time window of original data to use for processing. All traces must have at least this extent\n",
    "# about the onset time.\n",
    "TIME_WINDOW = (-20, 50)\n",
    "# Narrower time window used for integration of energy flux\n",
    "FLUX_WINDOW = (-10, 20)\n",
    "# Cut window for selecting central wavelet\n",
    "CUT_WINDOW = (-5, 30)"
   ]
  },
  {
   "cell_type": "code",
   "execution_count": null,
   "metadata": {},
   "outputs": [],
   "source": [
    "# src_file = (r\"/g/data/ha3/am7399/dev/RFsediment/YP.NE68/H-beta_SCM_Esu_DCmatlab_station/sac\"\n",
    "#             r\"/event_test3.use.hdf5\")\n",
    "src_file = (r\"/g/data/ha3/am7399/dev/RFsediment/YP.NE68/H-beta_SCM_Esu_DCmatlab_station/sac\"\n",
    "            r\"/event.use.h5\")"
   ]
  },
  {
   "cell_type": "code",
   "execution_count": null,
   "metadata": {},
   "outputs": [],
   "source": [
    "traces = obspy.read(src_file, 'H5')"
   ]
  },
  {
   "cell_type": "code",
   "execution_count": null,
   "metadata": {},
   "outputs": [],
   "source": [
    "# Group triplets of traces for same event id\n",
    "data_all = defaultdict(obspy.Stream)\n",
    "for tr in traces:\n",
    "    data_all[tr.stats.event_id].append(tr.copy())\n",
    "data_all = OrderedDict(sorted(data_all.items(), key=lambda k: k[0]))"
   ]
  },
  {
   "cell_type": "code",
   "execution_count": null,
   "metadata": {},
   "outputs": [],
   "source": [
    "len(data_all)"
   ]
  },
  {
   "cell_type": "code",
   "execution_count": null,
   "metadata": {},
   "outputs": [],
   "source": [
    "v0 = _streamdict_to_array(data_all, f_s, TIME_WINDOW, CUT_WINDOW)"
   ]
  },
  {
   "cell_type": "code",
   "execution_count": null,
   "metadata": {},
   "outputs": [],
   "source": [
    "# Get ray params for the events\n",
    "p = np.array([st[0].stats.slowness/KM_PER_DEG for st in data_all.values()])\n",
    "print(p)"
   ]
  },
  {
   "cell_type": "code",
   "execution_count": null,
   "metadata": {},
   "outputs": [],
   "source": [
    "# Define bulk properties of mantle (lowermost half-space)\n",
    "mantle_props = LayerProps(8.0, 4.5, 3.3, np.Infinity)\n",
    "mantle_props"
   ]
  },
  {
   "cell_type": "code",
   "execution_count": null,
   "metadata": {},
   "outputs": [],
   "source": [
    "earth_props = np.array([LayerProps(2.1, 0.5, 1.97, 0.3), LayerProps(6.4, 3.7, 2.7, 35.0)])\n",
    "earth_props"
   ]
  },
  {
   "cell_type": "code",
   "execution_count": null,
   "metadata": {},
   "outputs": [],
   "source": [
    "energy, energy_per_event, mantle_wave_components = compute_su_energy(v0, f_s, p, mantle_props, earth_props,\n",
    "                                                                     flux_window=FLUX_WINDOW)"
   ]
  },
  {
   "cell_type": "code",
   "execution_count": null,
   "metadata": {},
   "outputs": [],
   "source": [
    "print(energy)"
   ]
  },
  {
   "cell_type": "markdown",
   "metadata": {},
   "source": [
    "### Perform grid search on sediment properties"
   ]
  },
  {
   "cell_type": "code",
   "execution_count": null,
   "metadata": {},
   "outputs": [],
   "source": [
    "import time"
   ]
  },
  {
   "cell_type": "code",
   "execution_count": null,
   "metadata": {},
   "outputs": [],
   "source": [
    "total_time = 0"
   ]
  },
  {
   "cell_type": "code",
   "execution_count": null,
   "metadata": {},
   "outputs": [],
   "source": [
    "crust_props = LayerProps(6.1, 3.7, 2.7, 35)"
   ]
  },
  {
   "cell_type": "code",
   "execution_count": null,
   "metadata": {},
   "outputs": [],
   "source": [
    "H, Vs = np.meshgrid(np.linspace(0, 1, 101), np.linspace(0.1, 1.0, 91))\n",
    "Esu = np.zeros(H.shape)"
   ]
  },
  {
   "cell_type": "code",
   "execution_count": null,
   "metadata": {},
   "outputs": [],
   "source": [
    "t0 = time.perf_counter()\n",
    "results = []\n",
    "for i, (H_arr, Vs_arr) in tqdm(enumerate(zip(H, Vs)), total=H.shape[0], desc='Sediment loop 1'):\n",
    "    results.extend(Parallel(n_jobs=-1)(delayed(job_caller)(i, j, v0, f_s, p, mantle_props,\n",
    "                                                           [LayerProps(2.1, _Vs, 1.97, _H), crust_props],\n",
    "                                                           FLUX_WINDOW)\n",
    "                                       for j, (_H, _Vs) in enumerate(zip(H_arr, Vs_arr))))\n",
    "# end for\n",
    "for i, j, energy in results:\n",
    "    Esu[i, j] = energy\n",
    "\n",
    "total_time += time.perf_counter() - t0"
   ]
  },
  {
   "cell_type": "code",
   "execution_count": null,
   "metadata": {},
   "outputs": [],
   "source": [
    "colmap = 'plasma'\n",
    "fig = plt.figure(figsize=(16, 12))\n",
    "plt.contourf(Vs, H, Esu, levels=np.linspace(0.3, 1.80, 50), cmap=colmap)\n",
    "cb = plt.colorbar()\n",
    "plt.contour(Vs, H, Esu, levels=np.linspace(0.3, 0.9, 10), colors='k', linewidths=1, antialiased=True)\n",
    "plt.xlabel('Sediment $V_s$ (km/s)', fontsize=14)\n",
    "plt.ylabel('Sediment $H$ (km)', fontsize=14)\n",
    "plt.tick_params(right=True, labelright=True, which='both')\n",
    "plt.tick_params(top=True, labeltop=True, which='both')\n",
    "plt.xticks(fontsize=14)\n",
    "plt.yticks(fontsize=14)\n",
    "plt.minorticks_on()\n",
    "plt.xlim(np.min(Vs), np.max(Vs))\n",
    "plt.ylim(np.min(H), np.max(H))\n",
    "plt.grid(linestyle=':', color=\"#80808080\")\n",
    "plt.title('NE68 Sediment properties (1st iteration)', fontsize=20, y=1.05)\n",
    "plt.savefig('NE68_sediment_props_iteration1.png', dpi=300)\n",
    "plt.show()"
   ]
  },
  {
   "cell_type": "code",
   "execution_count": null,
   "metadata": {},
   "outputs": [],
   "source": [
    "H_sediment, Vs_sediment = find_energy_minimum_location(Esu, H, Vs)\n",
    "print(H_sediment, Vs_sediment)"
   ]
  },
  {
   "cell_type": "markdown",
   "metadata": {},
   "source": [
    "### Perform grid search on crust properties"
   ]
  },
  {
   "cell_type": "code",
   "execution_count": null,
   "metadata": {},
   "outputs": [],
   "source": [
    "sediment_props = LayerProps(2.1, Vs_sediment, 1.97, H_sediment)\n",
    "sediment_props"
   ]
  },
  {
   "cell_type": "code",
   "execution_count": null,
   "metadata": {},
   "outputs": [],
   "source": [
    "H, Vs = np.meshgrid(np.linspace(25, 45, 201), np.linspace(3.0, 5.0, 201))\n",
    "Esu = np.zeros(H.shape)"
   ]
  },
  {
   "cell_type": "code",
   "execution_count": null,
   "metadata": {},
   "outputs": [],
   "source": [
    "t0 = time.perf_counter()\n",
    "results = []\n",
    "for i, (H_arr, Vs_arr) in tqdm(enumerate(zip(H, Vs)), total=H.shape[0], desc='Crust loop'):\n",
    "    results.extend(Parallel(n_jobs=-1)(delayed(job_caller)(i, j, v0, f_s, p, mantle_props,\n",
    "                                                           [sediment_props, LayerProps(6.1, _Vs, 2.7, _H)],\n",
    "                                                           FLUX_WINDOW)\n",
    "                                       for j, (_H, _Vs) in enumerate(zip(H_arr, Vs_arr))))\n",
    "# end for\n",
    "for i, j, energy in results:\n",
    "    Esu[i, j] = energy\n",
    "\n",
    "total_time += time.perf_counter() - t0"
   ]
  },
  {
   "cell_type": "code",
   "execution_count": null,
   "metadata": {},
   "outputs": [],
   "source": [
    "colmap = 'plasma'\n",
    "fig = plt.figure(figsize=(16, 12))\n",
    "plt.contourf(Vs, H, Esu, levels=50, cmap=colmap)\n",
    "cb = plt.colorbar()\n",
    "plt.contour(Vs, H, Esu, levels=10, colors='k', linewidths=1, antialiased=True)\n",
    "plt.xlabel('Crust $V_s$ (km/s)', fontsize=14)\n",
    "plt.ylabel('Crust $H$ (km)', fontsize=14)\n",
    "plt.tick_params(right=True, labelright=True, which='both')\n",
    "plt.tick_params(top=True, labeltop=True, which='both')\n",
    "plt.xticks(fontsize=14)\n",
    "plt.yticks(fontsize=14)\n",
    "plt.minorticks_on()\n",
    "plt.xlim(np.min(Vs), np.max(Vs))\n",
    "plt.ylim(np.min(H), np.max(H))\n",
    "plt.grid(linestyle=':', color=\"#80808080\")\n",
    "plt.title('NE68 Crust properties (1st iteration)', fontsize=20, y=1.05)\n",
    "plt.savefig('NE68_crust_props_iteration1.png', dpi=300)\n",
    "plt.show()"
   ]
  },
  {
   "cell_type": "code",
   "execution_count": null,
   "metadata": {},
   "outputs": [],
   "source": [
    "H_crust, Vs_crust = find_energy_minimum_location(Esu, H, Vs)\n",
    "print(H_crust, Vs_crust)"
   ]
  },
  {
   "cell_type": "markdown",
   "metadata": {},
   "source": [
    "### Repeat grid search on sediment properties (2nd iteration)"
   ]
  },
  {
   "cell_type": "code",
   "execution_count": null,
   "metadata": {},
   "outputs": [],
   "source": [
    "crust_props = LayerProps(6.1, Vs_crust, 2.7, H_crust)"
   ]
  },
  {
   "cell_type": "code",
   "execution_count": null,
   "metadata": {},
   "outputs": [],
   "source": [
    "H, Vs = np.meshgrid(np.linspace(0, 1, 101), np.linspace(0.1, 1.0, 91))\n",
    "Esu = np.zeros(H.shape)"
   ]
  },
  {
   "cell_type": "code",
   "execution_count": null,
   "metadata": {},
   "outputs": [],
   "source": [
    "t0 = time.perf_counter()\n",
    "results = []\n",
    "for i, (H_arr, Vs_arr) in tqdm(enumerate(zip(H, Vs)), total=H.shape[0], desc='Sediment loop'):\n",
    "    results.extend(Parallel(n_jobs=-1)(delayed(job_caller)(i, j, v0, f_s, p, mantle_props,\n",
    "                                                           [LayerProps(2.1, _Vs, 1.97, _H), crust_props],\n",
    "                                                           FLUX_WINDOW)\n",
    "                                       for j, (_H, _Vs) in enumerate(zip(H_arr, Vs_arr))))\n",
    "# end for\n",
    "for i, j, energy in results:\n",
    "    Esu[i, j] = energy\n",
    "\n",
    "total_time += time.perf_counter() - t0"
   ]
  },
  {
   "cell_type": "code",
   "execution_count": null,
   "metadata": {},
   "outputs": [],
   "source": [
    "colmap = 'plasma'\n",
    "fig = plt.figure(figsize=(16, 12))\n",
    "plt.contourf(Vs, H, Esu, levels=np.linspace(0.28, 1.8, 50), cmap=colmap)\n",
    "cb = plt.colorbar()\n",
    "plt.contour(Vs, H, Esu, levels=np.linspace(0.28, 0.9, 10), colors='k', linewidths=1, antialiased=True)\n",
    "plt.xlabel('Sediment $V_s$ (km/s)', fontsize=14)\n",
    "plt.ylabel('Sediment $H$ (km)', fontsize=14)\n",
    "plt.tick_params(right=True, labelright=True, which='both')\n",
    "plt.tick_params(top=True, labeltop=True, which='both')\n",
    "plt.xticks(fontsize=14)\n",
    "plt.yticks(fontsize=14)\n",
    "plt.minorticks_on()\n",
    "plt.xlim(np.min(Vs), np.max(Vs))\n",
    "plt.ylim(np.min(H), np.max(H))\n",
    "plt.grid(linestyle=':', color=\"#80808080\")\n",
    "plt.title('NE68 Sediment properties (2nd iteration)', fontsize=20, y=1.05)\n",
    "plt.savefig('NE68_sediment_props_iteration2.png', dpi=300)\n",
    "plt.show()"
   ]
  },
  {
   "cell_type": "code",
   "execution_count": null,
   "metadata": {},
   "outputs": [],
   "source": [
    "H_sediment, Vs_sediment = find_energy_minimum_location(Esu, H, Vs)\n",
    "print(H_sediment, Vs_sediment)"
   ]
  },
  {
   "cell_type": "markdown",
   "metadata": {},
   "source": [
    "### Repeat grid search on crust properties (2nd iteration)"
   ]
  },
  {
   "cell_type": "code",
   "execution_count": null,
   "metadata": {},
   "outputs": [],
   "source": [
    "sediment_props = LayerProps(2.1, Vs_sediment, 1.97, H_sediment)\n",
    "sediment_props"
   ]
  },
  {
   "cell_type": "code",
   "execution_count": null,
   "metadata": {},
   "outputs": [],
   "source": [
    "H, Vs = np.meshgrid(np.linspace(25, 45, 201), np.linspace(3.0, 5.0, 201))\n",
    "Esu = np.zeros(H.shape)"
   ]
  },
  {
   "cell_type": "code",
   "execution_count": null,
   "metadata": {},
   "outputs": [],
   "source": [
    "t0 = time.perf_counter()\n",
    "results = []\n",
    "for i, (H_arr, Vs_arr) in tqdm(enumerate(zip(H, Vs)), total=H.shape[0], desc='Crust loop'):\n",
    "    results.extend(Parallel(n_jobs=-1)(delayed(job_caller)(i, j, v0, f_s, p, mantle_props,\n",
    "                                                           [sediment_props, LayerProps(6.1, _Vs, 2.7, _H)],\n",
    "                                                           FLUX_WINDOW)\n",
    "                                       for j, (_H, _Vs) in enumerate(zip(H_arr, Vs_arr))))\n",
    "# end for\n",
    "for i, j, energy in results:\n",
    "    Esu[i, j] = energy\n",
    "\n",
    "total_time += time.perf_counter() - t0"
   ]
  },
  {
   "cell_type": "code",
   "execution_count": null,
   "metadata": {},
   "outputs": [],
   "source": [
    "colmap = 'plasma'\n",
    "fig = plt.figure(figsize=(16, 12))\n",
    "plt.contourf(Vs, H, Esu, levels=50, cmap=colmap)\n",
    "cb = plt.colorbar()\n",
    "plt.contour(Vs, H, Esu, levels=10, colors='k', linewidths=1, antialiased=True)\n",
    "plt.xlabel('Crust $V_s$ (km/s)', fontsize=14)\n",
    "plt.ylabel('Crust $H$ (km)', fontsize=14)\n",
    "plt.tick_params(right=True, labelright=True, which='both')\n",
    "plt.tick_params(top=True, labeltop=True, which='both')\n",
    "plt.xticks(fontsize=14)\n",
    "plt.yticks(fontsize=14)\n",
    "plt.minorticks_on()\n",
    "plt.xlim(np.min(Vs), np.max(Vs))\n",
    "plt.ylim(np.min(H), np.max(H))\n",
    "plt.grid(linestyle=':', color=\"#80808080\")\n",
    "plt.title('NE68 Crust properties (2nd iteration)', fontsize=20, y=1.05)\n",
    "plt.savefig('NE68_crust_props_iteration2.png', dpi=300)\n",
    "plt.show()"
   ]
  },
  {
   "cell_type": "code",
   "execution_count": null,
   "metadata": {},
   "outputs": [],
   "source": [
    "# Extract final minimum H_crust and Vs_crust\n",
    "H_crust, Vs_crust = find_energy_minimum_location(Esu, H, Vs)\n",
    "print(H_crust, Vs_crust)"
   ]
  },
  {
   "cell_type": "code",
   "execution_count": null,
   "metadata": {},
   "outputs": [],
   "source": [
    "print(\"Total time = {}\".format(total_time))"
   ]
  },
  {
   "cell_type": "markdown",
   "metadata": {},
   "source": [
    "### Repeat analysis on Tao's NE68 data using objective function minimization"
   ]
  },
  {
   "cell_type": "code",
   "execution_count": null,
   "metadata": {},
   "outputs": [],
   "source": [
    "import scipy.optimize as optimize"
   ]
  },
  {
   "cell_type": "code",
   "execution_count": null,
   "metadata": {},
   "outputs": [],
   "source": [
    "def objective_fn(model, v0, f_s, p, mantle, Vp, rho, flux_window):\n",
    "    num_layers = len(model)//2\n",
    "    earth_model = []\n",
    "    for i in range(num_layers):\n",
    "        earth_model.append(LayerProps(Vp[i], model[2*i + 1], rho[i], model[2*i]))\n",
    "    earth_model = np.array(earth_model)\n",
    "    energy, _, _ = compute_su_energy(v0, f_s, p, mantle, earth_model, flux_window=flux_window)\n",
    "    return energy"
   ]
  },
  {
   "cell_type": "code",
   "execution_count": null,
   "metadata": {},
   "outputs": [],
   "source": [
    "# 2-layer model\n",
    "t0 = time.perf_counter()\n",
    "Vp = [2.1, 6.1]\n",
    "rho = [1.97, 2.7]\n",
    "fixed_args = (v0, f_s, p, mantle_props, Vp, rho, FLUX_WINDOW)\n",
    "model_0 = np.array([0.5, 0.5, 35.0, 3.7]) # H_0, Vs_0, H_1, Vs_1\n",
    "bounds = optimize.Bounds([0, 0, 25, 3.0], [1, 1, 45, 5.0])\n",
    "soln = optimize.minimize(objective_fn, model_0, fixed_args, bounds=bounds)\n",
    "total_time = time.perf_counter() - t0\n",
    "print(soln.success, soln.nit)"
   ]
  },
  {
   "cell_type": "code",
   "execution_count": null,
   "metadata": {},
   "outputs": [],
   "source": [
    "H_sediment, Vs_sediment, H_crust, Vs_crust = soln.x"
   ]
  },
  {
   "cell_type": "code",
   "execution_count": null,
   "metadata": {},
   "outputs": [],
   "source": [
    "print(H_sediment, Vs_sediment, H_crust, Vs_crust)"
   ]
  },
  {
   "cell_type": "code",
   "execution_count": null,
   "metadata": {},
   "outputs": [],
   "source": [
    "print(\"Total time = {}\".format(total_time))"
   ]
  },
  {
   "cell_type": "markdown",
   "metadata": {},
   "source": [
    "----------------------------------------"
   ]
  },
  {
   "cell_type": "markdown",
   "metadata": {},
   "source": [
    "## Run on real seismic data"
   ]
  },
  {
   "cell_type": "code",
   "execution_count": null,
   "metadata": {},
   "outputs": [],
   "source": [
    "network = 'OA'\n",
    "target_station = 'BV21'"
   ]
  },
  {
   "cell_type": "code",
   "execution_count": null,
   "metadata": {},
   "outputs": [],
   "source": [
    "# Resampling rate\n",
    "f_s = 10.0\n",
    "# Time window of original data to use for processing. All traces must have at least this extent\n",
    "# about the onset time.\n",
    "TIME_WINDOW = (-20, 50)\n",
    "# Narrower time window used for integration of energy flux\n",
    "FLUX_WINDOW = (-10, 20)\n",
    "# Cut window for selecting central wavelet\n",
    "CUT_WINDOW = (-5, 30)"
   ]
  },
  {
   "cell_type": "code",
   "execution_count": null,
   "metadata": {},
   "outputs": [],
   "source": [
    "src_file = (r\"/g/data/ha3/am7399/shared/OA_RF_analysis/\" +\n",
    "            r\"OA_event_waveforms_for_rf_20170911T000036-20181128T230620_rev8.h5\")\n",
    "# src_file = (r\"/home/andrew/dev/hiperseis/seismic/receiver_fn/DATA/\" +\n",
    "#             r\"OA_event_waveforms_for_rf_20170911T000036-20181128T230620_rev8.h5\")"
   ]
  },
  {
   "cell_type": "code",
   "execution_count": null,
   "metadata": {},
   "outputs": [],
   "source": [
    "traces = []\n",
    "for tr in obspyh5.iterh5(src_file, group='/waveforms/{}.{}.0M'.format(network, target_station), mode='r'):\n",
    "    traces.append(tr)"
   ]
  },
  {
   "cell_type": "code",
   "execution_count": null,
   "metadata": {},
   "outputs": [],
   "source": [
    "# Group triplets of traces for same event id\n",
    "data_all = defaultdict(obspy.Stream)\n",
    "for tr in traces:\n",
    "    data_all[tr.stats.event_id].append(tr.copy())\n",
    "data_all = OrderedDict(sorted(data_all.items(), key=lambda k: k[0]))"
   ]
  },
  {
   "cell_type": "code",
   "execution_count": null,
   "metadata": {},
   "outputs": [],
   "source": [
    "# Trim streams and re-order traces into ZNE order.\n",
    "for evid, stream in data_all.items():\n",
    "    stream.trim(stream[0].stats.onset + TIME_WINDOW[0],\n",
    "                stream[0].stats.onset + TIME_WINDOW[1])\n",
    "    stream.sort(keys=['channel'], reverse=True)"
   ]
  },
  {
   "cell_type": "code",
   "execution_count": null,
   "metadata": {},
   "outputs": [],
   "source": [
    "len(data_all)"
   ]
  },
  {
   "cell_type": "code",
   "execution_count": null,
   "metadata": {},
   "outputs": [],
   "source": [
    "# Apply curation to streams prior to rotation\n",
    "logger = logging.getLogger(__name__)\n",
    "discard_ids = []\n",
    "for evid, stream in data_all.items():\n",
    "    if not curate_stream3c(evid, stream, logger):\n",
    "        discard_ids.append(evid)\n",
    "\n",
    "for evid in discard_ids:\n",
    "    data_all.pop(evid)"
   ]
  },
  {
   "cell_type": "code",
   "execution_count": null,
   "metadata": {},
   "outputs": [],
   "source": [
    "len(data_all)"
   ]
  },
  {
   "cell_type": "code",
   "execution_count": null,
   "metadata": {},
   "outputs": [],
   "source": [
    "# Rotate to ZRT coordinates\n",
    "for evid, stream in data_all.items():\n",
    "    stream.rotate('NE->RT')"
   ]
  },
  {
   "cell_type": "code",
   "execution_count": null,
   "metadata": {},
   "outputs": [],
   "source": [
    "# Detrend the traces\n",
    "for evid, stream in data_all.items():\n",
    "    stream.detrend('linear')"
   ]
  },
  {
   "cell_type": "code",
   "execution_count": null,
   "metadata": {},
   "outputs": [],
   "source": [
    "# Run high pass filter to remove high amplitude, low freq noise, if present.\n",
    "f_min = 0.05\n",
    "for stream in data_all.values():\n",
    "    stream.filter('highpass', freq=f_min, corners=2, zerophase=True)"
   ]
  },
  {
   "cell_type": "code",
   "execution_count": null,
   "metadata": {},
   "outputs": [],
   "source": [
    "# Compute SNR of Z component to use as a quality metric\n",
    "for evid, stream in data_all.items():\n",
    "    # Taper the traces before SNR computation\n",
    "    stream.taper(0.05)\n",
    "    compute_vertical_snr(stream)"
   ]
  },
  {
   "cell_type": "code",
   "execution_count": null,
   "metadata": {},
   "outputs": [],
   "source": [
    "snrs = np.array([s[0].stats.snr_prior for _, s in data_all.items()])\n",
    "\n",
    "plt.hist(snrs, bins=np.linspace(0, 10, 21))\n",
    "plt.show()"
   ]
  },
  {
   "cell_type": "code",
   "execution_count": null,
   "metadata": {},
   "outputs": [],
   "source": [
    "# Filter by SNR\n",
    "discard_ids = []\n",
    "for evid, stream in data_all.items():\n",
    "    if stream[0].stats.snr_prior < 3.0:\n",
    "        discard_ids.append(evid)\n",
    "        \n",
    "for evid in discard_ids:\n",
    "    data_all.pop(evid)\n",
    "\n",
    "# It does not make sense to filter by similarity, since these are raw waveforms,\n",
    "# not RFs, and the waveform will be dominated by the source waveform."
   ]
  },
  {
   "cell_type": "code",
   "execution_count": null,
   "metadata": {},
   "outputs": [],
   "source": [
    "len(data_all)"
   ]
  },
  {
   "cell_type": "code",
   "execution_count": null,
   "metadata": {},
   "outputs": [],
   "source": [
    "# Filter streams with incorrect number of traces\n",
    "num_pts = np.array([tr.stats.npts for st in data_all.values() for tr in st])\n",
    "expected_pts = stats.mode(num_pts)[0][0]\n",
    "expected_pts"
   ]
  },
  {
   "cell_type": "code",
   "execution_count": null,
   "metadata": {},
   "outputs": [],
   "source": [
    "discard_ids = []\n",
    "for evid, stream in data_all.items():\n",
    "    if ((stream[0].stats.npts != expected_pts) or\n",
    "        (stream[1].stats.npts != expected_pts) or\n",
    "        (stream[2].stats.npts != expected_pts)):\n",
    "        discard_ids.append(evid)\n",
    "        \n",
    "for evid in discard_ids:\n",
    "    data_all.pop(evid)"
   ]
  },
  {
   "cell_type": "code",
   "execution_count": null,
   "metadata": {},
   "outputs": [],
   "source": [
    "len(data_all)"
   ]
  },
  {
   "cell_type": "code",
   "execution_count": null,
   "metadata": {},
   "outputs": [],
   "source": [
    "# Filter streams with spuriously high amplitude\n",
    "MAX_AMP = 10000\n",
    "discard_ids = []\n",
    "for evid, stream in data_all.items():\n",
    "    if ((np.max(np.abs(stream[0].data)) > MAX_AMP) or\n",
    "        (np.max(np.abs(stream[1].data)) > MAX_AMP) or\n",
    "        (np.max(np.abs(stream[2].data)) > MAX_AMP)):\n",
    "        discard_ids.append(evid)\n",
    "        \n",
    "for evid in discard_ids:\n",
    "    data_all.pop(evid)"
   ]
  },
  {
   "cell_type": "code",
   "execution_count": null,
   "metadata": {},
   "outputs": [],
   "source": [
    "len(data_all)"
   ]
  },
  {
   "cell_type": "code",
   "execution_count": null,
   "metadata": {},
   "outputs": [],
   "source": [
    "# DEBUG visualize processed waveforms. Watch out for low freq/high amplitude noise.\n",
    "# for d in data_all.values():\n",
    "#     d.plot()\n",
    "#     plt.show()\n",
    "#     d[2].spectrogram(wlen=3.2)\n",
    "#     plt.show()"
   ]
  },
  {
   "cell_type": "markdown",
   "metadata": {},
   "source": [
    "## Start processing"
   ]
  },
  {
   "cell_type": "code",
   "execution_count": null,
   "metadata": {},
   "outputs": [],
   "source": [
    "# TODO: Update this to use dask instead of numpy, so that results will be computed lazily\n",
    "# using metaprogramming and graph pruning pre-optimization techniques."
   ]
  },
  {
   "cell_type": "markdown",
   "metadata": {},
   "source": [
    "### Extract seismic waveforms\n",
    "\n",
    "Extract time series for Vr and Vz from data_all and shape into 3D array. First dimension is the event so that the 2nd and 3rd dimensions are the wave component (r and z) and time axis respectively. This choice of data layout is made for compatibility with numpy broadcast rules, which applies matrix operations to the last two dimensions and treats the first dimension as an ensemble stack."
   ]
  },
  {
   "cell_type": "code",
   "execution_count": null,
   "metadata": {},
   "outputs": [],
   "source": [
    "# Note here that we negate the z-component, since this method treats as +z as downwards (increasing depth).\n",
    "# V0 represents P-SV signal at the surface, i.e. that recorded by surface seismometer.\n",
    "v0 = _streamdict_to_array(data_all, f_s, TIME_WINDOW, CUT_WINDOW)\n",
    "v0.shape"
   ]
  },
  {
   "cell_type": "code",
   "execution_count": null,
   "metadata": {},
   "outputs": [],
   "source": [
    "# Get ray params for the events\n",
    "p = np.array([st[0].stats.slowness/KM_PER_DEG for st in data_all.values()])\n",
    "p.shape"
   ]
  },
  {
   "cell_type": "code",
   "execution_count": null,
   "metadata": {},
   "outputs": [],
   "source": [
    "# Define bulk properties of mantle (lowermost half-space)\n",
    "mantle_props = LayerProps(vp=8.0, vs=4.5, rho=3.3, thickness=np.Infinity)"
   ]
  },
  {
   "cell_type": "markdown",
   "metadata": {},
   "source": [
    "---------------------------------------------------------------"
   ]
  },
  {
   "cell_type": "markdown",
   "metadata": {},
   "source": [
    "## Plot of grid search over H,Vs space"
   ]
  },
  {
   "cell_type": "code",
   "execution_count": null,
   "metadata": {},
   "outputs": [],
   "source": [
    "# Assumed global property constants\n",
    "Vp_c = 6.4\n",
    "Vp_s = 2.1\n",
    "rho_c = 2.7\n",
    "rho_s = 1.97"
   ]
  },
  {
   "cell_type": "markdown",
   "metadata": {},
   "source": [
    "### Perform grid search on sediment properties"
   ]
  },
  {
   "cell_type": "code",
   "execution_count": null,
   "metadata": {},
   "outputs": [],
   "source": [
    "crust_props = LayerProps(Vp_c, 3.7, rho_c, 35)"
   ]
  },
  {
   "cell_type": "code",
   "execution_count": null,
   "metadata": {},
   "outputs": [],
   "source": [
    "H, Vs = np.meshgrid(np.linspace(0, 1.0, 51), np.linspace(0.3, 2.0, 51))\n",
    "Esu = np.zeros(H.shape)"
   ]
  },
  {
   "cell_type": "code",
   "execution_count": null,
   "metadata": {},
   "outputs": [],
   "source": [
    "results = []\n",
    "for i, (H_arr, Vs_arr) in tqdm(enumerate(zip(H, Vs)), total=H.shape[0], desc='Sediment loop 1'):\n",
    "    results.extend(Parallel(n_jobs=-1)(delayed(job_caller)(i, j, v0, f_s, p, mantle_props,\n",
    "                                                           [LayerProps(Vp_s, _Vs, rho_s, _H), crust_props],\n",
    "                                                           FLUX_WINDOW)\n",
    "                                       for j, (_H, _Vs) in enumerate(zip(H_arr, Vs_arr))))\n",
    "# end for\n",
    "for i, j, energy in results:\n",
    "    Esu[i, j] = energy"
   ]
  },
  {
   "cell_type": "code",
   "execution_count": null,
   "metadata": {},
   "outputs": [],
   "source": [
    "colmap = 'plasma'\n",
    "fig = plt.figure(figsize=(16, 12))\n",
    "plt.contourf(Vs, H, Esu, levels=50, cmap=colmap)\n",
    "cb = plt.colorbar()\n",
    "plt.contour(Vs, H, Esu, levels=10, colors='k', linewidths=1, antialiased=True)\n",
    "plt.xlabel('Sediment $V_s$ (km/s)', fontsize=14)\n",
    "plt.ylabel('Sediment $H$ (km)', fontsize=14)\n",
    "plt.tick_params(right=True, labelright=True, which='both')\n",
    "plt.tick_params(top=True, labeltop=True, which='both')\n",
    "plt.xticks(fontsize=14)\n",
    "plt.yticks(fontsize=14)\n",
    "plt.minorticks_on()\n",
    "plt.xlim(np.min(Vs), np.max(Vs))\n",
    "plt.ylim(np.min(H), np.max(H))\n",
    "plt.grid(linestyle=':', color=\"#80808080\")\n",
    "plt.title('{}.{} Sediment properties (1st iteration)'.format(network, target_station), fontsize=20, y=1.05)\n",
    "plt.savefig('{}.{}_sediment_props_iteration1.png'.format(network, target_station), dpi=300)\n",
    "plt.show()"
   ]
  },
  {
   "cell_type": "code",
   "execution_count": null,
   "metadata": {},
   "outputs": [],
   "source": [
    "H_sediment, Vs_sediment = find_energy_minimum_location(Esu, H, Vs)\n",
    "print(H_sediment, Vs_sediment)"
   ]
  },
  {
   "cell_type": "code",
   "execution_count": null,
   "metadata": {},
   "outputs": [],
   "source": [
    "if target_station == 'BT23':\n",
    "    H_sediment = 0"
   ]
  },
  {
   "cell_type": "markdown",
   "metadata": {},
   "source": [
    "### Perform grid search on crust properties"
   ]
  },
  {
   "cell_type": "code",
   "execution_count": null,
   "metadata": {},
   "outputs": [],
   "source": [
    "sediment_props = LayerProps(Vp_s, Vs_sediment, rho_s, H_sediment)\n",
    "sediment_props"
   ]
  },
  {
   "cell_type": "code",
   "execution_count": null,
   "metadata": {},
   "outputs": [],
   "source": [
    "H, Vs = np.meshgrid(np.linspace(25, 50, 51), np.linspace(Vp_c/2.1, Vp_c/1.5, 51))\n",
    "Esu = np.zeros(H.shape)"
   ]
  },
  {
   "cell_type": "code",
   "execution_count": null,
   "metadata": {},
   "outputs": [],
   "source": [
    "results = []\n",
    "for i, (H_arr, Vs_arr) in tqdm(enumerate(zip(H, Vs)), total=H.shape[0], desc='Crust loop'):\n",
    "    results.extend(Parallel(n_jobs=-1)(delayed(job_caller)(i, j, v0, f_s, p, mantle_props,\n",
    "                                                           [sediment_props, LayerProps(Vp_c, _Vs, rho_c, _H)],\n",
    "                                                           FLUX_WINDOW)\n",
    "                                       for j, (_H, _Vs) in enumerate(zip(H_arr, Vs_arr))))\n",
    "# end for\n",
    "for i, j, energy in results:\n",
    "    Esu[i, j] = energy"
   ]
  },
  {
   "cell_type": "code",
   "execution_count": null,
   "metadata": {},
   "outputs": [],
   "source": [
    "colmap = 'plasma'\n",
    "fig = plt.figure(figsize=(16, 12))\n",
    "plt.contourf(Vs, H, Esu, levels=50, cmap=colmap)\n",
    "cb = plt.colorbar()\n",
    "plt.contour(Vs, H, Esu, levels=10, colors='k', linewidths=1, antialiased=True)\n",
    "plt.xlabel('Crust $V_s$ (km/s)', fontsize=14)\n",
    "plt.ylabel('Crust $H$ (km)', fontsize=14)\n",
    "plt.tick_params(right=True, labelright=True, which='both')\n",
    "plt.tick_params(top=True, labeltop=True, which='both')\n",
    "plt.xticks(fontsize=14)\n",
    "plt.yticks(fontsize=14)\n",
    "plt.minorticks_on()\n",
    "plt.xlim(np.min(Vs), np.max(Vs))\n",
    "plt.ylim(np.min(H), np.max(H))\n",
    "plt.grid(linestyle=':', color=\"#80808080\")\n",
    "plt.title('{}.{} Crust properties (1st iteration)'.format(network, target_station), fontsize=20, y=1.05)\n",
    "plt.savefig('{}.{}_crust_props_iteration1.png'.format(network, target_station), dpi=300)\n",
    "plt.show()"
   ]
  },
  {
   "cell_type": "code",
   "execution_count": null,
   "metadata": {},
   "outputs": [],
   "source": [
    "H_crust, Vs_crust = find_energy_minimum_location(Esu, H, Vs)\n",
    "print(H_crust, Vs_crust)"
   ]
  },
  {
   "cell_type": "code",
   "execution_count": null,
   "metadata": {},
   "outputs": [],
   "source": [
    "# if target_station == 'CG23':\n",
    "#     H_crust = 42.0\n",
    "#     Vs_crust = 3.15"
   ]
  },
  {
   "cell_type": "markdown",
   "metadata": {},
   "source": [
    "### Repeat grid search on sediment properties (2nd iteration)"
   ]
  },
  {
   "cell_type": "code",
   "execution_count": null,
   "metadata": {},
   "outputs": [],
   "source": [
    "crust_props = LayerProps(Vp_c, Vs_crust, rho_c, H_crust)"
   ]
  },
  {
   "cell_type": "code",
   "execution_count": null,
   "metadata": {},
   "outputs": [],
   "source": [
    "H, Vs = np.meshgrid(np.linspace(0, 1.0, 51), np.linspace(0.3, 2.0, 51))\n",
    "Esu = np.zeros(H.shape)"
   ]
  },
  {
   "cell_type": "code",
   "execution_count": null,
   "metadata": {},
   "outputs": [],
   "source": [
    "results = []\n",
    "for i, (H_arr, Vs_arr) in tqdm(enumerate(zip(H, Vs)), total=H.shape[0], desc='Sediment loop'):\n",
    "    results.extend(Parallel(n_jobs=-1)(delayed(job_caller)(i, j, v0, f_s, p, mantle_props,\n",
    "                                                           [LayerProps(Vp_s, _Vs, rho_s, _H), crust_props],\n",
    "                                                           FLUX_WINDOW)\n",
    "                                       for j, (_H, _Vs) in enumerate(zip(H_arr, Vs_arr))))\n",
    "# end for\n",
    "for i, j, energy in results:\n",
    "    Esu[i, j] = energy"
   ]
  },
  {
   "cell_type": "code",
   "execution_count": null,
   "metadata": {},
   "outputs": [],
   "source": [
    "colmap = 'plasma'\n",
    "fig = plt.figure(figsize=(16, 12))\n",
    "plt.contourf(Vs, H, Esu, levels=50, cmap=colmap)\n",
    "cb = plt.colorbar()\n",
    "plt.contour(Vs, H, Esu, levels=10, colors='k', linewidths=1, antialiased=True)\n",
    "plt.xlabel('Sediment $V_s$ (km/s)', fontsize=14)\n",
    "plt.ylabel('Sediment $H$ (km)', fontsize=14)\n",
    "plt.tick_params(right=True, labelright=True, which='both')\n",
    "plt.tick_params(top=True, labeltop=True, which='both')\n",
    "plt.xticks(fontsize=14)\n",
    "plt.yticks(fontsize=14)\n",
    "plt.minorticks_on()\n",
    "plt.xlim(np.min(Vs), np.max(Vs))\n",
    "plt.ylim(np.min(H), np.max(H))\n",
    "plt.grid(linestyle=':', color=\"#80808080\")\n",
    "plt.title('{}.{} Sediment properties (2nd iteration)'.format(network, target_station), fontsize=20, y=1.05)\n",
    "plt.savefig('{}.{}_sediment_props_iteration2.png'.format(network, target_station), dpi=300)\n",
    "plt.show()"
   ]
  },
  {
   "cell_type": "code",
   "execution_count": null,
   "metadata": {},
   "outputs": [],
   "source": [
    "H_sediment, Vs_sediment = find_energy_minimum_location(Esu, H, Vs)\n",
    "print(H_sediment, Vs_sediment)"
   ]
  },
  {
   "cell_type": "markdown",
   "metadata": {},
   "source": [
    "### Repeat grid search on crust properties (2nd iteration)"
   ]
  },
  {
   "cell_type": "code",
   "execution_count": null,
   "metadata": {},
   "outputs": [],
   "source": [
    "sediment_props = LayerProps(Vp_s, Vs_sediment, rho_s, H_sediment)\n",
    "sediment_props"
   ]
  },
  {
   "cell_type": "code",
   "execution_count": null,
   "metadata": {},
   "outputs": [],
   "source": [
    "H, Vs = np.meshgrid(np.linspace(25, 50, 51), np.linspace(Vp_c/2.1, Vp_c/1.5, 51))\n",
    "Esu = np.zeros(H.shape)"
   ]
  },
  {
   "cell_type": "code",
   "execution_count": null,
   "metadata": {},
   "outputs": [],
   "source": [
    "results = []\n",
    "for i, (H_arr, Vs_arr) in tqdm(enumerate(zip(H, Vs)), total=H.shape[0], desc='Crust loop'):\n",
    "    results.extend(Parallel(n_jobs=-1)(delayed(job_caller)(i, j, v0, f_s, p, mantle_props,\n",
    "                                                           [sediment_props, LayerProps(Vp_c, _Vs, rho_c, _H)],\n",
    "                                                           FLUX_WINDOW)\n",
    "                                       for j, (_H, _Vs) in enumerate(zip(H_arr, Vs_arr))))\n",
    "# end for\n",
    "for i, j, energy in results:\n",
    "    Esu[i, j] = energy"
   ]
  },
  {
   "cell_type": "code",
   "execution_count": null,
   "metadata": {},
   "outputs": [],
   "source": [
    "colmap = 'plasma'\n",
    "fig = plt.figure(figsize=(16, 12))\n",
    "plt.contourf(Vs, H, Esu, levels=50, cmap=colmap)\n",
    "cb = plt.colorbar()\n",
    "plt.contour(Vs, H, Esu, levels=10, colors='k', linewidths=1, antialiased=True)\n",
    "plt.xlabel('Crust $V_s$ (km/s)', fontsize=14)\n",
    "plt.ylabel('Crust $H$ (km)', fontsize=14)\n",
    "plt.tick_params(right=True, labelright=True, which='both')\n",
    "plt.tick_params(top=True, labeltop=True, which='both')\n",
    "plt.xticks(fontsize=14)\n",
    "plt.yticks(fontsize=14)\n",
    "plt.minorticks_on()\n",
    "plt.xlim(np.min(Vs), np.max(Vs))\n",
    "plt.ylim(np.min(H), np.max(H))\n",
    "plt.grid(linestyle=':', color=\"#80808080\")\n",
    "plt.title('{}.{} Crust properties (2nd iteration)'.format(network, target_station), fontsize=20, y=1.05)\n",
    "plt.savefig('{}.{}_crust_props_iteration2.png'.format(network, target_station), dpi=300)\n",
    "plt.show()"
   ]
  },
  {
   "cell_type": "code",
   "execution_count": null,
   "metadata": {},
   "outputs": [],
   "source": [
    "# Extract final minimum H_crust and Vs_crust\n",
    "H_crust, Vs_crust = find_energy_minimum_location(Esu, H, Vs)\n",
    "print(H_crust, Vs_crust)"
   ]
  },
  {
   "cell_type": "code",
   "execution_count": null,
   "metadata": {},
   "outputs": [],
   "source": [
    "# Compute energy of solution\n",
    "solution_model = [LayerProps(Vp_s, Vs_sediment, rho_s, H_sediment),\n",
    "                  LayerProps(Vp_c, Vs_crust, rho_c, H_crust)]\n",
    "energy, _, _ = compute_su_energy(v0, f_s, p, mantle_props, solution_model, TIME_WINDOW, FLUX_WINDOW)\n",
    "print('Original method final energy flux = {}'.format(energy))"
   ]
  },
  {
   "cell_type": "markdown",
   "metadata": {},
   "source": [
    "### Repeat analysis on OA real data using objective function minimization"
   ]
  },
  {
   "cell_type": "code",
   "execution_count": null,
   "metadata": {},
   "outputs": [],
   "source": [
    "import scipy.optimize as optimize"
   ]
  },
  {
   "cell_type": "code",
   "execution_count": null,
   "metadata": {},
   "outputs": [],
   "source": [
    "def objective_fn(model, v0, f_s, p, mantle, Vp, rho, flux_window):\n",
    "    num_layers = len(model)//2\n",
    "    earth_model = []\n",
    "    for i in range(num_layers):\n",
    "        earth_model.append(LayerProps(Vp[i], model[2*i + 1], rho[i], model[2*i]))\n",
    "    earth_model = np.array(earth_model)\n",
    "    energy, _, _ = compute_su_energy(v0, f_s, p, mantle, earth_model, flux_window=flux_window)\n",
    "    return energy"
   ]
  },
  {
   "cell_type": "code",
   "execution_count": null,
   "metadata": {},
   "outputs": [],
   "source": [
    "# 2-layer model\n",
    "Vp = [Vp_s, Vp_c]\n",
    "rho = [rho_s, rho_c]\n",
    "k_min, k_max = (1.5, 2.1)\n",
    "fixed_args = (v0, f_s, p, mantle_props, Vp, rho, FLUX_WINDOW)\n",
    "model_0 = np.array([0.5, 1.0, 45.0, Vp_c/np.mean((k_min, k_max))]) # H_0, Vs_0, H_1, Vs_1\n",
    "bounds = optimize.Bounds([0, 0.3, 25, Vp_c/k_max], [1, 2.0, 55, Vp_c/k_min])\n",
    "soln = optimize.minimize(objective_fn, model_0, fixed_args, bounds=bounds)"
   ]
  },
  {
   "cell_type": "code",
   "execution_count": null,
   "metadata": {},
   "outputs": [],
   "source": [
    "print('Success = {}, Iterations = {}, Function evaluations = {}'.format(soln.success, soln.nit, soln.nfev))"
   ]
  },
  {
   "cell_type": "code",
   "execution_count": null,
   "metadata": {},
   "outputs": [],
   "source": [
    "H_sediment, Vs_sediment, H_crust, Vs_crust = soln.x"
   ]
  },
  {
   "cell_type": "code",
   "execution_count": null,
   "metadata": {},
   "outputs": [],
   "source": [
    "print(H_sediment, Vs_sediment, H_crust, Vs_crust)"
   ]
  },
  {
   "cell_type": "code",
   "execution_count": null,
   "metadata": {},
   "outputs": [],
   "source": [
    "# Compute energy of solution\n",
    "solution_model = [LayerProps(Vp_s, Vs_sediment, rho_s, H_sediment),\n",
    "                  LayerProps(Vp_c, Vs_crust, rho_c, H_crust)]\n",
    "energy, _, _ = compute_su_energy(v0, f_s, p, mantle_props, solution_model, TIME_WINDOW, FLUX_WINDOW)\n",
    "print('Optimized method final energy flux = {}'.format(energy))"
   ]
  },
  {
   "cell_type": "markdown",
   "metadata": {},
   "source": [
    "---------------------"
   ]
  }
 ],
 "metadata": {
  "kernelspec": {
   "display_name": "Python 3",
   "language": "python",
   "name": "python3"
  },
  "language_info": {
   "codemirror_mode": {
    "name": "ipython",
    "version": 3
   },
   "file_extension": ".py",
   "mimetype": "text/x-python",
   "name": "python",
   "nbconvert_exporter": "python",
   "pygments_lexer": "ipython3",
   "version": "3.5.2"
  }
 },
 "nbformat": 4,
 "nbformat_minor": 4
}
