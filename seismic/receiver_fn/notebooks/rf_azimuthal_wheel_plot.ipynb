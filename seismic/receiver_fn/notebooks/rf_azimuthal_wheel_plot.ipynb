{
 "cells": [
  {
   "cell_type": "markdown",
   "metadata": {},
   "source": [
    "# Development of code for azimuthal wheel plots of RFs for assessment of directional anisotropy\n",
    "\n",
    "Anisotropy may arise from either slab dipping and/or sedimentary thickness variation beneath station, OR from directional material anisotropy.\n",
    "\n",
    "In the case of anisotropy in the material wave propagation properties, the wheel diagram may show evidence of 180 degree rotational symmetry."
   ]
  },
  {
   "cell_type": "code",
   "execution_count": null,
   "metadata": {},
   "outputs": [],
   "source": [
    "import os\n",
    "\n",
    "import numpy as np\n",
    "import rf\n",
    "import rf.imaging\n",
    "import matplotlib.pyplot as plt\n",
    "\n",
    "import obspy"
   ]
  },
  {
   "cell_type": "code",
   "execution_count": null,
   "metadata": {},
   "outputs": [],
   "source": [
    "import seismic.receiver_fn.rf_util as rf_util\n",
    "import seismic.receiver_fn.rf_plot_utils as rf_plot_utils\n",
    "import seismic.receiver_fn.rf_stacking as rf_stacking"
   ]
  },
  {
   "cell_type": "markdown",
   "metadata": {},
   "source": [
    "## Read source file"
   ]
  },
  {
   "cell_type": "code",
   "execution_count": null,
   "metadata": {},
   "outputs": [],
   "source": [
    "rf_type = 'ZRT_td'\n",
    "network = 'OA'\n",
    "target_station = 'BT23'"
   ]
  },
  {
   "cell_type": "code",
   "execution_count": null,
   "metadata": {},
   "outputs": [],
   "source": [
    "src_file = r\"..\\DATA\\{}_rfs_20170911T000036-20181128T230620_{}_rev9_qual.h5\".format(network, rf_type)\n",
    "data_all = rf_util.read_h5_rf(src_file, network, target_station, loc='0M')"
   ]
  },
  {
   "cell_type": "code",
   "execution_count": null,
   "metadata": {},
   "outputs": [],
   "source": [
    "db = rf_util.rf_to_dict(data_all)\n",
    "station_db = db[target_station]\n",
    "channel = rf_util.choose_rf_source_channel(rf_type, station_db)\n",
    "print(\"Selected channel: {}\".format(channel))\n",
    "channel_data = station_db[channel]\n",
    "len(channel_data)"
   ]
  },
  {
   "cell_type": "markdown",
   "metadata": {},
   "source": [
    "## Apply quality labelling to traces"
   ]
  },
  {
   "cell_type": "code",
   "execution_count": null,
   "metadata": {},
   "outputs": [],
   "source": [
    "rf_util.label_rf_quality_simple_amplitude(rf_type, channel_data)\n",
    "rf_stream_A = rf.RFStream([tr for tr in channel_data if tr.stats.predicted_quality == 'a'])\n",
    "len(rf_stream_A)"
   ]
  },
  {
   "cell_type": "markdown",
   "metadata": {},
   "source": [
    "## Plot RFs with a proportional azimuthal axis"
   ]
  },
  {
   "cell_type": "code",
   "execution_count": null,
   "metadata": {},
   "outputs": [],
   "source": [
    "fig = rf_plot_utils.plot_rf_wheel(rf.RFStream(rf_stream_A))\n",
    "plt.title(\"RF pinwheel by back-azimuth\", fontsize=20)\n",
    "plt.show()"
   ]
  },
  {
   "cell_type": "code",
   "execution_count": null,
   "metadata": {},
   "outputs": [],
   "source": []
  }
 ],
 "metadata": {
  "kernelspec": {
   "display_name": "Python 3",
   "language": "python",
   "name": "python3"
  },
  "language_info": {
   "codemirror_mode": {
    "name": "ipython",
    "version": 3
   },
   "file_extension": ".py",
   "mimetype": "text/x-python",
   "name": "python",
   "nbconvert_exporter": "python",
   "pygments_lexer": "ipython3",
   "version": "3.6.7"
  }
 },
 "nbformat": 4,
 "nbformat_minor": 4
}
