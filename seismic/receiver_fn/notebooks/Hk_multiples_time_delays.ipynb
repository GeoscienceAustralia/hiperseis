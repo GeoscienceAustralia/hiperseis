{
 "cells": [
  {
   "cell_type": "code",
   "execution_count": null,
   "metadata": {},
   "outputs": [],
   "source": [
    "import matplotlib.pyplot as plt\n",
    "import numpy as np"
   ]
  },
  {
   "cell_type": "code",
   "execution_count": null,
   "metadata": {},
   "outputs": [],
   "source": [
    "def compute_times(incidence, k, Vp, H):\n",
    "    H_on_Vp = H/Vp\n",
    "    term1 = H_on_Vp*k*np.abs(np.cos(incidence))\n",
    "    term2 = H_on_Vp*np.sqrt(1 - (k*np.sin(incidence))**2)\n",
    "    t1 = term1 - term2\n",
    "    t2 = term1 + term2\n",
    "    t3 = 2*term1\n",
    "    return np.array([t1, t2, t3])"
   ]
  },
  {
   "cell_type": "markdown",
   "metadata": {},
   "source": [
    "## Show variation with H for other params held nominal"
   ]
  },
  {
   "cell_type": "code",
   "execution_count": null,
   "metadata": {},
   "outputs": [],
   "source": [
    "ang_deg = 20\n",
    "incidence = np.deg2rad(ang_deg)\n",
    "k = 1.65\n",
    "Vp = 6.4 # km/sec\n",
    "H = np.linspace(30.0, 70.0, 40) # km"
   ]
  },
  {
   "cell_type": "code",
   "execution_count": null,
   "metadata": {},
   "outputs": [],
   "source": [
    "times = compute_times(incidence, k, Vp, H)"
   ]
  },
  {
   "cell_type": "code",
   "execution_count": null,
   "metadata": {},
   "outputs": [],
   "source": [
    "plt.figure(figsize=(8,12))\n",
    "plt.plot(H, times.T, linewidth=2)\n",
    "plt.xlabel('Moho depth (km)', fontsize=16)\n",
    "plt.ylabel('Phase arrival time (sec after onset)', fontsize=16)\n",
    "plt.xticks(fontsize=16)\n",
    "plt.yticks(fontsize=16)\n",
    "plt.grid(color='#80808080', linestyle=':')\n",
    "plt.title('Model phase arrival times', fontsize=18)\n",
    "plt.text(50, 3, \"$\\kappa = {}$, $V_p = {}$, $i = {}^\\circ$\".format(k, Vp, ang_deg), fontsize=14, bbox=dict(facecolor='none', edgecolor='k'))\n",
    "plt.legend(['$t_1$ (Ps)', '$t_2$ (PpPs)', '$t_3$ (PsSs|PsPs)'], fontsize=14)\n",
    "plt.ylim((2, 30))\n",
    "plt.tight_layout()\n",
    "plt.savefig('Arrival variation with H.png', dpi=300)\n",
    "plt.show()"
   ]
  },
  {
   "cell_type": "markdown",
   "metadata": {},
   "source": [
    "## Show variation with $\\kappa$ for other params held nominal"
   ]
  },
  {
   "cell_type": "code",
   "execution_count": null,
   "metadata": {},
   "outputs": [],
   "source": [
    "ang_deg = 20\n",
    "incidence = np.deg2rad(ang_deg)\n",
    "k = np.linspace(1.3, 2.1, 80)\n",
    "Vp = 6.4 # km/sec\n",
    "H = 50.0 # km"
   ]
  },
  {
   "cell_type": "code",
   "execution_count": null,
   "metadata": {},
   "outputs": [],
   "source": [
    "times = compute_times(incidence, k, Vp, H)"
   ]
  },
  {
   "cell_type": "code",
   "execution_count": null,
   "metadata": {},
   "outputs": [],
   "source": [
    "plt.figure(figsize=(8,12))\n",
    "plt.plot(k, times.T, linewidth=2)\n",
    "plt.xlabel('$\\kappa$ (dimensionless)', fontsize=16)\n",
    "plt.ylabel('Phase arrival time (sec after onset)', fontsize=16)\n",
    "plt.xticks(fontsize=16)\n",
    "plt.yticks(fontsize=16)\n",
    "plt.grid(color='#80808080', linestyle=':')\n",
    "plt.title('Model phase arrival times', fontsize=18)\n",
    "plt.text(1.7, 3, \"$H = {}$, $V_p = {}$, $i = {}^\\circ$\".format(H, Vp, ang_deg), fontsize=14, bbox=dict(facecolor='none', edgecolor='k'))\n",
    "plt.legend(['$t_1$ (Ps)', '$t_2$ (PpPs)', '$t_3$ (PsSs|PsPs)'], fontsize=14)\n",
    "plt.ylim((2, 30))\n",
    "plt.tight_layout()\n",
    "plt.savefig('Arrival variation with k.png', dpi=300)\n",
    "plt.show()"
   ]
  },
  {
   "cell_type": "markdown",
   "metadata": {},
   "source": [
    "## Show variation with $i$ for other params held nominal"
   ]
  },
  {
   "cell_type": "code",
   "execution_count": null,
   "metadata": {},
   "outputs": [],
   "source": [
    "ang_deg = np.linspace(0.0, 30.0, 30)\n",
    "incidence = np.deg2rad(ang_deg)\n",
    "k = 1.65\n",
    "Vp = 6.4 # km/sec\n",
    "H = 50.0 # km"
   ]
  },
  {
   "cell_type": "code",
   "execution_count": null,
   "metadata": {},
   "outputs": [],
   "source": [
    "times = compute_times(incidence, k, Vp, H)"
   ]
  },
  {
   "cell_type": "code",
   "execution_count": null,
   "metadata": {},
   "outputs": [],
   "source": [
    "plt.figure(figsize=(8,12))\n",
    "plt.plot(ang_deg, times.T, linewidth=2)\n",
    "plt.xlabel('Inclination (deg)', fontsize=16)\n",
    "plt.ylabel('Phase arrival time (sec after onset)', fontsize=16)\n",
    "plt.xticks(fontsize=16)\n",
    "plt.yticks(fontsize=16)\n",
    "plt.grid(color='#80808080', linestyle=':')\n",
    "plt.title('Model phase arrival times', fontsize=18)\n",
    "plt.text(15, 3, \"$H = {}$, $V_p = {}$, $\\kappa = {}$\".format(H, Vp, k), fontsize=14, bbox=dict(facecolor='none', edgecolor='k'))\n",
    "plt.legend(['$t_1$ (Ps)', '$t_2$ (PpPs)', '$t_3$ (PsSs|PsPs)'], fontsize=14)\n",
    "plt.ylim((2, 30))\n",
    "plt.tight_layout()\n",
    "plt.savefig('Arrival variation with inclination.png', dpi=300)\n",
    "plt.show()"
   ]
  },
  {
   "cell_type": "code",
   "execution_count": null,
   "metadata": {},
   "outputs": [],
   "source": []
  }
 ],
 "metadata": {
  "kernelspec": {
   "display_name": "Python 3",
   "language": "python",
   "name": "python3"
  },
  "language_info": {
   "codemirror_mode": {
    "name": "ipython",
    "version": 3
   },
   "file_extension": ".py",
   "mimetype": "text/x-python",
   "name": "python",
   "nbconvert_exporter": "python",
   "pygments_lexer": "ipython3",
   "version": "3.6.7"
  }
 },
 "nbformat": 4,
 "nbformat_minor": 4
}
