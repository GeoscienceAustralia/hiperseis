{
 "cells": [
  {
   "cell_type": "code",
   "execution_count": null,
   "metadata": {},
   "outputs": [],
   "source": [
    "import os\n",
    "# from collections import defaultdict\n",
    "# import time\n",
    "import pickle as pkl\n",
    "\n",
    "import numpy as np\n",
    "import rf\n",
    "import rf.imaging\n",
    "import matplotlib.pyplot as plt\n",
    "import scipy\n",
    "from scipy import signal\n",
    "from scipy.signal import hilbert\n",
    "from scipy.stats import moment\n",
    "# from scipy.interpolate import interp1d\n",
    "from sklearn.neural_network import MLPClassifier\n",
    "import obspy\n",
    "import seaborn as sns\n",
    "import pandas as pd\n",
    "from tqdm.auto import tqdm"
   ]
  },
  {
   "cell_type": "code",
   "execution_count": null,
   "metadata": {},
   "outputs": [],
   "source": [
    "# Bring in interactive widgets capability. See https://towardsdatascience.com/interactive-controls-for-jupyter-notebooks-f5c94829aee6\n",
    "import ipywidgets as widgets\n",
    "from ipywidgets import interact, interact_manual"
   ]
  },
  {
   "cell_type": "code",
   "execution_count": null,
   "metadata": {},
   "outputs": [],
   "source": [
    "import seismic.receiver_fn.rf_util as rf_util\n",
    "import seismic.receiver_fn.rf_plot_utils as rf_plot_utils\n",
    "import seismic.receiver_fn.rf_stacking as rf_stacking"
   ]
  },
  {
   "cell_type": "markdown",
   "metadata": {},
   "source": [
    "## Read source file"
   ]
  },
  {
   "cell_type": "code",
   "execution_count": null,
   "metadata": {},
   "outputs": [],
   "source": [
    "rf_type = 'ZRT_td'\n",
    "# rf_type = 'LQT_td'\n",
    "# rf_type = 'ZRT_fd'\n",
    "# rf_type = 'LQT_fd'"
   ]
  },
  {
   "cell_type": "code",
   "execution_count": null,
   "metadata": {},
   "outputs": [],
   "source": [
    "network = '7X'"
   ]
  },
  {
   "cell_type": "code",
   "execution_count": null,
   "metadata": {},
   "outputs": [],
   "source": [
    "# src_file = r\"..\\DATA\\OA_rfs_20170911T000036-20181128T230620_{}_rev5_qual.h5\".format(rf_type)\n",
    "# data_all = rf_util.read_h5_rf(src_file, 'OA', 'BT23')\n",
    "\n",
    "src_file = r\"..\\DATA\\7X_rfs_20090616T034200-20110401T231849_{}_rev1_qual.h5\".format(rf_type)\n",
    "data_all = rf_util.read_h5_rf(src_file)"
   ]
  },
  {
   "cell_type": "code",
   "execution_count": null,
   "metadata": {},
   "outputs": [],
   "source": [
    "type(data_all)"
   ]
  },
  {
   "cell_type": "markdown",
   "metadata": {},
   "source": [
    "## Load quality classifier"
   ]
  },
  {
   "cell_type": "code",
   "execution_count": null,
   "metadata": {},
   "outputs": [],
   "source": [
    "model_file = \"BT23_classifier_{}.pkl\".format(rf_type)\n",
    "with open(model_file, 'rb') as f:\n",
    "    qc = pkl.load(f)"
   ]
  },
  {
   "cell_type": "markdown",
   "metadata": {},
   "source": [
    "## Convert RFStream to dict database for convenient iteration and addressing"
   ]
  },
  {
   "cell_type": "code",
   "execution_count": null,
   "metadata": {},
   "outputs": [],
   "source": [
    "db = rf_util.rf_to_dict(data_all)"
   ]
  },
  {
   "cell_type": "markdown",
   "metadata": {},
   "source": [
    "## Select test station and channel"
   ]
  },
  {
   "cell_type": "code",
   "execution_count": null,
   "metadata": {},
   "outputs": [],
   "source": [
    "test_station = 'BT23'\n",
    "# test_station = 'BS27'\n",
    "# test_station = 'BZ20'\n",
    "# test_station = 'SD02'\n",
    "hk_test = db[test_station]"
   ]
  },
  {
   "cell_type": "code",
   "execution_count": null,
   "metadata": {},
   "outputs": [],
   "source": [
    "if rf_type[0:3] == 'ZRT':\n",
    "    prospective_channels = ['HHR', 'BHR']\n",
    "elif rf_type[0:3] == 'LQT':\n",
    "    prospective_channels = ['HHQ', 'BHQ']\n",
    "else:\n",
    "    prospective_channels = []\n",
    "# end if\n",
    "channel = None\n",
    "for c in prospective_channels:\n",
    "    if c in hk_test:\n",
    "        channel = c\n",
    "        break\n",
    "# end for\n",
    "print(\"Selected channel: {}\".format(channel))\n",
    "channel_data = hk_test[channel]\n",
    "len(channel_data)"
   ]
  },
  {
   "cell_type": "code",
   "execution_count": null,
   "metadata": {},
   "outputs": [],
   "source": [
    "# Check if there are any traces with NaNs in them. RF quality filtering prior to this SHOULD have removed any such traces.\n",
    "np.sum([np.any(np.isnan(tr.data)) for tr in channel_data])"
   ]
  },
  {
   "cell_type": "markdown",
   "metadata": {},
   "source": [
    "## Add additional statistics for prediction of trace quality"
   ]
  },
  {
   "cell_type": "code",
   "execution_count": null,
   "metadata": {},
   "outputs": [],
   "source": [
    "# This needs to be done before running quality classifier over the traces.\n",
    "rf_util.compute_extra_rf_stats(hk_test)"
   ]
  },
  {
   "cell_type": "markdown",
   "metadata": {},
   "source": [
    "## Examine available metadata in each trace"
   ]
  },
  {
   "cell_type": "code",
   "execution_count": null,
   "metadata": {},
   "outputs": [],
   "source": [
    "type(channel_data[0])"
   ]
  },
  {
   "cell_type": "code",
   "execution_count": null,
   "metadata": {},
   "outputs": [],
   "source": [
    "channel_data[0].stats"
   ]
  },
  {
   "cell_type": "markdown",
   "metadata": {},
   "source": [
    "## Apply quality filter to traces"
   ]
  },
  {
   "cell_type": "code",
   "execution_count": null,
   "metadata": {},
   "outputs": [],
   "source": [
    "stats_metrics = [\"SNR\", \"Entropy\", \"Coherence\", \"Max_amp\", \"Amp_20pc\", \"Amp_80pc\", \"RMS_amp\", \"Mean_amp\"]\n",
    "X = np.array([[tr.stats.snr, tr.stats.entropy, tr.stats.max_coherence, tr.stats.amax,\n",
    "               tr.stats.amp_20pc, tr.stats.amp_80pc, tr.stats.rms_amp, tr.stats.mean_cplx_amp] for tr in channel_data])\n",
    "X[np.isnan(X)] = 0"
   ]
  },
  {
   "cell_type": "code",
   "execution_count": null,
   "metadata": {},
   "outputs": [],
   "source": [
    "# Predict quality class\n",
    "predicted_quality = qc.predict(X)\n",
    "# Compute confidence in quality class prediction\n",
    "confidences = qc.predict_proba(X)\n",
    "confidence_index = np.zeros(predicted_quality.shape).astype(np.int)\n",
    "confidence_index[(predicted_quality == 'b')] = 1\n",
    "prediction_confidence = confidences[range(confidence_index.size), confidence_index]\n",
    "assert len(prediction_confidence) == len(predicted_quality)\n",
    "\n",
    "for i, tr in enumerate(channel_data):\n",
    "    tr.stats.predicted_quality = predicted_quality[i]\n",
    "    tr.stats.prediction_confidence = prediction_confidence[i]"
   ]
  },
  {
   "cell_type": "code",
   "execution_count": null,
   "metadata": {},
   "outputs": [],
   "source": [
    "rf_stream_A = rf.RFStream([tr for tr in channel_data if tr.stats.predicted_quality == 'a'])\n",
    "# rf_stream_A = rf.RFStream([tr for tr in channel_data if tr.stats.predicted_quality == 'a' and tr.stats.prediction_confidence >= 0.75])\n",
    "len(rf_stream_A)"
   ]
  },
  {
   "cell_type": "code",
   "execution_count": null,
   "metadata": {},
   "outputs": [],
   "source": [
    "# rf_stream_A = rf.RFStream([tr for tr in channel_data if tr.stats.snr >= 2])\n",
    "# len(rf_stream_A)"
   ]
  },
  {
   "cell_type": "markdown",
   "metadata": {},
   "source": [
    "## Plot RFs for traces filtered by various quality metrics"
   ]
  },
  {
   "cell_type": "markdown",
   "metadata": {},
   "source": [
    "### Narrow data to events of a certain minimum magnitude and teleseismic distance"
   ]
  },
  {
   "cell_type": "code",
   "execution_count": null,
   "metadata": {},
   "outputs": [],
   "source": [
    "max_traces = 50"
   ]
  },
  {
   "cell_type": "code",
   "execution_count": null,
   "metadata": {},
   "outputs": [],
   "source": [
    "min_mag = 5.5\n",
    "rf_stream_A = rf.RFStream([tr for tr in rf_stream_A if 5.5 <= tr.stats.event_magnitude <= 6.5]).sort(['back_azimuth'])\n",
    "print(len(rf_stream_A))\n",
    "rf_plot_utils.plot_rf_stack(rf_stream_A[0:max_traces])"
   ]
  },
  {
   "cell_type": "markdown",
   "metadata": {},
   "source": [
    "### Quality A"
   ]
  },
  {
   "cell_type": "code",
   "execution_count": null,
   "metadata": {},
   "outputs": [],
   "source": [
    "try:\n",
    "    rf_data = [tr for tr in channel_data if tr.stats.quality == 'a']\n",
    "    rf_data = sorted(rf_data, key=lambda v: v.stats.back_azimuth)\n",
    "    rf_stream = rf.RFStream(rf_data)\n",
    "    rf_plot_utils.plot_rf_stack(rf_stream[0:max_traces])\n",
    "except AttributeError:\n",
    "    print(\"Data has no ground truth quality labels\")"
   ]
  },
  {
   "cell_type": "markdown",
   "metadata": {},
   "source": [
    "### Quality B"
   ]
  },
  {
   "cell_type": "code",
   "execution_count": null,
   "metadata": {},
   "outputs": [],
   "source": [
    "try:\n",
    "    rf_data = [tr for tr in channel_data if tr.stats.quality == 'b']\n",
    "    rf_data = sorted(rf_data, key=lambda v: v.stats.back_azimuth)\n",
    "    rf_stream = rf.RFStream(rf_data)\n",
    "    rf_plot_utils.plot_rf_stack(rf_stream[0:max_traces])\n",
    "except AttributeError:\n",
    "    print(\"Data has no ground truth quality labels\")"
   ]
  },
  {
   "cell_type": "markdown",
   "metadata": {},
   "source": [
    "### Predicted Quality A"
   ]
  },
  {
   "cell_type": "code",
   "execution_count": null,
   "metadata": {},
   "outputs": [],
   "source": [
    "rf_data = [tr for tr in rf_stream_A]\n",
    "rf_data = sorted(rf_data, key=lambda v: v.stats.back_azimuth)\n",
    "rf_stream = rf.RFStream(rf_data)\n",
    "rf_plot_utils.plot_rf_stack(rf_stream, trace_height=0.2)"
   ]
  },
  {
   "cell_type": "markdown",
   "metadata": {},
   "source": [
    "### Predicted Quality B"
   ]
  },
  {
   "cell_type": "code",
   "execution_count": null,
   "metadata": {},
   "outputs": [],
   "source": [
    "rf_data = [tr for tr in channel_data if tr.stats.predicted_quality == 'b']\n",
    "rf_data = sorted(rf_data, key=lambda v: v.stats.back_azimuth)\n",
    "rf_stream = rf.RFStream(rf_data)\n",
    "rf_plot_utils.plot_rf_stack(rf_stream[0:max_traces])"
   ]
  },
  {
   "cell_type": "markdown",
   "metadata": {},
   "source": [
    "***"
   ]
  },
  {
   "cell_type": "markdown",
   "metadata": {},
   "source": [
    "## Plot overlay of all traces in test channel (no filtering)"
   ]
  },
  {
   "cell_type": "code",
   "execution_count": null,
   "metadata": {},
   "outputs": [],
   "source": [
    "hk_quality = {channel: [tr for tr in rf_stream_A]}"
   ]
  },
  {
   "cell_type": "code",
   "execution_count": null,
   "metadata": {},
   "outputs": [],
   "source": [
    "num_traces = len(hk_quality[channel])\n",
    "trace_mean = rf_plot_utils.plot_station_rf_overlays(hk_quality, '(all {} traces)'.format(num_traces), (-10, 25))"
   ]
  },
  {
   "cell_type": "markdown",
   "metadata": {},
   "source": [
    "## Plot only traces with similarity to the mean"
   ]
  },
  {
   "cell_type": "code",
   "execution_count": null,
   "metadata": {},
   "outputs": [],
   "source": [
    "# hk_quality_filt, corrs = rf_util.filter_station_to_mean_signal(hk_quality, min_correlation=0.05)"
   ]
  },
  {
   "cell_type": "code",
   "execution_count": null,
   "metadata": {},
   "outputs": [],
   "source": [
    "# plt.hist(corrs, bins=50)\n",
    "# plt.show()"
   ]
  },
  {
   "cell_type": "code",
   "execution_count": null,
   "metadata": {},
   "outputs": [],
   "source": [
    "# num_traces = len(hk_quality_filt[channel])\n",
    "# test_filt_mean = rf_plot_utils.plot_station_rf_overlays(hk_quality_filt, '({} traces similar to mean)'.format(num_traces), (-10, 25))"
   ]
  },
  {
   "cell_type": "markdown",
   "metadata": {},
   "source": [
    "## Demonstrate the effect of phase-weighting the traces"
   ]
  },
  {
   "cell_type": "code",
   "execution_count": null,
   "metadata": {},
   "outputs": [],
   "source": [
    "# from seismic.receiver_fn.rf_util import phase_weights"
   ]
  },
  {
   "cell_type": "code",
   "execution_count": null,
   "metadata": {},
   "outputs": [],
   "source": [
    "# pw = phase_weights(hk_quality_filt[channel])"
   ]
  },
  {
   "cell_type": "code",
   "execution_count": null,
   "metadata": {},
   "outputs": [],
   "source": [
    "# s0 = hk_quality_filt[channel][0]\n",
    "# time_offset = s0.stats.onset - s0.stats.starttime\n",
    "# plt.figure(figsize=(16,9))\n",
    "# plt.plot(s0.times() - time_offset, pw)\n",
    "# plt.title('Phase weightings')\n",
    "# plt.grid()\n",
    "# plt.show()"
   ]
  },
  {
   "cell_type": "code",
   "execution_count": null,
   "metadata": {},
   "outputs": [],
   "source": [
    "# # Demonstrate effect of phase weighting to suppress areas where phases tend to be random.\n",
    "# pw_exponent = 2\n",
    "# plt.figure(figsize=(16,9))\n",
    "# plt.plot(s0.times() - time_offset, s0.data, linewidth=2)\n",
    "# plt.plot(s0.times() - time_offset, s0.data*pw**pw_exponent, '--', linewidth=2)\n",
    "# plt.legend(['Original', 'Phase weighted'])\n",
    "# plt.title('Phase weighting applied to a single trace')\n",
    "# plt.grid()\n",
    "# plt.show()"
   ]
  },
  {
   "cell_type": "code",
   "execution_count": null,
   "metadata": {},
   "outputs": [],
   "source": [
    "# # Apply phase weighting to data for H-k stacking\n",
    "# # NOTE: This will overwrite the original filtered data\n",
    "# for tr in hk_quality_filt[channel]:\n",
    "#     tr.data = tr.data*pw**pw_exponent\n",
    "\n",
    "# num_traces = len(hk_quality_filt[channel])\n",
    "# test_filt_mean = rf_plot_utils.plot_station_rf_overlays(hk_quality_filt, '({} traces similar to mean, phase weighted)'.format(num_traces))"
   ]
  },
  {
   "cell_type": "markdown",
   "metadata": {},
   "source": [
    "# Plot HK stacks"
   ]
  },
  {
   "cell_type": "code",
   "execution_count": null,
   "metadata": {},
   "outputs": [],
   "source": [
    "# hk_src_data = hk_quality_filt\n",
    "hk_src_data = hk_quality\n",
    "len(hk_src_data[channel])"
   ]
  },
  {
   "cell_type": "code",
   "execution_count": null,
   "metadata": {},
   "outputs": [],
   "source": [
    "# Plot stack\n",
    "weighting = (0.35, 0.35, 0.30)\n",
    "# weighting = (0.5, 0.5, 0.0)\n",
    "\n",
    "for cha in [channel]:\n",
    "    k_grid, h_grid, hk_stack = rf_stacking.compute_hk_stack(hk_src_data, cha, h_range=np.linspace(20.0, 70.0, 501), root_order=2, V_p=6.4)\n",
    "\n",
    "    # Normalize the stacked amplitudes of each phase before computing weighted sum, to ensure the\n",
    "    # weights are meaningful in an absolute sense. Otherwise the weightings are relative to the mean\n",
    "    # amplitude of the return of a given phase, which is somewhat arbitrary.\n",
    "    for i in range(3):\n",
    "        hk_stack[i, :, :] = hk_stack[i, :, :]/np.max(np.abs(hk_stack[i, :, :]))\n",
    "\n",
    "    # Sum the phases\n",
    "    hk_stack_sum = rf_stacking.compute_weighted_stack(hk_stack, weighting)\n",
    "\n",
    "    # Raise the final sum over phases to power >1 to increase contrast\n",
    "    hk_stack_sum = rf_util.signed_nth_power(hk_stack_sum, 2)\n",
    "    hk_stack_sum = hk_stack_sum/np.max(hk_stack_sum[:])\n",
    "    \n",
    "    sta = hk_src_data[cha][0].stats.station\n",
    "    num = len(hk_src_data[cha])\n",
    "    save_file = None\n",
    "    rf_plot_utils.plot_hk_stack(k_grid, h_grid, hk_stack_sum, title=sta + '.{}'.format(cha), num=num, save_file=save_file)\n",
    "#     rf_plot_utils.plot_hk_stack(k_grid, h_grid, hk_stack[0], title=sta + '.{} Ps'.format(cha), num=num, clip_negative=False)\n",
    "#     rf_plot_utils.plot_hk_stack(k_grid, h_grid, hk_stack[1], title=sta + '.{} PpPs'.format(cha), num=num, clip_negative=False)\n",
    "#     rf_plot_utils.plot_hk_stack(k_grid, h_grid, hk_stack[2], title=sta + '.{} PpSs + PsPs'.format(cha), num=num, clip_negative=False)"
   ]
  },
  {
   "cell_type": "markdown",
   "metadata": {},
   "source": [
    "***"
   ]
  },
  {
   "cell_type": "markdown",
   "metadata": {},
   "source": [
    "# Loop over all OA stations and plot HK-stacks"
   ]
  },
  {
   "cell_type": "code",
   "execution_count": null,
   "metadata": {},
   "outputs": [],
   "source": [
    "pbar = tqdm(total=len(db))\n",
    "show = False\n",
    "weighting = (0.35, 0.35, 0.30)\n",
    "\n",
    "output_folder = 'hk_stacks'\n",
    "if not os.path.isdir(output_folder):\n",
    "    os.mkdir(output_folder)\n",
    "\n",
    "for sta, db_sta in db.items():\n",
    "    pbar.set_description(sta)\n",
    "    pbar.update()\n",
    "    \n",
    "    cha = rf_util.choose_rf_source_channel(rf_type, db_sta)\n",
    "\n",
    "    # Get selected channel data\n",
    "    channel_data = db_sta[cha]\n",
    "\n",
    "#     # Compute metrics needed for classifier\n",
    "#     rf_util.compute_extra_rf_stats(db_sta)\n",
    "    \n",
    "#     # Format channel data for classifier\n",
    "#     X = np.array([[tr.stats.snr, tr.stats.entropy, tr.stats.max_coherence, tr.stats.amax,\n",
    "#                    tr.stats.amp_20pc, tr.stats.amp_80pc, tr.stats.rms_amp, tr.stats.mean_cplx_amp] for tr in channel_data])\n",
    "#     X[np.isnan(X)] = 0\n",
    "    \n",
    "#     # Predict quality class\n",
    "#     predicted_quality = qc.predict(X)\n",
    "#     # Compute confidence in quality class prediction\n",
    "#     confidences = qc.predict_proba(X)\n",
    "#     confidence_index = np.zeros(predicted_quality.shape).astype(np.int)\n",
    "#     confidence_index[(predicted_quality == 'b')] = 1\n",
    "#     prediction_confidence = confidences[range(confidence_index.size), confidence_index]\n",
    "#     assert len(prediction_confidence) == len(predicted_quality)\n",
    "#     for i, tr in enumerate(channel_data):\n",
    "#         tr.stats.predicted_quality = predicted_quality[i]\n",
    "#         tr.stats.prediction_confidence = prediction_confidence[i]\n",
    "\n",
    "    # Simple quality filter instead of classifier\n",
    "    rf_util.label_rf_quality_simple_amplitude(rf_type, channel_data)\n",
    "    rf_stream = rf.RFStream([tr for tr in channel_data if tr.stats.predicted_quality == 'a']).sort(['back_azimuth'])\n",
    "    if not rf_stream:\n",
    "        continue\n",
    "\n",
    "    rf_quality = {cha: [tr for tr in rf_stream]}\n",
    "\n",
    "    k_grid, h_grid, hk_stack = rf_stacking.compute_hk_stack(rf_quality, cha, h_range=np.linspace(20.0, 70.0, 501), root_order=2)\n",
    "\n",
    "    # Normalize the stacked amplitudes of each phase before computing weighted sum, to ensure the\n",
    "    # weights are meaningful in an absolute sense. Otherwise the weightings are relative to the mean\n",
    "    # amplitude of the return of a given phase, which is somewhat arbitrary.\n",
    "    for i in range(3):\n",
    "        hk_stack[i, :, :] = hk_stack[i, :, :]/np.max(np.abs(hk_stack[i, :, :]))\n",
    "\n",
    "    # Sum the phases\n",
    "    hk_stack_sum = rf_stacking.compute_weighted_stack(hk_stack, weighting)\n",
    "\n",
    "    # Raise the final sum over phases to power >1 to increase contrast\n",
    "    hk_stack_sum = rf_util.signed_nth_power(hk_stack_sum, 2)\n",
    "    hk_stack_sum = hk_stack_sum/np.max(hk_stack_sum[:])\n",
    "\n",
    "    st_code = \".\".join([network, sta])\n",
    "    save_file = os.path.join(output_folder, st_code + \"_{}_{}_hk_stack.png\".format(rf_type, cha))\n",
    "    num = len(rf_quality[cha])\n",
    "    rf_plot_utils.plot_hk_stack(k_grid, h_grid, hk_stack_sum, title=st_code + '_{}.{}'.format(rf_type, cha), save_file=save_file, show=show, num=num)\n",
    "# end for\n",
    "pbar.close()"
   ]
  },
  {
   "cell_type": "code",
   "execution_count": null,
   "metadata": {},
   "outputs": [],
   "source": []
  }
 ],
 "metadata": {
  "kernelspec": {
   "display_name": "Python 3",
   "language": "python",
   "name": "python3"
  },
  "language_info": {
   "codemirror_mode": {
    "name": "ipython",
    "version": 3
   },
   "file_extension": ".py",
   "mimetype": "text/x-python",
   "name": "python",
   "nbconvert_exporter": "python",
   "pygments_lexer": "ipython3",
   "version": "3.6.7"
  }
 },
 "nbformat": 4,
 "nbformat_minor": 4
}
