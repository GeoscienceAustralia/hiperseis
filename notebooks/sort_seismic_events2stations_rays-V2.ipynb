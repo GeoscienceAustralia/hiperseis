{
 "cells": [
  {
   "cell_type": "code",
   "execution_count": null,
   "metadata": {},
   "outputs": [],
   "source": []
  },
  {
   "cell_type": "markdown",
   "metadata": {},
   "source": [
    "# Use Pandas to  analyze CSV files of seismic rays \n",
    "\n",
    "## Explore the pandas functions, and validate testing the algorithms.\n",
    "\n",
    "###  Fei Zhang\n",
    "### Last updated 2019-06-14"
   ]
  },
  {
   "cell_type": "code",
   "execution_count": 1,
   "metadata": {},
   "outputs": [
    {
     "data": {
      "text/html": [
       "<div>\n",
       "<table border=\"1\" class=\"dataframe\">\n",
       "  <thead>\n",
       "    <tr style=\"text-align: right;\">\n",
       "      <th></th>\n",
       "      <th>#eventID</th>\n",
       "      <th>originTimestamp</th>\n",
       "      <th>mag</th>\n",
       "      <th>originLon</th>\n",
       "      <th>originLat</th>\n",
       "      <th>originDepthKm</th>\n",
       "      <th>net</th>\n",
       "      <th>sta</th>\n",
       "      <th>cha</th>\n",
       "      <th>pickTimestamp</th>\n",
       "      <th>...</th>\n",
       "      <th>az</th>\n",
       "      <th>baz</th>\n",
       "      <th>distance</th>\n",
       "      <th>ttResidual</th>\n",
       "      <th>snr</th>\n",
       "      <th>qualityMeasureCWT</th>\n",
       "      <th>domFreq</th>\n",
       "      <th>qualityMeasureSlope</th>\n",
       "      <th>bandIndex</th>\n",
       "      <th>nSigma</th>\n",
       "    </tr>\n",
       "  </thead>\n",
       "  <tbody>\n",
       "    <tr>\n",
       "      <th>0</th>\n",
       "      <td>smi:local/102160r49</td>\n",
       "      <td>1.197052e+09</td>\n",
       "      <td>4.8</td>\n",
       "      <td>144.212962</td>\n",
       "      <td>-4.554822</td>\n",
       "      <td>98.8</td>\n",
       "      <td>AU</td>\n",
       "      <td>WB2</td>\n",
       "      <td>BHZ</td>\n",
       "      <td>1.197052e+09</td>\n",
       "      <td>...</td>\n",
       "      <td>211.307536</td>\n",
       "      <td>33.423870</td>\n",
       "      <td>18.078703</td>\n",
       "      <td>-9.494550</td>\n",
       "      <td>0.0</td>\n",
       "      <td>0.0</td>\n",
       "      <td>0.0</td>\n",
       "      <td>0.0</td>\n",
       "      <td>0</td>\n",
       "      <td>0</td>\n",
       "    </tr>\n",
       "    <tr>\n",
       "      <th>1</th>\n",
       "      <td>smi:local/102160r49</td>\n",
       "      <td>1.197052e+09</td>\n",
       "      <td>4.8</td>\n",
       "      <td>144.212962</td>\n",
       "      <td>-4.554822</td>\n",
       "      <td>98.8</td>\n",
       "      <td>IR</td>\n",
       "      <td>BWTI</td>\n",
       "      <td>BHZ</td>\n",
       "      <td>1.197052e+09</td>\n",
       "      <td>...</td>\n",
       "      <td>253.419602</td>\n",
       "      <td>76.084999</td>\n",
       "      <td>21.116708</td>\n",
       "      <td>3.440456</td>\n",
       "      <td>0.0</td>\n",
       "      <td>0.0</td>\n",
       "      <td>0.0</td>\n",
       "      <td>0.0</td>\n",
       "      <td>0</td>\n",
       "      <td>0</td>\n",
       "    </tr>\n",
       "    <tr>\n",
       "      <th>2</th>\n",
       "      <td>smi:local/102160r49</td>\n",
       "      <td>1.197052e+09</td>\n",
       "      <td>4.8</td>\n",
       "      <td>144.212962</td>\n",
       "      <td>-4.554822</td>\n",
       "      <td>98.8</td>\n",
       "      <td>IR</td>\n",
       "      <td>ASAR</td>\n",
       "      <td>BHZ</td>\n",
       "      <td>1.197052e+09</td>\n",
       "      <td>...</td>\n",
       "      <td>206.658314</td>\n",
       "      <td>29.213591</td>\n",
       "      <td>21.465569</td>\n",
       "      <td>-1.246142</td>\n",
       "      <td>0.0</td>\n",
       "      <td>0.0</td>\n",
       "      <td>0.0</td>\n",
       "      <td>0.0</td>\n",
       "      <td>0</td>\n",
       "      <td>0</td>\n",
       "    </tr>\n",
       "    <tr>\n",
       "      <th>3</th>\n",
       "      <td>smi:local/102160r49</td>\n",
       "      <td>1.197052e+09</td>\n",
       "      <td>4.8</td>\n",
       "      <td>144.212962</td>\n",
       "      <td>-4.554822</td>\n",
       "      <td>98.8</td>\n",
       "      <td>AU</td>\n",
       "      <td>FITZ</td>\n",
       "      <td>BHZ</td>\n",
       "      <td>1.197052e+09</td>\n",
       "      <td>...</td>\n",
       "      <td>231.993295</td>\n",
       "      <td>55.698029</td>\n",
       "      <td>22.630683</td>\n",
       "      <td>-0.416301</td>\n",
       "      <td>0.0</td>\n",
       "      <td>0.0</td>\n",
       "      <td>0.0</td>\n",
       "      <td>0.0</td>\n",
       "      <td>0</td>\n",
       "      <td>0</td>\n",
       "    </tr>\n",
       "    <tr>\n",
       "      <th>4</th>\n",
       "      <td>smi:local/102160r49</td>\n",
       "      <td>1.197052e+09</td>\n",
       "      <td>4.8</td>\n",
       "      <td>144.212962</td>\n",
       "      <td>-4.554822</td>\n",
       "      <td>98.8</td>\n",
       "      <td>GE</td>\n",
       "      <td>QIZ</td>\n",
       "      <td>BHZ</td>\n",
       "      <td>1.197053e+09</td>\n",
       "      <td>...</td>\n",
       "      <td>305.772809</td>\n",
       "      <td>121.213056</td>\n",
       "      <td>41.203520</td>\n",
       "      <td>0.819049</td>\n",
       "      <td>0.0</td>\n",
       "      <td>0.0</td>\n",
       "      <td>0.0</td>\n",
       "      <td>0.0</td>\n",
       "      <td>0</td>\n",
       "      <td>0</td>\n",
       "    </tr>\n",
       "  </tbody>\n",
       "</table>\n",
       "<p>5 rows × 23 columns</p>\n",
       "</div>"
      ],
      "text/plain": [
       "              #eventID  originTimestamp  mag   originLon  originLat  \\\n",
       "0  smi:local/102160r49     1.197052e+09  4.8  144.212962  -4.554822   \n",
       "1  smi:local/102160r49     1.197052e+09  4.8  144.212962  -4.554822   \n",
       "2  smi:local/102160r49     1.197052e+09  4.8  144.212962  -4.554822   \n",
       "3  smi:local/102160r49     1.197052e+09  4.8  144.212962  -4.554822   \n",
       "4  smi:local/102160r49     1.197052e+09  4.8  144.212962  -4.554822   \n",
       "\n",
       "   originDepthKm net   sta  cha  pickTimestamp   ...            az  \\\n",
       "0           98.8  AU   WB2  BHZ   1.197052e+09   ...    211.307536   \n",
       "1           98.8  IR  BWTI  BHZ   1.197052e+09   ...    253.419602   \n",
       "2           98.8  IR  ASAR  BHZ   1.197052e+09   ...    206.658314   \n",
       "3           98.8  AU  FITZ  BHZ   1.197052e+09   ...    231.993295   \n",
       "4           98.8  GE   QIZ  BHZ   1.197053e+09   ...    305.772809   \n",
       "\n",
       "          baz   distance  ttResidual  snr  qualityMeasureCWT  domFreq  \\\n",
       "0   33.423870  18.078703   -9.494550  0.0                0.0      0.0   \n",
       "1   76.084999  21.116708    3.440456  0.0                0.0      0.0   \n",
       "2   29.213591  21.465569   -1.246142  0.0                0.0      0.0   \n",
       "3   55.698029  22.630683   -0.416301  0.0                0.0      0.0   \n",
       "4  121.213056  41.203520    0.819049  0.0                0.0      0.0   \n",
       "\n",
       "   qualityMeasureSlope  bandIndex  nSigma  \n",
       "0                  0.0          0       0  \n",
       "1                  0.0          0       0  \n",
       "2                  0.0          0       0  \n",
       "3                  0.0          0       0  \n",
       "4                  0.0          0       0  \n",
       "\n",
       "[5 rows x 23 columns]"
      ]
     },
     "execution_count": 1,
     "metadata": {},
     "output_type": "execute_result"
    }
   ],
   "source": [
    "import pandas as pd\n",
    "import matplotlib.pyplot as plt\n",
    "\n",
    "\n",
    "inputcsv = '/MySoft/Githubz/passive-seismic/tests/testdata/100K_ensemble.s.txt'\n",
    "phase='S'\n",
    "\n",
    "csv_data = pd.read_csv(inputcsv, sep='\\s+', header='infer')\n",
    "\n",
    "csv_data.head()"
   ]
  },
  {
   "cell_type": "code",
   "execution_count": null,
   "metadata": {},
   "outputs": [],
   "source": []
  },
  {
   "cell_type": "markdown",
   "metadata": {},
   "source": [
    "# How to setup install ellip-corr?"
   ]
  },
  {
   "cell_type": "code",
   "execution_count": 2,
   "metadata": {},
   "outputs": [],
   "source": [
    "# See: https://github.com/GeoscienceAustralia/ellip-corr\n",
    "\n",
    "# cd ellip-corr; \n",
    "# pip install --user .\n",
    "# export PSTHOME=/MySoft/Githubz/passive-seismic\n",
    "\n",
    "# export ELLIPCORR=$PSTHOME/ellip-corr/"
   ]
  },
  {
   "cell_type": "code",
   "execution_count": 3,
   "metadata": {},
   "outputs": [
    {
     "name": "stdout",
     "output_type": "stream",
     "text": [
      "/MySoft/Githubz/passive-seismic/ellip-corr/\n",
      "/home/fzhang/.local/lib/python3.6/site-packages/ellipcorr.cpython-36m-x86_64-linux-gnu.so\n"
     ]
    },
    {
     "data": {
      "text/plain": [
       "-0.7800000309944153"
      ]
     },
     "execution_count": 3,
     "metadata": {},
     "output_type": "execute_result"
    }
   ],
   "source": [
    "# testing ellip-corr \n",
    "import os\n",
    "print(os.environ['ELLIPCORR'])\n",
    "\n",
    "import ellipcorr\n",
    "print(ellipcorr.__file__)\n",
    "\n",
    "ellipcorr.ellipticity_corr('sP', 65, 124, 45, 39)\n",
    "# Out[2]: -0.38976147770881653\n",
    "\n",
    "#ellipcorr.ellipticity_corr('P', 65, 124, 45, 39)\n",
    "# Out[3]: -0.3774765431880951\n",
    "\n",
    "ellipcorr.ellipticity_corr('pPKiKP', 65, 124, 45, 39)\n",
    "# Out[4]: -0.7800000309944153"
   ]
  },
  {
   "cell_type": "code",
   "execution_count": 4,
   "metadata": {},
   "outputs": [
    {
     "name": "stdout",
     "output_type": "stream",
     "text": [
      "The initial CSV size= (99999, 23)\n",
      "After residual cutoff, CSV size= (59363, 24)\n",
      "After qualityMeasureCWT, CSV size= (59363, 24)\n",
      "After qualityMeasureSlope, CSV size= (59363, 24)\n",
      "After nSigma, CSV size= (59363, 24)\n",
      "Total number of P-Rays = 82551 ['AU_KNA_smi:local/102160r49' 'IR_QLP_smi:local/102160r49'\n",
      " 'AU_RMQ_smi:local/102160r49' 'GE_WSI_smi:local/102160r49'\n",
      " 'GE_ARMA_smi:local/102160r49']\n"
     ]
    }
   ],
   "source": [
    "from seismic.traveltime.cluster_grid import Grid2\n",
    "import seismic.traveltime.sort_rays as sortrays\n",
    "\n",
    "\n",
    "column_name_map={\n",
    "    \"originLon\": \"source_lon\",\n",
    "    \"originLat\": \"source_lat\",\n",
    "    \"originDepthKm\":\"source_depth_km\",\n",
    "    \"stationLon\": \"station_lon\",\n",
    "    \"stationLat\": \"station_lat\",\n",
    "    \"ttResidual\":  \"tt_residual\"\n",
    "}\n",
    "\n",
    "# rename the columns\n",
    "csv_data.rename(columns=column_name_map, inplace=True)\n",
    "\n",
    "# apply filters\n",
    "\n",
    "csv_data = sortrays.apply_filters(csv_data, phase)"
   ]
  },
  {
   "cell_type": "code",
   "execution_count": 5,
   "metadata": {},
   "outputs": [
    {
     "name": "stdout",
     "output_type": "stream",
     "text": [
      "(6264, 25)\n"
     ]
    },
    {
     "data": {
      "text/html": [
       "<div>\n",
       "<table border=\"1\" class=\"dataframe\">\n",
       "  <thead>\n",
       "    <tr style=\"text-align: right;\">\n",
       "      <th></th>\n",
       "      <th>#eventID</th>\n",
       "      <th>originTimestamp</th>\n",
       "      <th>mag</th>\n",
       "      <th>source_lon</th>\n",
       "      <th>source_lat</th>\n",
       "      <th>source_depth_km</th>\n",
       "      <th>net</th>\n",
       "      <th>sta</th>\n",
       "      <th>cha</th>\n",
       "      <th>pickTimestamp</th>\n",
       "      <th>...</th>\n",
       "      <th>distance</th>\n",
       "      <th>tt_residual</th>\n",
       "      <th>snr</th>\n",
       "      <th>qualityMeasureCWT</th>\n",
       "      <th>domFreq</th>\n",
       "      <th>qualityMeasureSlope</th>\n",
       "      <th>bandIndex</th>\n",
       "      <th>nSigma</th>\n",
       "      <th>manual_picks_flag</th>\n",
       "      <th>ray_filter_flag</th>\n",
       "    </tr>\n",
       "  </thead>\n",
       "  <tbody>\n",
       "    <tr>\n",
       "      <th>0</th>\n",
       "      <td>smi:local/102160r49</td>\n",
       "      <td>1.197052e+09</td>\n",
       "      <td>4.8</td>\n",
       "      <td>144.212962</td>\n",
       "      <td>-4.554822</td>\n",
       "      <td>98.8</td>\n",
       "      <td>AU</td>\n",
       "      <td>WB2</td>\n",
       "      <td>BHZ</td>\n",
       "      <td>1.197052e+09</td>\n",
       "      <td>...</td>\n",
       "      <td>18.078703</td>\n",
       "      <td>-9.494550</td>\n",
       "      <td>0.0</td>\n",
       "      <td>0.0</td>\n",
       "      <td>0.0</td>\n",
       "      <td>0.0</td>\n",
       "      <td>0</td>\n",
       "      <td>0</td>\n",
       "      <td>1</td>\n",
       "      <td>1</td>\n",
       "    </tr>\n",
       "    <tr>\n",
       "      <th>1</th>\n",
       "      <td>smi:local/102160r49</td>\n",
       "      <td>1.197052e+09</td>\n",
       "      <td>4.8</td>\n",
       "      <td>144.212962</td>\n",
       "      <td>-4.554822</td>\n",
       "      <td>98.8</td>\n",
       "      <td>IR</td>\n",
       "      <td>BWTI</td>\n",
       "      <td>BHZ</td>\n",
       "      <td>1.197052e+09</td>\n",
       "      <td>...</td>\n",
       "      <td>21.116708</td>\n",
       "      <td>3.440456</td>\n",
       "      <td>0.0</td>\n",
       "      <td>0.0</td>\n",
       "      <td>0.0</td>\n",
       "      <td>0.0</td>\n",
       "      <td>0</td>\n",
       "      <td>0</td>\n",
       "      <td>1</td>\n",
       "      <td>1</td>\n",
       "    </tr>\n",
       "    <tr>\n",
       "      <th>2</th>\n",
       "      <td>smi:local/102160r49</td>\n",
       "      <td>1.197052e+09</td>\n",
       "      <td>4.8</td>\n",
       "      <td>144.212962</td>\n",
       "      <td>-4.554822</td>\n",
       "      <td>98.8</td>\n",
       "      <td>IR</td>\n",
       "      <td>ASAR</td>\n",
       "      <td>BHZ</td>\n",
       "      <td>1.197052e+09</td>\n",
       "      <td>...</td>\n",
       "      <td>21.465569</td>\n",
       "      <td>-1.246142</td>\n",
       "      <td>0.0</td>\n",
       "      <td>0.0</td>\n",
       "      <td>0.0</td>\n",
       "      <td>0.0</td>\n",
       "      <td>0</td>\n",
       "      <td>0</td>\n",
       "      <td>1</td>\n",
       "      <td>1</td>\n",
       "    </tr>\n",
       "    <tr>\n",
       "      <th>3</th>\n",
       "      <td>smi:local/102160r49</td>\n",
       "      <td>1.197052e+09</td>\n",
       "      <td>4.8</td>\n",
       "      <td>144.212962</td>\n",
       "      <td>-4.554822</td>\n",
       "      <td>98.8</td>\n",
       "      <td>AU</td>\n",
       "      <td>FITZ</td>\n",
       "      <td>BHZ</td>\n",
       "      <td>1.197052e+09</td>\n",
       "      <td>...</td>\n",
       "      <td>22.630683</td>\n",
       "      <td>-0.416301</td>\n",
       "      <td>0.0</td>\n",
       "      <td>0.0</td>\n",
       "      <td>0.0</td>\n",
       "      <td>0.0</td>\n",
       "      <td>0</td>\n",
       "      <td>0</td>\n",
       "      <td>1</td>\n",
       "      <td>1</td>\n",
       "    </tr>\n",
       "    <tr>\n",
       "      <th>4</th>\n",
       "      <td>smi:local/102160r49</td>\n",
       "      <td>1.197052e+09</td>\n",
       "      <td>4.8</td>\n",
       "      <td>144.212962</td>\n",
       "      <td>-4.554822</td>\n",
       "      <td>98.8</td>\n",
       "      <td>GE</td>\n",
       "      <td>QIZ</td>\n",
       "      <td>BHZ</td>\n",
       "      <td>1.197053e+09</td>\n",
       "      <td>...</td>\n",
       "      <td>41.203520</td>\n",
       "      <td>0.819049</td>\n",
       "      <td>0.0</td>\n",
       "      <td>0.0</td>\n",
       "      <td>0.0</td>\n",
       "      <td>0.0</td>\n",
       "      <td>0</td>\n",
       "      <td>0</td>\n",
       "      <td>1</td>\n",
       "      <td>1</td>\n",
       "    </tr>\n",
       "  </tbody>\n",
       "</table>\n",
       "<p>5 rows × 25 columns</p>\n",
       "</div>"
      ],
      "text/plain": [
       "              #eventID  originTimestamp  mag  source_lon  source_lat  \\\n",
       "0  smi:local/102160r49     1.197052e+09  4.8  144.212962   -4.554822   \n",
       "1  smi:local/102160r49     1.197052e+09  4.8  144.212962   -4.554822   \n",
       "2  smi:local/102160r49     1.197052e+09  4.8  144.212962   -4.554822   \n",
       "3  smi:local/102160r49     1.197052e+09  4.8  144.212962   -4.554822   \n",
       "4  smi:local/102160r49     1.197052e+09  4.8  144.212962   -4.554822   \n",
       "\n",
       "   source_depth_km net   sta  cha  pickTimestamp       ...          distance  \\\n",
       "0             98.8  AU   WB2  BHZ   1.197052e+09       ...         18.078703   \n",
       "1             98.8  IR  BWTI  BHZ   1.197052e+09       ...         21.116708   \n",
       "2             98.8  IR  ASAR  BHZ   1.197052e+09       ...         21.465569   \n",
       "3             98.8  AU  FITZ  BHZ   1.197052e+09       ...         22.630683   \n",
       "4             98.8  GE   QIZ  BHZ   1.197053e+09       ...         41.203520   \n",
       "\n",
       "   tt_residual  snr  qualityMeasureCWT  domFreq  qualityMeasureSlope  \\\n",
       "0    -9.494550  0.0                0.0      0.0                  0.0   \n",
       "1     3.440456  0.0                0.0      0.0                  0.0   \n",
       "2    -1.246142  0.0                0.0      0.0                  0.0   \n",
       "3    -0.416301  0.0                0.0      0.0                  0.0   \n",
       "4     0.819049  0.0                0.0      0.0                  0.0   \n",
       "\n",
       "   bandIndex  nSigma  manual_picks_flag  ray_filter_flag  \n",
       "0          0       0                  1                1  \n",
       "1          0       0                  1                1  \n",
       "2          0       0                  1                1  \n",
       "3          0       0                  1                1  \n",
       "4          0       0                  1                1  \n",
       "\n",
       "[5 rows x 25 columns]"
      ]
     },
     "execution_count": 5,
     "metadata": {},
     "output_type": "execute_result"
    }
   ],
   "source": [
    "# the csv size after filters applied:\n",
    "print(csv_data.shape)\n",
    "\n",
    "csv_data.head()"
   ]
  },
  {
   "cell_type": "code",
   "execution_count": 6,
   "metadata": {},
   "outputs": [],
   "source": [
    "\n",
    "if phase == 'S':\n",
    "    \n",
    "    p_events_df= pd.read_csv(\"P_EVENTS.csv\", header='infer')\n",
    "\n",
    "    p_events_df.head()\n",
    "\n"
   ]
  },
  {
   "cell_type": "code",
   "execution_count": 7,
   "metadata": {},
   "outputs": [],
   "source": [
    "#p_events_df.drop_duplicates()\n",
    "indexed_pdf=p_events_df.groupby(by=['#eventID', 'net','sta']).count().reset_index() \n"
   ]
  },
  {
   "cell_type": "code",
   "execution_count": 8,
   "metadata": {},
   "outputs": [
    {
     "data": {
      "text/plain": [
       "(71040, 3)"
      ]
     },
     "execution_count": 8,
     "metadata": {},
     "output_type": "execute_result"
    }
   ],
   "source": [
    "indexed_pdf.shape"
   ]
  },
  {
   "cell_type": "code",
   "execution_count": 9,
   "metadata": {},
   "outputs": [],
   "source": [
    "\n",
    "merged_df = pd.merge(csv_data, indexed_pdf, \n",
    "                     how='inner',  # This matters a lot\n",
    "                     on=['#eventID', 'net','sta'],\n",
    "                    left_index=False)"
   ]
  },
  {
   "cell_type": "code",
   "execution_count": 10,
   "metadata": {},
   "outputs": [
    {
     "data": {
      "text/plain": [
       "(6264, 25)"
      ]
     },
     "execution_count": 10,
     "metadata": {},
     "output_type": "execute_result"
    }
   ],
   "source": [
    "merged_df.shape"
   ]
  },
  {
   "cell_type": "code",
   "execution_count": 13,
   "metadata": {},
   "outputs": [
    {
     "data": {
      "text/html": [
       "<div>\n",
       "<table border=\"1\" class=\"dataframe\">\n",
       "  <thead>\n",
       "    <tr style=\"text-align: right;\">\n",
       "      <th></th>\n",
       "      <th>#eventID</th>\n",
       "      <th>originTimestamp</th>\n",
       "      <th>mag</th>\n",
       "      <th>source_lon</th>\n",
       "      <th>source_lat</th>\n",
       "      <th>source_depth_km</th>\n",
       "      <th>net</th>\n",
       "      <th>sta</th>\n",
       "      <th>cha</th>\n",
       "      <th>pickTimestamp</th>\n",
       "      <th>...</th>\n",
       "      <th>distance</th>\n",
       "      <th>tt_residual</th>\n",
       "      <th>snr</th>\n",
       "      <th>qualityMeasureCWT</th>\n",
       "      <th>domFreq</th>\n",
       "      <th>qualityMeasureSlope</th>\n",
       "      <th>bandIndex</th>\n",
       "      <th>nSigma</th>\n",
       "      <th>manual_picks_flag</th>\n",
       "      <th>ray_filter_flag</th>\n",
       "    </tr>\n",
       "  </thead>\n",
       "  <tbody>\n",
       "    <tr>\n",
       "      <th>0</th>\n",
       "      <td>smi:local/102160r49</td>\n",
       "      <td>1.197052e+09</td>\n",
       "      <td>4.8</td>\n",
       "      <td>144.212962</td>\n",
       "      <td>-4.554822</td>\n",
       "      <td>98.8</td>\n",
       "      <td>AU</td>\n",
       "      <td>WB2</td>\n",
       "      <td>BHZ</td>\n",
       "      <td>1.197052e+09</td>\n",
       "      <td>...</td>\n",
       "      <td>18.078703</td>\n",
       "      <td>-9.494550</td>\n",
       "      <td>0.0</td>\n",
       "      <td>0.0</td>\n",
       "      <td>0.0</td>\n",
       "      <td>0.0</td>\n",
       "      <td>0</td>\n",
       "      <td>0</td>\n",
       "      <td>1</td>\n",
       "      <td>1</td>\n",
       "    </tr>\n",
       "    <tr>\n",
       "      <th>1</th>\n",
       "      <td>smi:local/102160r49</td>\n",
       "      <td>1.197052e+09</td>\n",
       "      <td>4.8</td>\n",
       "      <td>144.212962</td>\n",
       "      <td>-4.554822</td>\n",
       "      <td>98.8</td>\n",
       "      <td>IR</td>\n",
       "      <td>BWTI</td>\n",
       "      <td>BHZ</td>\n",
       "      <td>1.197052e+09</td>\n",
       "      <td>...</td>\n",
       "      <td>21.116708</td>\n",
       "      <td>3.440456</td>\n",
       "      <td>0.0</td>\n",
       "      <td>0.0</td>\n",
       "      <td>0.0</td>\n",
       "      <td>0.0</td>\n",
       "      <td>0</td>\n",
       "      <td>0</td>\n",
       "      <td>1</td>\n",
       "      <td>1</td>\n",
       "    </tr>\n",
       "    <tr>\n",
       "      <th>2</th>\n",
       "      <td>smi:local/102160r49</td>\n",
       "      <td>1.197052e+09</td>\n",
       "      <td>4.8</td>\n",
       "      <td>144.212962</td>\n",
       "      <td>-4.554822</td>\n",
       "      <td>98.8</td>\n",
       "      <td>IR</td>\n",
       "      <td>ASAR</td>\n",
       "      <td>BHZ</td>\n",
       "      <td>1.197052e+09</td>\n",
       "      <td>...</td>\n",
       "      <td>21.465569</td>\n",
       "      <td>-1.246142</td>\n",
       "      <td>0.0</td>\n",
       "      <td>0.0</td>\n",
       "      <td>0.0</td>\n",
       "      <td>0.0</td>\n",
       "      <td>0</td>\n",
       "      <td>0</td>\n",
       "      <td>1</td>\n",
       "      <td>1</td>\n",
       "    </tr>\n",
       "    <tr>\n",
       "      <th>3</th>\n",
       "      <td>smi:local/102160r49</td>\n",
       "      <td>1.197052e+09</td>\n",
       "      <td>4.8</td>\n",
       "      <td>144.212962</td>\n",
       "      <td>-4.554822</td>\n",
       "      <td>98.8</td>\n",
       "      <td>AU</td>\n",
       "      <td>FITZ</td>\n",
       "      <td>BHZ</td>\n",
       "      <td>1.197052e+09</td>\n",
       "      <td>...</td>\n",
       "      <td>22.630683</td>\n",
       "      <td>-0.416301</td>\n",
       "      <td>0.0</td>\n",
       "      <td>0.0</td>\n",
       "      <td>0.0</td>\n",
       "      <td>0.0</td>\n",
       "      <td>0</td>\n",
       "      <td>0</td>\n",
       "      <td>1</td>\n",
       "      <td>1</td>\n",
       "    </tr>\n",
       "    <tr>\n",
       "      <th>4</th>\n",
       "      <td>smi:local/102160r49</td>\n",
       "      <td>1.197052e+09</td>\n",
       "      <td>4.8</td>\n",
       "      <td>144.212962</td>\n",
       "      <td>-4.554822</td>\n",
       "      <td>98.8</td>\n",
       "      <td>GE</td>\n",
       "      <td>QIZ</td>\n",
       "      <td>BHZ</td>\n",
       "      <td>1.197053e+09</td>\n",
       "      <td>...</td>\n",
       "      <td>41.203520</td>\n",
       "      <td>0.819049</td>\n",
       "      <td>0.0</td>\n",
       "      <td>0.0</td>\n",
       "      <td>0.0</td>\n",
       "      <td>0.0</td>\n",
       "      <td>0</td>\n",
       "      <td>0</td>\n",
       "      <td>1</td>\n",
       "      <td>1</td>\n",
       "    </tr>\n",
       "  </tbody>\n",
       "</table>\n",
       "<p>5 rows × 25 columns</p>\n",
       "</div>"
      ],
      "text/plain": [
       "              #eventID  originTimestamp  mag  source_lon  source_lat  \\\n",
       "0  smi:local/102160r49     1.197052e+09  4.8  144.212962   -4.554822   \n",
       "1  smi:local/102160r49     1.197052e+09  4.8  144.212962   -4.554822   \n",
       "2  smi:local/102160r49     1.197052e+09  4.8  144.212962   -4.554822   \n",
       "3  smi:local/102160r49     1.197052e+09  4.8  144.212962   -4.554822   \n",
       "4  smi:local/102160r49     1.197052e+09  4.8  144.212962   -4.554822   \n",
       "\n",
       "   source_depth_km net   sta  cha  pickTimestamp       ...          distance  \\\n",
       "0             98.8  AU   WB2  BHZ   1.197052e+09       ...         18.078703   \n",
       "1             98.8  IR  BWTI  BHZ   1.197052e+09       ...         21.116708   \n",
       "2             98.8  IR  ASAR  BHZ   1.197052e+09       ...         21.465569   \n",
       "3             98.8  AU  FITZ  BHZ   1.197052e+09       ...         22.630683   \n",
       "4             98.8  GE   QIZ  BHZ   1.197053e+09       ...         41.203520   \n",
       "\n",
       "   tt_residual  snr  qualityMeasureCWT  domFreq  qualityMeasureSlope  \\\n",
       "0    -9.494550  0.0                0.0      0.0                  0.0   \n",
       "1     3.440456  0.0                0.0      0.0                  0.0   \n",
       "2    -1.246142  0.0                0.0      0.0                  0.0   \n",
       "3    -0.416301  0.0                0.0      0.0                  0.0   \n",
       "4     0.819049  0.0                0.0      0.0                  0.0   \n",
       "\n",
       "   bandIndex  nSigma  manual_picks_flag  ray_filter_flag  \n",
       "0          0       0                  1                1  \n",
       "1          0       0                  1                1  \n",
       "2          0       0                  1                1  \n",
       "3          0       0                  1                1  \n",
       "4          0       0                  1                1  \n",
       "\n",
       "[5 rows x 25 columns]"
      ]
     },
     "execution_count": 13,
     "metadata": {},
     "output_type": "execute_result"
    }
   ],
   "source": [
    "csv_data.head()"
   ]
  },
  {
   "cell_type": "code",
   "execution_count": 12,
   "metadata": {},
   "outputs": [
    {
     "ename": "NameError",
     "evalue": "name 'stop' is not defined",
     "output_type": "error",
     "traceback": [
      "\u001b[0;31m---------------------------------------------------------------------------\u001b[0m",
      "\u001b[0;31mNameError\u001b[0m                                 Traceback (most recent call last)",
      "\u001b[0;32m<ipython-input-12-3dd9cae63c82>\u001b[0m in \u001b[0;36m<module>\u001b[0;34m\u001b[0m\n\u001b[0;32m----> 1\u001b[0;31m \u001b[0mstop\u001b[0m\u001b[0;34m\u001b[0m\u001b[0;34m\u001b[0m\u001b[0m\n\u001b[0m",
      "\u001b[0;31mNameError\u001b[0m: name 'stop' is not defined"
     ]
    }
   ],
   "source": [
    "stop "
   ]
  },
  {
   "cell_type": "markdown",
   "metadata": {},
   "source": [
    "# Map seismic events and stations onto a grid model, then cluster sort rays"
   ]
  },
  {
   "cell_type": "code",
   "execution_count": 14,
   "metadata": {},
   "outputs": [],
   "source": [
    "mygrid = Grid2(param_file=os.path.join(os.environ['PSTHOME'],\"seismic/traveltime/param1x1\"))\n"
   ]
  },
  {
   "cell_type": "code",
   "execution_count": 15,
   "metadata": {},
   "outputs": [],
   "source": [
    "import ellipcorr\n",
    "\n",
    "from obspy.geodetics import gps2dist_azimuth, locations2degrees\n",
    "import logging\n",
    "from seismic.traveltime import pslog\n",
    "from seismic.traveltime.cluster_grid import Grid2\n",
    "\n",
    "# DPI = asin(1.0) / 90.0\n",
    "# R2D = 90. / asin(1.)\n",
    "# FLOAT_FORMAT = '%.4f'\n",
    "\n",
    "log = logging.getLogger(__name__)\n",
    "log.setLevel(logging.DEBUG)\n",
    "\n",
    "def compute_ellipticity_corr(arrival_phase, ev_latitude, ev_longitude, ev_depth_km, sta_latitude, sta_longitude,\n",
    "                             degrees_to_source):\n",
    "    \"\"\"\n",
    "    Utility function to compute ellipticity correction.\n",
    "\n",
    "    :param arrival_phase: P or S\n",
    "    :param ev_latitude:  event lat\n",
    "    :param ev_longitude: event long\n",
    "    :param ev_depth_km: event depth in km\n",
    "    :param sta_latitude: station lat\n",
    "    :param sta_longitude: station long\n",
    "    :param degrees_to_source: degree to source\n",
    "    :return: ellipticity correction float value\n",
    "    \"\"\"\n",
    "    myazim = gps2dist_azimuth(ev_latitude, ev_longitude, sta_latitude, sta_longitude)[1]  # [1] shall be taken\n",
    "    # see https://docs.obspy.org/_modules/obspy/geodetics/base.html#gps2dist_azimuth\n",
    "    # this function returns 3 values (Great_circle_distance_in_m, azimuth_A->B_in_degrees, azimuth_B->A_in degrees)\n",
    "\n",
    "    log.debug(\"Check input params to ellipticity_corr = %s, %s, %s, %s, %s\", arrival_phase, degrees_to_source,\n",
    "              ev_depth_km, 90 - ev_latitude, myazim)\n",
    "\n",
    "    ellipticity_corr = ellipcorr.ellipticity_corr(\n",
    "        phase=arrival_phase,\n",
    "        edist=degrees_to_source,\n",
    "        edepth=ev_depth_km,\n",
    "        ecolat=90 - ev_latitude,  # conversion to co-latitude\n",
    "        azim=myazim\n",
    "    )\n",
    "\n",
    "    log.debug(\"ellipticity_corr = %s\", ellipticity_corr)\n",
    "\n",
    "    return ellipticity_corr\n",
    "\n",
    "\n",
    "def sort_cluster(csv_data, phase, outputcsv):\n",
    "    \n",
    "    \n",
    "    print(\"Initial csv_data size\", csv_data.shape)\n",
    "    \n",
    "    csv_data['source_block'] = csv_data.apply(\n",
    "        lambda x: mygrid.find_block_number(x.source_lat, x.source_lon, 1000 * (x.source_depth_km))[0], axis=1)\n",
    "\n",
    "    csv_data['station_block'] = csv_data.apply(\n",
    "        lambda x: mygrid.find_block_number(x.station_lat, x.station_lon, 0.0)[0], axis=1)\n",
    "\n",
    "    csv_data['observed_tt'] = csv_data.pickTimestamp - csv_data.originTimestamp\n",
    "\n",
    "    # cluster_data.to_csv(outputcsv+\"_debug.CSV\", header=True, index=False, sep=',')\n",
    "\n",
    "    log.info('Begin Sorting arrivals.')\n",
    "\n",
    "    # groupby automatically sorts\n",
    "    med = csv_data.groupby(by=['source_block', 'station_block'])[\n",
    "        'observed_tt'].quantile(q=.5, interpolation='lower').reset_index()\n",
    "    \n",
    "    print(\"The medium observed_tt rows:  \", med.shape)\n",
    "\n",
    "    final_df = pd.merge(csv_data, med, how='right',\n",
    "                        on=['source_block', 'station_block', 'observed_tt'],\n",
    "                        sort=True, right_index=True)\n",
    "\n",
    "    print(\"The merged csv_data and med size\", final_df.shape)\n",
    "    # use the following to keep only unique  prim_key: ['source_block', 'station_block']\n",
    "    # final_df.drop_duplicates(subset=['source_block', 'station_block'],keep='first', inplace=True)\n",
    "    # Note that some near-by stations may be cluster into one station_block_number, if want to keep stations try\n",
    "    # final_df.drop_duplicates(subset=['source_block', 'station_block', 'station_code'],keep='first', inplace=True)\n",
    "\n",
    "    final_df.drop_duplicates(subset=['source_block', 'station_block'], keep='first', inplace=True)\n",
    "    \n",
    "    print(\"the size of the final_df after drop_duplicates on source_block, station_block\", final_df.shape)\n",
    "\n",
    "    # elliptic correction to the  observed_travel_time;\n",
    "\n",
    "    final_df['locations_to_degrees'] = final_df.apply(lambda x: locations2degrees(x.source_lat, x.source_lon,\n",
    "                                                                                  x.station_lat, x.station_lon), axis=1)\n",
    "    final_df['my_azim'] = final_df.apply(lambda x: gps2dist_azimuth(x.source_lat, x.source_lon,\n",
    "                                                                    x.station_lat, x.station_lon)[1], axis=1)\n",
    "\n",
    "    final_df['my_bazim'] = final_df.apply(lambda x: gps2dist_azimuth(x.source_lat, x.source_lon,\n",
    "                                                                     x.station_lat, x.station_lon)[2], axis=1)\n",
    "    final_df['ellipticity_corr'] = final_df.apply(lambda x:\n",
    "                                                  compute_ellipticity_corr(phase, x.source_lat, x.source_lon,\n",
    "                                                                           x.source_depth_km,\n",
    "                                                                           x.station_lat, x.station_lon, x.distance),\n",
    "                                                  axis=1)\n",
    "\n",
    "    final_df['observed_tt'] = final_df.observed_tt + final_df.ellipticity_corr\n",
    "\n",
    "    # make sure the originDepth/source_depth is in KM for required by inversion program\n",
    "\n",
    "    final_df.to_csv(outputcsv, header=True, index=False, sep=',')  # use comma separator,\n",
    "\n",
    "    # inpdf.to_csv(outputcsv, header=True, index=False, sep=' ')   # mismatch columns in space-delimited csv file as the NaN => empty space !\n",
    "\n",
    "    # prepare for inversion-program input\n",
    "    \n",
    "    if phase == 'P':\n",
    "        final_df['P_or_S'] = 1\n",
    "    elif phase == 'S':\n",
    "        final_df['P_or_S'] = 2\n",
    "    else:\n",
    "        raise Exception(\"Phase must be P or S !!!\")\n",
    "\n",
    "    final_df['event_number'] = final_df.apply(lambda x: int(x.originTimestamp), axis=1)\n",
    "\n",
    "    # the following values are required for inversion program. the event_number defined as int(originTimestamp)\n",
    "    # the columns must be in the order:\n",
    "    required_columns = ['source_block', 'station_block', 'tt_residual', 'event_number',\n",
    "                        'source_lon', 'source_lat', 'source_depth_km',\n",
    "                        'station_lon', 'station_lat', 'observed_tt', 'locations_to_degrees', 'P_or_S']\n",
    "\n",
    "    pdf4inv = final_df[required_columns]\n",
    "\n",
    "    inv_txt = \"%s_inv.txt\" % outputcsv\n",
    "    pdf4inv.to_csv(inv_txt, header=False, index=False, sep=' ', float_format='%.6f')  # space delimitted txt file\n",
    "\n",
    "    print(\"Output CSV files = \",outputcsv, inv_txt)\n",
    "    \n",
    "    return (final_df, pdf4inv)"
   ]
  },
  {
   "cell_type": "code",
   "execution_count": 16,
   "metadata": {},
   "outputs": [
    {
     "name": "stdout",
     "output_type": "stream",
     "text": [
      "Initial csv_data size (6264, 25)\n",
      "The medium observed_tt rows:   (4548, 3)\n",
      "The merged csv_data and med size (5091, 28)\n",
      "the size of the final_df after drop_duplicates on source_block, station_block (4548, 28)\n",
      "Output CSV files =  S_sort_cluster.csv S_sort_cluster.csv_inv.txt\n"
     ]
    }
   ],
   "source": [
    "pdf1, pdf4 = sort_cluster(csv_data, phase, \"%s_sort_cluster.csv\"%phase)"
   ]
  },
  {
   "cell_type": "code",
   "execution_count": 17,
   "metadata": {},
   "outputs": [
    {
     "data": {
      "text/html": [
       "<div>\n",
       "<table border=\"1\" class=\"dataframe\">\n",
       "  <thead>\n",
       "    <tr style=\"text-align: right;\">\n",
       "      <th></th>\n",
       "      <th>#eventID</th>\n",
       "      <th>originTimestamp</th>\n",
       "      <th>mag</th>\n",
       "      <th>source_lon</th>\n",
       "      <th>source_lat</th>\n",
       "      <th>source_depth_km</th>\n",
       "      <th>net</th>\n",
       "      <th>sta</th>\n",
       "      <th>cha</th>\n",
       "      <th>pickTimestamp</th>\n",
       "      <th>...</th>\n",
       "      <th>ray_filter_flag</th>\n",
       "      <th>source_block</th>\n",
       "      <th>station_block</th>\n",
       "      <th>observed_tt</th>\n",
       "      <th>locations_to_degrees</th>\n",
       "      <th>my_azim</th>\n",
       "      <th>my_bazim</th>\n",
       "      <th>ellipticity_corr</th>\n",
       "      <th>P_or_S</th>\n",
       "      <th>event_number</th>\n",
       "    </tr>\n",
       "  </thead>\n",
       "  <tbody>\n",
       "    <tr>\n",
       "      <th>11510</th>\n",
       "      <td>smi:local/193401r68</td>\n",
       "      <td>1.283532e+09</td>\n",
       "      <td>7.3</td>\n",
       "      <td>171.984919</td>\n",
       "      <td>-43.37618</td>\n",
       "      <td>2.098619</td>\n",
       "      <td>IR</td>\n",
       "      <td>STKA</td>\n",
       "      <td>?</td>\n",
       "      <td>1.283532e+09</td>\n",
       "      <td>...</td>\n",
       "      <td>1</td>\n",
       "      <td>17085</td>\n",
       "      <td>21164</td>\n",
       "      <td>617.153079</td>\n",
       "      <td>26.476455</td>\n",
       "      <td>285.418907</td>\n",
       "      <td>124.343343</td>\n",
       "      <td>-0.156921</td>\n",
       "      <td>2</td>\n",
       "      <td>1283531746</td>\n",
       "    </tr>\n",
       "  </tbody>\n",
       "</table>\n",
       "<p>1 rows × 34 columns</p>\n",
       "</div>"
      ],
      "text/plain": [
       "                  #eventID  originTimestamp  mag  source_lon  source_lat  \\\n",
       "11510  smi:local/193401r68     1.283532e+09  7.3  171.984919   -43.37618   \n",
       "\n",
       "       source_depth_km net   sta cha  pickTimestamp      ...       \\\n",
       "11510         2.098619  IR  STKA   ?   1.283532e+09      ...        \n",
       "\n",
       "      ray_filter_flag  source_block  station_block  observed_tt  \\\n",
       "11510               1         17085          21164   617.153079   \n",
       "\n",
       "       locations_to_degrees     my_azim    my_bazim  ellipticity_corr  P_or_S  \\\n",
       "11510             26.476455  285.418907  124.343343         -0.156921       2   \n",
       "\n",
       "       event_number  \n",
       "11510    1283531746  \n",
       "\n",
       "[1 rows x 34 columns]"
      ]
     },
     "execution_count": 17,
     "metadata": {},
     "output_type": "execute_result"
    }
   ],
   "source": [
    "pdf1.head(1)"
   ]
  },
  {
   "cell_type": "code",
   "execution_count": 18,
   "metadata": {},
   "outputs": [
    {
     "data": {
      "text/html": [
       "<div>\n",
       "<table border=\"1\" class=\"dataframe\">\n",
       "  <thead>\n",
       "    <tr style=\"text-align: right;\">\n",
       "      <th></th>\n",
       "      <th>source_block</th>\n",
       "      <th>station_block</th>\n",
       "      <th>tt_residual</th>\n",
       "      <th>event_number</th>\n",
       "      <th>source_lon</th>\n",
       "      <th>source_lat</th>\n",
       "      <th>source_depth_km</th>\n",
       "      <th>station_lon</th>\n",
       "      <th>station_lat</th>\n",
       "      <th>observed_tt</th>\n",
       "      <th>locations_to_degrees</th>\n",
       "      <th>P_or_S</th>\n",
       "    </tr>\n",
       "  </thead>\n",
       "  <tbody>\n",
       "    <tr>\n",
       "      <th>11510</th>\n",
       "      <td>17085</td>\n",
       "      <td>21164</td>\n",
       "      <td>3.428490</td>\n",
       "      <td>1283531746</td>\n",
       "      <td>171.984919</td>\n",
       "      <td>-43.37618</td>\n",
       "      <td>2.098619</td>\n",
       "      <td>141.595</td>\n",
       "      <td>-31.8763</td>\n",
       "      <td>617.153079</td>\n",
       "      <td>26.476455</td>\n",
       "      <td>2</td>\n",
       "    </tr>\n",
       "    <tr>\n",
       "      <th>11585</th>\n",
       "      <td>17085</td>\n",
       "      <td>24209</td>\n",
       "      <td>2.303515</td>\n",
       "      <td>1283531746</td>\n",
       "      <td>171.984919</td>\n",
       "      <td>-43.37618</td>\n",
       "      <td>2.098619</td>\n",
       "      <td>133.960</td>\n",
       "      <td>-23.6812</td>\n",
       "      <td>777.721462</td>\n",
       "      <td>36.849823</td>\n",
       "      <td>2</td>\n",
       "    </tr>\n",
       "  </tbody>\n",
       "</table>\n",
       "</div>"
      ],
      "text/plain": [
       "       source_block  station_block  tt_residual  event_number  source_lon  \\\n",
       "11510         17085          21164     3.428490    1283531746  171.984919   \n",
       "11585         17085          24209     2.303515    1283531746  171.984919   \n",
       "\n",
       "       source_lat  source_depth_km  station_lon  station_lat  observed_tt  \\\n",
       "11510   -43.37618         2.098619      141.595     -31.8763   617.153079   \n",
       "11585   -43.37618         2.098619      133.960     -23.6812   777.721462   \n",
       "\n",
       "       locations_to_degrees  P_or_S  \n",
       "11510             26.476455       2  \n",
       "11585             36.849823       2  "
      ]
     },
     "execution_count": 18,
     "metadata": {},
     "output_type": "execute_result"
    }
   ],
   "source": [
    "pdf4.head(2)"
   ]
  },
  {
   "cell_type": "code",
   "execution_count": 19,
   "metadata": {},
   "outputs": [
    {
     "name": "stdout",
     "output_type": "stream",
     "text": [
      "(4548, 34) (4548, 12)\n"
     ]
    }
   ],
   "source": [
    "print(pdf1.shape, pdf4.shape)"
   ]
  },
  {
   "cell_type": "code",
   "execution_count": null,
   "metadata": {},
   "outputs": [],
   "source": []
  },
  {
   "cell_type": "markdown",
   "metadata": {},
   "source": [
    "# Do the clustering and sorting of pdf1 again, should converge to the same CSV."
   ]
  },
  {
   "cell_type": "code",
   "execution_count": 20,
   "metadata": {},
   "outputs": [
    {
     "name": "stdout",
     "output_type": "stream",
     "text": [
      "Initial csv_data size (4548, 34)\n",
      "The medium observed_tt rows:   (4548, 3)\n",
      "The merged csv_data and med size (4548, 34)\n",
      "the size of the final_df after drop_duplicates on source_block, station_block (4548, 34)\n",
      "Output CSV files =  S_sort_cluster_A.csv S_sort_cluster_A.csv_inv.txt\n"
     ]
    }
   ],
   "source": [
    "# apply the same function\n",
    "\n",
    "pdf1_A, pdf4_A = sort_cluster(pdf1, phase, \"%s_sort_cluster_A.csv\"%phase)"
   ]
  },
  {
   "cell_type": "code",
   "execution_count": 21,
   "metadata": {},
   "outputs": [
    {
     "name": "stdout",
     "output_type": "stream",
     "text": [
      "(4548, 34) (4548, 12)\n"
     ]
    }
   ],
   "source": [
    "print(pdf1_A.shape, pdf4_A.shape)"
   ]
  },
  {
   "cell_type": "code",
   "execution_count": 22,
   "metadata": {},
   "outputs": [
    {
     "data": {
      "text/html": [
       "<div>\n",
       "<table border=\"1\" class=\"dataframe\">\n",
       "  <thead>\n",
       "    <tr style=\"text-align: right;\">\n",
       "      <th></th>\n",
       "      <th>#eventID</th>\n",
       "      <th>originTimestamp</th>\n",
       "      <th>mag</th>\n",
       "      <th>source_lon</th>\n",
       "      <th>source_lat</th>\n",
       "      <th>source_depth_km</th>\n",
       "      <th>net</th>\n",
       "      <th>sta</th>\n",
       "      <th>cha</th>\n",
       "      <th>pickTimestamp</th>\n",
       "      <th>...</th>\n",
       "      <th>ray_filter_flag</th>\n",
       "      <th>source_block</th>\n",
       "      <th>station_block</th>\n",
       "      <th>observed_tt</th>\n",
       "      <th>locations_to_degrees</th>\n",
       "      <th>my_azim</th>\n",
       "      <th>my_bazim</th>\n",
       "      <th>ellipticity_corr</th>\n",
       "      <th>P_or_S</th>\n",
       "      <th>event_number</th>\n",
       "    </tr>\n",
       "  </thead>\n",
       "  <tbody>\n",
       "    <tr>\n",
       "      <th>11510</th>\n",
       "      <td>smi:local/193401r68</td>\n",
       "      <td>1.283532e+09</td>\n",
       "      <td>7.3</td>\n",
       "      <td>171.984919</td>\n",
       "      <td>-43.37618</td>\n",
       "      <td>2.098619</td>\n",
       "      <td>IR</td>\n",
       "      <td>STKA</td>\n",
       "      <td>?</td>\n",
       "      <td>1.283532e+09</td>\n",
       "      <td>...</td>\n",
       "      <td>1</td>\n",
       "      <td>17085</td>\n",
       "      <td>21164</td>\n",
       "      <td>617.153079</td>\n",
       "      <td>26.476455</td>\n",
       "      <td>285.418907</td>\n",
       "      <td>124.343343</td>\n",
       "      <td>-0.156921</td>\n",
       "      <td>2</td>\n",
       "      <td>1283531746</td>\n",
       "    </tr>\n",
       "  </tbody>\n",
       "</table>\n",
       "<p>1 rows × 34 columns</p>\n",
       "</div>"
      ],
      "text/plain": [
       "                  #eventID  originTimestamp  mag  source_lon  source_lat  \\\n",
       "11510  smi:local/193401r68     1.283532e+09  7.3  171.984919   -43.37618   \n",
       "\n",
       "       source_depth_km net   sta cha  pickTimestamp      ...       \\\n",
       "11510         2.098619  IR  STKA   ?   1.283532e+09      ...        \n",
       "\n",
       "      ray_filter_flag  source_block  station_block  observed_tt  \\\n",
       "11510               1         17085          21164   617.153079   \n",
       "\n",
       "       locations_to_degrees     my_azim    my_bazim  ellipticity_corr  P_or_S  \\\n",
       "11510             26.476455  285.418907  124.343343         -0.156921       2   \n",
       "\n",
       "       event_number  \n",
       "11510    1283531746  \n",
       "\n",
       "[1 rows x 34 columns]"
      ]
     },
     "execution_count": 22,
     "metadata": {},
     "output_type": "execute_result"
    }
   ],
   "source": [
    "pdf1_A.head(1)"
   ]
  },
  {
   "cell_type": "code",
   "execution_count": 23,
   "metadata": {},
   "outputs": [
    {
     "data": {
      "text/plain": [
       "True    4548\n",
       "Name: #eventID, dtype: int64"
      ]
     },
     "execution_count": 23,
     "metadata": {},
     "output_type": "execute_result"
    }
   ],
   "source": [
    "# how to compare the vaules of two pdf dataframes pdf1 and pdf1_A??\n",
    "\n",
    "pdf1['#eventID'].isin(pdf1_A['#eventID']).value_counts()"
   ]
  },
  {
   "cell_type": "code",
   "execution_count": 24,
   "metadata": {},
   "outputs": [
    {
     "data": {
      "text/plain": [
       "True    4548\n",
       "Name: #eventID, dtype: int64"
      ]
     },
     "execution_count": 24,
     "metadata": {},
     "output_type": "execute_result"
    }
   ],
   "source": [
    "pdf1_A['#eventID'].isin(pdf1['#eventID']).value_counts()"
   ]
  },
  {
   "cell_type": "markdown",
   "metadata": {},
   "source": [
    "# Analyse the Algorithm"
   ]
  },
  {
   "cell_type": "code",
   "execution_count": 25,
   "metadata": {},
   "outputs": [
    {
     "data": {
      "text/plain": [
       "(6264, 28)"
      ]
     },
     "execution_count": 25,
     "metadata": {},
     "output_type": "execute_result"
    }
   ],
   "source": [
    "\n",
    "csv_data.shape"
   ]
  },
  {
   "cell_type": "code",
   "execution_count": 26,
   "metadata": {},
   "outputs": [
    {
     "name": "stdout",
     "output_type": "stream",
     "text": [
      "The med shape:   (4548, 3)\n"
     ]
    }
   ],
   "source": [
    "med = csv_data.groupby(by=['source_block', 'station_block'])[\n",
    "        'observed_tt'].quantile(q=.5, interpolation='lower').reset_index()\n",
    "    \n",
    "print(\"The med shape:  \", med.shape)\n"
   ]
  },
  {
   "cell_type": "code",
   "execution_count": 27,
   "metadata": {},
   "outputs": [
    {
     "data": {
      "text/html": [
       "<div>\n",
       "<table border=\"1\" class=\"dataframe\">\n",
       "  <thead>\n",
       "    <tr style=\"text-align: right;\">\n",
       "      <th></th>\n",
       "      <th>source_block</th>\n",
       "      <th>station_block</th>\n",
       "      <th>observed_tt</th>\n",
       "    </tr>\n",
       "  </thead>\n",
       "  <tbody>\n",
       "    <tr>\n",
       "      <th>0</th>\n",
       "      <td>17085</td>\n",
       "      <td>21164</td>\n",
       "      <td>617.31</td>\n",
       "    </tr>\n",
       "    <tr>\n",
       "      <th>1</th>\n",
       "      <td>17085</td>\n",
       "      <td>24209</td>\n",
       "      <td>777.76</td>\n",
       "    </tr>\n",
       "    <tr>\n",
       "      <th>2</th>\n",
       "      <td>17085</td>\n",
       "      <td>24814</td>\n",
       "      <td>535.02</td>\n",
       "    </tr>\n",
       "    <tr>\n",
       "      <th>3</th>\n",
       "      <td>17085</td>\n",
       "      <td>25493</td>\n",
       "      <td>695.88</td>\n",
       "    </tr>\n",
       "    <tr>\n",
       "      <th>4</th>\n",
       "      <td>17085</td>\n",
       "      <td>29275</td>\n",
       "      <td>822.35</td>\n",
       "    </tr>\n",
       "  </tbody>\n",
       "</table>\n",
       "</div>"
      ],
      "text/plain": [
       "   source_block  station_block  observed_tt\n",
       "0         17085          21164       617.31\n",
       "1         17085          24209       777.76\n",
       "2         17085          24814       535.02\n",
       "3         17085          25493       695.88\n",
       "4         17085          29275       822.35"
      ]
     },
     "execution_count": 27,
     "metadata": {},
     "output_type": "execute_result"
    }
   ],
   "source": [
    "med.head()"
   ]
  },
  {
   "cell_type": "code",
   "execution_count": 28,
   "metadata": {},
   "outputs": [
    {
     "data": {
      "text/html": [
       "<div>\n",
       "<table border=\"1\" class=\"dataframe\">\n",
       "  <thead>\n",
       "    <tr style=\"text-align: right;\">\n",
       "      <th></th>\n",
       "      <th>source_block</th>\n",
       "      <th>station_block</th>\n",
       "      <th>observed_tt</th>\n",
       "    </tr>\n",
       "  </thead>\n",
       "  <tbody>\n",
       "    <tr>\n",
       "      <th>11510</th>\n",
       "      <td>17085</td>\n",
       "      <td>21164</td>\n",
       "      <td>617.31</td>\n",
       "    </tr>\n",
       "    <tr>\n",
       "      <th>11511</th>\n",
       "      <td>17085</td>\n",
       "      <td>21164</td>\n",
       "      <td>617.31</td>\n",
       "    </tr>\n",
       "    <tr>\n",
       "      <th>11610</th>\n",
       "      <td>17085</td>\n",
       "      <td>24209</td>\n",
       "      <td>776.71</td>\n",
       "    </tr>\n",
       "    <tr>\n",
       "      <th>11600</th>\n",
       "      <td>17085</td>\n",
       "      <td>24209</td>\n",
       "      <td>782.21</td>\n",
       "    </tr>\n",
       "    <tr>\n",
       "      <th>11599</th>\n",
       "      <td>17085</td>\n",
       "      <td>24209</td>\n",
       "      <td>776.61</td>\n",
       "    </tr>\n",
       "    <tr>\n",
       "      <th>11597</th>\n",
       "      <td>17085</td>\n",
       "      <td>24209</td>\n",
       "      <td>777.96</td>\n",
       "    </tr>\n",
       "    <tr>\n",
       "      <th>11585</th>\n",
       "      <td>17085</td>\n",
       "      <td>24209</td>\n",
       "      <td>777.76</td>\n",
       "    </tr>\n",
       "    <tr>\n",
       "      <th>11616</th>\n",
       "      <td>17085</td>\n",
       "      <td>24209</td>\n",
       "      <td>778.06</td>\n",
       "    </tr>\n",
       "    <tr>\n",
       "      <th>11508</th>\n",
       "      <td>17085</td>\n",
       "      <td>24814</td>\n",
       "      <td>535.02</td>\n",
       "    </tr>\n",
       "    <tr>\n",
       "      <th>11509</th>\n",
       "      <td>17085</td>\n",
       "      <td>24814</td>\n",
       "      <td>535.02</td>\n",
       "    </tr>\n",
       "    <tr>\n",
       "      <th>11513</th>\n",
       "      <td>17085</td>\n",
       "      <td>25493</td>\n",
       "      <td>695.88</td>\n",
       "    </tr>\n",
       "    <tr>\n",
       "      <th>11517</th>\n",
       "      <td>17085</td>\n",
       "      <td>29275</td>\n",
       "      <td>822.35</td>\n",
       "    </tr>\n",
       "    <tr>\n",
       "      <th>11518</th>\n",
       "      <td>17085</td>\n",
       "      <td>29275</td>\n",
       "      <td>822.36</td>\n",
       "    </tr>\n",
       "    <tr>\n",
       "      <th>11519</th>\n",
       "      <td>17085</td>\n",
       "      <td>29275</td>\n",
       "      <td>822.35</td>\n",
       "    </tr>\n",
       "    <tr>\n",
       "      <th>11617</th>\n",
       "      <td>17085</td>\n",
       "      <td>31585</td>\n",
       "      <td>1020.81</td>\n",
       "    </tr>\n",
       "    <tr>\n",
       "      <th>11603</th>\n",
       "      <td>17085</td>\n",
       "      <td>32287</td>\n",
       "      <td>1118.01</td>\n",
       "    </tr>\n",
       "    <tr>\n",
       "      <th>11525</th>\n",
       "      <td>17085</td>\n",
       "      <td>7795500</td>\n",
       "      <td>925.66</td>\n",
       "    </tr>\n",
       "    <tr>\n",
       "      <th>11524</th>\n",
       "      <td>17085</td>\n",
       "      <td>7795500</td>\n",
       "      <td>925.65</td>\n",
       "    </tr>\n",
       "    <tr>\n",
       "      <th>11514</th>\n",
       "      <td>17085</td>\n",
       "      <td>7796227</td>\n",
       "      <td>743.33</td>\n",
       "    </tr>\n",
       "    <tr>\n",
       "      <th>11515</th>\n",
       "      <td>17085</td>\n",
       "      <td>7796227</td>\n",
       "      <td>743.34</td>\n",
       "    </tr>\n",
       "    <tr>\n",
       "      <th>11536</th>\n",
       "      <td>17085</td>\n",
       "      <td>7796593</td>\n",
       "      <td>1169.20</td>\n",
       "    </tr>\n",
       "    <tr>\n",
       "      <th>11535</th>\n",
       "      <td>17085</td>\n",
       "      <td>7796593</td>\n",
       "      <td>1169.19</td>\n",
       "    </tr>\n",
       "    <tr>\n",
       "      <th>11537</th>\n",
       "      <td>17085</td>\n",
       "      <td>7796599</td>\n",
       "      <td>1164.86</td>\n",
       "    </tr>\n",
       "    <tr>\n",
       "      <th>11533</th>\n",
       "      <td>17085</td>\n",
       "      <td>7797000</td>\n",
       "      <td>1151.99</td>\n",
       "    </tr>\n",
       "    <tr>\n",
       "      <th>11541</th>\n",
       "      <td>17085</td>\n",
       "      <td>7797575</td>\n",
       "      <td>1222.77</td>\n",
       "    </tr>\n",
       "    <tr>\n",
       "      <th>11526</th>\n",
       "      <td>17085</td>\n",
       "      <td>7799420</td>\n",
       "      <td>936.86</td>\n",
       "    </tr>\n",
       "    <tr>\n",
       "      <th>11523</th>\n",
       "      <td>17085</td>\n",
       "      <td>7799702</td>\n",
       "      <td>846.66</td>\n",
       "    </tr>\n",
       "    <tr>\n",
       "      <th>11522</th>\n",
       "      <td>17085</td>\n",
       "      <td>7799702</td>\n",
       "      <td>846.66</td>\n",
       "    </tr>\n",
       "    <tr>\n",
       "      <th>11521</th>\n",
       "      <td>17085</td>\n",
       "      <td>7799702</td>\n",
       "      <td>846.66</td>\n",
       "    </tr>\n",
       "    <tr>\n",
       "      <th>11520</th>\n",
       "      <td>17085</td>\n",
       "      <td>7799702</td>\n",
       "      <td>841.46</td>\n",
       "    </tr>\n",
       "    <tr>\n",
       "      <th>11528</th>\n",
       "      <td>17085</td>\n",
       "      <td>7800138</td>\n",
       "      <td>1019.86</td>\n",
       "    </tr>\n",
       "    <tr>\n",
       "      <th>11587</th>\n",
       "      <td>17085</td>\n",
       "      <td>7800960</td>\n",
       "      <td>1234.01</td>\n",
       "    </tr>\n",
       "    <tr>\n",
       "      <th>11540</th>\n",
       "      <td>17085</td>\n",
       "      <td>7801108</td>\n",
       "      <td>1167.63</td>\n",
       "    </tr>\n",
       "    <tr>\n",
       "      <th>11539</th>\n",
       "      <td>17085</td>\n",
       "      <td>7801108</td>\n",
       "      <td>1168.12</td>\n",
       "    </tr>\n",
       "    <tr>\n",
       "      <th>11601</th>\n",
       "      <td>17085</td>\n",
       "      <td>7801108</td>\n",
       "      <td>1177.86</td>\n",
       "    </tr>\n",
       "    <tr>\n",
       "      <th>11538</th>\n",
       "      <td>17085</td>\n",
       "      <td>7801108</td>\n",
       "      <td>1168.12</td>\n",
       "    </tr>\n",
       "    <tr>\n",
       "      <th>11532</th>\n",
       "      <td>17085</td>\n",
       "      <td>7801404</td>\n",
       "      <td>1127.55</td>\n",
       "    </tr>\n",
       "    <tr>\n",
       "      <th>11531</th>\n",
       "      <td>17085</td>\n",
       "      <td>7801404</td>\n",
       "      <td>1127.55</td>\n",
       "    </tr>\n",
       "    <tr>\n",
       "      <th>11544</th>\n",
       "      <td>17085</td>\n",
       "      <td>7801967</td>\n",
       "      <td>1393.86</td>\n",
       "    </tr>\n",
       "    <tr>\n",
       "      <th>11548</th>\n",
       "      <td>17085</td>\n",
       "      <td>7802253</td>\n",
       "      <td>1445.46</td>\n",
       "    </tr>\n",
       "    <tr>\n",
       "      <th>11542</th>\n",
       "      <td>17085</td>\n",
       "      <td>7802267</td>\n",
       "      <td>1280.73</td>\n",
       "    </tr>\n",
       "    <tr>\n",
       "      <th>11546</th>\n",
       "      <td>17085</td>\n",
       "      <td>7802402</td>\n",
       "      <td>1405.46</td>\n",
       "    </tr>\n",
       "    <tr>\n",
       "      <th>11554</th>\n",
       "      <td>17085</td>\n",
       "      <td>7802686</td>\n",
       "      <td>1493.56</td>\n",
       "    </tr>\n",
       "    <tr>\n",
       "      <th>11551</th>\n",
       "      <td>17085</td>\n",
       "      <td>7802979</td>\n",
       "      <td>1465.66</td>\n",
       "    </tr>\n",
       "    <tr>\n",
       "      <th>11553</th>\n",
       "      <td>17085</td>\n",
       "      <td>7803123</td>\n",
       "      <td>1482.56</td>\n",
       "    </tr>\n",
       "    <tr>\n",
       "      <th>11555</th>\n",
       "      <td>17085</td>\n",
       "      <td>7803268</td>\n",
       "      <td>1488.16</td>\n",
       "    </tr>\n",
       "    <tr>\n",
       "      <th>11550</th>\n",
       "      <td>17085</td>\n",
       "      <td>7803419</td>\n",
       "      <td>1461.66</td>\n",
       "    </tr>\n",
       "  </tbody>\n",
       "</table>\n",
       "</div>"
      ],
      "text/plain": [
       "       source_block  station_block  observed_tt\n",
       "11510         17085          21164       617.31\n",
       "11511         17085          21164       617.31\n",
       "11610         17085          24209       776.71\n",
       "11600         17085          24209       782.21\n",
       "11599         17085          24209       776.61\n",
       "11597         17085          24209       777.96\n",
       "11585         17085          24209       777.76\n",
       "11616         17085          24209       778.06\n",
       "11508         17085          24814       535.02\n",
       "11509         17085          24814       535.02\n",
       "11513         17085          25493       695.88\n",
       "11517         17085          29275       822.35\n",
       "11518         17085          29275       822.36\n",
       "11519         17085          29275       822.35\n",
       "11617         17085          31585      1020.81\n",
       "11603         17085          32287      1118.01\n",
       "11525         17085        7795500       925.66\n",
       "11524         17085        7795500       925.65\n",
       "11514         17085        7796227       743.33\n",
       "11515         17085        7796227       743.34\n",
       "11536         17085        7796593      1169.20\n",
       "11535         17085        7796593      1169.19\n",
       "11537         17085        7796599      1164.86\n",
       "11533         17085        7797000      1151.99\n",
       "11541         17085        7797575      1222.77\n",
       "11526         17085        7799420       936.86\n",
       "11523         17085        7799702       846.66\n",
       "11522         17085        7799702       846.66\n",
       "11521         17085        7799702       846.66\n",
       "11520         17085        7799702       841.46\n",
       "11528         17085        7800138      1019.86\n",
       "11587         17085        7800960      1234.01\n",
       "11540         17085        7801108      1167.63\n",
       "11539         17085        7801108      1168.12\n",
       "11601         17085        7801108      1177.86\n",
       "11538         17085        7801108      1168.12\n",
       "11532         17085        7801404      1127.55\n",
       "11531         17085        7801404      1127.55\n",
       "11544         17085        7801967      1393.86\n",
       "11548         17085        7802253      1445.46\n",
       "11542         17085        7802267      1280.73\n",
       "11546         17085        7802402      1405.46\n",
       "11554         17085        7802686      1493.56\n",
       "11551         17085        7802979      1465.66\n",
       "11553         17085        7803123      1482.56\n",
       "11555         17085        7803268      1488.16\n",
       "11550         17085        7803419      1461.66"
      ]
     },
     "execution_count": 28,
     "metadata": {},
     "output_type": "execute_result"
    }
   ],
   "source": [
    "csv_data.loc[csv_data.source_block==17085][['source_block', 'station_block', 'observed_tt']].sort_values(by='station_block')"
   ]
  },
  {
   "cell_type": "code",
   "execution_count": 29,
   "metadata": {},
   "outputs": [
    {
     "name": "stdout",
     "output_type": "stream",
     "text": [
      "csv_data.shape (6264, 28)\n",
      "The final_df (merged csv_data and med) size = (5091, 28)\n"
     ]
    }
   ],
   "source": [
    "# Check the merged final_pdf\n",
    "print(\"csv_data.shape\", csv_data.shape)\n",
    "final_df = pd.merge(csv_data, med, how='right',\n",
    "                    on=['source_block', 'station_block', 'observed_tt'],\n",
    "                    sort=True, right_index=True)\n",
    "\n",
    "print(\"The final_df (merged csv_data and med) size =\", final_df.shape)"
   ]
  },
  {
   "cell_type": "code",
   "execution_count": 30,
   "metadata": {},
   "outputs": [
    {
     "data": {
      "text/html": [
       "<div>\n",
       "<table border=\"1\" class=\"dataframe\">\n",
       "  <thead>\n",
       "    <tr style=\"text-align: right;\">\n",
       "      <th></th>\n",
       "      <th>source_block</th>\n",
       "      <th>station_block</th>\n",
       "      <th>observed_tt</th>\n",
       "    </tr>\n",
       "  </thead>\n",
       "  <tbody>\n",
       "  </tbody>\n",
       "</table>\n",
       "</div>"
      ],
      "text/plain": [
       "Empty DataFrame\n",
       "Columns: [source_block, station_block, observed_tt]\n",
       "Index: []"
      ]
     },
     "execution_count": 30,
     "metadata": {},
     "output_type": "execute_result"
    }
   ],
   "source": [
    " \n",
    "src_bn=17085; sta_bn=17216 # only 1\n",
    "\n",
    "src_bn=17085; sta_bn=24209 # 8 rays in cluster\n",
    "\n",
    "src_bn=17085; sta_bn=7803713 # 3 rows\n",
    "\n",
    "src_bn=17085; sta_bn=7802837  # 5 rows\n",
    "\n",
    "csv_data.loc[(csv_data.source_block==src_bn) & (csv_data.station_block==sta_bn), ['source_block', 'station_block', 'observed_tt']].sort_values(by='observed_tt')"
   ]
  },
  {
   "cell_type": "code",
   "execution_count": 31,
   "metadata": {},
   "outputs": [
    {
     "data": {
      "text/html": [
       "<div>\n",
       "<table border=\"1\" class=\"dataframe\">\n",
       "  <thead>\n",
       "    <tr style=\"text-align: right;\">\n",
       "      <th></th>\n",
       "      <th>source_block</th>\n",
       "      <th>station_block</th>\n",
       "      <th>observed_tt</th>\n",
       "    </tr>\n",
       "  </thead>\n",
       "  <tbody>\n",
       "  </tbody>\n",
       "</table>\n",
       "</div>"
      ],
      "text/plain": [
       "Empty DataFrame\n",
       "Columns: [source_block, station_block, observed_tt]\n",
       "Index: []"
      ]
     },
     "execution_count": 31,
     "metadata": {},
     "output_type": "execute_result"
    }
   ],
   "source": [
    "# compare with the selection result in med dataframe\n",
    "\n",
    "med.loc[(med.source_block==src_bn) & (med.station_block==sta_bn) ]"
   ]
  },
  {
   "cell_type": "code",
   "execution_count": null,
   "metadata": {},
   "outputs": [],
   "source": []
  },
  {
   "cell_type": "code",
   "execution_count": 32,
   "metadata": {},
   "outputs": [],
   "source": [
    "# The final_df has many duplicate rows in keys ['source_block', 'station_block', 'observed_tt'] due to duplications in catalogues\n",
    "\n",
    "# for example, at src_bn=17085; sta_bn=7802837  # 5 rows\n",
    "\n",
    "# \tsource_block \tstation_block \tobserved_tt\n",
    "# 63757 \t17085 \t7802837 \t777.01\n",
    "# 63760 \t17085 \t7802837 \t777.01"
   ]
  },
  {
   "cell_type": "code",
   "execution_count": 33,
   "metadata": {},
   "outputs": [
    {
     "data": {
      "text/html": [
       "<div>\n",
       "<table border=\"1\" class=\"dataframe\">\n",
       "  <thead>\n",
       "    <tr style=\"text-align: right;\">\n",
       "      <th></th>\n",
       "      <th>source_block</th>\n",
       "      <th>station_block</th>\n",
       "      <th>observed_tt</th>\n",
       "    </tr>\n",
       "  </thead>\n",
       "  <tbody>\n",
       "  </tbody>\n",
       "</table>\n",
       "</div>"
      ],
      "text/plain": [
       "Empty DataFrame\n",
       "Columns: [source_block, station_block, observed_tt]\n",
       "Index: []"
      ]
     },
     "execution_count": 33,
     "metadata": {},
     "output_type": "execute_result"
    }
   ],
   "source": [
    "\n",
    "final_df.loc[(final_df.source_block==src_bn) & (final_df.station_block==sta_bn), ['source_block', 'station_block', 'observed_tt']].sort_values(by='observed_tt')"
   ]
  },
  {
   "cell_type": "code",
   "execution_count": 34,
   "metadata": {},
   "outputs": [],
   "source": [
    "# now let's drop the duplicates:\n",
    "\n",
    "final_df.drop_duplicates(subset=['source_block', 'station_block'], keep='first', inplace=True)"
   ]
  },
  {
   "cell_type": "code",
   "execution_count": 35,
   "metadata": {},
   "outputs": [
    {
     "data": {
      "text/html": [
       "<div>\n",
       "<table border=\"1\" class=\"dataframe\">\n",
       "  <thead>\n",
       "    <tr style=\"text-align: right;\">\n",
       "      <th></th>\n",
       "      <th>source_block</th>\n",
       "      <th>station_block</th>\n",
       "      <th>observed_tt</th>\n",
       "    </tr>\n",
       "  </thead>\n",
       "  <tbody>\n",
       "  </tbody>\n",
       "</table>\n",
       "</div>"
      ],
      "text/plain": [
       "Empty DataFrame\n",
       "Columns: [source_block, station_block, observed_tt]\n",
       "Index: []"
      ]
     },
     "execution_count": 35,
     "metadata": {},
     "output_type": "execute_result"
    }
   ],
   "source": [
    "# only one will be left \n",
    "final_df.loc[(final_df.source_block==src_bn) & (final_df.station_block==sta_bn), ['source_block', 'station_block', 'observed_tt']].sort_values(by='observed_tt')"
   ]
  },
  {
   "cell_type": "code",
   "execution_count": 36,
   "metadata": {},
   "outputs": [
    {
     "data": {
      "text/plain": [
       "(4548, 28)"
      ]
     },
     "execution_count": 36,
     "metadata": {},
     "output_type": "execute_result"
    }
   ],
   "source": [
    "final_df.shape"
   ]
  },
  {
   "cell_type": "code",
   "execution_count": null,
   "metadata": {},
   "outputs": [],
   "source": []
  },
  {
   "cell_type": "code",
   "execution_count": null,
   "metadata": {},
   "outputs": [],
   "source": []
  },
  {
   "cell_type": "code",
   "execution_count": 37,
   "metadata": {},
   "outputs": [
    {
     "data": {
      "text/plain": [
       "<matplotlib.axes._subplots.AxesSubplot at 0x7f0f27a7f208>"
      ]
     },
     "execution_count": 37,
     "metadata": {},
     "output_type": "execute_result"
    },
    {
     "data": {
      "text/plain": [
       "<Figure size 432x288 with 0 Axes>"
      ]
     },
     "metadata": {},
     "output_type": "display_data"
    },
    {
     "data": {
      "image/png": "[encoded data removed]",
      "text/plain": [
       "<Figure size 432x288 with 1 Axes>"
      ]
     },
     "metadata": {
      "needs_background": "light"
     },
     "output_type": "display_data"
    }
   ],
   "source": [
    "plt.figure(); pdf1.plot(x='event_number', y='observed_tt')\n",
    "# plt.figure(); pdf2.plot(x='event_number', y='source_depth')\n",
    "# plt.figure(); pdf2.plot(x='event_number', y='locations2degrees')\n",
    "# plt.figure(); pdf2.plot(x='event_number', y='residual')  # less than +-10s\n",
    "\n"
   ]
  },
  {
   "cell_type": "code",
   "execution_count": 38,
   "metadata": {},
   "outputs": [
    {
     "data": {
      "text/plain": [
       "<matplotlib.axes._subplots.AxesSubplot at 0x7f0f28476400>"
      ]
     },
     "execution_count": 38,
     "metadata": {},
     "output_type": "execute_result"
    },
    {
     "data": {
      "text/plain": [
       "<Figure size 432x288 with 0 Axes>"
      ]
     },
     "metadata": {},
     "output_type": "display_data"
    },
    {
     "data": {
      "image/png": "[encoded data removed]",
      "text/plain": [
       "<Figure size 432x288 with 1 Axes>"
      ]
     },
     "metadata": {
      "needs_background": "light"
     },
     "output_type": "display_data"
    }
   ],
   "source": [
    "plt.figure(); pdf1.plot.scatter(x='source_block', y='station_block')"
   ]
  },
  {
   "cell_type": "code",
   "execution_count": 39,
   "metadata": {},
   "outputs": [
    {
     "data": {
      "text/plain": [
       "<matplotlib.axes._subplots.AxesSubplot at 0x7f0f284ceeb8>"
      ]
     },
     "execution_count": 39,
     "metadata": {},
     "output_type": "execute_result"
    },
    {
     "data": {
      "text/plain": [
       "<Figure size 432x288 with 0 Axes>"
      ]
     },
     "metadata": {},
     "output_type": "display_data"
    },
    {
     "data": {
      "image/png": "[encoded data removed]",
      "text/plain": [
       "<Figure size 432x288 with 1 Axes>"
      ]
     },
     "metadata": {
      "needs_background": "light"
     },
     "output_type": "display_data"
    }
   ],
   "source": [
    "plt.figure(); pdf1.plot.scatter(x='source_lon', y='source_lat')"
   ]
  },
  {
   "cell_type": "code",
   "execution_count": 40,
   "metadata": {},
   "outputs": [
    {
     "data": {
      "text/plain": [
       "<matplotlib.axes._subplots.AxesSubplot at 0x7f0f2867d908>"
      ]
     },
     "execution_count": 40,
     "metadata": {},
     "output_type": "execute_result"
    },
    {
     "data": {
      "text/plain": [
       "<Figure size 432x288 with 0 Axes>"
      ]
     },
     "metadata": {},
     "output_type": "display_data"
    },
    {
     "data": {
      "image/png": "[encoded data removed]",
      "text/plain": [
       "<Figure size 432x288 with 1 Axes>"
      ]
     },
     "metadata": {
      "needs_background": "light"
     },
     "output_type": "display_data"
    }
   ],
   "source": [
    "plt.figure(); pdf1.plot.scatter(x='station_lon', y='station_lat')"
   ]
  },
  {
   "cell_type": "code",
   "execution_count": 41,
   "metadata": {},
   "outputs": [],
   "source": [
    " med = pdf1.groupby(by=['source_block', 'station_block'])[\n",
    "        'observed_tt'].quantile(q=.5, interpolation='lower').reset_index()"
   ]
  },
  {
   "cell_type": "code",
   "execution_count": 42,
   "metadata": {},
   "outputs": [
    {
     "data": {
      "text/html": [
       "<div>\n",
       "<table border=\"1\" class=\"dataframe\">\n",
       "  <thead>\n",
       "    <tr style=\"text-align: right;\">\n",
       "      <th></th>\n",
       "      <th>source_block</th>\n",
       "      <th>station_block</th>\n",
       "      <th>observed_tt</th>\n",
       "    </tr>\n",
       "  </thead>\n",
       "  <tbody>\n",
       "    <tr>\n",
       "      <th>0</th>\n",
       "      <td>17085</td>\n",
       "      <td>21164</td>\n",
       "      <td>617.31</td>\n",
       "    </tr>\n",
       "    <tr>\n",
       "      <th>1</th>\n",
       "      <td>17085</td>\n",
       "      <td>24209</td>\n",
       "      <td>777.76</td>\n",
       "    </tr>\n",
       "    <tr>\n",
       "      <th>2</th>\n",
       "      <td>17085</td>\n",
       "      <td>24814</td>\n",
       "      <td>535.02</td>\n",
       "    </tr>\n",
       "    <tr>\n",
       "      <th>3</th>\n",
       "      <td>17085</td>\n",
       "      <td>25493</td>\n",
       "      <td>695.88</td>\n",
       "    </tr>\n",
       "    <tr>\n",
       "      <th>4</th>\n",
       "      <td>17085</td>\n",
       "      <td>29275</td>\n",
       "      <td>822.35</td>\n",
       "    </tr>\n",
       "  </tbody>\n",
       "</table>\n",
       "</div>"
      ],
      "text/plain": [
       "   source_block  station_block  observed_tt\n",
       "0         17085          21164       617.31\n",
       "1         17085          24209       777.76\n",
       "2         17085          24814       535.02\n",
       "3         17085          25493       695.88\n",
       "4         17085          29275       822.35"
      ]
     },
     "execution_count": 42,
     "metadata": {},
     "output_type": "execute_result"
    }
   ],
   "source": [
    "med.head()"
   ]
  },
  {
   "cell_type": "code",
   "execution_count": 43,
   "metadata": {},
   "outputs": [
    {
     "data": {
      "text/plain": [
       "(4548, 3)"
      ]
     },
     "execution_count": 43,
     "metadata": {},
     "output_type": "execute_result"
    }
   ],
   "source": [
    "med.shape"
   ]
  },
  {
   "cell_type": "code",
   "execution_count": null,
   "metadata": {},
   "outputs": [],
   "source": []
  },
  {
   "cell_type": "code",
   "execution_count": null,
   "metadata": {},
   "outputs": [],
   "source": []
  },
  {
   "cell_type": "code",
   "execution_count": 44,
   "metadata": {},
   "outputs": [
    {
     "data": {
      "text/plain": [
       "(4548, 34)"
      ]
     },
     "execution_count": 44,
     "metadata": {},
     "output_type": "execute_result"
    }
   ],
   "source": [
    "pdf1.shape"
   ]
  },
  {
   "cell_type": "code",
   "execution_count": 45,
   "metadata": {},
   "outputs": [],
   "source": [
    "pdf3=csv_data.groupby(by=['source_block', 'station_block']).count()"
   ]
  },
  {
   "cell_type": "code",
   "execution_count": 46,
   "metadata": {},
   "outputs": [
    {
     "data": {
      "text/plain": [
       "(4548, 26)"
      ]
     },
     "execution_count": 46,
     "metadata": {},
     "output_type": "execute_result"
    }
   ],
   "source": [
    "pdf3.shape"
   ]
  },
  {
   "cell_type": "code",
   "execution_count": 47,
   "metadata": {},
   "outputs": [
    {
     "data": {
      "text/html": [
       "<div>\n",
       "<table border=\"1\" class=\"dataframe\">\n",
       "  <thead>\n",
       "    <tr style=\"text-align: right;\">\n",
       "      <th></th>\n",
       "      <th></th>\n",
       "      <th>#eventID</th>\n",
       "      <th>originTimestamp</th>\n",
       "      <th>mag</th>\n",
       "      <th>source_lon</th>\n",
       "      <th>source_lat</th>\n",
       "      <th>source_depth_km</th>\n",
       "      <th>net</th>\n",
       "      <th>sta</th>\n",
       "      <th>cha</th>\n",
       "      <th>pickTimestamp</th>\n",
       "      <th>...</th>\n",
       "      <th>tt_residual</th>\n",
       "      <th>snr</th>\n",
       "      <th>qualityMeasureCWT</th>\n",
       "      <th>domFreq</th>\n",
       "      <th>qualityMeasureSlope</th>\n",
       "      <th>bandIndex</th>\n",
       "      <th>nSigma</th>\n",
       "      <th>manual_picks_flag</th>\n",
       "      <th>ray_filter_flag</th>\n",
       "      <th>observed_tt</th>\n",
       "    </tr>\n",
       "    <tr>\n",
       "      <th>source_block</th>\n",
       "      <th>station_block</th>\n",
       "      <th></th>\n",
       "      <th></th>\n",
       "      <th></th>\n",
       "      <th></th>\n",
       "      <th></th>\n",
       "      <th></th>\n",
       "      <th></th>\n",
       "      <th></th>\n",
       "      <th></th>\n",
       "      <th></th>\n",
       "      <th></th>\n",
       "      <th></th>\n",
       "      <th></th>\n",
       "      <th></th>\n",
       "      <th></th>\n",
       "      <th></th>\n",
       "      <th></th>\n",
       "      <th></th>\n",
       "      <th></th>\n",
       "      <th></th>\n",
       "      <th></th>\n",
       "    </tr>\n",
       "  </thead>\n",
       "  <tbody>\n",
       "    <tr>\n",
       "      <th rowspan=\"5\" valign=\"top\">17085</th>\n",
       "      <th>21164</th>\n",
       "      <td>2</td>\n",
       "      <td>2</td>\n",
       "      <td>2</td>\n",
       "      <td>2</td>\n",
       "      <td>2</td>\n",
       "      <td>2</td>\n",
       "      <td>2</td>\n",
       "      <td>2</td>\n",
       "      <td>2</td>\n",
       "      <td>2</td>\n",
       "      <td>...</td>\n",
       "      <td>2</td>\n",
       "      <td>2</td>\n",
       "      <td>2</td>\n",
       "      <td>2</td>\n",
       "      <td>2</td>\n",
       "      <td>2</td>\n",
       "      <td>2</td>\n",
       "      <td>2</td>\n",
       "      <td>2</td>\n",
       "      <td>2</td>\n",
       "    </tr>\n",
       "    <tr>\n",
       "      <th>24209</th>\n",
       "      <td>6</td>\n",
       "      <td>6</td>\n",
       "      <td>6</td>\n",
       "      <td>6</td>\n",
       "      <td>6</td>\n",
       "      <td>6</td>\n",
       "      <td>6</td>\n",
       "      <td>6</td>\n",
       "      <td>6</td>\n",
       "      <td>6</td>\n",
       "      <td>...</td>\n",
       "      <td>6</td>\n",
       "      <td>6</td>\n",
       "      <td>6</td>\n",
       "      <td>6</td>\n",
       "      <td>6</td>\n",
       "      <td>6</td>\n",
       "      <td>6</td>\n",
       "      <td>6</td>\n",
       "      <td>6</td>\n",
       "      <td>6</td>\n",
       "    </tr>\n",
       "    <tr>\n",
       "      <th>24814</th>\n",
       "      <td>2</td>\n",
       "      <td>2</td>\n",
       "      <td>2</td>\n",
       "      <td>2</td>\n",
       "      <td>2</td>\n",
       "      <td>2</td>\n",
       "      <td>2</td>\n",
       "      <td>2</td>\n",
       "      <td>2</td>\n",
       "      <td>2</td>\n",
       "      <td>...</td>\n",
       "      <td>2</td>\n",
       "      <td>2</td>\n",
       "      <td>2</td>\n",
       "      <td>2</td>\n",
       "      <td>2</td>\n",
       "      <td>2</td>\n",
       "      <td>2</td>\n",
       "      <td>2</td>\n",
       "      <td>2</td>\n",
       "      <td>2</td>\n",
       "    </tr>\n",
       "    <tr>\n",
       "      <th>25493</th>\n",
       "      <td>1</td>\n",
       "      <td>1</td>\n",
       "      <td>1</td>\n",
       "      <td>1</td>\n",
       "      <td>1</td>\n",
       "      <td>1</td>\n",
       "      <td>1</td>\n",
       "      <td>1</td>\n",
       "      <td>1</td>\n",
       "      <td>1</td>\n",
       "      <td>...</td>\n",
       "      <td>1</td>\n",
       "      <td>1</td>\n",
       "      <td>1</td>\n",
       "      <td>1</td>\n",
       "      <td>1</td>\n",
       "      <td>1</td>\n",
       "      <td>1</td>\n",
       "      <td>1</td>\n",
       "      <td>1</td>\n",
       "      <td>1</td>\n",
       "    </tr>\n",
       "    <tr>\n",
       "      <th>29275</th>\n",
       "      <td>3</td>\n",
       "      <td>3</td>\n",
       "      <td>3</td>\n",
       "      <td>3</td>\n",
       "      <td>3</td>\n",
       "      <td>3</td>\n",
       "      <td>3</td>\n",
       "      <td>3</td>\n",
       "      <td>3</td>\n",
       "      <td>3</td>\n",
       "      <td>...</td>\n",
       "      <td>3</td>\n",
       "      <td>3</td>\n",
       "      <td>3</td>\n",
       "      <td>3</td>\n",
       "      <td>3</td>\n",
       "      <td>3</td>\n",
       "      <td>3</td>\n",
       "      <td>3</td>\n",
       "      <td>3</td>\n",
       "      <td>3</td>\n",
       "    </tr>\n",
       "  </tbody>\n",
       "</table>\n",
       "<p>5 rows × 26 columns</p>\n",
       "</div>"
      ],
      "text/plain": [
       "                            #eventID  originTimestamp  mag  source_lon  \\\n",
       "source_block station_block                                               \n",
       "17085        21164                 2                2    2           2   \n",
       "             24209                 6                6    6           6   \n",
       "             24814                 2                2    2           2   \n",
       "             25493                 1                1    1           1   \n",
       "             29275                 3                3    3           3   \n",
       "\n",
       "                            source_lat  source_depth_km  net  sta  cha  \\\n",
       "source_block station_block                                               \n",
       "17085        21164                   2                2    2    2    2   \n",
       "             24209                   6                6    6    6    6   \n",
       "             24814                   2                2    2    2    2   \n",
       "             25493                   1                1    1    1    1   \n",
       "             29275                   3                3    3    3    3   \n",
       "\n",
       "                            pickTimestamp     ...       tt_residual  snr  \\\n",
       "source_block station_block                    ...                          \n",
       "17085        21164                      2     ...                 2    2   \n",
       "             24209                      6     ...                 6    6   \n",
       "             24814                      2     ...                 2    2   \n",
       "             25493                      1     ...                 1    1   \n",
       "             29275                      3     ...                 3    3   \n",
       "\n",
       "                            qualityMeasureCWT  domFreq  qualityMeasureSlope  \\\n",
       "source_block station_block                                                    \n",
       "17085        21164                          2        2                    2   \n",
       "             24209                          6        6                    6   \n",
       "             24814                          2        2                    2   \n",
       "             25493                          1        1                    1   \n",
       "             29275                          3        3                    3   \n",
       "\n",
       "                            bandIndex  nSigma  manual_picks_flag  \\\n",
       "source_block station_block                                         \n",
       "17085        21164                  2       2                  2   \n",
       "             24209                  6       6                  6   \n",
       "             24814                  2       2                  2   \n",
       "             25493                  1       1                  1   \n",
       "             29275                  3       3                  3   \n",
       "\n",
       "                            ray_filter_flag  observed_tt  \n",
       "source_block station_block                                \n",
       "17085        21164                        2            2  \n",
       "             24209                        6            6  \n",
       "             24814                        2            2  \n",
       "             25493                        1            1  \n",
       "             29275                        3            3  \n",
       "\n",
       "[5 rows x 26 columns]"
      ]
     },
     "execution_count": 47,
     "metadata": {},
     "output_type": "execute_result"
    }
   ],
   "source": [
    "pdf3.head()"
   ]
  },
  {
   "cell_type": "code",
   "execution_count": 48,
   "metadata": {},
   "outputs": [],
   "source": [
    "pdf4=pdf3[(pdf3['tt_residual']>=2)]  # more than one ray in the source->station set of rays"
   ]
  },
  {
   "cell_type": "code",
   "execution_count": 49,
   "metadata": {},
   "outputs": [
    {
     "data": {
      "text/plain": [
       "(931, 26)"
      ]
     },
     "execution_count": 49,
     "metadata": {},
     "output_type": "execute_result"
    }
   ],
   "source": [
    "pdf4.shape"
   ]
  },
  {
   "cell_type": "code",
   "execution_count": 50,
   "metadata": {},
   "outputs": [
    {
     "data": {
      "text/html": [
       "<div>\n",
       "<table border=\"1\" class=\"dataframe\">\n",
       "  <thead>\n",
       "    <tr style=\"text-align: right;\">\n",
       "      <th></th>\n",
       "      <th></th>\n",
       "      <th>#eventID</th>\n",
       "      <th>originTimestamp</th>\n",
       "      <th>mag</th>\n",
       "      <th>source_lon</th>\n",
       "      <th>source_lat</th>\n",
       "      <th>source_depth_km</th>\n",
       "      <th>net</th>\n",
       "      <th>sta</th>\n",
       "      <th>cha</th>\n",
       "      <th>pickTimestamp</th>\n",
       "      <th>...</th>\n",
       "      <th>tt_residual</th>\n",
       "      <th>snr</th>\n",
       "      <th>qualityMeasureCWT</th>\n",
       "      <th>domFreq</th>\n",
       "      <th>qualityMeasureSlope</th>\n",
       "      <th>bandIndex</th>\n",
       "      <th>nSigma</th>\n",
       "      <th>manual_picks_flag</th>\n",
       "      <th>ray_filter_flag</th>\n",
       "      <th>observed_tt</th>\n",
       "    </tr>\n",
       "    <tr>\n",
       "      <th>source_block</th>\n",
       "      <th>station_block</th>\n",
       "      <th></th>\n",
       "      <th></th>\n",
       "      <th></th>\n",
       "      <th></th>\n",
       "      <th></th>\n",
       "      <th></th>\n",
       "      <th></th>\n",
       "      <th></th>\n",
       "      <th></th>\n",
       "      <th></th>\n",
       "      <th></th>\n",
       "      <th></th>\n",
       "      <th></th>\n",
       "      <th></th>\n",
       "      <th></th>\n",
       "      <th></th>\n",
       "      <th></th>\n",
       "      <th></th>\n",
       "      <th></th>\n",
       "      <th></th>\n",
       "      <th></th>\n",
       "    </tr>\n",
       "  </thead>\n",
       "  <tbody>\n",
       "    <tr>\n",
       "      <th rowspan=\"5\" valign=\"top\">7873828</th>\n",
       "      <th>7801252</th>\n",
       "      <td>3</td>\n",
       "      <td>3</td>\n",
       "      <td>3</td>\n",
       "      <td>3</td>\n",
       "      <td>3</td>\n",
       "      <td>3</td>\n",
       "      <td>3</td>\n",
       "      <td>3</td>\n",
       "      <td>3</td>\n",
       "      <td>3</td>\n",
       "      <td>...</td>\n",
       "      <td>3</td>\n",
       "      <td>3</td>\n",
       "      <td>3</td>\n",
       "      <td>3</td>\n",
       "      <td>3</td>\n",
       "      <td>3</td>\n",
       "      <td>3</td>\n",
       "      <td>3</td>\n",
       "      <td>3</td>\n",
       "      <td>3</td>\n",
       "    </tr>\n",
       "    <tr>\n",
       "      <th>7801394</th>\n",
       "      <td>3</td>\n",
       "      <td>3</td>\n",
       "      <td>3</td>\n",
       "      <td>3</td>\n",
       "      <td>3</td>\n",
       "      <td>3</td>\n",
       "      <td>3</td>\n",
       "      <td>3</td>\n",
       "      <td>3</td>\n",
       "      <td>3</td>\n",
       "      <td>...</td>\n",
       "      <td>3</td>\n",
       "      <td>3</td>\n",
       "      <td>3</td>\n",
       "      <td>3</td>\n",
       "      <td>3</td>\n",
       "      <td>3</td>\n",
       "      <td>3</td>\n",
       "      <td>3</td>\n",
       "      <td>3</td>\n",
       "      <td>3</td>\n",
       "    </tr>\n",
       "    <tr>\n",
       "      <th>7801395</th>\n",
       "      <td>4</td>\n",
       "      <td>4</td>\n",
       "      <td>4</td>\n",
       "      <td>4</td>\n",
       "      <td>4</td>\n",
       "      <td>4</td>\n",
       "      <td>4</td>\n",
       "      <td>4</td>\n",
       "      <td>4</td>\n",
       "      <td>4</td>\n",
       "      <td>...</td>\n",
       "      <td>4</td>\n",
       "      <td>4</td>\n",
       "      <td>4</td>\n",
       "      <td>4</td>\n",
       "      <td>4</td>\n",
       "      <td>4</td>\n",
       "      <td>4</td>\n",
       "      <td>4</td>\n",
       "      <td>4</td>\n",
       "      <td>4</td>\n",
       "    </tr>\n",
       "    <tr>\n",
       "      <th>7801396</th>\n",
       "      <td>2</td>\n",
       "      <td>2</td>\n",
       "      <td>2</td>\n",
       "      <td>2</td>\n",
       "      <td>2</td>\n",
       "      <td>2</td>\n",
       "      <td>2</td>\n",
       "      <td>2</td>\n",
       "      <td>2</td>\n",
       "      <td>2</td>\n",
       "      <td>...</td>\n",
       "      <td>2</td>\n",
       "      <td>2</td>\n",
       "      <td>2</td>\n",
       "      <td>2</td>\n",
       "      <td>2</td>\n",
       "      <td>2</td>\n",
       "      <td>2</td>\n",
       "      <td>2</td>\n",
       "      <td>2</td>\n",
       "      <td>2</td>\n",
       "    </tr>\n",
       "    <tr>\n",
       "      <th>7801539</th>\n",
       "      <td>3</td>\n",
       "      <td>3</td>\n",
       "      <td>3</td>\n",
       "      <td>3</td>\n",
       "      <td>3</td>\n",
       "      <td>3</td>\n",
       "      <td>3</td>\n",
       "      <td>3</td>\n",
       "      <td>3</td>\n",
       "      <td>3</td>\n",
       "      <td>...</td>\n",
       "      <td>3</td>\n",
       "      <td>3</td>\n",
       "      <td>3</td>\n",
       "      <td>3</td>\n",
       "      <td>3</td>\n",
       "      <td>3</td>\n",
       "      <td>3</td>\n",
       "      <td>3</td>\n",
       "      <td>3</td>\n",
       "      <td>3</td>\n",
       "    </tr>\n",
       "  </tbody>\n",
       "</table>\n",
       "<p>5 rows × 26 columns</p>\n",
       "</div>"
      ],
      "text/plain": [
       "                            #eventID  originTimestamp  mag  source_lon  \\\n",
       "source_block station_block                                               \n",
       "7873828      7801252               3                3    3           3   \n",
       "             7801394               3                3    3           3   \n",
       "             7801395               4                4    4           4   \n",
       "             7801396               2                2    2           2   \n",
       "             7801539               3                3    3           3   \n",
       "\n",
       "                            source_lat  source_depth_km  net  sta  cha  \\\n",
       "source_block station_block                                               \n",
       "7873828      7801252                 3                3    3    3    3   \n",
       "             7801394                 3                3    3    3    3   \n",
       "             7801395                 4                4    4    4    4   \n",
       "             7801396                 2                2    2    2    2   \n",
       "             7801539                 3                3    3    3    3   \n",
       "\n",
       "                            pickTimestamp     ...       tt_residual  snr  \\\n",
       "source_block station_block                    ...                          \n",
       "7873828      7801252                    3     ...                 3    3   \n",
       "             7801394                    3     ...                 3    3   \n",
       "             7801395                    4     ...                 4    4   \n",
       "             7801396                    2     ...                 2    2   \n",
       "             7801539                    3     ...                 3    3   \n",
       "\n",
       "                            qualityMeasureCWT  domFreq  qualityMeasureSlope  \\\n",
       "source_block station_block                                                    \n",
       "7873828      7801252                        3        3                    3   \n",
       "             7801394                        3        3                    3   \n",
       "             7801395                        4        4                    4   \n",
       "             7801396                        2        2                    2   \n",
       "             7801539                        3        3                    3   \n",
       "\n",
       "                            bandIndex  nSigma  manual_picks_flag  \\\n",
       "source_block station_block                                         \n",
       "7873828      7801252                3       3                  3   \n",
       "             7801394                3       3                  3   \n",
       "             7801395                4       4                  4   \n",
       "             7801396                2       2                  2   \n",
       "             7801539                3       3                  3   \n",
       "\n",
       "                            ray_filter_flag  observed_tt  \n",
       "source_block station_block                                \n",
       "7873828      7801252                      3            3  \n",
       "             7801394                      3            3  \n",
       "             7801395                      4            4  \n",
       "             7801396                      2            2  \n",
       "             7801539                      3            3  \n",
       "\n",
       "[5 rows x 26 columns]"
      ]
     },
     "execution_count": 50,
     "metadata": {},
     "output_type": "execute_result"
    }
   ],
   "source": [
    "pdf4.tail()"
   ]
  },
  {
   "cell_type": "code",
   "execution_count": 51,
   "metadata": {},
   "outputs": [],
   "source": [
    "# select rows\n",
    "rowmask= (pdf1['source_block'] == 7875846) & (pdf1['station_block']==7803235)  #select certain rows\n",
    "pdf5=pdf1.loc[ rowmask ]"
   ]
  },
  {
   "cell_type": "code",
   "execution_count": 52,
   "metadata": {},
   "outputs": [
    {
     "data": {
      "text/html": [
       "<div>\n",
       "<table border=\"1\" class=\"dataframe\">\n",
       "  <thead>\n",
       "    <tr style=\"text-align: right;\">\n",
       "      <th></th>\n",
       "      <th>#eventID</th>\n",
       "      <th>originTimestamp</th>\n",
       "      <th>mag</th>\n",
       "      <th>source_lon</th>\n",
       "      <th>source_lat</th>\n",
       "      <th>source_depth_km</th>\n",
       "      <th>net</th>\n",
       "      <th>sta</th>\n",
       "      <th>cha</th>\n",
       "      <th>pickTimestamp</th>\n",
       "      <th>...</th>\n",
       "      <th>ray_filter_flag</th>\n",
       "      <th>source_block</th>\n",
       "      <th>station_block</th>\n",
       "      <th>observed_tt</th>\n",
       "      <th>locations_to_degrees</th>\n",
       "      <th>my_azim</th>\n",
       "      <th>my_bazim</th>\n",
       "      <th>ellipticity_corr</th>\n",
       "      <th>P_or_S</th>\n",
       "      <th>event_number</th>\n",
       "    </tr>\n",
       "  </thead>\n",
       "  <tbody>\n",
       "  </tbody>\n",
       "</table>\n",
       "<p>0 rows × 34 columns</p>\n",
       "</div>"
      ],
      "text/plain": [
       "Empty DataFrame\n",
       "Columns: [#eventID, originTimestamp, mag, source_lon, source_lat, source_depth_km, net, sta, cha, pickTimestamp, phase, station_lon, station_lat, az, baz, distance, tt_residual, snr, qualityMeasureCWT, domFreq, qualityMeasureSlope, bandIndex, nSigma, manual_picks_flag, ray_filter_flag, source_block, station_block, observed_tt, locations_to_degrees, my_azim, my_bazim, ellipticity_corr, P_or_S, event_number]\n",
       "Index: []\n",
       "\n",
       "[0 rows x 34 columns]"
      ]
     },
     "execution_count": 52,
     "metadata": {},
     "output_type": "execute_result"
    }
   ],
   "source": [
    "pdf5.head()"
   ]
  },
  {
   "cell_type": "code",
   "execution_count": 53,
   "metadata": {},
   "outputs": [
    {
     "data": {
      "text/plain": [
       "source_block            1.708500e+04\n",
       "station_block           2.116400e+04\n",
       "tt_residual             3.428490e+00\n",
       "event_number            1.283532e+09\n",
       "source_lon              1.719849e+02\n",
       "source_lat             -4.337618e+01\n",
       "source_depth_km         2.098619e+00\n",
       "station_lon             1.415950e+02\n",
       "station_lat            -3.187630e+01\n",
       "observed_tt             6.171531e+02\n",
       "locations_to_degrees    2.647645e+01\n",
       "P_or_S                  2.000000e+00\n",
       "Name: 11510, dtype: float64"
      ]
     },
     "execution_count": 53,
     "metadata": {},
     "output_type": "execute_result"
    }
   ],
   "source": [
    "# iloc[] select by row and column numbers as in the CSV table\n",
    "# loc[] select by index OR by boolean or conditional lookup\n",
    "\n",
    "# .iloc returns a Pandas Series when one row is selected,\n",
    "# and a Pandas DataFrame when multiple rows are selected, or if any column in full is selected. \n",
    "# To counter this, pass a single-valued list if you require DataFrame output.\n",
    "# https://www.shanelynn.ie/select-pandas-dataframe-rows-and-columns-using-iloc-loc-and-ix/\n",
    "\n",
    "pdf4_A.iloc[0]\n"
   ]
  },
  {
   "cell_type": "code",
   "execution_count": 54,
   "metadata": {},
   "outputs": [
    {
     "data": {
      "text/html": [
       "<div>\n",
       "<table border=\"1\" class=\"dataframe\">\n",
       "  <thead>\n",
       "    <tr style=\"text-align: right;\">\n",
       "      <th></th>\n",
       "      <th>source_block</th>\n",
       "      <th>station_block</th>\n",
       "      <th>tt_residual</th>\n",
       "      <th>event_number</th>\n",
       "      <th>source_lon</th>\n",
       "      <th>source_lat</th>\n",
       "      <th>source_depth_km</th>\n",
       "      <th>station_lon</th>\n",
       "      <th>station_lat</th>\n",
       "      <th>observed_tt</th>\n",
       "      <th>locations_to_degrees</th>\n",
       "      <th>P_or_S</th>\n",
       "    </tr>\n",
       "  </thead>\n",
       "  <tbody>\n",
       "    <tr>\n",
       "      <th>11510</th>\n",
       "      <td>17085</td>\n",
       "      <td>21164</td>\n",
       "      <td>3.42849</td>\n",
       "      <td>1283531746</td>\n",
       "      <td>171.984919</td>\n",
       "      <td>-43.37618</td>\n",
       "      <td>2.098619</td>\n",
       "      <td>141.595</td>\n",
       "      <td>-31.8763</td>\n",
       "      <td>617.153079</td>\n",
       "      <td>26.476455</td>\n",
       "      <td>2</td>\n",
       "    </tr>\n",
       "  </tbody>\n",
       "</table>\n",
       "</div>"
      ],
      "text/plain": [
       "       source_block  station_block  tt_residual  event_number  source_lon  \\\n",
       "11510         17085          21164      3.42849    1283531746  171.984919   \n",
       "\n",
       "       source_lat  source_depth_km  station_lon  station_lat  observed_tt  \\\n",
       "11510   -43.37618         2.098619      141.595     -31.8763   617.153079   \n",
       "\n",
       "       locations_to_degrees  P_or_S  \n",
       "11510             26.476455       2  "
      ]
     },
     "execution_count": 54,
     "metadata": {},
     "output_type": "execute_result"
    }
   ],
   "source": [
    "pdf4_A.iloc[[0]]"
   ]
  },
  {
   "cell_type": "code",
   "execution_count": 55,
   "metadata": {},
   "outputs": [],
   "source": [
    "rowmask= (pdf4_A['source_block'] == 7875846) & (pdf4_A['station_block']==7803235)  #select certain rows\n",
    "pdf5=pdf4_A.loc[ rowmask ]"
   ]
  },
  {
   "cell_type": "code",
   "execution_count": 56,
   "metadata": {},
   "outputs": [
    {
     "data": {
      "text/html": [
       "<div>\n",
       "<table border=\"1\" class=\"dataframe\">\n",
       "  <thead>\n",
       "    <tr style=\"text-align: right;\">\n",
       "      <th></th>\n",
       "      <th>source_block</th>\n",
       "      <th>station_block</th>\n",
       "      <th>tt_residual</th>\n",
       "      <th>event_number</th>\n",
       "      <th>source_lon</th>\n",
       "      <th>source_lat</th>\n",
       "      <th>source_depth_km</th>\n",
       "      <th>station_lon</th>\n",
       "      <th>station_lat</th>\n",
       "      <th>observed_tt</th>\n",
       "      <th>locations_to_degrees</th>\n",
       "      <th>P_or_S</th>\n",
       "    </tr>\n",
       "  </thead>\n",
       "  <tbody>\n",
       "  </tbody>\n",
       "</table>\n",
       "</div>"
      ],
      "text/plain": [
       "Empty DataFrame\n",
       "Columns: [source_block, station_block, tt_residual, event_number, source_lon, source_lat, source_depth_km, station_lon, station_lat, observed_tt, locations_to_degrees, P_or_S]\n",
       "Index: []"
      ]
     },
     "execution_count": 56,
     "metadata": {},
     "output_type": "execute_result"
    }
   ],
   "source": [
    "pdf5.head()"
   ]
  },
  {
   "cell_type": "code",
   "execution_count": 57,
   "metadata": {},
   "outputs": [
    {
     "ename": "SyntaxError",
     "evalue": "invalid syntax (<ipython-input-57-0bdb1988fcad>, line 3)",
     "output_type": "error",
     "traceback": [
      "\u001b[0;36m  File \u001b[0;32m\"<ipython-input-57-0bdb1988fcad>\"\u001b[0;36m, line \u001b[0;32m3\u001b[0m\n\u001b[0;31m    stop here\u001b[0m\n\u001b[0m            ^\u001b[0m\n\u001b[0;31mSyntaxError\u001b[0m\u001b[0;31m:\u001b[0m invalid syntax\n"
     ]
    }
   ],
   "source": [
    "#################################\n",
    "\n",
    "stop here"
   ]
  },
  {
   "cell_type": "markdown",
   "metadata": {},
   "source": [
    "#  Modify the sort function?"
   ]
  },
  {
   "cell_type": "code",
   "execution_count": null,
   "metadata": {},
   "outputs": [],
   "source": [
    "import logging\n",
    "import sys\n",
    "logging.basicConfig(format='%(asctime)s | %(levelname)s : %(message)s',\n",
    "                     level=logging.DEBUG, stream=sys.stdout)\n",
    "\n",
    "log =logging.getLogger()\n",
    "log.info('Hello from log.info !')\n",
    "\n",
    "\n",
    "# def sort(output_file, sorted_file, residual_cutoff):\n",
    "def sort2(output_file, sorted_file, residual_cutoff):\n",
    "    \"\"\"\n",
    "    Sort and filter the arrivals.\n",
    "\n",
    "    Sort based on the source and station block number.\n",
    "    There are two stages of filtering:\n",
    "    1. Filter based on the time residual\n",
    "    2. Filter based on best Signal_to_Noise-Ratio seismic wave: If there are multiple source and station block combinations, we keep the\n",
    "    row corresponding to the highest SNR value\n",
    "\n",
    "    cmdline usage:\n",
    "    cluster sort outfile_P.csv 5. -s sorted_P.csv\n",
    "    cluster sort outfile_S.csv 10. -s sorted_S.csv\n",
    "\n",
    "\n",
    "    :param output_file: output file from the gather stage (eg, outfile_P.csv)\n",
    "    :param sorted_file: str, optional\n",
    "        optional sorted output file path. Default: sorted.csv.\n",
    "    :param residual_cutoff: float\n",
    "        residual seconds above which arrivals are rejected.\n",
    "    :return: pandas_df\n",
    "    \"\"\"\n",
    "\n",
    "    log.info('Filtering arrivals.')\n",
    "\n",
    "    cluster_data = pd.read_csv(output_file, header=None,\n",
    "                               names=column_names)\n",
    "    \n",
    "    cluster_data = cluster_data[abs(cluster_data['residual'])\n",
    "                                < residual_cutoff]\n",
    "    \n",
    "    cluster_data['source_depth'] = cluster_data['source_depth'] / 1000.0  # convert to KM?\n",
    "    \n",
    "    # groupby sorts by default\n",
    "    # cluster_data.sort_values(by=['source_block', 'station_block'],\n",
    "    #                          inplace=True)\n",
    "\n",
    "    log.info('Sorting arrivals.')\n",
    "\n",
    "    # groupby automatically sorts\n",
    "#     med = cluster_data.groupby(\n",
    "#         by=['source_block', 'station_block']\n",
    "#         )['observed_tt'].quantile(q=.5, interpolation='lower').reset_index() # use a seq index:0,1,2,....\n",
    "\n",
    "#  SNR value max\n",
    "    med = cluster_data.groupby(\n",
    "        by=['source_block', 'station_block']\n",
    "        )['SNR'].max().reset_index() # use a seq index:0,1,2,.\n",
    "    \n",
    "    # med dataframe has three columns:  [source_block, station_block ,observed_tt]\n",
    "    \n",
    "    final_df = pd.merge(cluster_data, med, how='right',\n",
    "                        on=['source_block', 'station_block', 'SNR'],\n",
    "                        sort=True,\n",
    "                        right_index=True)\n",
    "\n",
    "    # Confirmed: drop_duplicates required due to possibly duplicated picks in\n",
    "    #  the original engdahl events\n",
    "    # refer: https://github.com/GeoscienceAustralia/passive-seismic/issues/51\n",
    "    # The subset is specified as we have some stations that are very close?\n",
    "    final_df.drop_duplicates(subset=['source_block', 'station_block'],\n",
    "                             keep='first',  inplace=True)\n",
    "\n",
    "    final_df.to_csv(sorted_file, header=False, index=False, sep=',')\n",
    "    \n",
    "    return final_df"
   ]
  },
  {
   "cell_type": "code",
   "execution_count": null,
   "metadata": {},
   "outputs": [],
   "source": [
    "mypdf2 = sort2(inputcsv,sortedfile,residual_cutoff)"
   ]
  },
  {
   "cell_type": "code",
   "execution_count": null,
   "metadata": {},
   "outputs": [],
   "source": [
    "mypdf2.shape"
   ]
  },
  {
   "cell_type": "code",
   "execution_count": null,
   "metadata": {},
   "outputs": [],
   "source": [
    "mypdf2.head()"
   ]
  },
  {
   "cell_type": "code",
   "execution_count": null,
   "metadata": {},
   "outputs": [],
   "source": [
    "mypdf = sort2(inputcsv,sortedfile,residual_cutoff)"
   ]
  },
  {
   "cell_type": "code",
   "execution_count": null,
   "metadata": {},
   "outputs": [],
   "source": [
    "mypdf.shape"
   ]
  },
  {
   "cell_type": "code",
   "execution_count": null,
   "metadata": {},
   "outputs": [],
   "source": [
    "mypdf.head()"
   ]
  },
  {
   "cell_type": "code",
   "execution_count": null,
   "metadata": {},
   "outputs": [],
   "source": [
    "# check if any duplicate (source_block,station_block) in the dataframe?  primkey\n",
    "mypdf3=mypdf.groupby(by=['source_block', 'station_block']).count()"
   ]
  },
  {
   "cell_type": "code",
   "execution_count": null,
   "metadata": {},
   "outputs": [],
   "source": [
    "mypdf3.head()"
   ]
  },
  {
   "cell_type": "code",
   "execution_count": null,
   "metadata": {},
   "outputs": [],
   "source": [
    "mypdf4 = mypdf3[(mypdf3['residual']>1)]"
   ]
  },
  {
   "cell_type": "code",
   "execution_count": null,
   "metadata": {},
   "outputs": [],
   "source": [
    "# check if any duplicate (source_block,station_block)\n",
    "mypdf4.shape  # no rows now  \n"
   ]
  },
  {
   "cell_type": "code",
   "execution_count": null,
   "metadata": {},
   "outputs": [],
   "source": [
    "pdf2.loc[2]"
   ]
  },
  {
   "cell_type": "code",
   "execution_count": null,
   "metadata": {},
   "outputs": [],
   "source": [
    "pdf2.iloc[1]"
   ]
  },
  {
   "cell_type": "code",
   "execution_count": null,
   "metadata": {},
   "outputs": [],
   "source": [
    "pdf2.describe()"
   ]
  },
  {
   "cell_type": "code",
   "execution_count": null,
   "metadata": {},
   "outputs": [],
   "source": [
    "pdf2.index"
   ]
  },
  {
   "cell_type": "code",
   "execution_count": null,
   "metadata": {},
   "outputs": [],
   "source": [
    "pdf2.index=pdf2.event_number"
   ]
  },
  {
   "cell_type": "code",
   "execution_count": null,
   "metadata": {},
   "outputs": [],
   "source": [
    "pdf2.index"
   ]
  },
  {
   "cell_type": "code",
   "execution_count": null,
   "metadata": {},
   "outputs": [],
   "source": [
    "pdf2.tail(n=5)"
   ]
  },
  {
   "cell_type": "code",
   "execution_count": null,
   "metadata": {},
   "outputs": [],
   "source": [
    "pdf2.iloc[1]  # now .loc[2] does not work"
   ]
  },
  {
   "cell_type": "code",
   "execution_count": null,
   "metadata": {},
   "outputs": [],
   "source": [
    "#pdf2.loc[215]"
   ]
  },
  {
   "cell_type": "code",
   "execution_count": null,
   "metadata": {},
   "outputs": [],
   "source": []
  },
  {
   "cell_type": "code",
   "execution_count": null,
   "metadata": {},
   "outputs": [],
   "source": []
  },
  {
   "cell_type": "code",
   "execution_count": null,
   "metadata": {},
   "outputs": [],
   "source": [
    "-170%360"
   ]
  }
 ],
 "metadata": {
  "kernelspec": {
   "display_name": "Python 3",
   "language": "python",
   "name": "python3"
  },
  "language_info": {
   "codemirror_mode": {
    "name": "ipython",
    "version": 3
   },
   "file_extension": ".py",
   "mimetype": "text/x-python",
   "name": "python",
   "nbconvert_exporter": "python",
   "pygments_lexer": "ipython3",
   "version": "3.6.7"
  }
 },
 "nbformat": 4,
 "nbformat_minor": 2
}
