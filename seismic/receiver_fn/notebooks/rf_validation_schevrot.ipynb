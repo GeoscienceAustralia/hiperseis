{
 "cells": [
  {
   "cell_type": "markdown",
   "metadata": {},
   "source": [
    "# Use public data to replicate S.Chevrot (2000) *Earth and Planetary Science Letters* results Figure 3"
   ]
  },
  {
   "cell_type": "code",
   "execution_count": null,
   "metadata": {},
   "outputs": [],
   "source": [
    "import os\n",
    "\n",
    "import numpy as np\n",
    "import pandas as pd\n",
    "\n",
    "import rf\n",
    "import rf.imaging\n",
    "\n",
    "import matplotlib.pyplot as plt\n",
    "import seaborn as sns\n",
    "\n",
    "from obspy import UTCDateTime"
   ]
  },
  {
   "cell_type": "code",
   "execution_count": null,
   "metadata": {},
   "outputs": [],
   "source": [
    "import seismic.receiver_fn.rf_util as rf_util\n",
    "import seismic.receiver_fn.rf_plot_utils as rf_plot_utils\n",
    "import seismic.receiver_fn.rf_stacking as rf_stacking"
   ]
  },
  {
   "cell_type": "markdown",
   "metadata": {},
   "source": [
    "### Load the data file of processed RF traces for analysis"
   ]
  },
  {
   "cell_type": "code",
   "execution_count": null,
   "metadata": {},
   "outputs": [],
   "source": [
    "station = 'SD02'\n",
    "data = rf_util.read_h5_rf(r\"..\\DATA\\7B_rfs_19930503T030058-19950810T012516_LQT_fd_qual.h5\", root='/waveforms/7B.SD02.')\n",
    "data"
   ]
  },
  {
   "cell_type": "markdown",
   "metadata": {},
   "source": [
    "## Process data and present RF stacking"
   ]
  },
  {
   "cell_type": "markdown",
   "metadata": {},
   "source": [
    "### Filter data down to only RF traces (filter out raw traces)"
   ]
  },
  {
   "cell_type": "code",
   "execution_count": null,
   "metadata": {},
   "outputs": [],
   "source": [
    "data_rf = rf.RFStream([tr for tr in data if tr.stats.type == 'rf'])\n",
    "del data\n",
    "data_rf"
   ]
  },
  {
   "cell_type": "markdown",
   "metadata": {},
   "source": [
    "### Check the main data channel code and set channel accordingly"
   ]
  },
  {
   "cell_type": "code",
   "execution_count": null,
   "metadata": {},
   "outputs": [],
   "source": [
    "set([tr.stats.channel for tr in data_rf])"
   ]
  },
  {
   "cell_type": "code",
   "execution_count": null,
   "metadata": {},
   "outputs": [],
   "source": [
    "channel = 'BHQ'"
   ]
  },
  {
   "cell_type": "markdown",
   "metadata": {},
   "source": [
    "### Check distribution of SNR values to help us choose a cutoff"
   ]
  },
  {
   "cell_type": "code",
   "execution_count": null,
   "metadata": {},
   "outputs": [],
   "source": [
    "snr_all = np.array([tr.stats.snr for tr in data_rf])"
   ]
  },
  {
   "cell_type": "code",
   "execution_count": null,
   "metadata": {},
   "outputs": [],
   "source": [
    "plt.hist(snr_all, bins=20)\n",
    "# plt.xlim((0, 20))\n",
    "plt.show()"
   ]
  },
  {
   "cell_type": "code",
   "execution_count": null,
   "metadata": {},
   "outputs": [],
   "source": [
    "# Pick a cutoff to get about 20 traces\n",
    "cutoff_snr = 2.0"
   ]
  },
  {
   "cell_type": "markdown",
   "metadata": {},
   "source": [
    "### Filter RFs to those with good enough SNR"
   ]
  },
  {
   "cell_type": "code",
   "execution_count": null,
   "metadata": {},
   "outputs": [],
   "source": [
    "data_good = rf.RFStream(sorted([tr for tr in data_rf if tr.stats.snr >= cutoff_snr], key=lambda v: v.stats.distance))\n",
    "len(data_good)"
   ]
  },
  {
   "cell_type": "markdown",
   "metadata": {},
   "source": [
    "### Plot the good RFs"
   ]
  },
  {
   "cell_type": "code",
   "execution_count": null,
   "metadata": {},
   "outputs": [],
   "source": [
    "time_window=(-1.0, 30.0)\n",
    "trace_height=0.15\n",
    "stack_height=0.6\n",
    "scale=2"
   ]
  },
  {
   "cell_type": "code",
   "execution_count": null,
   "metadata": {},
   "outputs": [],
   "source": [
    "_ = data_good.plot_rf(fillcolors=('#000000', '#a0a0a0'), trim=time_window, scale=scale, trace_height=trace_height, stack_height=stack_height)"
   ]
  },
  {
   "cell_type": "code",
   "execution_count": null,
   "metadata": {},
   "outputs": [],
   "source": [
    "# Experimental: scale traces by phase-weighting. Since there is no moveout, this phase weighting dilutes the strength of the PpPs and higher multiples,\n",
    "# so this does not help the stacked result.\n",
    "# pw = rf_util.phase_weights(data_good)\n",
    "# data_good_pw = data_good.copy()\n",
    "# for tr in data_good_pw:\n",
    "#     tr.data = tr.data*pw\n",
    "# _ = data_good_pw.plot_rf(fillcolors=('#000000', '#a0a0a0'), trim=time_window, scale=scale, trace_height=trace_height, stack_height=stack_height)"
   ]
  },
  {
   "cell_type": "markdown",
   "metadata": {},
   "source": [
    "## H-k stacking"
   ]
  },
  {
   "cell_type": "code",
   "execution_count": null,
   "metadata": {},
   "outputs": [],
   "source": [
    "db = rf_util.rf_to_dict(data_good)\n",
    "data_sta = db[station]"
   ]
  },
  {
   "cell_type": "code",
   "execution_count": null,
   "metadata": {},
   "outputs": [],
   "source": [
    "weighting = (0.5, 0.5, 0.0)\n",
    "\n",
    "k_grid, h_grid, hk_stack = rf_stacking.compute_hk_stack(data_sta, channel, h_range=np.linspace(20.0, 70.0, 501), root_order=2, V_p=6.4)\n",
    "\n",
    "# Sum the phases\n",
    "hk_stack_sum = rf_stacking.compute_weighted_stack(hk_stack, weighting)\n",
    "\n",
    "# Raise the final sum over phases to power >1 to increase contrast\n",
    "hk_stack_sum = rf_util.signed_nth_power(hk_stack_sum, 2)\n",
    "\n",
    "sta = data_sta[channel][0].stats.station\n",
    "num = len(data_sta[channel])\n",
    "save_file = 'Hk_stack_SD02.BHQ_validation.png'\n",
    "rf_plot_utils.plot_hk_stack(k_grid, h_grid, hk_stack_sum, title='Station ' + sta + '.{}'.format(channel), num=num, save_file=save_file)"
   ]
  },
  {
   "cell_type": "markdown",
   "metadata": {},
   "source": [
    "## Further analysis to disambiguate which is the \"correct\" selection of *H-k* maximum"
   ]
  },
  {
   "cell_type": "markdown",
   "metadata": {},
   "source": [
    "### Generate simple picks on $t_1$, $t_2$ and use analytic solution for $(H, \\kappa)$ to compute scattergram based on picks"
   ]
  },
  {
   "cell_type": "code",
   "execution_count": null,
   "metadata": {},
   "outputs": [],
   "source": [
    "# Use larger dataset for denser scattergram\n",
    "adequate_cutoff = 1.5\n",
    "data_adequate = rf.RFStream(sorted([tr for tr in data_rf if tr.stats.snr >= adequate_cutoff], key=lambda v: v.stats.distance))\n",
    "len(data_adequate)"
   ]
  },
  {
   "cell_type": "code",
   "execution_count": null,
   "metadata": {},
   "outputs": [],
   "source": [
    "# Get t1, t2 from picking maxima within narrow time bands based on RF plot above\n",
    "t1 = []\n",
    "t2 = []\n",
    "incl = []\n",
    "slowness_secperkm = []\n",
    "km_per_deg = 111.1949\n",
    "snr_ad = np.array([tr.stats.snr for tr in data_adequate])\n",
    "for tr in data_adequate:\n",
    "    t_offset = tr.stats.onset - tr.stats.starttime\n",
    "    t_rel = tr.times() - t_offset\n",
    "    t1_mask = ((t_rel >= 4) & (t_rel <= 7.5))\n",
    "    t2_mask = ((t_rel >= 15) & (t_rel <= 20))\n",
    "    t1_max = np.max(tr.data[t1_mask])\n",
    "    t2_max = np.max(tr.data[t2_mask])\n",
    "    t1_index = np.where(tr.data[t1_mask] == t1_max)\n",
    "    t2_index = np.where(tr.data[t2_mask] == t2_max)\n",
    "    t1_val = t_rel[t1_mask][t1_index]\n",
    "    t2_val = t_rel[t2_mask][t2_index]\n",
    "    t1.append(t1_val.mean())\n",
    "    t2.append(t2_val.mean())\n",
    "    incl.append(tr.stats.inclination*np.pi/180.0)\n",
    "    slowness_secperkm.append(tr.stats.slowness/km_per_deg)\n",
    "t1 = np.array(t1)\n",
    "t2 = np.array(t2)\n",
    "incl = np.array(incl)\n",
    "slowness_secperkm = np.array(slowness_secperkm)\n",
    "ray_param = np.sin(incl)*slowness_secperkm"
   ]
  },
  {
   "cell_type": "code",
   "execution_count": null,
   "metadata": {},
   "outputs": [],
   "source": [
    "alpha = t2 - t1\n",
    "beta = t1 + t2\n",
    "V_p = 6.4"
   ]
  },
  {
   "cell_type": "code",
   "execution_count": null,
   "metadata": {},
   "outputs": [],
   "source": [
    "p = ray_param\n",
    "H = alpha/(2*np.sqrt(1/V_p**2 - p*p))\n",
    "k = V_p*np.sqrt((beta/(2*H))**2 + p*p)"
   ]
  },
  {
   "cell_type": "code",
   "execution_count": null,
   "metadata": {},
   "outputs": [],
   "source": [
    "from matplotlib.patches import Ellipse\n",
    "import matplotlib.transforms as transforms\n",
    "\n",
    "plt.figure(figsize=(13,12))\n",
    "ax = plt.gca()\n",
    "sns.scatterplot(k, H, hue=snr_ad, size=snr_ad, sizes=(50, 250), s=1000, alpha=0.9, ax=ax)\n",
    "plt.xticks(fontsize=14)\n",
    "plt.yticks(fontsize=14)\n",
    "plt.xlabel(r'$\\kappa = \\frac{V_p}{V_s}$ (ratio)', fontsize=14)\n",
    "plt.ylabel('H = Moho depth (km)', fontsize=14)\n",
    "plt.grid(color=\"#80808080\", linestyle=\":\")\n",
    "plt.xlim(1.3, 2.1)\n",
    "plt.ylim(20, 70)\n",
    "plt.legend(title='SNR')\n",
    "plt.title('Per-event $H-\\kappa$ scattergram based on $t_1$, $t_2$ picks', fontsize=20)\n",
    "# ellipse = Ellipse((0, 0), width=0.4, height=5, facecolor=None, edgecolor='#202020', linestyle='--', fill=False)\n",
    "# transf = transforms.Affine2D().rotate_deg(0).translate(1.85, 39)\n",
    "# ellipse.set_transform(transf + ax.transData)\n",
    "# ax.add_patch(ellipse)\n",
    "plt.savefig('Hk_scattergram_SD02.BHQ_validation.png', dpi=300)\n",
    "plt.show()"
   ]
  },
  {
   "cell_type": "markdown",
   "metadata": {},
   "source": [
    "## APPENDIX: Derivation of solution for $(H, \\kappa)$ from $(t_1, t_2)$"
   ]
  },
  {
   "cell_type": "markdown",
   "metadata": {},
   "source": [
    "There are various similar and equivalent formulations for the theoretical arrival times $t_1, t_2$ of the Ps and PpPs phases respectively. The formulation chosen here is that of Youlin Chen *et al.*, \"Crustal structure beneath China from receiver function analysis\", *Journal of Geophysical Research*, Vol.115, B03307 (2010), doi:10.1029/2009JB006386.\n",
    "\n",
    "Starting with:\n",
    "\n",
    "$t_1 = H \\left[\\sqrt{\\left(\\frac{\\kappa}{V_p}\\right)^2 - p^2} - \\sqrt{\\left(\\frac{1}{V_p}\\right)^2 - p^2} \\right] \\qquad \\text{Ps}$\n",
    "\n",
    "and\n",
    "\n",
    "$t_2 = H \\left[\\sqrt{\\left(\\frac{\\kappa}{V_p}\\right)^2 - p^2} + \\sqrt{\\left(\\frac{1}{V_p}\\right)^2 - p^2} \\right] \\qquad \\text{PpPs}$\n",
    "\n",
    "where $H$ = depth to Moho, $\\kappa = \\frac{V_p}{V_s}$, $V_p$ = P-wave velocity, $p$ = ray parameter (per ray/event).\n",
    "\n",
    "The let $\\alpha = t_2 - t_1$, $\\beta = t_1 + t_2$. Algebraic solution yields\n",
    "\n",
    "$\\alpha = 2H\\sqrt{\\left(\\frac{1}{V_p}\\right)^2 - p^2}$\n",
    "\n",
    "$\\implies H = \\frac{\\alpha}{2\\sqrt{\\left(\\frac{1}{V_p}\\right)^2 - p^2}}$\n",
    "\n",
    "in which one can see that $\\alpha$ is independent of $\\kappa$ and depends only on $H$.\n",
    "\n",
    "For $\\beta$,\n",
    "\n",
    "$\\beta = 2H\\sqrt{\\left(\\frac{\\kappa}{V_p}\\right)^2 - p^2}$\n",
    "\n",
    "$\\implies \\kappa = \\frac{V_p}{V_s} = V_p \\sqrt{\\left(\\frac{\\beta}{2H}\\right)^2 + p^2}$"
   ]
  },
  {
   "cell_type": "code",
   "execution_count": null,
   "metadata": {},
   "outputs": [],
   "source": []
  }
 ],
 "metadata": {
  "kernelspec": {
   "display_name": "Python 3",
   "language": "python",
   "name": "python3"
  },
  "language_info": {
   "codemirror_mode": {
    "name": "ipython",
    "version": 3
   },
   "file_extension": ".py",
   "mimetype": "text/x-python",
   "name": "python",
   "nbconvert_exporter": "python",
   "pygments_lexer": "ipython3",
   "version": "3.6.7"
  }
 },
 "nbformat": 4,
 "nbformat_minor": 4
}
