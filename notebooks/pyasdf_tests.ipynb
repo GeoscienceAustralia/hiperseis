{
 "cells": [
  {
   "cell_type": "markdown",
   "metadata": {},
   "source": [
    "# PyASDF IO API\n",
    "\n",
    "- http://seismicdata.github.io/pyasdf/\n",
    "- https://github.com/krischer/cig_all_hands_2016_obspy_and_python_tutorial/tree/master/ObsPy\n",
    "\n",
    "- https://gajira.atlassian.net/browse/PV-282\n"
   ]
  },
  {
   "cell_type": "markdown",
   "metadata": {},
   "source": [
    "## Create a new ASDF file"
   ]
  },
  {
   "cell_type": "code",
   "execution_count": 1,
   "metadata": {},
   "outputs": [],
   "source": [
    "import pyasdf\n",
    "import glob"
   ]
  },
  {
   "cell_type": "code",
   "execution_count": 2,
   "metadata": {},
   "outputs": [],
   "source": [
    "ASDF_FILE=\"new_ASDF_file.h5\"\n",
    "\n",
    "ds = pyasdf.ASDFDataSet(ASDF_FILE, compression=\"gzip-3\") # default mode=\"a\"\n"
   ]
  },
  {
   "cell_type": "code",
   "execution_count": 3,
   "metadata": {
    "scrolled": true
   },
   "outputs": [
    {
     "name": "stdout",
     "output_type": "stream",
     "text": [
      "ASDF file [format version: 1.0.3]: 'new_ASDF_file.h5' (96.0 bytes)\n",
      "\tContains 0 event(s)\n",
      "\tContains waveform data from 0 station(s).\n"
     ]
    }
   ],
   "source": [
    "print(ds)"
   ]
  },
  {
   "cell_type": "code",
   "execution_count": 4,
   "metadata": {},
   "outputs": [],
   "source": [
    "# Add some miniseed files\n",
    "\n",
    "# myfiles = glob.glob(\"/Datasets/tmp_demult_mseed/*.mseed\")\n",
    "# for _i, filename in enumerate(myfiles):\n",
    "#     print(\"Adding file %s:  %i of %i...\"%(filename,_i +1, len(myfiles)))\n",
    "#     ds.add_waveforms(filename, tag=\"raw_recording\")"
   ]
  },
  {
   "cell_type": "code",
   "execution_count": 5,
   "metadata": {},
   "outputs": [
    {
     "name": "stdout",
     "output_type": "stream",
     "text": [
      "ASDF file [format version: 1.0.3]: 'new_ASDF_file.h5' (96.0 bytes)\n",
      "\tContains 0 event(s)\n",
      "\tContains waveform data from 0 station(s).\n"
     ]
    }
   ],
   "source": [
    "print (ds)\n",
    "\n",
    "# want close this object?\n",
    "# del(ds)"
   ]
  },
  {
   "cell_type": "code",
   "execution_count": null,
   "metadata": {},
   "outputs": [],
   "source": []
  },
  {
   "cell_type": "markdown",
   "metadata": {},
   "source": [
    "## Adding Station Information"
   ]
  },
  {
   "cell_type": "code",
   "execution_count": 6,
   "metadata": {},
   "outputs": [],
   "source": [
    "ASDF_FILE=\"new_asdf_stationxml_files.h5\"\n",
    "\n",
    "ds = pyasdf.ASDFDataSet(ASDF_FILE, compression=\"gzip-3\") # default mode=\"a\""
   ]
  },
  {
   "cell_type": "code",
   "execution_count": 7,
   "metadata": {},
   "outputs": [],
   "source": [
    "\n",
    "# >>> files = glob.glob(\"/path/to/stations/*.xml\")\n",
    "# >>> for _i, filename in enumerate(files):\n",
    "# ...     print(\"Adding file %i of %i ...\" % (_i + 1, len(files)))\n",
    "# ...     ds.add_stationxml(filename)"
   ]
  },
  {
   "cell_type": "code",
   "execution_count": 8,
   "metadata": {},
   "outputs": [],
   "source": [
    "#ds.add_stationxml(\"/Datasets/networks_fdsnstationxml/inventory.xml\")\n",
    "#ds.add_stationxml(\"/g/data/ha3/Passive/_AusArray/OA/ASDF_cleaned/OA_stations_2017-2018.xml\")"
   ]
  },
  {
   "cell_type": "code",
   "execution_count": 9,
   "metadata": {},
   "outputs": [
    {
     "name": "stdout",
     "output_type": "stream",
     "text": [
      "['./OA.CF28_station_inv_modified_json.xml']\n",
      "Adding file ./OA.CF28_station_inv_modified_json.xml 1 of 1 ...\n"
     ]
    }
   ],
   "source": [
    "# adding individual stations\n",
    "# files = glob.glob(\"/g/data/ha3/Passive/SHARED_DATA/GPS_Clock/StationXML_with_time_corrections2/OA*.xml\")\n",
    "# files = glob.glob(\"/Datasets/StationXML_with_time_corrections2/OA*.xml\")\n",
    "files = glob.glob(\"./OA.CF28_station_inv_modified_json.xml\")\n",
    "print (files)\n",
    "for _i, filename in enumerate(files):\n",
    "    print(\"Adding file %s %i of %i ...\" % (filename, _i + 1, len(files)))\n",
    "    ds.add_stationxml(filename)"
   ]
  },
  {
   "cell_type": "code",
   "execution_count": 10,
   "metadata": {},
   "outputs": [
    {
     "name": "stdout",
     "output_type": "stream",
     "text": [
      "ASDF file [format version: 1.0.3]: 'new_asdf_stationxml_files.h5' (8.1 KB)\n",
      "\tContains 0 event(s)\n",
      "\tContains waveform data from 1 station(s).\n"
     ]
    }
   ],
   "source": [
    "print(ds)"
   ]
  },
  {
   "cell_type": "markdown",
   "metadata": {},
   "source": [
    "### Now check what are inside the ASDF"
   ]
  },
  {
   "cell_type": "code",
   "execution_count": 11,
   "metadata": {},
   "outputs": [
    {
     "name": "stdout",
     "output_type": "stream",
     "text": [
      "['OA.CF28']\n"
     ]
    }
   ],
   "source": [
    "print(ds.waveforms.list())"
   ]
  },
  {
   "cell_type": "code",
   "execution_count": 12,
   "metadata": {},
   "outputs": [
    {
     "name": "stdout",
     "output_type": "stream",
     "text": [
      "Inventory created at 2019-02-02T18:42:45.000000Z\n",
      "\tCreated by: ObsPy 1.0.2\n",
      "\t\t    https://www.obspy.org\n",
      "\tSending institution: Geoscience Australia\n",
      "\tContains:\n",
      "\t\tNetworks (1):\n",
      "\t\t\tOA\n",
      "\t\tStations (3):\n",
      "\t\t\tOA.CF28 (CF28) (3x)\n",
      "\t\tChannels (9):\n",
      "\t\t\tOA.CF28.0M.HHZ (3x), OA.CF28.0M.HHN (3x), OA.CF28.0M.HHE (3x)\n"
     ]
    }
   ],
   "source": [
    "# print(ds.waveforms.OAFZ_CE22.StationXML)\n",
    "print(ds.waveforms.OA_CF28.StationXML)"
   ]
  },
  {
   "cell_type": "code",
   "execution_count": 13,
   "metadata": {},
   "outputs": [],
   "source": [
    "inv=ds.waveforms.OA_CF28.StationXML\n",
    "inv.write('test_OA_CF28_inventory.xml', format='STATIONXML')\n",
    "#           nsmap={'my_ns': 'http://test.org/xmlns/0.1',\n",
    "#                  'somepage_ns': 'http://some-page.de/xmlns/1.0'})"
   ]
  },
  {
   "cell_type": "code",
   "execution_count": 14,
   "metadata": {},
   "outputs": [
    {
     "ename": "SyntaxError",
     "evalue": "'break' outside loop (<ipython-input-14-2e91fbc41d10>, line 6)",
     "output_type": "error",
     "traceback": [
      "\u001b[0;36m  File \u001b[0;32m\"<ipython-input-14-2e91fbc41d10>\"\u001b[0;36m, line \u001b[0;32m6\u001b[0m\n\u001b[0;31mSyntaxError\u001b[0m\u001b[0;31m:\u001b[0m 'break' outside loop\n"
     ]
    }
   ],
   "source": [
    "# the extracted station xml file only have one xml node for station code=\"CE22\", date ranges are merged by asdf\n",
    "\n",
    "break\n",
    "\n",
    "!cat test_OA_CF28_inventory.xml"
   ]
  },
  {
   "cell_type": "code",
   "execution_count": null,
   "metadata": {},
   "outputs": [],
   "source": [
    "ds.add_stationxml(\"/Datasets/StationXML_with_time_corrections2/OAFZ.CE22.tmp4test.xml\")"
   ]
  },
  {
   "cell_type": "code",
   "execution_count": null,
   "metadata": {},
   "outputs": [],
   "source": [
    "inv=ds.waveforms.OAFZ_CE22.StationXML\n",
    "inv.write('test_OAFZ_CE22_inventory.xml', format='STATIONXML')"
   ]
  },
  {
   "cell_type": "code",
   "execution_count": null,
   "metadata": {},
   "outputs": [],
   "source": [
    "!cat test_OAFZ_CE22_inventory.xml"
   ]
  },
  {
   "cell_type": "code",
   "execution_count": null,
   "metadata": {},
   "outputs": [],
   "source": [
    "# compare with the original xml with GPS correction data. The GPS data was lost in ASDF?\n",
    "!cat /Datasets/StationXML_with_time_corrections2/OAFZ.CE22.tmp4test.xml"
   ]
  },
  {
   "cell_type": "code",
   "execution_count": null,
   "metadata": {},
   "outputs": [],
   "source": [
    "break point\n",
    "\n"
   ]
  },
  {
   "cell_type": "markdown",
   "metadata": {},
   "source": [
    "## Extract data from an existing ASDF file"
   ]
  },
  {
   "cell_type": "code",
   "execution_count": null,
   "metadata": {},
   "outputs": [],
   "source": [
    "ASDF_FILE=\"/g/data/ha3/GASeisDataArchive/DevSpace/2020.h5\"\n",
    "ASDF_FILE=\"/g/data/ha3/Passive/STRIPED_DATA/TEMP/OA_AUSARRAY1_rev1.h5\"\n",
    "#ASDF_FILE=\"/g/data/ha3/Passive/STRIPED_DATA/TEMP/OA_AUSARRAY_Yr2_S1.h5\"  \n",
    "\n",
    "ds = pyasdf.ASDFDataSet(ASDF_FILE, mode=\"r\")"
   ]
  },
  {
   "cell_type": "code",
   "execution_count": null,
   "metadata": {},
   "outputs": [],
   "source": [
    "print(ds)"
   ]
  },
  {
   "cell_type": "code",
   "execution_count": null,
   "metadata": {},
   "outputs": [],
   "source": [
    "print(type(ds))"
   ]
  },
  {
   "cell_type": "code",
   "execution_count": null,
   "metadata": {},
   "outputs": [],
   "source": [
    "ds.waveforms.list()"
   ]
  },
  {
   "cell_type": "code",
   "execution_count": null,
   "metadata": {},
   "outputs": [],
   "source": [
    "# OA.BY22_station_inv_modified.xml  OA.CE28_station_inv_modified.xml\n",
    "# OA.CE22_station_inv_modified.xml  OA.CF28_station_inv_modified.xml\n",
    "\n",
    "print(ds.waveforms.OA_BY22)"
   ]
  },
  {
   "cell_type": "code",
   "execution_count": null,
   "metadata": {},
   "outputs": [],
   "source": [
    "print(ds.waveforms.OA_BY22.StationXML)"
   ]
  },
  {
   "cell_type": "code",
   "execution_count": null,
   "metadata": {},
   "outputs": [],
   "source": [
    "print (type(ds.waveforms.OA_BY22.StationXML) )"
   ]
  },
  {
   "cell_type": "code",
   "execution_count": null,
   "metadata": {},
   "outputs": [],
   "source": [
    "inv=ds.waveforms.OA_CF28.StationXML\n",
    "inv.write('OA_CF28_inventory.xml', format='STATIONXML')\n",
    "#           nsmap={'my_ns': 'http://test.org/xmlns/0.1',\n",
    "#                  'somepage_ns': 'http://some-page.de/xmlns/1.0'})"
   ]
  },
  {
   "cell_type": "code",
   "execution_count": null,
   "metadata": {},
   "outputs": [],
   "source": [
    "Break\n",
    "\n",
    "print(ds.waveforms.OA_CE22.raw_recording)\n",
    "\n",
    "#ASDFValueError: All waveforms for station 'OA.CE22' and item 'raw_recording' would require '56639.45 MB of memory. The current limit is 4096.00 MB. Adjust by setting 'ASDFDataSet.single_item_read_limit_in_mb' or use a different method to read the waveform data."
   ]
  },
  {
   "cell_type": "code",
   "execution_count": null,
   "metadata": {},
   "outputs": [],
   "source": [
    "for astation in ds.waveforms:  # takes a long time!!!\n",
    "    print(astation)"
   ]
  },
  {
   "cell_type": "code",
   "execution_count": null,
   "metadata": {},
   "outputs": [],
   "source": [
    "# inv=ds.waveforms.AU_FITZ.StationXML\n",
    "# inv.write('AU.FITZ_inventory.xml', format='STATIONXML')"
   ]
  },
  {
   "cell_type": "code",
   "execution_count": null,
   "metadata": {},
   "outputs": [],
   "source": []
  },
  {
   "cell_type": "code",
   "execution_count": null,
   "metadata": {},
   "outputs": [],
   "source": []
  },
  {
   "cell_type": "code",
   "execution_count": null,
   "metadata": {},
   "outputs": [],
   "source": []
  },
  {
   "cell_type": "code",
   "execution_count": null,
   "metadata": {},
   "outputs": [],
   "source": []
  }
 ],
 "metadata": {
  "kernelspec": {
   "display_name": "Python 3",
   "language": "python",
   "name": "python3"
  },
  "language_info": {
   "codemirror_mode": {
    "name": "ipython",
    "version": 3
   },
   "file_extension": ".py",
   "mimetype": "text/x-python",
   "name": "python",
   "nbconvert_exporter": "python",
   "pygments_lexer": "ipython3",
   "version": "3.7.1"
  }
 },
 "nbformat": 4,
 "nbformat_minor": 4
}
