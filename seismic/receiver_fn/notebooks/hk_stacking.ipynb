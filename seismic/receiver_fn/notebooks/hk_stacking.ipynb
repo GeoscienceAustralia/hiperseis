{
 "cells": [
  {
   "cell_type": "markdown",
   "metadata": {},
   "source": [
    "# Perform $H$-$\\kappa$ stacking on seismic network deployment"
   ]
  },
  {
   "cell_type": "code",
   "execution_count": null,
   "metadata": {},
   "outputs": [],
   "source": [
    "import os\n",
    "# from collections import defaultdict\n",
    "# import time\n",
    "import pickle as pkl\n",
    "\n",
    "import numpy as np\n",
    "import rf\n",
    "import rf.imaging\n",
    "import matplotlib.pyplot as plt\n",
    "import scipy\n",
    "from scipy import signal\n",
    "\n",
    "import obspy\n",
    "import seaborn as sns\n",
    "import pandas as pd\n",
    "from tqdm.auto import tqdm"
   ]
  },
  {
   "cell_type": "code",
   "execution_count": null,
   "metadata": {},
   "outputs": [],
   "source": [
    "import seismic.receiver_fn.rf_util as rf_util\n",
    "import seismic.receiver_fn.rf_plot_utils as rf_plot_utils\n",
    "import seismic.receiver_fn.rf_stacking as rf_stacking"
   ]
  },
  {
   "cell_type": "markdown",
   "metadata": {},
   "source": [
    "## Read source file"
   ]
  },
  {
   "cell_type": "code",
   "execution_count": null,
   "metadata": {},
   "outputs": [],
   "source": [
    "# rf_type = 'ZRT_td'\n",
    "rf_type = 'ZRT_it'\n",
    "# rf_type = 'LQT_td'\n",
    "# rf_type = 'ZRT_fd'\n",
    "# rf_type = 'LQT_fd'"
   ]
  },
  {
   "cell_type": "code",
   "execution_count": null,
   "metadata": {},
   "outputs": [],
   "source": [
    "network = 'OA'\n",
    "# network = '7X'\n",
    "target_station = 'BT23'\n",
    "# target_station = 'CE26'"
   ]
  },
  {
   "cell_type": "code",
   "execution_count": null,
   "metadata": {},
   "outputs": [],
   "source": [
    "src_file = r\"..\\DATA\\OA_rfs_20170911T000036-20181128T230620_{}_rev11_qual.h5\".format(rf_type)\n",
    "# src_file = r\"..\\DATA\\OA_rfs_20170911T000036-20181128T230620_{}_rev9_qual.h5\".format(rf_type)\n",
    "# src_file = r\"..\\DATA\\7X_rfs_20090616T034200-20110401T231849_{}_rev1_qual.h5\".format(rf_type)\n",
    "\n",
    "# data_all = rf_util.read_h5_rf(src_file)\n",
    "data_all = rf_util.read_h5_rf(src_file, network, target_station, loc='0M')\n",
    "# data_all = rf_util.read_h5_rf(src_file, network, target_station)"
   ]
  },
  {
   "cell_type": "code",
   "execution_count": null,
   "metadata": {},
   "outputs": [],
   "source": [
    "type(data_all)"
   ]
  },
  {
   "cell_type": "code",
   "execution_count": null,
   "metadata": {},
   "outputs": [],
   "source": [
    "# Visualize approximate direction distribution of incoming rays\n",
    "# ppts = data_all.select(station=target_station).ppoints(50.0)\n",
    "# fig = rf.imaging.plot_ppoints(ppts, color='C0')\n",
    "# plt.title(\"{} source directions\".format(target_station))\n",
    "# plt.show()"
   ]
  },
  {
   "cell_type": "code",
   "execution_count": null,
   "metadata": {},
   "outputs": [],
   "source": [
    "# # See if default DBSCAN grouping is effective collecting RFs from similar back_azimuths. Only show those allocated to a group\n",
    "# grouping = np.array([tr.stats.get('rf_group') for tr in data_all.select(station=target_station)])\n",
    "# grouping_mask = (grouping != None)\n",
    "# fig = rf.imaging.plot_ppoints(ppts[grouping_mask, :], c=['C{}'.format(g) for g in grouping[grouping_mask]], alpha=0.5)\n",
    "# plt.title(\"{} source directions\".format(target_station))\n",
    "# plt.show()"
   ]
  },
  {
   "cell_type": "markdown",
   "metadata": {},
   "source": [
    "## Convert RFStream to dict database for convenient iteration and addressing"
   ]
  },
  {
   "cell_type": "code",
   "execution_count": null,
   "metadata": {},
   "outputs": [],
   "source": [
    "db = rf_util.rf_to_dict(data_all)"
   ]
  },
  {
   "cell_type": "markdown",
   "metadata": {},
   "source": [
    "## Select test station and channel"
   ]
  },
  {
   "cell_type": "code",
   "execution_count": null,
   "metadata": {},
   "outputs": [],
   "source": [
    "station_db = db[target_station]"
   ]
  },
  {
   "cell_type": "code",
   "execution_count": null,
   "metadata": {},
   "outputs": [],
   "source": [
    "channel = rf_util.choose_rf_source_channel(rf_type, station_db)\n",
    "print(\"Selected channel: {}\".format(channel))\n",
    "channel_data = station_db[channel]\n",
    "len(channel_data)"
   ]
  },
  {
   "cell_type": "code",
   "execution_count": null,
   "metadata": {},
   "outputs": [],
   "source": [
    "# Check if there are any traces with NaNs in them. RF quality filtering prior to this SHOULD have removed any such traces.\n",
    "np.sum([np.any(np.isnan(tr.data)) for tr in channel_data])"
   ]
  },
  {
   "cell_type": "markdown",
   "metadata": {},
   "source": [
    "## Examine available metadata in each trace"
   ]
  },
  {
   "cell_type": "code",
   "execution_count": null,
   "metadata": {},
   "outputs": [],
   "source": [
    "# channel_data[0].stats"
   ]
  },
  {
   "cell_type": "markdown",
   "metadata": {},
   "source": [
    "## Apply quality filter to traces"
   ]
  },
  {
   "cell_type": "code",
   "execution_count": null,
   "metadata": {},
   "outputs": [],
   "source": [
    "rf_util.label_rf_quality_simple_amplitude(rf_type, channel_data)\n",
    "rf_stream_A = rf.RFStream([tr for tr in channel_data if tr.stats.predicted_quality == 'a'])\n",
    "len(rf_stream_A)"
   ]
  },
  {
   "cell_type": "markdown",
   "metadata": {},
   "source": [
    "## Plot RFs for traces according to quality"
   ]
  },
  {
   "cell_type": "markdown",
   "metadata": {},
   "source": [
    "### Narrow data to events of a certain minimum magnitude and teleseismic distance"
   ]
  },
  {
   "cell_type": "code",
   "execution_count": null,
   "metadata": {},
   "outputs": [],
   "source": [
    "# min_mag = 5.5\n",
    "# max_mag = 7.0\n",
    "# min_dist = 30\n",
    "# max_dist = 90\n",
    "# rf_stream_A = rf.RFStream([tr for tr in rf_stream_A if min_mag <= tr.stats.event_magnitude <= max_mag and\n",
    "#                            min_dist <= tr.stats.distance <= max_dist]).sort(['back_azimuth'])\n",
    "len(rf_stream_A)"
   ]
  },
  {
   "cell_type": "markdown",
   "metadata": {},
   "source": [
    "### Plot stack for Quality A"
   ]
  },
  {
   "cell_type": "code",
   "execution_count": null,
   "metadata": {},
   "outputs": [],
   "source": [
    "rf_data = [tr for tr in rf_stream_A]\n",
    "rf_data = sorted(rf_data, key=lambda v: v.stats.back_azimuth)\n",
    "_ = rf_plot_utils.plot_rf_stack(rf.RFStream(rf_data), trace_height=0.2, time_window=(-10, 30))"
   ]
  },
  {
   "cell_type": "markdown",
   "metadata": {},
   "source": [
    "### Plot stack for Quality B"
   ]
  },
  {
   "cell_type": "code",
   "execution_count": null,
   "metadata": {},
   "outputs": [],
   "source": [
    "rf_data = [tr for tr in channel_data if tr.stats.predicted_quality == 'b']\n",
    "rf_data = sorted(rf_data, key=lambda v: v.stats.back_azimuth)\n",
    "rf_plot_utils.plot_rf_stack(rf.RFStream(rf_data), trace_height=0.2, time_window=(-10, 30))\n",
    "rf_bad = rf_data.copy()"
   ]
  },
  {
   "cell_type": "markdown",
   "metadata": {},
   "source": [
    "***"
   ]
  },
  {
   "cell_type": "markdown",
   "metadata": {},
   "source": [
    "# Plot HK stacks"
   ]
  },
  {
   "cell_type": "code",
   "execution_count": null,
   "metadata": {},
   "outputs": [],
   "source": [
    "hk_data = {channel: [tr for tr in rf_stream_A]}\n",
    "hk_all = {channel: [tr for tr in channel_data]}\n",
    "hk_bad = {channel: [tr for tr in rf_bad]}"
   ]
  },
  {
   "cell_type": "code",
   "execution_count": null,
   "metadata": {},
   "outputs": [],
   "source": [
    "def produce_hk_stacking(station_data, channel, V_p=6.4, weighting=(0.5, 0.5, 0.0), plot_layers=False, save_file=None):\n",
    "\n",
    "    k_grid, h_grid, hk_stack = rf_stacking.compute_hk_stack(station_data, channel, h_range=np.linspace(20.0, 70.0, 501), root_order=2, V_p=V_p)\n",
    "\n",
    "    # Normalize the stacked amplitudes of each phase before computing weighted sum, to ensure the\n",
    "    # weights are meaningful in an absolute sense. Otherwise the weightings are relative to the mean\n",
    "    # amplitude of the return of a given phase, which is somewhat arbitrary.\n",
    "#     for i in range(3):\n",
    "#         print(np.max(hk_stack[i, :, :]))\n",
    "#         hk_stack[i, :, :] = hk_stack[i, :, :]/np.max(hk_stack[i, :, :])\n",
    "    for i in range(3):\n",
    "        print(np.max(hk_stack[i, :, :]))\n",
    "\n",
    "    # Sum the phases\n",
    "    hk_stack_sum = rf_stacking.compute_weighted_stack(hk_stack, weighting)\n",
    "\n",
    "    # Raise the final sum over phases to power >1 to increase contrast\n",
    "    hk_stack_sum = rf_util.signed_nth_power(hk_stack_sum, 2)\n",
    "    hk_stack_sum = hk_stack_sum/np.nanmax(hk_stack_sum[:])\n",
    "    \n",
    "    sta = station_data[channel][0].stats.station\n",
    "    num = len(station_data[channel])\n",
    "    rf_plot_utils.plot_hk_stack(k_grid, h_grid, hk_stack_sum, title=sta + '.{}'.format(channel), num=num, save_file=save_file)\n",
    "    if plot_layers:\n",
    "        if save_file is not None:\n",
    "            assert False, \"NYI\"\n",
    "        else:\n",
    "            rf_plot_utils.plot_hk_stack(k_grid, h_grid, hk_stack[0], title=sta + '.{} Ps'.format(channel), num=num, clip_negative=False)\n",
    "            rf_plot_utils.plot_hk_stack(k_grid, h_grid, hk_stack[1], title=sta + '.{} PpPs'.format(channel), num=num, clip_negative=False)\n",
    "            rf_plot_utils.plot_hk_stack(k_grid, h_grid, hk_stack[2], title=sta + '.{} PpSs + PsPs'.format(channel), num=num, clip_negative=False)\n",
    "    # end if\n",
    "# end func"
   ]
  },
  {
   "cell_type": "code",
   "execution_count": null,
   "metadata": {},
   "outputs": [],
   "source": [
    "len(hk_data[channel])"
   ]
  },
  {
   "cell_type": "code",
   "execution_count": null,
   "metadata": {},
   "outputs": [],
   "source": [
    "# Plot stack\n",
    "# weighting = (0.35, 0.35, 0.3)\n",
    "weighting = (0.5, 0.5, 0.)\n",
    "\n",
    "produce_hk_stacking(hk_data, channel, weighting=weighting, save_file='{}.{}_{}_all.png'.format(target_station, channel, rf_type))\n",
    "# produce_hk_stacking(hk_data, channel, weighting=(1, 0, 0))"
   ]
  },
  {
   "cell_type": "code",
   "execution_count": null,
   "metadata": {},
   "outputs": [],
   "source": [
    "produce_hk_stacking(hk_bad, channel, weighting=weighting)"
   ]
  },
  {
   "cell_type": "code",
   "execution_count": null,
   "metadata": {},
   "outputs": [],
   "source": [
    "produce_hk_stacking(hk_all, channel, weighting=weighting)"
   ]
  },
  {
   "cell_type": "code",
   "execution_count": null,
   "metadata": {},
   "outputs": [],
   "source": [
    "def plot_polar_source_histogram(rf_stream, dist_range=(30, 90), radial_bins=3, polar_bins=24):\n",
    "\n",
    "    from mpl_toolkits.axes_grid1 import make_axes_locatable\n",
    "\n",
    "    azimut = np.deg2rad(np.array([tr.stats.back_azimuth for tr in rf_stream]))\n",
    "    radius = np.array([tr.stats.distance for tr in rf_stream])\n",
    "\n",
    "    # define binning\n",
    "    rbins = np.linspace(dist_range[0], dist_range[1], radial_bins + 1)\n",
    "    abins = np.linspace(0, 2*np.pi, polar_bins + 1)\n",
    "\n",
    "    # calculate histogram\n",
    "    hist, _, _ = np.histogram2d(azimut, radius, bins=(abins, rbins))\n",
    "    A, R = np.meshgrid(abins, rbins)\n",
    "\n",
    "    # plot\n",
    "    fig = plt.figure(figsize=(10,10))\n",
    "    ax = plt.subplot(111, projection=\"polar\")\n",
    "    pc = ax.pcolormesh(A, R, hist.T, cmap=\"magma_r\", antialiased=True)\n",
    "    ax.grid(linestyle=':')\n",
    "    ax.set_yticks(rbins)\n",
    "    ax.set_yticklabels(['{:2g}'.format(d) + '°' for d in rbins])\n",
    "    ax.tick_params(labelsize=14)\n",
    "    ax.set_theta_zero_location(\"N\")\n",
    "    ax.set_theta_direction(-1)\n",
    "    ax.set_rlabel_position(75)\n",
    "\n",
    "#     divider = make_axes_locatable(ax)\n",
    "#     cax = divider.append_axes(\"right\", size=\"95%\", pad=0.05)\n",
    "#     cb = fig.colorbar(pc, cax=cax)\n",
    "    cb = fig.colorbar(pc, fraction=0.042, pad=0.1)\n",
    "    cb.set_label('Event count', fontsize=12)\n",
    "    cb.ax.tick_params(labelsize=12)\n",
    "    \n",
    "    plt.plot(azimut, radius, 'o', color='#00c00080', markersize=10, fillstyle='none', markeredgewidth=2)\n",
    "    ax.set_rorigin(0)\n",
    "    \n",
    "    return fig"
   ]
  },
  {
   "cell_type": "code",
   "execution_count": null,
   "metadata": {},
   "outputs": [],
   "source": [
    "# Look at azimuth histogram\n",
    "fig = plot_polar_source_histogram(rf_stream_A)\n",
    "fig.gca().set_title(\"Polar distribution of source events for {}\".format(target_station), fontsize=16)\n",
    "plt.show()"
   ]
  },
  {
   "cell_type": "markdown",
   "metadata": {},
   "source": [
    "### Look at just the rays from the north"
   ]
  },
  {
   "cell_type": "code",
   "execution_count": null,
   "metadata": {},
   "outputs": [],
   "source": [
    "rf_stream_A_northerly = rf.RFStream([tr for tr in rf_stream_A if tr.stats.back_azimuth >= (360-45) or tr.stats.back_azimuth <= 45])\n",
    "len(rf_stream_A_northerly)"
   ]
  },
  {
   "cell_type": "code",
   "execution_count": null,
   "metadata": {},
   "outputs": [],
   "source": [
    "_ = rf_plot_utils.plot_rf_stack(rf_stream_A_northerly.sort(['distance']), trace_height=0.2, time_window=(-10, 30))"
   ]
  },
  {
   "cell_type": "code",
   "execution_count": null,
   "metadata": {},
   "outputs": [],
   "source": [
    "hk_data_North = {channel: [tr for tr in rf_stream_A_northerly]}"
   ]
  },
  {
   "cell_type": "code",
   "execution_count": null,
   "metadata": {},
   "outputs": [],
   "source": [
    "produce_hk_stacking(hk_data_North, channel, weighting=weighting, save_file='{}.{}_{}_north.png'.format(target_station, channel, rf_type))"
   ]
  },
  {
   "cell_type": "markdown",
   "metadata": {},
   "source": [
    "### Look at just the rays from the east"
   ]
  },
  {
   "cell_type": "code",
   "execution_count": null,
   "metadata": {},
   "outputs": [],
   "source": [
    "rf_stream_A_easterly = rf.RFStream([tr for tr in rf_stream_A if 45 <= tr.stats.back_azimuth <= (90+45)])\n",
    "len(rf_stream_A_easterly)"
   ]
  },
  {
   "cell_type": "code",
   "execution_count": null,
   "metadata": {},
   "outputs": [],
   "source": [
    "_ = rf_plot_utils.plot_rf_stack(rf_stream_A_easterly.sort(['distance']), trace_height=0.2, time_window=(-10, 30))"
   ]
  },
  {
   "cell_type": "code",
   "execution_count": null,
   "metadata": {},
   "outputs": [],
   "source": [
    "hk_data_East = {channel: [tr for tr in rf_stream_A_easterly]}"
   ]
  },
  {
   "cell_type": "code",
   "execution_count": null,
   "metadata": {},
   "outputs": [],
   "source": [
    "produce_hk_stacking(hk_data_East, channel, weighting=weighting, save_file='{}.{}_{}_east.png'.format(target_station, channel, rf_type))\n",
    "# produce_hk_stacking(hk_data_East, channel, weighting=(1,0,0))\n",
    "# produce_hk_stacking(hk_data_East, channel, weighting=(0,1,0))\n",
    "# produce_hk_stacking(hk_data_East, channel, weighting=(0,0,1))"
   ]
  },
  {
   "cell_type": "markdown",
   "metadata": {},
   "source": [
    "***"
   ]
  },
  {
   "cell_type": "markdown",
   "metadata": {},
   "source": [
    "## Focus in on very narrow groups of events which we anticipate will sample same region of Moho lithography"
   ]
  },
  {
   "cell_type": "code",
   "execution_count": null,
   "metadata": {},
   "outputs": [],
   "source": [
    "# First the strongest sector between 90 and 105 degrees of azimuth, distance up to 50 degrees\n",
    "rf_stream_A_easterly2 = rf.RFStream([tr for tr in rf_stream_A if 90 <= tr.stats.back_azimuth <= 105 and tr.stats.distance <= 50])\n",
    "len(rf_stream_A_easterly2)"
   ]
  },
  {
   "cell_type": "code",
   "execution_count": null,
   "metadata": {},
   "outputs": [],
   "source": [
    "_ = rf_plot_utils.plot_rf_stack(rf_stream_A_easterly2.sort(['distance']), trace_height=0.2, time_window=(-10, 30))"
   ]
  },
  {
   "cell_type": "code",
   "execution_count": null,
   "metadata": {},
   "outputs": [],
   "source": [
    "hk_data_East2 = {channel: [tr for tr in rf_stream_A_easterly2]}"
   ]
  },
  {
   "cell_type": "code",
   "execution_count": null,
   "metadata": {},
   "outputs": [],
   "source": [
    "produce_hk_stacking(hk_data_East2, channel, weighting=weighting, save_file='{}.{}_{}_east2.png'.format(target_station, channel, rf_type))"
   ]
  },
  {
   "cell_type": "code",
   "execution_count": null,
   "metadata": {},
   "outputs": [],
   "source": [
    "# Second strongest sector between 0 and 15 degrees of azimuth, distance from 50 up to 70 degrees\n",
    "rf_stream_A_northerly2 = rf.RFStream([tr for tr in rf_stream_A if 0 <= tr.stats.back_azimuth <= 15 and 50 <= tr.stats.distance <= 70])\n",
    "len(rf_stream_A_northerly2)"
   ]
  },
  {
   "cell_type": "code",
   "execution_count": null,
   "metadata": {},
   "outputs": [],
   "source": [
    "_ = rf_plot_utils.plot_rf_stack(rf_stream_A_northerly2.sort(['distance']), trace_height=0.2)"
   ]
  },
  {
   "cell_type": "code",
   "execution_count": null,
   "metadata": {},
   "outputs": [],
   "source": [
    "hk_data_North2 = {channel: [tr for tr in rf_stream_A_northerly2]}"
   ]
  },
  {
   "cell_type": "code",
   "execution_count": null,
   "metadata": {},
   "outputs": [],
   "source": [
    "produce_hk_stacking(hk_data_North2, channel, weighting=weighting, save_file='{}.{}_{}_north2.png'.format(target_station, channel, rf_type))"
   ]
  },
  {
   "cell_type": "code",
   "execution_count": null,
   "metadata": {},
   "outputs": [],
   "source": []
  }
 ],
 "metadata": {
  "kernelspec": {
   "display_name": "Python 3",
   "language": "python",
   "name": "python3"
  },
  "language_info": {
   "codemirror_mode": {
    "name": "ipython",
    "version": 3
   },
   "file_extension": ".py",
   "mimetype": "text/x-python",
   "name": "python",
   "nbconvert_exporter": "python",
   "pygments_lexer": "ipython3",
   "version": "3.6.8"
  }
 },
 "nbformat": 4,
 "nbformat_minor": 4
}
