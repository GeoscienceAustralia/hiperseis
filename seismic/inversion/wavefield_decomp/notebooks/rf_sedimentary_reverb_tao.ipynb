{
 "cells": [
  {
   "cell_type": "code",
   "execution_count": null,
   "metadata": {},
   "outputs": [],
   "source": [
    "# References:\n",
    "# Kai Tao, Tianze Liu, Jieyuan Ning, Fenglin Niu, \"Estimating sedimentary and crustal structure\n",
    "# using wavefield continuation: theory, techniques and applications\", Geophysical Journal International,\n",
    "# Volume 197, Issue 1, April, 2014, Pages 443-457, https://doi.org/10.1093/gji/ggt515"
   ]
  },
  {
   "cell_type": "markdown",
   "metadata": {},
   "source": [
    "--------------------------------------------------------"
   ]
  },
  {
   "cell_type": "markdown",
   "metadata": {},
   "source": [
    "--------------------------------"
   ]
  },
  {
   "cell_type": "markdown",
   "metadata": {},
   "source": [
    "# Import required libraries and run case studies"
   ]
  },
  {
   "cell_type": "code",
   "execution_count": null,
   "metadata": {},
   "outputs": [],
   "source": [
    "import logging\n",
    "\n",
    "import numpy as np\n",
    "import matplotlib.pyplot as plt\n",
    "# import scipy.signal as signal\n",
    "from scipy import stats\n",
    "\n",
    "import h5py\n",
    "import obspy\n",
    "import obspyh5\n",
    "\n",
    "from seismic.stream_quality_filter import curate_stream3c\n",
    "from seismic.receiver_fn.rf_util import compute_vertical_snr\n",
    "from seismic.receiver_fn.rf_util import KM_PER_DEG\n",
    "from seismic.receiver_fn.rf_synthetic import synthesize_ideal_seismogram"
   ]
  },
  {
   "cell_type": "code",
   "execution_count": null,
   "metadata": {},
   "outputs": [],
   "source": [
    "from seismic.inversion.wavefield_decomp.wavefield_continuation_tao import WfContinuationSuFluxComputer\n",
    "from seismic.inversion.wavefield_decomp.model_properties import LayerProps\n",
    "from seismic.inversion.wavefield_decomp.wfd_plot import plot_Esu_space\n",
    "from seismic.inversion.wavefield_decomp.network_event_dataset import NetworkEventDataset"
   ]
  },
  {
   "cell_type": "code",
   "execution_count": null,
   "metadata": {},
   "outputs": [],
   "source": [
    "from tqdm.auto import tqdm\n",
    "from joblib import Parallel, delayed"
   ]
  },
  {
   "cell_type": "markdown",
   "metadata": {},
   "source": [
    "-----------------------------"
   ]
  },
  {
   "cell_type": "markdown",
   "metadata": {},
   "source": [
    "## Run using on-demand synthetic data to validate implementation"
   ]
  },
  {
   "cell_type": "code",
   "execution_count": null,
   "metadata": {},
   "outputs": [],
   "source": [
    "network = 'AU'\n",
    "target_station = 'QIS'"
   ]
  },
  {
   "cell_type": "code",
   "execution_count": null,
   "metadata": {},
   "outputs": [],
   "source": [
    "f_s = 10\n",
    "data_synth = synthesize_ideal_seismogram(network, target_station, 'velocity', 65, 140, f_s=f_s,\n",
    "                                         sourcedepthmetres=0)\n",
    "# data_synth"
   ]
  },
  {
   "cell_type": "code",
   "execution_count": null,
   "metadata": {},
   "outputs": [],
   "source": [
    "data_synth.plot(type='relative', reftime=data_synth[0].stats.onset, outfile='synth_event.png', dpi=300)"
   ]
  },
  {
   "cell_type": "code",
   "execution_count": null,
   "metadata": {},
   "outputs": [],
   "source": [
    "# Time window to trim input traces to\n",
    "TIME_WINDOW = (-20, 50)\n",
    "# Time window used for integration of energy flux\n",
    "FLUX_WINDOW = (-10, 20)\n",
    "# Snippet around onset to use for processing\n",
    "CUT_WINDOW = (-5, 30)"
   ]
  },
  {
   "cell_type": "code",
   "execution_count": null,
   "metadata": {},
   "outputs": [],
   "source": [
    "t_onset = data_synth[0].stats.onset - data_synth[0].stats.starttime"
   ]
  },
  {
   "cell_type": "code",
   "execution_count": null,
   "metadata": {},
   "outputs": [],
   "source": [
    "data_all = {'synth_event_0': data_synth}"
   ]
  },
  {
   "cell_type": "code",
   "execution_count": null,
   "metadata": {},
   "outputs": [],
   "source": [
    "flux_computer = WfContinuationSuFluxComputer(data_all.values(), f_s, TIME_WINDOW, CUT_WINDOW)"
   ]
  },
  {
   "cell_type": "code",
   "execution_count": null,
   "metadata": {},
   "outputs": [],
   "source": [
    "# Define bulk properties of mantle (lowermost half-space)\n",
    "mantle_props = LayerProps(8.0, 4.5, 3.3, np.Infinity)"
   ]
  },
  {
   "cell_type": "code",
   "execution_count": null,
   "metadata": {},
   "outputs": [],
   "source": [
    "# Define single layer earth model (crust over mantle only, no sediment)\n",
    "# Vs here is postulated.\n",
    "# H here is postulated.\n",
    "earth_props = np.array([LayerProps(6.1, 3.7, 2.7, 35.0)])"
   ]
  },
  {
   "cell_type": "code",
   "execution_count": null,
   "metadata": {},
   "outputs": [],
   "source": [
    "energy, energy_per_event, mantle_wave_components = flux_computer(mantle_props, earth_props, flux_window=FLUX_WINDOW)"
   ]
  },
  {
   "cell_type": "code",
   "execution_count": null,
   "metadata": {},
   "outputs": [],
   "source": [
    "print(energy)"
   ]
  },
  {
   "cell_type": "code",
   "execution_count": null,
   "metadata": {},
   "outputs": [],
   "source": [
    "# Plot the wavefield decomposition at the top of the mantle\n",
    "plt.figure(figsize=(16,12))\n",
    "t = flux_computer.times()\n",
    "plt.plot(t, mantle_wave_components[0,0,:], label='$P_{down}$', alpha=0.8, linewidth=2)\n",
    "plt.plot(t, mantle_wave_components[0,1,:], label='$P_{up}$', alpha=0.8, linewidth=2)\n",
    "plt.plot(t, mantle_wave_components[0,2,:], label='$S_{down}$', alpha=0.8, linewidth=2)\n",
    "plt.plot(t, mantle_wave_components[0,3,:], label='$S_{up}$', alpha=0.8, linewidth=2)\n",
    "plt.plot(t, np.sum(mantle_wave_components[0,:,:], axis=0), color='#40404080', label='Total', linewidth=4)\n",
    "plt.xlabel('Time (s)', fontsize=16)\n",
    "plt.ylabel('Amplitude (normalized)', fontsize=16)\n",
    "plt.xticks(fontsize=16)\n",
    "plt.yticks(fontsize=16)\n",
    "plt.grid(linestyle=':', color=\"#80808080\")\n",
    "plt.title(\"Waveform at top of mantle\", fontsize=20, y=1.01)\n",
    "plt.legend(fontsize=14)\n",
    "plt.savefig('synth_waveform_top_mantle.png', dpi=300)\n",
    "plt.show()"
   ]
  },
  {
   "cell_type": "code",
   "execution_count": null,
   "metadata": {},
   "outputs": [],
   "source": [
    "# Define grid search space\n",
    "H = np.linspace(20, 70, 251)\n",
    "k = np.linspace(1.5, 2.1, 101)"
   ]
  },
  {
   "cell_type": "code",
   "execution_count": null,
   "metadata": {},
   "outputs": [],
   "source": [
    "H_grid, k_grid, Esu = flux_computer.grid_search(mantle_props, earth_props, 0, H, k, (-5, 10))\n",
    "plot_Esu_space(H_grid, k_grid, Esu, title='$E_{{SU}}$ over full range, synthetic seismogram (-5, 10)',\n",
    "               c_range=(0, 0.5), savefile_name='Esu_synthetic_full_param_range_(-5,10)')"
   ]
  },
  {
   "cell_type": "code",
   "execution_count": null,
   "metadata": {},
   "outputs": [],
   "source": [
    "H_grid, k_grid, Esu = flux_computer.grid_search(mantle_props, earth_props, 0, H, k, (-10, 15))\n",
    "plot_Esu_space(H_grid, k_grid, Esu, title='$E_{{SU}}$ over full range, synthetic seismogram (-10, 15)',\n",
    "               c_range=(0, 0.5), savefile_name='Esu_synthetic_full_param_range_(-10,15)')"
   ]
  },
  {
   "cell_type": "code",
   "execution_count": null,
   "metadata": {},
   "outputs": [],
   "source": [
    "H_grid, k_grid, Esu = flux_computer.grid_search(mantle_props, earth_props, 0, H, k, (-10, 20))\n",
    "plot_Esu_space(H_grid, k_grid, Esu, title='$E_{{SU}}$ over full range, synthetic seismogram (-10, 20)',\n",
    "               c_range=(0, 0.5), savefile_name='Esu_synthetic_full_param_range_(-10,20 same as Tao)')"
   ]
  },
  {
   "cell_type": "code",
   "execution_count": null,
   "metadata": {},
   "outputs": [],
   "source": [
    "H_grid, k_grid, Esu = flux_computer.grid_search(mantle_props, earth_props, 0, H, k, (-20, 20))\n",
    "plot_Esu_space(H_grid, k_grid, Esu, title='$E_{{SU}}$ over full range, synthetic seismogram (-20, 20)',\n",
    "               c_range=(0, 0.5), savefile_name='Esu_synthetic_full_param_range_(-20,20)')"
   ]
  },
  {
   "cell_type": "code",
   "execution_count": null,
   "metadata": {},
   "outputs": [],
   "source": [
    "def find_energy_minimum_location(energy, h_grid, k_grid):\n",
    "    min_loc = np.unravel_index(np.argmin(energy), energy.shape)\n",
    "    H_min = h_grid[0, min_loc[1]]\n",
    "    k_min = k_grid[min_loc[0], 0]\n",
    "    return (H_min, k_min)\n",
    "# end func"
   ]
  },
  {
   "cell_type": "code",
   "execution_count": null,
   "metadata": {},
   "outputs": [],
   "source": [
    "find_energy_minimum_location(Esu, H_grid, k_grid)"
   ]
  },
  {
   "cell_type": "markdown",
   "metadata": {},
   "source": [
    "------------------------"
   ]
  },
  {
   "cell_type": "markdown",
   "metadata": {},
   "source": [
    "## Run on data converted from Tao's SAC files\n",
    "\n",
    "Replicate work of Tao on NE68"
   ]
  },
  {
   "cell_type": "code",
   "execution_count": null,
   "metadata": {},
   "outputs": [],
   "source": [
    "network = 'BD'\n",
    "target_station = 'NE68'"
   ]
  },
  {
   "cell_type": "code",
   "execution_count": null,
   "metadata": {},
   "outputs": [],
   "source": [
    "# Resampling rate\n",
    "f_s = 10.0  # Matches dt==0.1 used by Tao\n",
    "# Time window of original data to use for processing. All traces must have at least this extent\n",
    "# about the onset time.\n",
    "TIME_WINDOW = (-20, 50)\n",
    "# Cut window for selecting central wavelet\n",
    "CUT_WINDOW = (-5, 30)\n",
    "# Narrower time window used for integration of energy flux\n",
    "FLUX_WINDOW = (-10, 20)"
   ]
  },
  {
   "cell_type": "code",
   "execution_count": null,
   "metadata": {},
   "outputs": [],
   "source": [
    "# src_file = (r\"/g/data/ha3/am7399/dev/RFsediment/YP.NE68/H-beta_SCM_Esu_DCmatlab_station/sac\"\n",
    "#             r\"/event_test3.use.hdf5\")\n",
    "src_file = (r\"/g/data/ha3/am7399/dev/RFsediment/YP.NE68/H-beta_SCM_Esu_DCmatlab_station/sac\"\n",
    "            r\"/event.use.h5\")"
   ]
  },
  {
   "cell_type": "code",
   "execution_count": null,
   "metadata": {},
   "outputs": [],
   "source": [
    "traces = obspy.read(src_file, 'H5')"
   ]
  },
  {
   "cell_type": "code",
   "execution_count": null,
   "metadata": {},
   "outputs": [],
   "source": [
    "data_all = NetworkEventDataset(traces, network, target_station, ordering='ZRT')"
   ]
  },
  {
   "cell_type": "code",
   "execution_count": null,
   "metadata": {},
   "outputs": [],
   "source": [
    "# Define bulk properties of mantle (lowermost half-space)\n",
    "mantle_props = LayerProps(8.0, 4.5, 3.3, np.Infinity)\n",
    "mantle_props"
   ]
  },
  {
   "cell_type": "code",
   "execution_count": null,
   "metadata": {},
   "outputs": [],
   "source": [
    "earth_props = np.array([LayerProps(2.1, 0.5, 1.97, 0.3), LayerProps(6.4, 3.7, 2.7, 35.0)])\n",
    "earth_props"
   ]
  },
  {
   "cell_type": "code",
   "execution_count": null,
   "metadata": {},
   "outputs": [],
   "source": [
    "flux_computer = WfContinuationSuFluxComputer(data_all.station(target_station).values(), f_s, TIME_WINDOW, CUT_WINDOW)"
   ]
  },
  {
   "cell_type": "code",
   "execution_count": null,
   "metadata": {},
   "outputs": [],
   "source": [
    "energy, energy_per_event, mantle_wave_components = flux_computer(mantle_props, earth_props, flux_window=FLUX_WINDOW)"
   ]
  },
  {
   "cell_type": "code",
   "execution_count": null,
   "metadata": {},
   "outputs": [],
   "source": [
    "print(energy)"
   ]
  },
  {
   "cell_type": "markdown",
   "metadata": {},
   "source": [
    "### Perform grid search on sediment properties"
   ]
  },
  {
   "cell_type": "code",
   "execution_count": null,
   "metadata": {},
   "outputs": [],
   "source": [
    "H_sed = np.linspace(0, 1.5, 101)\n",
    "k_sed = np.linspace(1.6, 7.0, 101)\n",
    "TIME_WINDOW = (-10, 20)\n",
    "H_grid, k_grid, Esu = flux_computer.grid_search(mantle_props, earth_props, 0, H_sed, k_sed, TIME_WINDOW)\n",
    "plot_Esu_space(H_grid, k_grid, Esu, title='Sediment properties grid search, iteration 1')"
   ]
  },
  {
   "cell_type": "code",
   "execution_count": null,
   "metadata": {},
   "outputs": [],
   "source": [
    "H_sediment, k_sediment = find_energy_minimum_location(Esu, H_grid, k_grid)\n",
    "print(H_sediment, k_sediment)"
   ]
  },
  {
   "cell_type": "markdown",
   "metadata": {},
   "source": [
    "### Perform grid search on crust properties"
   ]
  },
  {
   "cell_type": "code",
   "execution_count": null,
   "metadata": {},
   "outputs": [],
   "source": [
    "sediment_props = LayerProps(2.1, 2.1/k_sediment, 1.97, H_sediment)\n",
    "sediment_props"
   ]
  },
  {
   "cell_type": "code",
   "execution_count": null,
   "metadata": {},
   "outputs": [],
   "source": [
    "earth_props[0] = sediment_props"
   ]
  },
  {
   "cell_type": "code",
   "execution_count": null,
   "metadata": {},
   "outputs": [],
   "source": [
    "H_crust = np.linspace(25, 45, 101)\n",
    "k_crust = np.linspace(1.5, 2.1, 101)\n",
    "TIME_WINDOW = (-10, 20)\n",
    "H_grid, k_grid, Esu = flux_computer.grid_search(mantle_props, earth_props, 1, H_crust, k_crust, TIME_WINDOW)\n",
    "plot_Esu_space(H_grid, k_grid, Esu, title='Crust properties grid search, iteration 1')"
   ]
  },
  {
   "cell_type": "code",
   "execution_count": null,
   "metadata": {},
   "outputs": [],
   "source": [
    "H_crust, k_crust = find_energy_minimum_location(Esu, H_grid, k_grid)\n",
    "print(H_crust, k_crust)"
   ]
  },
  {
   "cell_type": "markdown",
   "metadata": {},
   "source": [
    "### Repeat grid search on sediment properties (2nd iteration)"
   ]
  },
  {
   "cell_type": "code",
   "execution_count": null,
   "metadata": {},
   "outputs": [],
   "source": [
    "crust_props = LayerProps(6.4, 6.4/k_crust, 2.7, H_crust)\n",
    "earth_props[1] = crust_props"
   ]
  },
  {
   "cell_type": "code",
   "execution_count": null,
   "metadata": {},
   "outputs": [],
   "source": [
    "H_sed = np.linspace(0, 1.5, 101)\n",
    "k_sed = np.linspace(1.6, 7.0, 101)\n",
    "TIME_WINDOW = (-10, 20)\n",
    "H_grid, k_grid, Esu = flux_computer.grid_search(mantle_props, earth_props, 0, H_sed, k_sed, TIME_WINDOW)\n",
    "plot_Esu_space(H_grid, k_grid, Esu, title='Sediment properties grid search, iteration 2')"
   ]
  },
  {
   "cell_type": "code",
   "execution_count": null,
   "metadata": {},
   "outputs": [],
   "source": [
    "H_sediment, k_sediment = find_energy_minimum_location(Esu, H_grid, k_grid)\n",
    "print(H_sediment, k_sediment)"
   ]
  },
  {
   "cell_type": "markdown",
   "metadata": {},
   "source": [
    "### Repeat grid search on crust properties (2nd iteration)"
   ]
  },
  {
   "cell_type": "code",
   "execution_count": null,
   "metadata": {},
   "outputs": [],
   "source": [
    "sediment_props = LayerProps(2.1, 2.1/k_sediment, 1.97, H_sediment)\n",
    "earth_props[0] = sediment_props"
   ]
  },
  {
   "cell_type": "code",
   "execution_count": null,
   "metadata": {},
   "outputs": [],
   "source": [
    "H_crust = np.linspace(25, 45, 101)\n",
    "k_crust = np.linspace(1.5, 2.1, 101)\n",
    "TIME_WINDOW = (-10, 20)\n",
    "H_grid, k_grid, Esu = flux_computer.grid_search(mantle_props, earth_props, 1, H_crust, k_crust, TIME_WINDOW)\n",
    "plot_Esu_space(H_grid, k_grid, Esu, title='Crust properties grid search, iteration 2')"
   ]
  },
  {
   "cell_type": "code",
   "execution_count": null,
   "metadata": {},
   "outputs": [],
   "source": [
    "# Extract final minimum H_crust and Vs_crust\n",
    "H_crust, k_crust = find_energy_minimum_location(Esu, H_grid, k_grid)\n",
    "print(H_crust, k_crust)"
   ]
  },
  {
   "cell_type": "markdown",
   "metadata": {},
   "source": [
    "----------------------------------------"
   ]
  },
  {
   "cell_type": "code",
   "execution_count": null,
   "metadata": {},
   "outputs": [],
   "source": []
  }
 ],
 "metadata": {
  "kernelspec": {
   "display_name": "Python 3",
   "language": "python",
   "name": "python3"
  },
  "language_info": {
   "codemirror_mode": {
    "name": "ipython",
    "version": 3
   },
   "file_extension": ".py",
   "mimetype": "text/x-python",
   "name": "python",
   "nbconvert_exporter": "python",
   "pygments_lexer": "ipython3",
   "version": "3.6.2"
  }
 },
 "nbformat": 4,
 "nbformat_minor": 4
}
