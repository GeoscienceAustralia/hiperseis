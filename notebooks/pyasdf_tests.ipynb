{
 "cells": [
  {
   "cell_type": "markdown",
   "metadata": {},
   "source": [
    "# PyASDF IO API\n",
    "\n",
    "- http://seismicdata.github.io/pyasdf/\n",
    "- https://github.com/krischer/cig_all_hands_2016_obspy_and_python_tutorial/tree/master/ObsPy\n",
    "\n",
    "- https://gajira.atlassian.net/browse/PV-282\n"
   ]
  },
  {
   "cell_type": "markdown",
   "metadata": {},
   "source": [
    "## Create a new ASDF file"
   ]
  },
  {
   "cell_type": "code",
   "execution_count": 1,
   "metadata": {},
   "outputs": [],
   "source": [
    "import pyasdf\n",
    "import glob"
   ]
  },
  {
   "cell_type": "code",
   "execution_count": 2,
   "metadata": {},
   "outputs": [],
   "source": [
    "ASDF_FILE=\"new_ASDF_file.h5\"\n",
    "\n",
    "ds = pyasdf.ASDFDataSet(ASDF_FILE, compression=\"gzip-3\") # default mode=\"a\"\n"
   ]
  },
  {
   "cell_type": "code",
   "execution_count": 3,
   "metadata": {
    "scrolled": true
   },
   "outputs": [
    {
     "name": "stdout",
     "output_type": "stream",
     "text": [
      "ASDF file [format version: 1.0.3]: 'new_ASDF_file.h5' (96.0 bytes)\n",
      "\tContains 0 event(s)\n",
      "\tContains waveform data from 0 station(s).\n"
     ]
    }
   ],
   "source": [
    "print(ds)"
   ]
  },
  {
   "cell_type": "code",
   "execution_count": 4,
   "metadata": {},
   "outputs": [],
   "source": [
    "# Add some miniseed files\n",
    "\n",
    "# myfiles = glob.glob(\"/Datasets/tmp_demult_mseed/*.mseed\")\n",
    "# for _i, filename in enumerate(myfiles):\n",
    "#     print(\"Adding file %s:  %i of %i...\"%(filename,_i +1, len(myfiles)))\n",
    "#     ds.add_waveforms(filename, tag=\"raw_recording\")"
   ]
  },
  {
   "cell_type": "code",
   "execution_count": 5,
   "metadata": {},
   "outputs": [
    {
     "name": "stdout",
     "output_type": "stream",
     "text": [
      "ASDF file [format version: 1.0.3]: 'new_ASDF_file.h5' (96.0 bytes)\n",
      "\tContains 0 event(s)\n",
      "\tContains waveform data from 0 station(s).\n"
     ]
    }
   ],
   "source": [
    "print (ds)\n",
    "\n",
    "# want close this object?\n",
    "# del(ds)"
   ]
  },
  {
   "cell_type": "code",
   "execution_count": null,
   "metadata": {},
   "outputs": [],
   "source": []
  },
  {
   "cell_type": "markdown",
   "metadata": {},
   "source": [
    "## Adding Station Information"
   ]
  },
  {
   "cell_type": "code",
   "execution_count": 6,
   "metadata": {},
   "outputs": [],
   "source": [
    "ASDF_FILE=\"new_asdf_stationxml_files.h5\"\n",
    "\n",
    "ds = pyasdf.ASDFDataSet(ASDF_FILE, compression=\"gzip-3\") # default mode=\"a\""
   ]
  },
  {
   "cell_type": "code",
   "execution_count": 7,
   "metadata": {},
   "outputs": [],
   "source": [
    "\n",
    "# >>> files = glob.glob(\"/path/to/stations/*.xml\")\n",
    "# >>> for _i, filename in enumerate(files):\n",
    "# ...     print(\"Adding file %i of %i ...\" % (_i + 1, len(files)))\n",
    "# ...     ds.add_stationxml(filename)"
   ]
  },
  {
   "cell_type": "code",
   "execution_count": 8,
   "metadata": {},
   "outputs": [],
   "source": [
    "#ds.add_stationxml(\"/Datasets/networks_fdsnstationxml/inventory.xml\")\n",
    "#ds.add_stationxml(\"/g/data/ha3/Passive/_AusArray/OA/ASDF_cleaned/OA_stations_2017-2018.xml\")"
   ]
  },
  {
   "cell_type": "code",
   "execution_count": 9,
   "metadata": {},
   "outputs": [
    {
     "name": "stdout",
     "output_type": "stream",
     "text": [
      "['/Datasets/StationXML_with_time_corrections2/OA.CE28_station_inv_modified.xml', '/Datasets/StationXML_with_time_corrections2/OA.BY22_station_inv_modified.xml', '/Datasets/StationXML_with_time_corrections2/OAFZ.CE22.tmp4test.xml', '/Datasets/StationXML_with_time_corrections2/OA.CE22_station_inv_modified.xml', '/Datasets/StationXML_with_time_corrections2/OA.CF28_station_inv_modified.xml']\n",
      "Adding file /Datasets/StationXML_with_time_corrections2/OA.CE28_station_inv_modified.xml 1 of 5 ...\n",
      "Adding file /Datasets/StationXML_with_time_corrections2/OA.BY22_station_inv_modified.xml 2 of 5 ...\n",
      "Adding file /Datasets/StationXML_with_time_corrections2/OAFZ.CE22.tmp4test.xml 3 of 5 ...\n",
      "Adding file /Datasets/StationXML_with_time_corrections2/OA.CE22_station_inv_modified.xml 4 of 5 ...\n",
      "Adding file /Datasets/StationXML_with_time_corrections2/OA.CF28_station_inv_modified.xml 5 of 5 ...\n"
     ]
    }
   ],
   "source": [
    "# adding individual stations\n",
    "# files = glob.glob(\"/g/data/ha3/Passive/SHARED_DATA/GPS_Clock/StationXML_with_time_corrections2/OA*.xml\")\n",
    "files = glob.glob(\"/Datasets/StationXML_with_time_corrections2/OA*.xml\")\n",
    "print (files)\n",
    "for _i, filename in enumerate(files):\n",
    "    print(\"Adding file %s %i of %i ...\" % (filename, _i + 1, len(files)))\n",
    "    ds.add_stationxml(filename)"
   ]
  },
  {
   "cell_type": "code",
   "execution_count": 10,
   "metadata": {},
   "outputs": [
    {
     "name": "stdout",
     "output_type": "stream",
     "text": [
      "ASDF file [format version: 1.0.3]: 'new_asdf_stationxml_files.h5' (36.8 KB)\n",
      "\tContains 0 event(s)\n",
      "\tContains waveform data from 5 station(s).\n"
     ]
    }
   ],
   "source": [
    "print(ds)"
   ]
  },
  {
   "cell_type": "markdown",
   "metadata": {},
   "source": [
    "### Now check what are inside the ASDF"
   ]
  },
  {
   "cell_type": "code",
   "execution_count": 11,
   "metadata": {},
   "outputs": [
    {
     "name": "stdout",
     "output_type": "stream",
     "text": [
      "Contents of the data set for station OA.CE22:\n",
      "    - Has a StationXML file\n",
      "    - 0 Waveform Tag(s):\n",
      "        \n"
     ]
    }
   ],
   "source": [
    "print(ds.waveforms.OA_CE22)"
   ]
  },
  {
   "cell_type": "code",
   "execution_count": 12,
   "metadata": {},
   "outputs": [
    {
     "name": "stdout",
     "output_type": "stream",
     "text": [
      "Inventory created at 2019-02-02T18:42:45.000000Z\n",
      "\tCreated by: ObsPy 1.0.2\n",
      "\t\t    https://www.obspy.org\n",
      "\tSending institution: Geoscience Australia\n",
      "\tContains:\n",
      "\t\tNetworks (1):\n",
      "\t\t\tOA\n",
      "\t\tStations (1):\n",
      "\t\t\tOA.CE22 (CE22)\n",
      "\t\tChannels (3):\n",
      "\t\t\tOA.CE22.0M.HHZ, OA.CE22.0M.HHN, OA.CE22.0M.HHE\n"
     ]
    }
   ],
   "source": [
    "print(ds.waveforms.OA_CE22.StationXML)"
   ]
  },
  {
   "cell_type": "code",
   "execution_count": 13,
   "metadata": {},
   "outputs": [],
   "source": [
    "inv=ds.waveforms.OA_CE22.StationXML\n",
    "inv.write('test_OA_CE22_inventory.xml', format='STATIONXML')\n",
    "#           nsmap={'my_ns': 'http://test.org/xmlns/0.1',\n",
    "#                  'somepage_ns': 'http://some-page.de/xmlns/1.0'})"
   ]
  },
  {
   "cell_type": "code",
   "execution_count": 14,
   "metadata": {},
   "outputs": [
    {
     "name": "stdout",
     "output_type": "stream",
     "text": [
      "<?xml version='1.0' encoding='UTF-8'?>\r\n",
      "<FDSNStationXML xmlns=\"http://www.fdsn.org/xml/station/1\" schemaVersion=\"1.0\">\r\n",
      "  <Source>Geoscience Australia</Source>\r\n",
      "  <Module>ObsPy 1.0.2</Module>\r\n",
      "  <ModuleURI>https://www.obspy.org</ModuleURI>\r\n",
      "  <Created>2019-02-02T18:42:45</Created>\r\n",
      "  <Network code=\"OA\" startDate=\"2017-09-11T00:00:36\" endDate=\"2018-11-28T23:06:20\">\r\n",
      "    <SelectedNumberStations>1</SelectedNumberStations>\r\n",
      "    <Station code=\"CE22\" startDate=\"2017-11-04T03:16:35\" endDate=\"2018-11-18T20:23:20\">\r\n",
      "      <Latitude unit=\"DEGREES\">-18.49507</Latitude>\r\n",
      "      <Longitude unit=\"DEGREES\">139.002731</Longitude>\r\n",
      "      <Elevation unit=\"METERS\">62.7</Elevation>\r\n",
      "      <Site>\r\n",
      "        <Name>CE22</Name>\r\n",
      "      </Site>\r\n",
      "      <Vault>Transportable Array</Vault>\r\n",
      "      <CreationDate>2017-11-04T03:16:35</CreationDate>\r\n",
      "      <TerminationDate>2018-06-06T01:02:24</TerminationDate>\r\n",
      "      <SelectedNumberChannels>3</SelectedNumberChannels>\r\n",
      "      <Channel code=\"HHZ\" locationCode=\"0M\">\r\n",
      "        <Latitude unit=\"DEGREES\">-18.49507</Latitude>\r\n",
      "        <Longitude unit=\"DEGREES\">139.002731</Longitude>\r\n",
      "        <Elevation unit=\"METERS\">62.7</Elevation>\r\n",
      "        <Depth unit=\"METERS\">0.0</Depth>\r\n",
      "        <Azimuth unit=\"DEGREES\">0.0</Azimuth>\r\n",
      "        <Dip unit=\"DEGREES\">90.0</Dip>\r\n",
      "        <SampleRate unit=\"SAMPLES/S\">200.0</SampleRate>\r\n",
      "        <ClockDrift unit=\"SECONDS/SAMPLE\">0.0</ClockDrift>\r\n",
      "      </Channel>\r\n",
      "      <Channel code=\"HHE\" locationCode=\"0M\">\r\n",
      "        <Latitude unit=\"DEGREES\">-18.49507</Latitude>\r\n",
      "        <Longitude unit=\"DEGREES\">139.002731</Longitude>\r\n",
      "        <Elevation unit=\"METERS\">62.7</Elevation>\r\n",
      "        <Depth unit=\"METERS\">0.0</Depth>\r\n",
      "        <Azimuth unit=\"DEGREES\">90.0</Azimuth>\r\n",
      "        <Dip unit=\"DEGREES\">0.0</Dip>\r\n",
      "        <SampleRate unit=\"SAMPLES/S\">200.0</SampleRate>\r\n",
      "        <ClockDrift unit=\"SECONDS/SAMPLE\">0.0</ClockDrift>\r\n",
      "      </Channel>\r\n",
      "      <Channel code=\"HHN\" locationCode=\"0M\">\r\n",
      "        <Latitude unit=\"DEGREES\">-18.49507</Latitude>\r\n",
      "        <Longitude unit=\"DEGREES\">139.002731</Longitude>\r\n",
      "        <Elevation unit=\"METERS\">62.7</Elevation>\r\n",
      "        <Depth unit=\"METERS\">0.0</Depth>\r\n",
      "        <Azimuth unit=\"DEGREES\">0.0</Azimuth>\r\n",
      "        <Dip unit=\"DEGREES\">0.0</Dip>\r\n",
      "        <SampleRate unit=\"SAMPLES/S\">200.0</SampleRate>\r\n",
      "        <ClockDrift unit=\"SECONDS/SAMPLE\">0.0</ClockDrift>\r\n",
      "      </Channel>\r\n",
      "    </Station>\r\n",
      "  </Network>\r\n",
      "</FDSNStationXML>\r\n"
     ]
    }
   ],
   "source": [
    "# the extracted station xml file only have one xml node for station code=\"CE22\", date ranges are merged by asdf\n",
    "\n",
    "!cat test_OA_CE22_inventory.xml"
   ]
  },
  {
   "cell_type": "code",
   "execution_count": 15,
   "metadata": {},
   "outputs": [],
   "source": [
    "ds.add_stationxml(\"/Datasets/StationXML_with_time_corrections2/OAFZ.CE22.tmp4test.xml\")"
   ]
  },
  {
   "cell_type": "code",
   "execution_count": 16,
   "metadata": {},
   "outputs": [],
   "source": [
    "inv=ds.waveforms.OAFZ_CE22.StationXML\n",
    "inv.write('test_OAFZ_CE22_inventory.xml', format='STATIONXML')"
   ]
  },
  {
   "cell_type": "code",
   "execution_count": 17,
   "metadata": {},
   "outputs": [
    {
     "name": "stdout",
     "output_type": "stream",
     "text": [
      "<?xml version='1.0' encoding='UTF-8'?>\r\n",
      "<FDSNStationXML xmlns=\"http://www.fdsn.org/xml/station/1\" schemaVersion=\"1.0\">\r\n",
      "  <Source>Geoscience Australia</Source>\r\n",
      "  <Module>ObsPy 1.0.2</Module>\r\n",
      "  <ModuleURI>https://www.obspy.org</ModuleURI>\r\n",
      "  <Created>2019-02-02T18:42:45</Created>\r\n",
      "  <Network code=\"OAFZ\" startDate=\"2017-09-11T00:00:36\" endDate=\"2018-11-28T23:06:20\">\r\n",
      "    <SelectedNumberStations>1</SelectedNumberStations>\r\n",
      "    <Station code=\"CE22\" startDate=\"2017-11-04T03:16:35\" endDate=\"2018-06-06T01:02:24\">\r\n",
      "      <Latitude unit=\"DEGREES\">-18.49507</Latitude>\r\n",
      "      <Longitude unit=\"DEGREES\">139.002731</Longitude>\r\n",
      "      <Elevation unit=\"METERS\">62.7</Elevation>\r\n",
      "      <Site>\r\n",
      "        <Name>CE22</Name>\r\n",
      "      </Site>\r\n",
      "      <Vault>Transportable Array</Vault>\r\n",
      "      <CreationDate>2017-11-04T03:16:35</CreationDate>\r\n",
      "      <TerminationDate>2018-06-06T01:02:24</TerminationDate>\r\n",
      "      <SelectedNumberChannels>3</SelectedNumberChannels>\r\n",
      "      <Channel code=\"HHZ\" locationCode=\"0M\">\r\n",
      "        <Latitude unit=\"DEGREES\">-18.49507</Latitude>\r\n",
      "        <Longitude unit=\"DEGREES\">139.002731</Longitude>\r\n",
      "        <Elevation unit=\"METERS\">62.7</Elevation>\r\n",
      "        <Depth unit=\"METERS\">0.0</Depth>\r\n",
      "        <Azimuth unit=\"DEGREES\">0.0</Azimuth>\r\n",
      "        <Dip unit=\"DEGREES\">90.0</Dip>\r\n",
      "        <SampleRate unit=\"SAMPLES/S\">200.0</SampleRate>\r\n",
      "        <ClockDrift unit=\"SECONDS/SAMPLE\">0.0</ClockDrift>\r\n",
      "      </Channel>\r\n",
      "      <Channel code=\"HHE\" locationCode=\"0M\">\r\n",
      "        <Latitude unit=\"DEGREES\">-18.49507</Latitude>\r\n",
      "        <Longitude unit=\"DEGREES\">139.002731</Longitude>\r\n",
      "        <Elevation unit=\"METERS\">62.7</Elevation>\r\n",
      "        <Depth unit=\"METERS\">0.0</Depth>\r\n",
      "        <Azimuth unit=\"DEGREES\">90.0</Azimuth>\r\n",
      "        <Dip unit=\"DEGREES\">0.0</Dip>\r\n",
      "        <SampleRate unit=\"SAMPLES/S\">200.0</SampleRate>\r\n",
      "        <ClockDrift unit=\"SECONDS/SAMPLE\">0.0</ClockDrift>\r\n",
      "      </Channel>\r\n",
      "      <Channel code=\"HHN\" locationCode=\"0M\">\r\n",
      "        <Latitude unit=\"DEGREES\">-18.49507</Latitude>\r\n",
      "        <Longitude unit=\"DEGREES\">139.002731</Longitude>\r\n",
      "        <Elevation unit=\"METERS\">62.7</Elevation>\r\n",
      "        <Depth unit=\"METERS\">0.0</Depth>\r\n",
      "        <Azimuth unit=\"DEGREES\">0.0</Azimuth>\r\n",
      "        <Dip unit=\"DEGREES\">0.0</Dip>\r\n",
      "        <SampleRate unit=\"SAMPLES/S\">200.0</SampleRate>\r\n",
      "        <ClockDrift unit=\"SECONDS/SAMPLE\">0.0</ClockDrift>\r\n",
      "      </Channel>\r\n",
      "    </Station>\r\n",
      "  </Network>\r\n",
      "</FDSNStationXML>\r\n"
     ]
    }
   ],
   "source": [
    "!cat test_OAFZ_CE22_inventory.xml"
   ]
  },
  {
   "cell_type": "code",
   "execution_count": 18,
   "metadata": {},
   "outputs": [
    {
     "name": "stdout",
     "output_type": "stream",
     "text": [
      "<?xml version='1.0' encoding='UTF-8'?>\r\n",
      "<FDSNStationXML xmlns:GeoscienceAustralia=\"https://github.com/GeoscienceAustralia/hiperseis/xmlns/1.0\" xmlns=\"http://www.fdsn.org/xml/station/1\" schemaVersion=\"1.0\">\r\n",
      "  <Source>Geoscience Australia</Source>\r\n",
      "  <Module>ObsPy 1.0.2</Module>\r\n",
      "  <ModuleURI>https://www.obspy.org</ModuleURI>\r\n",
      "  <Created>2019-02-02T18:42:45.000000Z</Created>\r\n",
      "  <Network code=\"OAFZ\" endDate=\"2018-11-28T23:06:20.000000Z\" startDate=\"2017-09-11T00:00:36.000000Z\">\r\n",
      "    <Station code=\"CE22\" endDate=\"2018-06-06T01:02:24.000000Z\" startDate=\"2017-11-04T03:16:35.000000Z\">\r\n",
      "      <GeoscienceAustralia:gpsclockcorrection>net,sta,date,clock_correction\r\n",
      "OA,CE22,2018-04-15,-0.062078925693916966\r\n",
      "OA,CE22,2018-04-16,0.031089249233698407\r\n",
      "OA,CE22,2018-04-17,0.12425742416131377\r\n",
      "OA,CE22,2018-04-18,0.21742559908892917\r\n",
      "OA,CE22,2018-04-19,0.31059377401654453\r\n",
      "OA,CE22,2018-04-20,0.4037619489441599\r\n",
      "OA,CE22,2018-04-21,0.49693012387177526\r\n",
      "OA,CE22,2018-04-22,0.5900982987993908\r\n",
      "OA,CE22,2018-04-23,0.683266473727006\r\n",
      "OA,CE22,2018-04-24,0.7764346486546213\r\n",
      "OA,CE22,2018-04-25,0.8696028235822368\r\n",
      "OA,CE22,2018-04-26,0.9627709985098521\r\n",
      "OA,CE22,2018-04-27,1.0559391734374675\r\n",
      "OA,CE22,2018-04-28,1.1491073483650829\r\n",
      "OA,CE22,2018-04-29,1.2422755232926985\r\n",
      "OA,CE22,2018-04-30,1.3354436982203135\r\n",
      "OA,CE22,2018-05-01,1.428611873147929\r\n",
      "OA,CE22,2018-05-02,1.5217800480755446\r\n",
      "OA,CE22,2018-05-03,1.6149482230031595\r\n",
      "OA,CE22,2018-05-04,1.7081163979307752\r\n",
      "OA,CE22,2018-05-05,1.8012845728583906\r\n",
      "OA,CE22,2018-05-06,1.8944527477860058\r\n",
      "OA,CE22,2018-05-07,1.9876209227136212\r\n",
      "OA,CE22,2018-05-08,2.0807890976412367\r\n",
      "OA,CE22,2018-05-09,2.173957272568852\r\n",
      "OA,CE22,2018-05-10,2.2671254474964675\r\n",
      "OA,CE22,2018-05-11,2.360293622424083\r\n",
      "OA,CE22,2018-05-12,2.453461797351698\r\n",
      "OA,CE22,2018-05-13,2.5466299722793138\r\n",
      "OA,CE22,2018-05-14,2.6397981472069287\r\n",
      "OA,CE22,2018-05-15,2.732966322134544\r\n",
      "OA,CE22,2018-05-16,2.8261344970621596\r\n",
      "OA,CE22,2018-05-17,2.919302671989775\r\n",
      "OA,CE22,2018-05-18,3.012470846917391\r\n",
      "OA,CE22,2018-05-19,3.105639021845006\r\n",
      "OA,CE22,2018-05-20,3.198807196772621\r\n",
      "OA,CE22,2018-05-21,3.2919753717002362\r\n",
      "OA,CE22,2018-05-22,3.3851435466278517\r\n",
      "OA,CE22,2018-05-23,3.4783117215554675\r\n",
      "OA,CE22,2018-05-24,3.571479896483083\r\n",
      "OA,CE22,2018-05-25,3.664648071410698\r\n",
      "OA,CE22,2018-05-26,3.7578162463383133\r\n",
      "OA,CE22,2018-05-27,3.8509844212659283\r\n",
      "OA,CE22,2018-05-28,3.944152596193544\r\n",
      "OA,CE22,2018-05-29,4.037320771121159\r\n",
      "OA,CE22,2018-05-30,4.130488946048775\r\n",
      "OA,CE22,2018-05-31,4.22365712097639\r\n",
      "OA,CE22,2018-06-01,4.316825295904006\r\n",
      "OA,CE22,2018-06-02,4.409993470831621\r\n",
      "OA,CE22,2018-06-03,4.503161645759237\r\n",
      "OA,CE22,2018-06-04,4.596329820686852\r\n",
      "</GeoscienceAustralia:gpsclockcorrection>\r\n",
      "      <Latitude unit=\"DEGREES\">-18.49507</Latitude>\r\n",
      "      <Longitude unit=\"DEGREES\">139.002731</Longitude>\r\n",
      "      <Elevation unit=\"METERS\">62.7</Elevation>\r\n",
      "      <Site>\r\n",
      "        <Name>CE22</Name>\r\n",
      "      </Site>\r\n",
      "      <Vault>Transportable Array</Vault>\r\n",
      "      <CreationDate>2017-11-04T03:16:35.000000Z</CreationDate>\r\n",
      "      <TerminationDate>2018-06-06T01:02:24.000000Z</TerminationDate>\r\n",
      "      <Channel code=\"HHZ\" locationCode=\"0M\">\r\n",
      "        <Latitude unit=\"DEGREES\">-18.49507</Latitude>\r\n",
      "        <Longitude unit=\"DEGREES\">139.002731</Longitude>\r\n",
      "        <Elevation unit=\"METERS\">62.7</Elevation>\r\n",
      "        <Depth unit=\"METERS\">0.0</Depth>\r\n",
      "        <Azimuth unit=\"DEGREES\">0.0</Azimuth>\r\n",
      "        <Dip unit=\"DEGREES\">90.0</Dip>\r\n",
      "        <SampleRate unit=\"SAMPLES/S\">200.0</SampleRate>\r\n",
      "        <ClockDrift unit=\"SECONDS/SAMPLE\">0.0</ClockDrift>\r\n",
      "      </Channel>\r\n",
      "      <Channel code=\"HHE\" locationCode=\"0M\">\r\n",
      "        <Latitude unit=\"DEGREES\">-18.49507</Latitude>\r\n",
      "        <Longitude unit=\"DEGREES\">139.002731</Longitude>\r\n",
      "        <Elevation unit=\"METERS\">62.7</Elevation>\r\n",
      "        <Depth unit=\"METERS\">0.0</Depth>\r\n",
      "        <Azimuth unit=\"DEGREES\">90.0</Azimuth>\r\n",
      "        <Dip unit=\"DEGREES\">0.0</Dip>\r\n",
      "        <SampleRate unit=\"SAMPLES/S\">200.0</SampleRate>\r\n",
      "        <ClockDrift unit=\"SECONDS/SAMPLE\">0.0</ClockDrift>\r\n",
      "      </Channel>\r\n",
      "      <Channel code=\"HHN\" locationCode=\"0M\">\r\n",
      "        <Latitude unit=\"DEGREES\">-18.49507</Latitude>\r\n",
      "        <Longitude unit=\"DEGREES\">139.002731</Longitude>\r\n",
      "        <Elevation unit=\"METERS\">62.7</Elevation>\r\n",
      "        <Depth unit=\"METERS\">0.0</Depth>\r\n",
      "        <Azimuth unit=\"DEGREES\">0.0</Azimuth>\r\n",
      "        <Dip unit=\"DEGREES\">0.0</Dip>\r\n",
      "        <SampleRate unit=\"SAMPLES/S\">200.0</SampleRate>\r\n",
      "        <ClockDrift unit=\"SECONDS/SAMPLE\">0.0</ClockDrift>\r\n",
      "      </Channel>\r\n",
      "    </Station>\r\n",
      "  </Network>\r\n",
      "</FDSNStationXML>\r\n"
     ]
    }
   ],
   "source": [
    "# compare with the original xml with GPS correction data. The GPS data was lost in ASDF?\n",
    "!cat /Datasets/StationXML_with_time_corrections2/OAFZ.CE22.tmp4test.xml"
   ]
  },
  {
   "cell_type": "code",
   "execution_count": 19,
   "metadata": {},
   "outputs": [
    {
     "ename": "SyntaxError",
     "evalue": "invalid syntax (<ipython-input-19-102ec1852100>, line 1)",
     "output_type": "error",
     "traceback": [
      "\u001b[0;36m  File \u001b[0;32m\"<ipython-input-19-102ec1852100>\"\u001b[0;36m, line \u001b[0;32m1\u001b[0m\n\u001b[0;31m    break point\u001b[0m\n\u001b[0m              ^\u001b[0m\n\u001b[0;31mSyntaxError\u001b[0m\u001b[0;31m:\u001b[0m invalid syntax\n"
     ]
    }
   ],
   "source": [
    "break point\n",
    "\n"
   ]
  },
  {
   "cell_type": "markdown",
   "metadata": {},
   "source": [
    "## Extract data from an exisitng ASDF file"
   ]
  },
  {
   "cell_type": "code",
   "execution_count": null,
   "metadata": {},
   "outputs": [],
   "source": [
    "ASDF_FILE=\"/g/data/ha3/GASeisDataArchive/DevSpace/2020.h5\"\n",
    "ASDF_FILE=\"/g/data/ha3/Passive/STRIPED_DATA/TEMP/OA_AUSARRAY1_rev1.h5\"\n",
    "#ASDF_FILE=\"/g/data/ha3/Passive/STRIPED_DATA/TEMP/OA_AUSARRAY_Yr2_S1.h5\"  \n",
    "\n",
    "ds = pyasdf.ASDFDataSet(ASDF_FILE, mode=\"r\")"
   ]
  },
  {
   "cell_type": "code",
   "execution_count": null,
   "metadata": {},
   "outputs": [],
   "source": [
    "print(ds)"
   ]
  },
  {
   "cell_type": "code",
   "execution_count": null,
   "metadata": {},
   "outputs": [],
   "source": [
    "print(type(ds))"
   ]
  },
  {
   "cell_type": "code",
   "execution_count": null,
   "metadata": {},
   "outputs": [],
   "source": [
    "ds.waveforms.list()"
   ]
  },
  {
   "cell_type": "code",
   "execution_count": null,
   "metadata": {},
   "outputs": [],
   "source": [
    "# OA.BY22_station_inv_modified.xml  OA.CE28_station_inv_modified.xml\n",
    "# OA.CE22_station_inv_modified.xml  OA.CF28_station_inv_modified.xml\n",
    "\n",
    "print(ds.waveforms.OA_BY22)"
   ]
  },
  {
   "cell_type": "code",
   "execution_count": null,
   "metadata": {},
   "outputs": [],
   "source": [
    "print(ds.waveforms.OA_BY22.StationXML)"
   ]
  },
  {
   "cell_type": "code",
   "execution_count": null,
   "metadata": {},
   "outputs": [],
   "source": [
    "print (type(ds.waveforms.OA_BY22.StationXML) )"
   ]
  },
  {
   "cell_type": "code",
   "execution_count": null,
   "metadata": {},
   "outputs": [],
   "source": [
    "inv=ds.waveforms.OA_CF28.StationXML\n",
    "inv.write('OA_CF28_inventory.xml', format='STATIONXML')\n",
    "#           nsmap={'my_ns': 'http://test.org/xmlns/0.1',\n",
    "#                  'somepage_ns': 'http://some-page.de/xmlns/1.0'})"
   ]
  },
  {
   "cell_type": "code",
   "execution_count": null,
   "metadata": {},
   "outputs": [],
   "source": [
    "Break\n",
    "\n",
    "print(ds.waveforms.OA_CE22.raw_recording)\n",
    "\n",
    "#ASDFValueError: All waveforms for station 'OA.CE22' and item 'raw_recording' would require '56639.45 MB of memory. The current limit is 4096.00 MB. Adjust by setting 'ASDFDataSet.single_item_read_limit_in_mb' or use a different method to read the waveform data."
   ]
  },
  {
   "cell_type": "code",
   "execution_count": null,
   "metadata": {},
   "outputs": [],
   "source": [
    "for astation in ds.waveforms:  # takes a long time!!!\n",
    "    print(astation)"
   ]
  },
  {
   "cell_type": "code",
   "execution_count": null,
   "metadata": {},
   "outputs": [],
   "source": [
    "# inv=ds.waveforms.AU_FITZ.StationXML\n",
    "# inv.write('AU.FITZ_inventory.xml', format='STATIONXML')"
   ]
  },
  {
   "cell_type": "code",
   "execution_count": null,
   "metadata": {},
   "outputs": [],
   "source": []
  },
  {
   "cell_type": "code",
   "execution_count": null,
   "metadata": {},
   "outputs": [],
   "source": []
  },
  {
   "cell_type": "code",
   "execution_count": null,
   "metadata": {},
   "outputs": [],
   "source": []
  },
  {
   "cell_type": "code",
   "execution_count": null,
   "metadata": {},
   "outputs": [],
   "source": []
  }
 ],
 "metadata": {
  "kernelspec": {
   "display_name": "Python 3",
   "language": "python",
   "name": "python3"
  },
  "language_info": {
   "codemirror_mode": {
    "name": "ipython",
    "version": 3
   },
   "file_extension": ".py",
   "mimetype": "text/x-python",
   "name": "python",
   "nbconvert_exporter": "python",
   "pygments_lexer": "ipython3",
   "version": "3.6.9"
  }
 },
 "nbformat": 4,
 "nbformat_minor": 4
}
