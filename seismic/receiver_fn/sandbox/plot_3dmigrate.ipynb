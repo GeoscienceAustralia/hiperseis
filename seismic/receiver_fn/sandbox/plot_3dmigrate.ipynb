{
 "cells": [
  {
   "cell_type": "markdown",
   "metadata": {},
   "source": [
    "## Notebook for visualizing results of script `rf_3dmigrate.py`"
   ]
  },
  {
   "cell_type": "code",
   "execution_count": null,
   "metadata": {},
   "outputs": [],
   "source": [
    "import os\n",
    "import os.path\n",
    "\n",
    "import matplotlib as mpl\n",
    "import matplotlib.pyplot as plt\n",
    "import numpy as np\n",
    "from obspy import read_inventory, read_events, UTCDateTime as UTC\n",
    "from obspy.clients.fdsn import Client\n",
    "from rf import read_rf, RFStream\n",
    "from rf import get_profile_boxes, iter_event_data, IterMultipleComponents\n",
    "from rf.imaging import plot_profile_map\n",
    "from rf.profile import profile\n",
    "from tqdm import tqdm\n",
    "# from eqcorrscan.utils.stacking import linstack, PWS_stack, align_traces\n",
    "import rf\n",
    "import scipy\n",
    "from scipy.spatial import cKDTree\n",
    "from scipy.interpolate import interp1d\n",
    "from pyevtk.hl import gridToVTK"
   ]
  },
  {
   "cell_type": "code",
   "execution_count": null,
   "metadata": {},
   "outputs": [],
   "source": [
    "input_folder = '/g/data/ha3/am7399/shared/OA_RF_analysis/3dmigrate'\n",
    "output_folder = '/g/data/ha3/am7399/shared/OA_RF_analysis/3dmigrate'"
   ]
  },
  {
   "cell_type": "code",
   "execution_count": null,
   "metadata": {},
   "outputs": [],
   "source": [
    "# --dimensions 800 400 100 --num-cells 80 40 500\n",
    "cz = np.loadtxt(os.path.join(input_folder, 'cz.txt'))\n",
    "vol = np.loadtxt(os.path.join(input_folder, 'vol.txt'))\n",
    "volHits = np.loadtxt(os.path.join(input_folder, 'volHits.txt'))\n",
    "gxaa = np.loadtxt(os.path.join(input_folder, 'gxaa.txt'))\n",
    "gyaa = np.loadtxt(os.path.join(input_folder, 'gyaa.txt'))\n",
    "gzaa = np.loadtxt(os.path.join(input_folder, 'gzaa.txt'))\n",
    "glon = np.loadtxt(os.path.join(input_folder, 'glon.txt'))\n",
    "glat = np.loadtxt(os.path.join(input_folder, 'glat.txt'))\n",
    "\n",
    "nx = 80\n",
    "ny = 40\n",
    "nz = 500"
   ]
  },
  {
   "cell_type": "code",
   "execution_count": null,
   "metadata": {},
   "outputs": [],
   "source": [
    "cz = cz.reshape((nx-1,ny-1,nz-1))\n",
    "vol = vol.reshape((nx-1,ny-1,nz-1))\n",
    "volHits = volHits.reshape((nx-1,ny-1,nz-1))\n",
    "gxaa = gxaa.reshape((nx,ny,nz))\n",
    "gyaa = gyaa.reshape((nx,ny,nz))\n",
    "gzaa = gzaa.reshape((nx,ny,nz))\n",
    "\n",
    "glon = glon.reshape((nx,ny,nz))\n",
    "glat = glat.reshape((nx,ny,nz))"
   ]
  },
  {
   "cell_type": "code",
   "execution_count": null,
   "metadata": {},
   "outputs": [],
   "source": [
    "plt.figure(figsize=(20,10))\n",
    "\n",
    "pgx = (gxaa[:-1,0,0] + gxaa[1:,0,0])/2\n",
    "pgz = (gzaa[0,0,:-1] + gzaa[0,0,1:])/2\n",
    "\n",
    "pgx,pgz = np.meshgrid(pgx,pgz,indexing='ij')\n",
    "\n",
    "print(pgx.shape)\n",
    "#meanVol = np.mean(vol*cz**1.5, axis=1)\n",
    "meanVol = np.mean(vol[:,0:10,:]*cz[:,0:10,:]**2, axis=1)\n",
    "print(meanVol.shape)\n",
    "\n",
    "#meanVol /= np.sqrt(np.mean(np.power(meanVol,2)))\n",
    "plt.contourf(pgx, pgz, np.sum(volHits[:,10:15,:], axis=1), 50, cmap='jet')\n",
    "\n",
    "norm = mpl.colors.Normalize(vmin=np.min(meanVol), vmax=-np.min(meanVol))\n",
    "\n",
    "pgxz = scipy.ndimage.zoom(pgx, 3)\n",
    "pgzz = scipy.ndimage.zoom(pgz, 3)\n",
    "meanVolz = scipy.ndimage.zoom(meanVol, 3)\n",
    "\n",
    "plt.contourf(pgxz, pgzz, meanVolz, 500, norm=norm, cmap='seismic')\n",
    "#plt.contourf(pgx, pgz, meanVol, 500, norm=norm, cmap='seismic')\n",
    "\n",
    "\n",
    "#meanCz = np.mean(cz, axis=1)\n",
    "meanCz = np.mean(cz[:,30:35,:], axis=1)\n",
    "\n",
    "norm = mpl.colors.Normalize(vmin=np.min(meanCz), vmax=np.max(meanCz))\n",
    "\n",
    "pgxz = scipy.ndimage.zoom(pgx, 3)\n",
    "pgzz = scipy.ndimage.zoom(pgz, 3)\n",
    "meanCzz = scipy.ndimage.zoom(meanCz, 3)\n",
    "\n",
    "#plt.contourf(pgxz, pgzz, meanCzz, 500, norm=norm, cmap='seismic')\n",
    "#plt.contourf(pgx, pgz, meanCzz, 500, norm=norm, cmap='seismic')\n",
    "\n",
    "\n",
    "\n",
    "plt.colorbar()\n",
    "\n",
    "plt.axes().set_xlabel('Distance along azimuth [km]')\n",
    "plt.axes().set_ylabel('Depth [km]')\n",
    "plt.tick_params(axis='both', labelsize=15)\n",
    "\n",
    "plt.axes().set_ylim([0,50])\n",
    "plt.axes().invert_yaxis()\n",
    "plt.axes().set_aspect(7)\n",
    "\n",
    "plt.show()\n"
   ]
  },
  {
   "cell_type": "code",
   "execution_count": null,
   "metadata": {},
   "outputs": [],
   "source": [
    "gxaac = (gxaa[:-1, :-1, :-1] + gxaa[1:, 1:, 1:]) / 2.\n",
    "gyaac = (gyaa[:-1, :-1, :-1] + gyaa[1:, 1:, 1:]) / 2.\n",
    "gzaac = (gzaa[:-1, :-1, :-1] + gzaa[1:, 1:, 1:]) / 2.\n",
    "\n",
    "xyzs = np.array([gxaac[:,:,0].flatten(), gyaac[:,:,0].flatten(), gzaac[:,:,0].flatten()]).T\n",
    "tree = cKDTree(xyzs)"
   ]
  },
  {
   "cell_type": "code",
   "execution_count": null,
   "metadata": {},
   "outputs": [],
   "source": [
    "rIO = interp1d(gzaac[0,0,:], np.linspace(30,100, nz-1))\n",
    "\n",
    "smoothVolLi = np.zeros(vol.shape)\n",
    "smoothVolSq = np.zeros(vol.shape)\n",
    "smoothVolCu = np.zeros(vol.shape)\n",
    "for ix in np.arange(nx-1):\n",
    "    for iy in np.arange(ny-1):\n",
    "        for iz in np.arange(nz-1):\n",
    "            ids = np.array(tree.query_ball_point([gxaac[ix,iy,iz], gyaac[ix,iy,iz], gzaac[ix,iy,iz]], \n",
    "                                                 r=rIO(gzaac[ix,iy,iz])))\n",
    "            #print len(ids)\n",
    "            lix = np.floor_divide(ids, ny-1)\n",
    "            liy = np.mod(ids, ny-1)\n",
    "            #print lix\n",
    "            #print liy\n",
    "            if(len(ids)):\n",
    "                #ids += lix*(ny-1)*(nz-1) + liy*(nz-1)\n",
    "                smoothVolLi[ix,iy,iz] = np.mean(vol[lix, liy, iz]*cz[lix, liy, iz])\n",
    "                smoothVolSq[ix,iy,iz] = np.mean(vol[lix, liy, iz]*cz[lix, liy, iz]**2)\n",
    "                smoothVolCu[ix,iy,iz] = np.mean(vol[lix, liy, iz]*cz[lix, liy, iz]**3)"
   ]
  },
  {
   "cell_type": "code",
   "execution_count": null,
   "metadata": {},
   "outputs": [],
   "source": [
    "rIO = interp1d(gzaac[0,0,:], np.linspace(30,100, nz-1))\n",
    "plt.plot(gzaac[0,0,:], rIO(gzaac[0,0,:]))\n",
    "plt.show()"
   ]
  },
  {
   "cell_type": "code",
   "execution_count": null,
   "metadata": {},
   "outputs": [],
   "source": [
    "plt.figure(figsize=(20,10))\n",
    "\n",
    "pgx = (gxaa[:-1,0,0] + gxaa[1:,0,0])/2\n",
    "pgz = (gzaa[0,0,:-1] + gzaa[0,0,1:])/2\n",
    "\n",
    "pgx,pgz = np.meshgrid(pgx,pgz,indexing='ij')\n",
    "\n",
    "meanVol = np.mean(smoothVolSq[:,25:35,:], axis=1)\n",
    "\n",
    "norm = mpl.colors.Normalize(vmin=np.min(meanVol), vmax=-np.min(meanVol))\n",
    "\n",
    "plt.contourf(pgx, pgz, meanVol, 500, norm=norm, cmap='seismic')\n",
    "#plt.colorbar()\n",
    "\n",
    "plt.axes().set_xlabel('Distance along azimuth [km]')\n",
    "plt.axes().set_ylabel('Depth [km]')\n",
    "plt.tick_params(axis='both', labelsize=15)\n",
    "plt.axes().set_ylim([0,50])\n",
    "plt.axes().invert_yaxis()\n",
    "plt.axes().set_aspect(5)\n",
    "plt.tight_layout()\n",
    "#plt.savefig('/tmp/linweighting.png', dpi=300)\n",
    "plt.savefig(os.path.join(output_folder, 'hCC.png'), dpi=300)\n"
   ]
  },
  {
   "cell_type": "code",
   "execution_count": null,
   "metadata": {},
   "outputs": [],
   "source": [
    "plt.figure(figsize=(20,10))\n",
    "\n",
    "pgy = (gyaa[0,:-1,0] + gyaa[0,1:,0])/2\n",
    "pgz = (gzaa[0,0,:-1] + gzaa[0,0,1:])/2\n",
    "\n",
    "pgy,pgz = np.meshgrid(pgy,pgz,indexing='ij')\n",
    "\n",
    "meanVol = np.mean(smoothVolSq[25:35,:,:], axis=0)\n",
    "\n",
    "norm = mpl.colors.Normalize(vmin=np.min(meanVol), vmax=-np.min(meanVol))\n",
    "\n",
    "plt.contourf(pgy, pgz, meanVol, 500, norm=norm, cmap='seismic')\n",
    "#plt.colorbar()\n",
    "\n",
    "plt.axes().set_xlabel('Distance along crossline direction [km]')\n",
    "plt.axes().set_ylabel('Depth [km]')\n",
    "plt.tick_params(axis='both', labelsize=15)\n",
    "\n",
    "plt.axes().set_ylim([0,50])\n",
    "plt.axes().invert_yaxis()\n",
    "plt.axes().set_aspect(5)\n",
    "plt.tight_layout()\n",
    "\n",
    "plt.savefig(os.path.join(output_folder, 'vCC.png'), dpi=300)\n"
   ]
  },
  {
   "cell_type": "code",
   "execution_count": null,
   "metadata": {},
   "outputs": [],
   "source": [
    "plt.figure(figsize=(20,10))\n",
    "\n",
    "pgx = (gxaa[:-1,0,0] + gxaa[1:,0,0])/2\n",
    "pgy = (gyaa[0,:-1,0] + gyaa[0,1:,0])/2\n",
    "\n",
    "pgx,pgy = np.meshgrid(pgx,pgy,indexing='ij')\n",
    "\n",
    "meanVol = np.mean(smoothVolSq[:,:,150:151], axis=2)\n",
    "\n",
    "norm = mpl.colors.Normalize(vmin=np.min(meanVol), vmax=-np.min(meanVol))\n",
    "\n",
    "plt.contourf(pgx, pgy, meanVol, 500, norm=norm, cmap='seismic')\n",
    "#plt.colorbar()\n",
    "\n",
    "plt.axes().set_xlabel('Distance along inline direction [km]')\n",
    "plt.axes().set_ylabel('Distance along crossline direction [km]')\n",
    "plt.tick_params(axis='both', labelsize=15)\n",
    "plt.axes().invert_yaxis()\n",
    "\n",
    "plt.tight_layout()\n",
    "\n",
    "plt.savefig(os.path.join(output_folder, 'd.png'), dpi=300)\n"
   ]
  },
  {
   "cell_type": "code",
   "execution_count": null,
   "metadata": {},
   "outputs": [],
   "source": [
    "gridToVTK(\"./structuredg\", \n",
    "          glon, glat, np.array(gzaa), \n",
    "          cellData = {\"Amplitude\":np.array(smoothVolSq), \n",
    "                      \"VolHits\":np.array(volHits)})"
   ]
  },
  {
   "cell_type": "code",
   "execution_count": null,
   "metadata": {},
   "outputs": [],
   "source": [
    "print(gzaa)"
   ]
  },
  {
   "cell_type": "code",
   "execution_count": null,
   "metadata": {},
   "outputs": [],
   "source": []
  }
 ],
 "metadata": {
  "kernelspec": {
   "display_name": "Python 3",
   "language": "python",
   "name": "python3"
  },
  "language_info": {
   "codemirror_mode": {
    "name": "ipython",
    "version": 3
   },
   "file_extension": ".py",
   "mimetype": "text/x-python",
   "name": "python",
   "nbconvert_exporter": "python",
   "pygments_lexer": "ipython3",
   "version": "3.5.2"
  }
 },
 "nbformat": 4,
 "nbformat_minor": 4
}
