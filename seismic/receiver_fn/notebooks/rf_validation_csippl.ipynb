{
 "cells": [
  {
   "cell_type": "markdown",
   "metadata": {},
   "source": [
    "# Use public data to replicate C.Sippl (2016) *Technophysics* results Figure 3"
   ]
  },
  {
   "cell_type": "markdown",
   "metadata": {},
   "source": [
    "## Imports, global setup"
   ]
  },
  {
   "cell_type": "code",
   "execution_count": null,
   "metadata": {},
   "outputs": [],
   "source": [
    "import os\n",
    "\n",
    "import numpy as np\n",
    "import pandas as pd\n",
    "\n",
    "import rf\n",
    "import rf.imaging\n",
    "\n",
    "import matplotlib.pyplot as plt\n",
    "import seaborn as sns\n",
    "\n",
    "from obspy import UTCDateTime"
   ]
  },
  {
   "cell_type": "code",
   "execution_count": null,
   "metadata": {},
   "outputs": [],
   "source": [
    "import seismic.receiver_fn.rf_util as rf_util\n",
    "import seismic.receiver_fn.rf_plot_utils as rf_plot_utils\n",
    "import seismic.receiver_fn.rf_stacking as rf_stacking"
   ]
  },
  {
   "cell_type": "code",
   "execution_count": null,
   "metadata": {},
   "outputs": [],
   "source": [
    "# import importlib\n",
    "# importlib.reload(rf_stacking)"
   ]
  },
  {
   "cell_type": "markdown",
   "metadata": {},
   "source": [
    "## Load the data file of processed RF traces for analysis"
   ]
  },
  {
   "cell_type": "code",
   "execution_count": null,
   "metadata": {},
   "outputs": [],
   "source": [
    "network = '7W'\n",
    "# network = '6F'\n",
    "# rf_type = 'ZRT_fd'\n",
    "# rf_type = 'ZRT_td'\n",
    "rf_type = 'ZRT_it'\n",
    "data = rf_util.read_h5_rf(r\"..\\DATA\\7W_rfs_20080827T000136-20101231T235620_{}_qual.h5\".format(rf_type))\n",
    "# data = rf_util.read_h5_rf(r\"..\\DATA\\6F_rfs_20080827T032712-20110524T003459_{}_qual.h5\".format(rf_type))\n",
    "data"
   ]
  },
  {
   "cell_type": "code",
   "execution_count": null,
   "metadata": {},
   "outputs": [],
   "source": [
    "stations = set([tr.stats.station for tr in data])\n",
    "station_idx = {st: data.select(station=st) for st in stations}\n",
    "len(station_idx)"
   ]
  },
  {
   "cell_type": "code",
   "execution_count": null,
   "metadata": {},
   "outputs": [],
   "source": [
    "stations_not_empty = set([st for st in station_idx if len(station_idx[st]) > 0])\n",
    "len(stations_not_empty)"
   ]
  },
  {
   "cell_type": "code",
   "execution_count": null,
   "metadata": {},
   "outputs": [],
   "source": [
    "test_stations = sorted(stations_not_empty)\n",
    "print(test_stations)"
   ]
  },
  {
   "cell_type": "code",
   "execution_count": null,
   "metadata": {},
   "outputs": [],
   "source": [
    "primary_station = 'BL05'\n",
    "# primary_station = 'BL20'"
   ]
  },
  {
   "cell_type": "markdown",
   "metadata": {},
   "source": [
    "## Process data and present RF stacking"
   ]
  },
  {
   "cell_type": "markdown",
   "metadata": {},
   "source": [
    "### Filter data down to selected station"
   ]
  },
  {
   "cell_type": "code",
   "execution_count": null,
   "metadata": {},
   "outputs": [],
   "source": [
    "data_rf = data.select(station=primary_station)\n",
    "len(data_rf)"
   ]
  },
  {
   "cell_type": "code",
   "execution_count": null,
   "metadata": {},
   "outputs": [],
   "source": [
    "# Preview first 100 RF plots\n",
    "# _ = rf_plot_utils.plot_rf_stack(data_rf.sort(['back_azimuth'])[0:100], time_window=(-5,30))"
   ]
  },
  {
   "cell_type": "code",
   "execution_count": null,
   "metadata": {},
   "outputs": [],
   "source": [
    "event_id_all = np.array(sorted(list(set([tr.stats.event_id for tr in data_rf]))))"
   ]
  },
  {
   "cell_type": "code",
   "execution_count": null,
   "metadata": {},
   "outputs": [],
   "source": [
    "np.savetxt(\"7X.BL05_event_ids_all.txt\", event_id_all, fmt='%s')"
   ]
  },
  {
   "cell_type": "markdown",
   "metadata": {},
   "source": [
    "### Check the main data channel code and set channel accordingly"
   ]
  },
  {
   "cell_type": "code",
   "execution_count": null,
   "metadata": {},
   "outputs": [],
   "source": [
    "set([tr.stats.channel for tr in data_rf])"
   ]
  },
  {
   "cell_type": "code",
   "execution_count": null,
   "metadata": {},
   "outputs": [],
   "source": [
    "channel = 'BHR'"
   ]
  },
  {
   "cell_type": "code",
   "execution_count": null,
   "metadata": {},
   "outputs": [],
   "source": [
    "data_rf = data_rf.select(channel=channel)\n",
    "len(data_rf)"
   ]
  },
  {
   "cell_type": "markdown",
   "metadata": {},
   "source": [
    "## Replicate as much of Sippl's trace filtering logic as possible"
   ]
  },
  {
   "cell_type": "markdown",
   "metadata": {},
   "source": [
    "### Filter RFs with too large amplitude or R-component maximum not near onset\n",
    "\n",
    "We use library function with lax thresholds on SNR and RMS amplitude, so that filtering is determined by max. amplitude and location of highest peak."
   ]
  },
  {
   "cell_type": "code",
   "execution_count": null,
   "metadata": {},
   "outputs": [],
   "source": [
    "rf_util.label_rf_quality_simple_amplitude(rf_type, data_rf, snr_cutoff=1.0, rms_amp_cutoff=1.0, max_amp_cutoff=2.0)\n",
    "data_good = rf.RFStream([tr for tr in data_rf if tr.stats.predicted_quality == 'a'])"
   ]
  },
  {
   "cell_type": "code",
   "execution_count": null,
   "metadata": {},
   "outputs": [],
   "source": [
    "len(data_good)"
   ]
  },
  {
   "cell_type": "code",
   "execution_count": null,
   "metadata": {},
   "outputs": [],
   "source": [
    "_ = rf_plot_utils.plot_rf_stack(data_good.sort(['back_azimuth'])[0:100], time_window=(-5,30))"
   ]
  },
  {
   "cell_type": "markdown",
   "metadata": {},
   "source": [
    "### Filter by cross-correlation coefficient against other traces"
   ]
  },
  {
   "cell_type": "code",
   "execution_count": null,
   "metadata": {},
   "outputs": [],
   "source": [
    "data_good = rf_util.filter_crosscorr_coeff(data_good, time_window=(-2, 20)).sort(['back_azimuth'])\n",
    "len(data_good)"
   ]
  },
  {
   "cell_type": "code",
   "execution_count": null,
   "metadata": {},
   "outputs": [],
   "source": [
    "event_id_good = np.array(sorted(list(set([tr.stats.event_id for tr in data_good]))))"
   ]
  },
  {
   "cell_type": "code",
   "execution_count": null,
   "metadata": {},
   "outputs": [],
   "source": [
    "np.savetxt(\"7X.BL05_event_ids_filt.txt\", event_id_good, fmt='%s')"
   ]
  },
  {
   "cell_type": "code",
   "execution_count": null,
   "metadata": {},
   "outputs": [],
   "source": [
    "_ = rf_plot_utils.plot_rf_stack(data_good.sort(['back_azimuth'])[0:100], time_window=(-5,30))"
   ]
  },
  {
   "cell_type": "code",
   "execution_count": null,
   "metadata": {},
   "outputs": [],
   "source": [
    "_ = rf_plot_utils.plot_station_rf_overlays({channel: data_good}, time_range=(-5, 30))"
   ]
  },
  {
   "cell_type": "markdown",
   "metadata": {},
   "source": [
    "### Plot the good RFs"
   ]
  },
  {
   "cell_type": "code",
   "execution_count": null,
   "metadata": {},
   "outputs": [],
   "source": [
    "time_window=(-5.0, 30.0)"
   ]
  },
  {
   "cell_type": "code",
   "execution_count": null,
   "metadata": {},
   "outputs": [],
   "source": [
    "save_file = 'RF_stack_{}.{}.{}_{}_validation.png'.format(network, primary_station, channel, rf_type)\n",
    "fig = rf_plot_utils.plot_rf_stack(data_good, save_file=save_file, dpi=300, time_window=time_window)\n",
    "plt.show()"
   ]
  },
  {
   "cell_type": "markdown",
   "metadata": {},
   "source": [
    "## H-k stacking"
   ]
  },
  {
   "cell_type": "code",
   "execution_count": null,
   "metadata": {},
   "outputs": [],
   "source": [
    "db = rf_util.rf_to_dict(data_good)\n",
    "data_sta = db[primary_station]"
   ]
  },
  {
   "cell_type": "code",
   "execution_count": null,
   "metadata": {},
   "outputs": [],
   "source": [
    "# weighting = (0.5, 0.5, 0.0)\n",
    "weighting = (0.33, 0.33, 0.33)\n",
    "\n",
    "V_p = 6.4\n",
    "k_grid, h_grid, hk_stack = rf_stacking.compute_hk_stack(data_sta, channel, V_p=V_p, h_range=np.linspace(20.0, 60.0, 201),\n",
    "                                                        k_range=np.linspace(1.5, 2.0, 251), root_order=2)\n",
    "# Inferred V_p:\n",
    "# k_grid, h_grid, hk_stack = rf_stacking.compute_hk_stack(data_sta, channel, h_range=np.linspace(20.0, 60.0, 201),\n",
    "#                                                         k_range=np.linspace(1.5, 2.0, 251), root_order=2)\n",
    "\n",
    "# Sum the phases\n",
    "hk_stack_sum = rf_stacking.compute_weighted_stack(hk_stack, weighting)\n",
    "\n",
    "# Raise the final sum over phases to power >1 to increase contrast\n",
    "hk_stack_sum = rf_util.signed_nth_power(hk_stack_sum, 2)\n",
    "hk_stack_sum = hk_stack_sum/np.nanmax(hk_stack_sum[:])"
   ]
  },
  {
   "cell_type": "code",
   "execution_count": null,
   "metadata": {},
   "outputs": [],
   "source": [
    "# Numerically find location of maxima\n",
    "best_solution = rf_stacking.find_local_hk_maxima(k_grid, h_grid, hk_stack_sum)[0]\n",
    "print(\"Best solution (H, k, stack, row, col) = {}\".format(best_solution))\n",
    "h_max, k_max = best_solution[0:2]\n",
    "\n",
    "sta = data_sta[channel][0].stats.station\n",
    "num = len(data_sta[channel])\n",
    "save_file = 'Hk_stack_{}.{}.{}_{}_validation.png'.format(network, sta, channel, rf_type)\n",
    "fig = rf_plot_utils.plot_hk_stack(k_grid, h_grid, hk_stack_sum, title='Station ' + network + '.' + sta + '.' + channel, num=num)\n",
    "plt.scatter(k_max, h_max, marker='x', c=\"#40ff40\", s=100, alpha=0.8, zorder=100)\n",
    "if k_max >= 1.75:\n",
    "    plt.text(k_max - 0.01, h_max + 1, \"Solution H = {:.3f}, k = {:.3f}\".format(h_max, k_max),\n",
    "             color=\"#40ff40\", fontsize=16, horizontalalignment='right', zorder=100)\n",
    "else:\n",
    "    plt.text(k_max + 0.01, h_max + 1, \"Solution H = {:.3f}, k = {:.3f}\".format(h_max, k_max),\n",
    "             color=\"#40ff40\", fontsize=16, zorder=100)\n",
    "# end if\n",
    "# fig.savefig(save_file, dpi=300)\n",
    "plt.show()"
   ]
  },
  {
   "cell_type": "markdown",
   "metadata": {},
   "source": [
    "## Extend validation to cover other stations of Bilby deployment"
   ]
  },
  {
   "cell_type": "code",
   "execution_count": null,
   "metadata": {},
   "outputs": [],
   "source": [
    "db_7W = rf_util.rf_to_dict(data)"
   ]
  },
  {
   "cell_type": "code",
   "execution_count": null,
   "metadata": {},
   "outputs": [],
   "source": [
    "output_folder = 'csippl_validation_it_rev2_7W'\n",
    "# output_folder = 'csippl_validation_td_rev1_7W'\n",
    "# output_folder = 'csippl_validation_td_rev1_6F'\n",
    "# output_folder = 'csippl_validation_fd_rev1_7W'\n",
    "if not os.path.exists(output_folder):\n",
    "    os.mkdir(output_folder)"
   ]
  },
  {
   "cell_type": "code",
   "execution_count": null,
   "metadata": {},
   "outputs": [],
   "source": [
    "for test_station in test_stations:\n",
    "    try:\n",
    "        db_station = db_7W[test_station]\n",
    "        channel = rf_util.choose_rf_source_channel(rf_type, db_station)\n",
    "\n",
    "        db_channel = db_station[channel]\n",
    "        test_rf = rf.RFStream(db_channel)\n",
    "\n",
    "        rf_util.label_rf_quality_simple_amplitude(rf_type, test_rf, snr_cutoff=1.0, rms_amp_cutoff=1.0, max_amp_cutoff=2.0)\n",
    "        data_good = rf.RFStream([tr for tr in test_rf if tr.stats.predicted_quality == 'a'])\n",
    "        data_good = rf_util.filter_crosscorr_coeff(data_good, time_window=(-2, 20)).sort(['back_azimuth'])\n",
    "        print(\"Num traces = {}\".format(len(data_good)))\n",
    "\n",
    "        save_file = 'RF_stack_{}.{}.{}_{}_validation.png'.format(network, test_station, channel, rf_type)\n",
    "        save_file = os.path.join(output_folder, save_file)\n",
    "        fig = rf_plot_utils.plot_rf_stack(data_good, save_file=save_file, dpi=300, time_window=time_window)\n",
    "\n",
    "        db_good = rf_util.rf_to_dict(data_good)\n",
    "        data_sta = db_good[test_station]\n",
    "\n",
    "#         weighting = (0.5, 0.5, 0.0)\n",
    "        weighting = (0.33, 0.33, 0.33)\n",
    "\n",
    "        V_p = 6.4\n",
    "        k_grid, h_grid, hk_stack = rf_stacking.compute_hk_stack(data_sta, channel, V_p=V_p, h_range=np.linspace(20.0, 60.0, 201),\n",
    "                                                                k_range=np.linspace(1.5, 2.0, 251), root_order=2)\n",
    "\n",
    "        # Sum the phases\n",
    "        hk_stack_sum = rf_stacking.compute_weighted_stack(hk_stack, weighting)\n",
    "\n",
    "        # Raise the final sum over phases to power >1 to increase contrast\n",
    "        hk_stack_sum = rf_util.signed_nth_power(hk_stack_sum, 2)\n",
    "        hk_stack_sum = hk_stack_sum/np.nanmax(hk_stack_sum[:])\n",
    "\n",
    "        # Numerically find location of maxima\n",
    "        best_solution = rf_stacking.find_local_hk_maxima(k_grid, h_grid, hk_stack_sum)[0]\n",
    "        print(\"Best solution (H, k, stack, row, col) = {}\".format(best_solution))\n",
    "        h_max, k_max = best_solution[0:2]\n",
    "\n",
    "        sta = test_station\n",
    "        num = len(data_sta[channel])\n",
    "        save_file = 'Hk_stack_{}.{}.{}_{}_validation.png'.format(network, sta, channel, rf_type)\n",
    "        save_file = os.path.join(output_folder, save_file)\n",
    "        fig = rf_plot_utils.plot_hk_stack(k_grid, h_grid, hk_stack_sum, title='Station ' + network + '.' + sta + '.' + channel, num=num)\n",
    "        plt.scatter(k_max, h_max, marker='x', c=\"#40ff40\", s=100, zorder=100)\n",
    "        if k_max >= 1.75:\n",
    "            plt.text(k_max - 0.01, h_max + 1, \"Solution H = {:.3f}, k = {:.3f}\".format(h_max, k_max),\n",
    "                     color=\"#40ff40\", fontsize=16, horizontalalignment='right', zorder=100)\n",
    "        else:\n",
    "            plt.text(k_max + 0.01, h_max + 1, \"Solution H = {:.3f}, k = {:.3f}\".format(h_max, k_max),\n",
    "                     color=\"#40ff40\", fontsize=16, zorder=100)\n",
    "        # end if\n",
    "        fig.savefig(save_file, dpi=300)\n",
    "        plt.show()\n",
    "\n",
    "    except Exception as e:\n",
    "        print(\"Failed on station {} with error:\\n{}\".format(test_station, str(e)))\n",
    "    # end try\n",
    "# end for"
   ]
  },
  {
   "cell_type": "markdown",
   "metadata": {},
   "source": [
    "--------------"
   ]
  },
  {
   "cell_type": "code",
   "execution_count": null,
   "metadata": {},
   "outputs": [],
   "source": []
  }
 ],
 "metadata": {
  "kernelspec": {
   "display_name": "Python 3",
   "language": "python",
   "name": "python3"
  },
  "language_info": {
   "codemirror_mode": {
    "name": "ipython",
    "version": 3
   },
   "file_extension": ".py",
   "mimetype": "text/x-python",
   "name": "python",
   "nbconvert_exporter": "python",
   "pygments_lexer": "ipython3",
   "version": "3.6.7"
  }
 },
 "nbformat": 4,
 "nbformat_minor": 4
}
