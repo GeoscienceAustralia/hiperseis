{
 "cells": [
  {
   "cell_type": "markdown",
   "metadata": {},
   "source": [
    "# Test iterative deconvolution on 7W (Bilby) station"
   ]
  },
  {
   "cell_type": "code",
   "execution_count": null,
   "metadata": {},
   "outputs": [],
   "source": [
    "import os\n",
    "import logging\n",
    "\n",
    "import numpy as np\n",
    "import matplotlib.pyplot as plt\n",
    "\n",
    "import obspy\n",
    "import rf"
   ]
  },
  {
   "cell_type": "code",
   "execution_count": null,
   "metadata": {},
   "outputs": [],
   "source": [
    "from seismic.receiver_fn.rf_plot_utils import plot_rf_stack\n",
    "from seismic.receiver_fn.rf_deconvolution import iter_deconv_pulsetrain"
   ]
  },
  {
   "cell_type": "code",
   "execution_count": null,
   "metadata": {},
   "outputs": [],
   "source": [
    "# Load test data from Bilby. This is broadband data sampled at 50 Hz, so it is downsampled first before passing\n",
    "# to iterative deconvolution.\n",
    "src_trace_file = \"../DATA/7W.BL05_event_waveforms_for_rf_filtered.h5\"\n",
    "src_data = obspy.read(src_trace_file, format='h5')"
   ]
  },
  {
   "cell_type": "code",
   "execution_count": null,
   "metadata": {},
   "outputs": [],
   "source": [
    "log = logging.getLogger(__name__)\n",
    "log.setLevel(logging.ERROR)"
   ]
  },
  {
   "cell_type": "code",
   "execution_count": null,
   "metadata": {},
   "outputs": [],
   "source": [
    "# Run deconv on traces associated with same events\n",
    "max_iterations = 200\n",
    "time_window = (-10, 30)\n",
    "i = 0\n",
    "all_traces = []\n",
    "freq_cutoff = (0.25, 1.0)\n",
    "outfolder = 'test_iterdeconv_freq{:.2f}-{:.2f}'.format(*freq_cutoff)\n",
    "\n",
    "if not os.path.exists(outfolder):\n",
    "    os.makedirs(outfolder)\n",
    "# end if\n",
    "\n",
    "for stream3c in rf.util.IterMultipleComponents(src_data.copy(), key='onset', number_components=(2, 3)):\n",
    "    stream3c.filter('bandpass', freqmin=freq_cutoff[0], freqmax=freq_cutoff[1], corners=2,\n",
    "                    zerophase=True).interpolate(5.0)\n",
    "    rf_stream = rf.RFStream(stream3c)\n",
    "    rf_stream.rotate('NE->RT')\n",
    "    rf_stream.trim2(*time_window, reftime='onset')\n",
    "    rf_stream.detrend('linear')\n",
    "    rf_stream.taper(0.2, max_length=0.5)\n",
    "    source = rf_stream.select(component='Z')[0]\n",
    "    response = rf_stream.select(component='R')[0]\n",
    "    F_s = source.stats.sampling_rate\n",
    "    time_shift = source.stats.onset - source.stats.starttime\n",
    "\n",
    "    rf_trace, pulses, expected_response, predicted_response, fit = iter_deconv_pulsetrain(response, source, F_s, time_shift,\n",
    "                                                                                          max_iterations, gwidth=2.5, log=log)\n",
    "    # Normalize RF\n",
    "    sum_sq = np.sum(np.square(rf_trace))\n",
    "    rf_trace /= np.sqrt(sum_sq)\n",
    "    tr = response.copy()\n",
    "    tr.data = rf_trace.copy()\n",
    "    all_traces.append(tr)\n",
    "\n",
    "    # Generate plots\n",
    "    event_id = source.stats.event_id\n",
    "    times = source.times() - (source.stats.onset - source.stats.starttime)\n",
    "    plt.figure(figsize=(12, 8))\n",
    "    plt.subplot(211)\n",
    "    plt.plot(times, expected_response, alpha=0.8)\n",
    "    plt.plot(times, predicted_response, alpha=0.8)\n",
    "    plt.xlabel(\"Time (s)\")\n",
    "    plt.ylabel(\"Radial amplitude\")\n",
    "    plt.text(0.02, 0.07, \"Input filter band: ({:.2f}, {:.2f}) Hz\".format(*freq_cutoff),\n",
    "                fontsize=8, transform=plt.gca().transAxes, color=\"#404040\")\n",
    "    plt.text(0.02, 0.02, \"Prediction match to observation: {:.2f}%\".format(fit), fontsize=8,\n",
    "                transform=plt.gca().transAxes, color=\"#404040\")\n",
    "    plt.grid(\"#80808080\", linestyle=':')\n",
    "    plt.legend(['Expected R-component', 'Predicted by RF'])\n",
    "    plt.title(\"Event {} observed vs predicted Radial component\".format(event_id))\n",
    "\n",
    "    plt.subplot(212)\n",
    "    plt.plot(times, rf_trace)\n",
    "    plt.xlabel(\"Time (s)\")\n",
    "    plt.ylabel(\"RF amplitude (arb. units)\")\n",
    "    plt.grid(\"#80808080\", linestyle=':')\n",
    "    plt.legend(['Computed RF'])\n",
    "    plt.title(\"Estimated Receiver Function\", y=0.9)\n",
    "\n",
    "    plt.savefig(os.path.join(outfolder, '{:03d}.png'.format(i)), dpi=300)\n",
    "    plt.show()\n",
    "    plt.close()\n",
    "\n",
    "    i += 1\n",
    "# end for\n",
    "\n",
    "all_rf_stream = rf.RFStream(all_traces).sort(keys=['back_azimuth'])\n",
    "stack_file = os.path.join(outfolder, 'rf_stack.png')\n",
    "plot_rf_stack(all_rf_stream, time_window=time_window, trace_height=0.12, save_file=stack_file, dpi=300)\n",
    "# plot_rf_stack(all_rf_stream, time_window=time_window, trace_height=0.12)\n",
    "plt.show()\n",
    "plt.close()"
   ]
  },
  {
   "cell_type": "code",
   "execution_count": null,
   "metadata": {},
   "outputs": [],
   "source": []
  }
 ],
 "metadata": {
  "kernelspec": {
   "display_name": "Python 3",
   "language": "python",
   "name": "python3"
  },
  "language_info": {
   "codemirror_mode": {
    "name": "ipython",
    "version": 3
   },
   "file_extension": ".py",
   "mimetype": "text/x-python",
   "name": "python",
   "nbconvert_exporter": "python",
   "pygments_lexer": "ipython3",
   "version": "3.6.7"
  }
 },
 "nbformat": 4,
 "nbformat_minor": 4
}
