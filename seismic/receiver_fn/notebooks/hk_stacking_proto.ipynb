{
 "cells": [
  {
   "cell_type": "code",
   "execution_count": null,
   "metadata": {},
   "outputs": [],
   "source": [
    "import os\n",
    "from collections import defaultdict\n",
    "import time\n",
    "\n",
    "import numpy as np\n",
    "import rf\n",
    "import rf.imaging\n",
    "import matplotlib.pyplot as plt\n",
    "import scipy\n",
    "from scipy import signal\n",
    "from scipy.interpolate import interp1d\n",
    "import obspy\n",
    "\n",
    "from tqdm.auto import tqdm"
   ]
  },
  {
   "cell_type": "code",
   "execution_count": null,
   "metadata": {},
   "outputs": [],
   "source": [
    "src_file = r\"..\\DATA\\OA-ZRT-R-cleaned.h5\""
   ]
  },
  {
   "cell_type": "code",
   "execution_count": null,
   "metadata": {},
   "outputs": [],
   "source": [
    "oa_all = rf.read_rf(src_file, \"h5\")"
   ]
  },
  {
   "cell_type": "code",
   "execution_count": null,
   "metadata": {},
   "outputs": [],
   "source": [
    "# print(oa_all)"
   ]
  },
  {
   "cell_type": "code",
   "execution_count": null,
   "metadata": {},
   "outputs": [],
   "source": [
    "def rf_to_dict(rf_data):\n",
    "    db = defaultdict(lambda: defaultdict(list))\n",
    "    for s in rf_data:\n",
    "        _, sta, _, cha = s.id.split('.')\n",
    "        db[sta][cha].append(s)\n",
    "    return db"
   ]
  },
  {
   "cell_type": "code",
   "execution_count": null,
   "metadata": {},
   "outputs": [],
   "source": [
    "def plot_station_rf_overlays(db_station):\n",
    "    plt.figure(figsize=(16,24))\n",
    "    colors = [\"#8080a040\", \"#80a08040\", \"#a0808040\"]\n",
    "    min_x = 1e+20\n",
    "    max_x = -1e20\n",
    "    for i, (ch, streams) in enumerate(db_station.items()):\n",
    "        if ch == 'size' or i >= 3:\n",
    "            continue\n",
    "        col = colors[i]\n",
    "        plt.subplot(3, 1, i + 1)\n",
    "        sta = streams[0].stats.station\n",
    "        plt.title('.'.join([sta, ch]), fontsize=14)\n",
    "        for j, s in enumerate(streams):\n",
    "            lead_time = s.stats.onset - s.stats.starttime\n",
    "            times = s.times()\n",
    "            plt.plot(times - lead_time, s.data, '--', color=col, linewidth=2)\n",
    "            if j == 0:\n",
    "                data_mean = s.data\n",
    "            else:\n",
    "                data_mean += s.data\n",
    "        data_mean /= float(j)\n",
    "        plt.plot(s.times() - lead_time, data_mean, color=\"#202020\", linewidth=2)\n",
    "        plt.xlabel('Time (s)')\n",
    "        plt.ylabel('Amplitude (normalized)')\n",
    "        plt.grid(linestyle=':', color=\"#80808020\")\n",
    "        x_lims = plt.xlim()\n",
    "        min_x = min(min_x, x_lims[0])\n",
    "        max_x = max(max_x, x_lims[1])\n",
    "    for i in range(3):\n",
    "        subfig = plt.subplot(3, 1, i + 1)\n",
    "        subfig.set_xlim((min_x, max_x))"
   ]
  },
  {
   "cell_type": "code",
   "execution_count": null,
   "metadata": {},
   "outputs": [],
   "source": [
    "def compute_hk_stack(db_station, cha, h_range=np.linspace(20.0, 70.0, 501), k_range = np.linspace(1.4, 2.1, 351),\n",
    "                     V_p = 6.4, sum_order=1, weighting=(0.5, 0.5)):\n",
    "    # WARNING: If sum_order == 2, phase cancellation could be lost between streams,\n",
    "    # since each stream's contribution will be made positive.\n",
    "    \n",
    "    # Pre-compute grid quantities\n",
    "    k_grid, h_grid = np.meshgrid(k_range, h_range)\n",
    "    hk_stack = np.zeros_like(k_grid)\n",
    "    H_on_V_p = h_grid/V_p\n",
    "    k2 = k_grid*k_grid\n",
    "\n",
    "    include_t3 = (len(weighting) > 2) and (weighting[2] > 0)\n",
    "\n",
    "    stream_stack = []\n",
    "    cha_data = db_station[cha]\n",
    "    # Loop over streams, compute times, and stack interpolated values at those times\n",
    "    for s in cha_data:\n",
    "        incidence = s.stats.inclination\n",
    "        incidence_rad = incidence*np.pi/180.0\n",
    "        cos_i, sin_i = np.cos(incidence_rad), np.sin(incidence_rad)\n",
    "        sin2_i = sin_i*sin_i\n",
    "        term1 = H_on_V_p*k_grid*np.abs(cos_i)\n",
    "        term2 = H_on_V_p*np.sqrt(1 - k2*sin2_i)\n",
    "        # Time for Ps\n",
    "        t1 = term1 - term2\n",
    "        # Time for PpPs\n",
    "        t2 = term1 + term2\n",
    "        if include_t3:\n",
    "            # Time for PpSs + PsPs\n",
    "            t3 = 2*term1\n",
    "        interpolator = interp1d(s.times(), s.data, kind='cubic', copy=False, bounds_error=False, assume_sorted=True)\n",
    "        if include_t3:\n",
    "            stream_sum = weighting[0]*interpolator(t1) + weighting[1]*interpolator(t2) + weighting[2]*interpolator(t3)\n",
    "        else:\n",
    "            stream_sum = weighting[0]*interpolator(t1) + weighting[1]*interpolator(t2)\n",
    "\n",
    "        if sum_order == 2:\n",
    "            stream_sum = stream_sum*stream_sum  # Second order\n",
    "\n",
    "        stream_stack.append(stream_sum)\n",
    "\n",
    "    hk_stack = np.nanmean(np.array(stream_stack), axis=0)\n",
    "\n",
    "    if sum_order == 2:\n",
    "        hk_stack = np.sqrt(hk_stack)  # Second order\n",
    "        \n",
    "    return k_grid, h_grid, hk_stack"
   ]
  },
  {
   "cell_type": "code",
   "execution_count": null,
   "metadata": {},
   "outputs": [],
   "source": [
    "def plot_hk_stack(k_grid, h_grid, hk_stack, title=None, save_file=None, sum_order=1, show=True, num=None):\n",
    "    # Use a perceptually linear color map\n",
    "    colmap = 'plasma'\n",
    "    plt.figure(figsize=(16, 12))\n",
    "    plt.contourf(k_grid, h_grid, hk_stack, levels=50, cmap=colmap)\n",
    "    cb = plt.colorbar()\n",
    "    if sum_order == 2:\n",
    "        cb.ax.set_ylabel('Stack L2 norm')\n",
    "    else:\n",
    "        cb.ax.set_ylabel('Stack sum')\n",
    "    plt.contour(k_grid, h_grid, hk_stack, levels=10, colors='k', linewidths=1)\n",
    "    plt.xlabel(r'$\\kappa = \\frac{V_p}{V_s}$ (ratio)', fontsize=14)\n",
    "    plt.ylabel('H = Moho depth (km)', fontsize=14)\n",
    "    if title is not None:\n",
    "        plt.title(title, fontsize=16)\n",
    "    plt.xticks(fontsize=14)\n",
    "    plt.yticks(fontsize=14)\n",
    "    \n",
    "    if num is not None:\n",
    "        xl = plt.xlim()\n",
    "        yl = plt.ylim()\n",
    "        txt_x = xl[0] + 0.85*(xl[1] - xl[0])\n",
    "        txt_y = yl[0] + 0.95*(yl[1] - yl[0])\n",
    "        plt.text(txt_x, txt_y, \"N = {}\".format(num), color=\"#ffffff\", fontsize=16, fontweight='bold')\n",
    "\n",
    "    if save_file is not None:\n",
    "        tries = 10\n",
    "        while tries > 0:\n",
    "            try:\n",
    "                tries -= 1\n",
    "                plt.savefig(save_file, dpi=300)\n",
    "                break\n",
    "            except PermissionError:\n",
    "                time.sleep(1)\n",
    "                if tries == 0:\n",
    "                    print(\"WARNING: Failed to save file {} due to permissions!\".format(save_file))\n",
    "                    break\n",
    "            # end try\n",
    "        # end while\n",
    "\n",
    "    if show:\n",
    "        plt.show()\n",
    "    else:\n",
    "        plt.close()"
   ]
  },
  {
   "cell_type": "markdown",
   "metadata": {},
   "source": [
    "# Select test station and plot overlaid stream data per channel"
   ]
  },
  {
   "cell_type": "code",
   "execution_count": null,
   "metadata": {},
   "outputs": [],
   "source": [
    "db = rf_to_dict(oa_all)"
   ]
  },
  {
   "cell_type": "code",
   "execution_count": null,
   "metadata": {},
   "outputs": [],
   "source": [
    "oa_bu24 = db['BU24']"
   ]
  },
  {
   "cell_type": "code",
   "execution_count": null,
   "metadata": {},
   "outputs": [],
   "source": [
    "oa_bu24['HHR'][0].stats"
   ]
  },
  {
   "cell_type": "code",
   "execution_count": null,
   "metadata": {
    "scrolled": false
   },
   "outputs": [],
   "source": [
    "plot_station_rf_overlays(oa_bu24)"
   ]
  },
  {
   "cell_type": "markdown",
   "metadata": {},
   "source": [
    "# Run over all channels to verify on HHR is the correct channel to plot"
   ]
  },
  {
   "cell_type": "code",
   "execution_count": null,
   "metadata": {
    "scrolled": false
   },
   "outputs": [],
   "source": [
    "# Plot stacks for all channels in BU24\n",
    "weighting_bu24 = (0.6, 0.3, 0.1)\n",
    "# for cha in ['HHR', 'HHT', 'HHZ']:\n",
    "for cha in ['HHR']:\n",
    "    k_grid, h_grid, hk_stack = compute_hk_stack(oa_bu24, cha, weighting=weighting_bu24)\n",
    "\n",
    "    sta = oa_bu24[cha][0].stats.station\n",
    "\n",
    "    num = len(oa_bu24[cha])\n",
    "#     save_file = \"BU24_{}_Vp=6.6.png\".format(cha)\n",
    "    save_file = None\n",
    "    plot_hk_stack(k_grid, h_grid, hk_stack, title=sta + '.{}'.format(cha), num=num, save_file=save_file)"
   ]
  },
  {
   "cell_type": "markdown",
   "metadata": {},
   "source": [
    "# Loop over all OA stations and plot HK-stacks"
   ]
  },
  {
   "cell_type": "code",
   "execution_count": null,
   "metadata": {
    "scrolled": false
   },
   "outputs": [],
   "source": [
    "cha = 'HHR'\n",
    "pbar = tqdm(total=len(db))\n",
    "show = False\n",
    "weighting = (0.5, 0.5)\n",
    "for sta, db_sta in db.items():\n",
    "    pbar.set_description(sta)\n",
    "    pbar.update()\n",
    "    k_grid, h_grid, hk_stack = compute_hk_stack(db_sta, cha, weighting=weighting)\n",
    "    sta = db_sta[cha][0].stats.station\n",
    "    save_file = sta + \"_{}_hk_stack.png\".format(cha)\n",
    "    num = len(db_sta[cha])\n",
    "    plot_hk_stack(k_grid, h_grid, hk_stack, title=sta + '.{}'.format(cha), save_file=save_file,\n",
    "                  show=show, num=num)\n",
    "pbar.close()"
   ]
  },
  {
   "cell_type": "markdown",
   "metadata": {},
   "source": [
    "## Plot histogram of group ID distribution"
   ]
  },
  {
   "cell_type": "code",
   "execution_count": null,
   "metadata": {},
   "outputs": [],
   "source": [
    "groups = []\n",
    "for sta, db_sta in db.items():\n",
    "    ch_data = db_sta['HHR']\n",
    "    for s in ch_data:\n",
    "        groups.append(s.stats.rf_group)"
   ]
  },
  {
   "cell_type": "code",
   "execution_count": null,
   "metadata": {
    "scrolled": false
   },
   "outputs": [],
   "source": [
    "plt.hist(groups)\n",
    "plt.show()"
   ]
  },
  {
   "cell_type": "markdown",
   "metadata": {},
   "source": [
    "## Plot histogram of inclinations"
   ]
  },
  {
   "cell_type": "code",
   "execution_count": null,
   "metadata": {},
   "outputs": [],
   "source": [
    "incs = []\n",
    "for sta, db_sta in db.items():\n",
    "    ch_data = db_sta['HHR']\n",
    "    for s in ch_data:\n",
    "        incs.append(s.stats.inclination)"
   ]
  },
  {
   "cell_type": "code",
   "execution_count": null,
   "metadata": {},
   "outputs": [],
   "source": [
    "plt.hist(incs)\n",
    "plt.show()"
   ]
  },
  {
   "cell_type": "code",
   "execution_count": null,
   "metadata": {},
   "outputs": [],
   "source": []
  }
 ],
 "metadata": {
  "kernelspec": {
   "display_name": "Python 3",
   "language": "python",
   "name": "python3"
  },
  "language_info": {
   "codemirror_mode": {
    "name": "ipython",
    "version": 3
   },
   "file_extension": ".py",
   "mimetype": "text/x-python",
   "name": "python",
   "nbconvert_exporter": "python",
   "pygments_lexer": "ipython3",
   "version": "3.6.6"
  }
 },
 "nbformat": 4,
 "nbformat_minor": 2
}
