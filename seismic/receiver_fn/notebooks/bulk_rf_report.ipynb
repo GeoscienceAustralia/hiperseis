{
 "cells": [
  {
   "cell_type": "markdown",
   "metadata": {},
   "source": [
    "# Produce PDF report of network stations showing RF waveforms"
   ]
  },
  {
   "cell_type": "code",
   "execution_count": null,
   "metadata": {},
   "outputs": [],
   "source": [
    "# Imports\n",
    "import os\n",
    "# from collections import defaultdict\n",
    "\n",
    "import numpy as np\n",
    "import rf\n",
    "import rf.imaging\n",
    "\n",
    "import tqdm.auto as tqdm"
   ]
  },
  {
   "cell_type": "code",
   "execution_count": null,
   "metadata": {},
   "outputs": [],
   "source": [
    "import importlib\n",
    "import seismic.receiver_fn.rf_util as rf_util\n",
    "import seismic.receiver_fn.rf_plot_utils as rf_plot_utils\n",
    "import seismic.receiver_fn.rf_stacking as rf_stacking"
   ]
  },
  {
   "cell_type": "code",
   "execution_count": null,
   "metadata": {},
   "outputs": [],
   "source": [
    "# importlib.reload(rf_plot_utils)\n",
    "# importlib.reload(rf_util)"
   ]
  },
  {
   "cell_type": "code",
   "execution_count": null,
   "metadata": {},
   "outputs": [],
   "source": [
    "from matplotlib.backends.backend_pdf import PdfPages\n",
    "import matplotlib.pyplot as plt\n",
    "import matplotlib"
   ]
  },
  {
   "cell_type": "markdown",
   "metadata": {},
   "source": [
    "## Read source file"
   ]
  },
  {
   "cell_type": "code",
   "execution_count": null,
   "metadata": {},
   "outputs": [],
   "source": [
    "# rf_type = 'ZRT_td'\n",
    "rf_type = 'ZRT_it'"
   ]
  },
  {
   "cell_type": "code",
   "execution_count": null,
   "metadata": {},
   "outputs": [],
   "source": [
    "network = 'OA'\n",
    "# network = '7X'"
   ]
  },
  {
   "cell_type": "code",
   "execution_count": null,
   "metadata": {},
   "outputs": [],
   "source": [
    "src_file = r\"..\\DATA\\OA_rfs_20170911T000036-20181128T230620_{}_rev10_qual.h5\".format(rf_type)\n",
    "# src_file = r\"..\\DATA\\7X_rfs_20090616T034200-20110401T231849_{}_rev1_qual.h5\".format(rf_type)\n",
    "# src_file = r\"..\\DATA\\7X_rfs_20090616T034200-20110401T231849_{}_rev1.1_qual.h5\".format(rf_type)"
   ]
  },
  {
   "cell_type": "code",
   "execution_count": null,
   "metadata": {},
   "outputs": [],
   "source": [
    "data_all = rf_util.read_h5_rf(src_file)"
   ]
  },
  {
   "cell_type": "code",
   "execution_count": null,
   "metadata": {},
   "outputs": [],
   "source": [
    "# data_all[0].stats"
   ]
  },
  {
   "cell_type": "markdown",
   "metadata": {},
   "source": [
    "## Convert to hierarchical dictionary format"
   ]
  },
  {
   "cell_type": "code",
   "execution_count": null,
   "metadata": {},
   "outputs": [],
   "source": [
    "data_dict = rf_util.rf_to_dict(data_all)"
   ]
  },
  {
   "cell_type": "markdown",
   "metadata": {},
   "source": [
    "## Load event mask files if available"
   ]
  },
  {
   "cell_type": "code",
   "execution_count": null,
   "metadata": {},
   "outputs": [],
   "source": [
    "event_mask_path = None\n",
    "# event_mask_path = r\"C:\\software\\hiperseis\\seismic\\receiver_fn\\DATA\\event_mask_{}\".format(network)"
   ]
  },
  {
   "cell_type": "code",
   "execution_count": null,
   "metadata": {},
   "outputs": [],
   "source": [
    "event_mask_dict = None\n",
    "if event_mask_path is not None and os.path.isdir(event_mask_path):\n",
    "    import re\n",
    "    mask_files = os.listdir(event_mask_path)\n",
    "    mask_files = [f for f in mask_files if os.path.isfile(os.path.join(event_mask_path, f))]\n",
    "#     print(mask_files)\n",
    "    pattern = \"([A-Za-z0-9\\.]{5,})_event_mask\\.txt\"\n",
    "    pattern = re.compile(pattern)\n",
    "    event_mask_dict = dict()\n",
    "    for f in mask_files:\n",
    "        match_result = pattern.match(f)\n",
    "        if not match_result:\n",
    "            continue\n",
    "        code = match_result[1]\n",
    "#         print(code)\n",
    "        with open(os.path.join(event_mask_path, f), 'r') as f:\n",
    "            events = f.readlines()\n",
    "            events = set([e.strip() for e in events])\n",
    "            event_mask_dict[code] = events\n",
    "        # end with\n",
    "    # end for\n",
    "# end if\n",
    "\n",
    "if event_mask_dict:\n",
    "    print(\"Loaded {} event masks\".format(len(event_mask_dict)))\n",
    "# end if"
   ]
  },
  {
   "cell_type": "markdown",
   "metadata": {},
   "source": [
    "## Plot a few items interactively to check data"
   ]
  },
  {
   "cell_type": "code",
   "execution_count": null,
   "metadata": {},
   "outputs": [],
   "source": [
    "i = 0\n",
    "for st, station_db in data_dict.items():\n",
    "    i += 1\n",
    "    if i > 3:\n",
    "        break\n",
    "    channel = rf_util.choose_rf_source_channel(rf_type, station_db)\n",
    "    channel_data = station_db[channel]\n",
    "    full_code = '.'.join([network, st, channel])\n",
    "\n",
    "    t_channel = list(channel)\n",
    "    t_channel[-1] = 'T'\n",
    "    t_channel = ''.join(t_channel)\n",
    "\n",
    "    if event_mask_dict and full_code in event_mask_dict:\n",
    "        # Select events from external source\n",
    "        event_mask = event_mask_dict[full_code]\n",
    "        rf_stream = rf.RFStream([tr for tr in channel_data if tr.stats.event_id in event_mask]).sort(['back_azimuth'])\n",
    "    else:\n",
    "        rf_util.label_rf_quality_simple_amplitude(rf_type, channel_data)\n",
    "        rf_stream = rf.RFStream([tr for tr in channel_data if tr.stats.predicted_quality == 'a']).sort(['back_azimuth'])\n",
    "    # end if\n",
    "\n",
    "    # Find matching HHT channel data\n",
    "    events = [tr.stats.event_id for tr in rf_stream]\n",
    "    transverse_data = station_db[t_channel]\n",
    "    t_stream = rf.RFStream([tr for tr in transverse_data if tr.stats.event_id in events]).sort(['back_azimuth'])\n",
    "\n",
    "    # Plot to notebook\n",
    "    fig = rf_plot_utils.plot_rf_wheel([rf_stream, t_stream], layout=(1,2))\n",
    "    plt.show()\n",
    "    \n",
    "    fig = rf_plot_utils.plot_rf_stack(rf_stream, time_window=(-5, 25))\n",
    "    print(plt.subplots_adjust())\n",
    "    plt.show()\n",
    "    \n",
    "    fig = rf_plot_utils.plot_rf_stack(t_stream, time_window=(-5, 25))\n",
    "    plt.show()"
   ]
  },
  {
   "cell_type": "markdown",
   "metadata": {},
   "source": [
    "## Setup and layout functions"
   ]
  },
  {
   "cell_type": "code",
   "execution_count": null,
   "metadata": {},
   "outputs": [],
   "source": [
    "A4_size = (8.27, 11.69)"
   ]
  },
  {
   "cell_type": "code",
   "execution_count": null,
   "metadata": {},
   "outputs": [],
   "source": [
    "def get_aspect(ax):\n",
    "    from operator import sub\n",
    "    # Total figure size\n",
    "    figW, figH = ax.get_figure().get_size_inches()\n",
    "    # Axis size on figure\n",
    "    _, _, w, h = ax.get_position().bounds\n",
    "    # Ratio of display units\n",
    "    disp_ratio = (figH * h) / (figW * w)\n",
    "    # Ratio of data units\n",
    "    # Negative over negative because of the order of subtraction\n",
    "    data_ratio = sub(*ax.get_ylim()) / sub(*ax.get_xlim())\n",
    "\n",
    "    return disp_ratio / data_ratio"
   ]
  },
  {
   "cell_type": "code",
   "execution_count": null,
   "metadata": {},
   "outputs": [],
   "source": [
    "def rf_layout_A4(fig):\n",
    "\n",
    "    # Fix aspect ratio of stack plot\n",
    "    ax = fig.axes[3]\n",
    "    ax.set_aspect(get_aspect(ax))\n",
    "    \n",
    "    # Fix aspect ratio of traces plot\n",
    "    ax = fig.axes[0]\n",
    "    ax.set_aspect(get_aspect(ax))\n",
    "    \n",
    "    # Set to A4 paper size\n",
    "    fig.set_size_inches(*A4_size)\n",
    "    \n",
    "    # Adjust position of stack plot to fixed location on page\n",
    "    ax3 = fig.axes[3]\n",
    "    ax3_pos = ax3.get_position()\n",
    "    ax3_top = 0.95\n",
    "    ax3.set_position([ax3_pos.x0, ax3_top - ax3_pos.height, ax3_pos.width, ax3_pos.height])\n",
    "    ax3.set_anchor('NW')        \n",
    "    ax3_pos = ax3.get_position()\n",
    "\n",
    "    # Adjust position of traces plot to pack at top of page with against stack plot\n",
    "    ax0 = fig.axes[0]\n",
    "    ax0_pos = ax0.get_position()\n",
    "    ax0.set_position([ax0_pos.x0, ax3_pos.y0 - 0.01 - ax0_pos.height, ax0_pos.width, ax0_pos.height])\n",
    "    ax0.set_anchor('NW')\n",
    "    ax0_pos = ax0.get_position()\n",
    "    \n",
    "    # Adjust y-position of distance/azimuth marker plots to match traces plot\n",
    "    ax1 = fig.axes[1]\n",
    "    ax2 = fig.axes[2]\n",
    "    ax1_pos = ax1.get_position()\n",
    "    ax2_pos = ax2.get_position()\n",
    "    ax1.set_position([ax1_pos.x0, ax0_pos.y0, ax1_pos.width, ax0_pos.height])\n",
    "    ax2.set_position([ax2_pos.x0, ax0_pos.y0, ax2_pos.width, ax0_pos.height])\n",
    "# end func"
   ]
  },
  {
   "cell_type": "markdown",
   "metadata": {},
   "source": [
    "## Plot all data to PDF file"
   ]
  },
  {
   "cell_type": "code",
   "execution_count": null,
   "metadata": {},
   "outputs": [],
   "source": [
    "fixed_stack_height_inches = 0.8\n",
    "y_pad_inches = 1.6\n",
    "total_trace_height_inches = A4_size[1] - fixed_stack_height_inches - y_pad_inches\n",
    "max_trace_height = 0.2\n",
    "outfile_name = '{}_RF_summary.pdf' if not event_mask_dict else '{}_RF_summary_handpicked.pdf'\n",
    "with PdfPages(outfile_name.format(network)) as pdf:\n",
    "    plt.rc('text', usetex=False)  # Would like to use Tex, but lack desktop PC privileges to update packages to what is required\n",
    "    pbar = tqdm.tqdm(total=len(data_dict))\n",
    "    for st, station_db in data_dict.items():\n",
    "        pbar.update()\n",
    "        pbar.set_description(\"{}.{}\".format(network, st))\n",
    "\n",
    "        # Choose RF channel\n",
    "        channel = rf_util.choose_rf_source_channel(rf_type, station_db)\n",
    "        channel_data = station_db[channel]\n",
    "        full_code = '.'.join([network, st, channel])\n",
    "\n",
    "        t_channel = list(channel)\n",
    "        t_channel[-1] = 'T'\n",
    "        t_channel = ''.join(t_channel)\n",
    "\n",
    "        if event_mask_dict and full_code in event_mask_dict:\n",
    "            # Select events from external source\n",
    "            event_mask = event_mask_dict[full_code]\n",
    "            rf_stream = rf.RFStream([tr for tr in channel_data if tr.stats.event_id in event_mask]).sort(['back_azimuth'])\n",
    "        else:\n",
    "            # Label and filter quality\n",
    "            rf_util.label_rf_quality_simple_amplitude(rf_type, channel_data)\n",
    "            rf_stream = rf.RFStream([tr for tr in channel_data if tr.stats.predicted_quality == 'a']).sort(['back_azimuth'])\n",
    "        # end if\n",
    "        if not rf_stream:\n",
    "            continue\n",
    "\n",
    "        # Find matching HHT channel data\n",
    "        events = [tr.stats.event_id for tr in rf_stream]\n",
    "        transverse_data = station_db[t_channel]\n",
    "        t_stream = rf.RFStream([tr for tr in transverse_data if tr.stats.event_id in events]).sort(['back_azimuth'])\n",
    "        if not t_stream:\n",
    "            continue\n",
    "\n",
    "        # Plot pinwheel of primary and transverse components\n",
    "        fig = rf_plot_utils.plot_rf_wheel([rf_stream, t_stream], fontscaling=0.8)\n",
    "        fig.set_size_inches(*A4_size)\n",
    "        plt.tight_layout()\n",
    "        plt.subplots_adjust(hspace=0.15, top=0.95, bottom=0.15)\n",
    "        ax = fig.gca()\n",
    "        fig.text(-0.32, -0.32, \"\\n\".join(rf_stream[0].stats.processing), fontsize=6, transform=ax.transAxes)\n",
    "        pdf.savefig(dpi=300, papertype = 'a4', orientation = 'portrait')\n",
    "        plt.close()\n",
    "\n",
    "        num_traces = len(rf_stream)\n",
    "        assert len(t_stream) == num_traces\n",
    "\n",
    "        # Plot RF stack of primary component\n",
    "        trace_ht = min(total_trace_height_inches/num_traces, max_trace_height)\n",
    "        fig = rf_plot_utils.plot_rf_stack(rf_stream, trace_height=trace_ht, stack_height=fixed_stack_height_inches, fig_width=A4_size[0])\n",
    "        fig.suptitle(\"Channel {}\".format(rf_stream[0].stats.channel))\n",
    "        # Customize layout to pack to top of page while preserving RF plots aspect ratios\n",
    "        rf_layout_A4(fig)\n",
    "        # Save to new page in file\n",
    "        pdf.savefig(dpi=300, papertype='a4', orientation='portrait')\n",
    "        plt.close()\n",
    "\n",
    "        # Plot RF stack of transverse component\n",
    "        fig = rf_plot_utils.plot_rf_stack(t_stream, trace_height=trace_ht, stack_height=fixed_stack_height_inches, fig_width=A4_size[0])\n",
    "        fig.suptitle(\"Channel {}\".format(t_stream[0].stats.channel))\n",
    "        # Customize layout to pack to top of page while preserving RF plots aspect ratios\n",
    "        rf_layout_A4(fig)\n",
    "        # Save to new page in file\n",
    "        pdf.savefig(dpi=300, papertype='a4', orientation='portrait')\n",
    "        plt.close()\n",
    "    # end for\n",
    "    pbar.close()\n",
    "# end with"
   ]
  },
  {
   "cell_type": "code",
   "execution_count": null,
   "metadata": {},
   "outputs": [],
   "source": []
  }
 ],
 "metadata": {
  "kernelspec": {
   "display_name": "Python 3",
   "language": "python",
   "name": "python3"
  },
  "language_info": {
   "codemirror_mode": {
    "name": "ipython",
    "version": 3
   },
   "file_extension": ".py",
   "mimetype": "text/x-python",
   "name": "python",
   "nbconvert_exporter": "python",
   "pygments_lexer": "ipython3",
   "version": "3.6.7"
  }
 },
 "nbformat": 4,
 "nbformat_minor": 4
}
