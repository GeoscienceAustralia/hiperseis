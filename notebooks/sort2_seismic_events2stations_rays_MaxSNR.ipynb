{
 "cells": [
  {
   "cell_type": "markdown",
   "metadata": {},
   "source": [
    "# Use Pandas to Sort event arrivals csv files \n",
    "## according to max SNR value\n",
    "\n",
    "##  Fei Zhang\n",
    "### 2018-07-26"
   ]
  },
  {
   "cell_type": "code",
   "execution_count": 1,
   "metadata": {},
   "outputs": [],
   "source": [
    "SOURCE_LATITUDE = 'source_latitude'\n",
    "SOURCE_LONGITUDE = 'source_longitude'\n",
    "STATION_LATITUDE = 'station_latitude'\n",
    "STATION_LONGITUDE = 'station_longitude'\n",
    "STATION_CODE = 'station_code'\n",
    "FREQUENCY = 'no_of_summary_rays'\n",
    "\n",
    "column_names = ['source_block', 'station_block',\n",
    "                'residual', 'event_number',\n",
    "                SOURCE_LONGITUDE, SOURCE_LATITUDE,\n",
    "                'source_depth', STATION_LONGITUDE, STATION_LATITUDE,\n",
    "                'observed_tt', 'locations2degrees', STATION_CODE, 'SNR', 'P_or_S']"
   ]
  },
  {
   "cell_type": "code",
   "execution_count": 2,
   "metadata": {},
   "outputs": [],
   "source": [
    "import pandas as pd\n",
    "import matplotlib.pyplot as plt"
   ]
  },
  {
   "cell_type": "code",
   "execution_count": 3,
   "metadata": {},
   "outputs": [
    {
     "name": "stdout",
     "output_type": "stream",
     "text": [
      "/g/data1a/ha3/fxz547/Githubz/passive-seismic/notebooks\r\n"
     ]
    }
   ],
   "source": [
    "!pwd\n"
   ]
  },
  {
   "cell_type": "code",
   "execution_count": 4,
   "metadata": {},
   "outputs": [],
   "source": [
    "# for S wave\n",
    "inputcsv='/g/data1a/ha3/fxz547/travel_time_tomography/run5_events_1deg/outfile_S.csv'\n",
    "residual_cutoff=10.0\n",
    "sortedfile='sortedfile_S.csv'\n",
    "sortedfile2= 'sortedfile2_S.csv'\n",
    "\n",
    "# P wave\n",
    "#inputcsv='/g/data/ha3/fxz547/Githubz/passive-seismic/seismic_events_arrivals_P_0.csv'\n",
    "inputcsv='/g/data/ha3/fxz547/Githubz/passive-seismic/tempworks/outfile_P.csv'\n",
    "residual_cutoff=5.0\n",
    "sortedfile='sortedfile_P.csv'\n",
    "sortedfile2= 'sortedfile2_P.csv'\n"
   ]
  },
  {
   "cell_type": "code",
   "execution_count": 5,
   "metadata": {},
   "outputs": [
    {
     "name": "stdout",
     "output_type": "stream",
     "text": [
      "2018-08-07 11:30:47,973 | INFO : Hello world!\n"
     ]
    }
   ],
   "source": [
    "import logging\n",
    "import sys\n",
    "logging.basicConfig(format='%(asctime)s | %(levelname)s : %(message)s',\n",
    "                     level=logging.DEBUG, stream=sys.stdout)\n",
    "\n",
    "log =logging.getLogger()\n",
    "log.info('Hello world!')\n",
    "\n",
    "# def sort(output_file, sorted_file, residual_cutoff):\n",
    "def sort2(output_file, sorted_file, residual_cutoff):\n",
    "    \"\"\"\n",
    "    Sort and filter the arrivals.\n",
    "\n",
    "    Sort based on the source and station block number.\n",
    "    There are two stages of filtering:\n",
    "    1. Filter based on the time residual\n",
    "    2. Filter based on best Signal_to_Noise-Ratio seismic wave: If there are multiple source and station block combinations, we keep the\n",
    "    row corresponding to the highest SNR value\n",
    "\n",
    "    cmdline usage:\n",
    "    cluster sort outfile_P.csv 5. -s sorted_P.csv\n",
    "    cluster sort outfile_S.csv 10. -s sorted_S.csv\n",
    "\n",
    "\n",
    "    :param output_file: output file from the gather stage (eg, outfile_P.csv)\n",
    "    :param sorted_file: str, optional\n",
    "        optional sorted output file path. Default: sorted.csv.\n",
    "    :param residual_cutoff: float\n",
    "        residual seconds above which arrivals are rejected.\n",
    "    :return: pandas_df\n",
    "    \"\"\"\n",
    "\n",
    "    print('Filtering arrivals.')\n",
    "\n",
    "    cluster_data = pd.read_csv(output_file, header=None,\n",
    "                               names=column_names)\n",
    "    \n",
    "    log.debug(\"Number of records in initial CSV file = %s\", cluster_data.shape[0])\n",
    "    \n",
    "    cluster_data = cluster_data[abs(cluster_data['residual'])\n",
    "                                < residual_cutoff]\n",
    "    \n",
    "    log.debug(\"Number of records after residual cutoff = %s\", cluster_data.shape[0])\n",
    "    \n",
    "    cluster_data['source_depth'] = cluster_data['source_depth'] / 1000.0  # convert to KM?\n",
    "    \n",
    "    # groupby sorts by default\n",
    "    # cluster_data.sort_values(by=['source_block', 'station_block'],\n",
    "    #                          inplace=True)\n",
    "\n",
    "    log.info('Sorting arrivals.')\n",
    "\n",
    "    # groupby automatically sorts\n",
    "#     med = cluster_data.groupby(\n",
    "#         by=['source_block', 'station_block']\n",
    "#         )['observed_tt'].quantile(q=.5, interpolation='lower').reset_index() # use a seq index:0,1,2,....\n",
    "\n",
    "#  SNR value max\n",
    "    med = cluster_data.groupby(\n",
    "        by=['source_block', 'station_block']\n",
    "        )['SNR'].max().reset_index() # use a seq index:0,1,2,.\n",
    "    \n",
    "    # med dataframe has three columns:  [source_block, station_block ,observed_tt]\n",
    "    \n",
    "    final_df = pd.merge(cluster_data, med, how='right',\n",
    "                        on=['source_block', 'station_block', 'SNR'],\n",
    "                        sort=True,\n",
    "                        right_index=True)\n",
    "\n",
    "    # Confirmed: drop_duplicates required due to possibly duplicated picks in\n",
    "    #  the original engdahl events\n",
    "    # refer: https://github.com/GeoscienceAustralia/passive-seismic/issues/51\n",
    "    # The subset is specified as we have some stations that are very close?\n",
    "    \n",
    "    log.debug(\"Number of records before drop_duplicates = %s\", final_df.shape[0])\n",
    "    \n",
    "    final_df.drop_duplicates(subset=['source_block', 'station_block'],\n",
    "                             keep='first',  inplace=True)\n",
    "\n",
    "    final_df.to_csv(sorted_file, header=False, index=False, sep=',')\n",
    "    \n",
    "    log.debug(\"Number of records in final pdf = %s\", final_df.shape[0])\n",
    "    return final_df\n"
   ]
  },
  {
   "cell_type": "code",
   "execution_count": 6,
   "metadata": {},
   "outputs": [
    {
     "name": "stdout",
     "output_type": "stream",
     "text": [
      "Filtering arrivals.\n",
      "2018-08-07 11:30:48,159 | DEBUG : Number of records in initial CSV file = 61721\n",
      "2018-08-07 11:30:48,167 | DEBUG : Number of records after residual cutoff = 55208\n",
      "2018-08-07 11:30:48,209 | INFO : Sorting arrivals.\n",
      "2018-08-07 11:30:48,340 | DEBUG : Number of records before drop_duplicates = 24258\n",
      "2018-08-07 11:30:48,896 | DEBUG : Number of records in final pdf = 23460\n"
     ]
    }
   ],
   "source": [
    "finalpdf = sort2(inputcsv,sortedfile,residual_cutoff)"
   ]
  },
  {
   "cell_type": "code",
   "execution_count": 7,
   "metadata": {},
   "outputs": [
    {
     "data": {
      "text/html": [
       "<div>\n",
       "<style scoped>\n",
       "    .dataframe tbody tr th:only-of-type {\n",
       "        vertical-align: middle;\n",
       "    }\n",
       "\n",
       "    .dataframe tbody tr th {\n",
       "        vertical-align: top;\n",
       "    }\n",
       "\n",
       "    .dataframe thead th {\n",
       "        text-align: right;\n",
       "    }\n",
       "</style>\n",
       "<table border=\"1\" class=\"dataframe\">\n",
       "  <thead>\n",
       "    <tr style=\"text-align: right;\">\n",
       "      <th></th>\n",
       "      <th>source_block</th>\n",
       "      <th>station_block</th>\n",
       "      <th>residual</th>\n",
       "      <th>event_number</th>\n",
       "      <th>source_longitude</th>\n",
       "      <th>source_latitude</th>\n",
       "      <th>source_depth</th>\n",
       "      <th>station_longitude</th>\n",
       "      <th>station_latitude</th>\n",
       "      <th>observed_tt</th>\n",
       "      <th>locations2degrees</th>\n",
       "      <th>station_code</th>\n",
       "      <th>SNR</th>\n",
       "      <th>P_or_S</th>\n",
       "    </tr>\n",
       "  </thead>\n",
       "  <tbody>\n",
       "    <tr>\n",
       "      <th>49650</th>\n",
       "      <td>130364</td>\n",
       "      <td>31202939</td>\n",
       "      <td>0.150000</td>\n",
       "      <td>5273000</td>\n",
       "      <td>100.7719</td>\n",
       "      <td>-0.1757</td>\n",
       "      <td>0.0</td>\n",
       "      <td>101.0400</td>\n",
       "      <td>0.3262</td>\n",
       "      <td>11.006560</td>\n",
       "      <td>0.569017</td>\n",
       "      <td>BKNI</td>\n",
       "      <td>49.615829</td>\n",
       "      <td>1</td>\n",
       "    </tr>\n",
       "    <tr>\n",
       "      <th>26347</th>\n",
       "      <td>130833</td>\n",
       "      <td>180555</td>\n",
       "      <td>3.750000</td>\n",
       "      <td>2755000</td>\n",
       "      <td>127.9925</td>\n",
       "      <td>-0.4697</td>\n",
       "      <td>0.0</td>\n",
       "      <td>138.5793</td>\n",
       "      <td>-35.0313</td>\n",
       "      <td>425.172023</td>\n",
       "      <td>35.945209</td>\n",
       "      <td>TWOA</td>\n",
       "      <td>13.547856</td>\n",
       "      <td>1</td>\n",
       "    </tr>\n",
       "    <tr>\n",
       "      <th>23276</th>\n",
       "      <td>131166</td>\n",
       "      <td>158938</td>\n",
       "      <td>-3.786733</td>\n",
       "      <td>2453000</td>\n",
       "      <td>121.1672</td>\n",
       "      <td>-0.6979</td>\n",
       "      <td>0.0</td>\n",
       "      <td>134.3660</td>\n",
       "      <td>-19.8777</td>\n",
       "      <td>304.204034</td>\n",
       "      <td>23.124791</td>\n",
       "      <td>WB5</td>\n",
       "      <td>12.414057</td>\n",
       "      <td>1</td>\n",
       "    </tr>\n",
       "    <tr>\n",
       "      <th>8850</th>\n",
       "      <td>131214</td>\n",
       "      <td>156024</td>\n",
       "      <td>-1.795504</td>\n",
       "      <td>904000</td>\n",
       "      <td>133.2542</td>\n",
       "      <td>-0.6908</td>\n",
       "      <td>0.0</td>\n",
       "      <td>125.6400</td>\n",
       "      <td>-18.0973</td>\n",
       "      <td>263.530413</td>\n",
       "      <td>18.945836</td>\n",
       "      <td>FITZ</td>\n",
       "      <td>332.555463</td>\n",
       "      <td>1</td>\n",
       "    </tr>\n",
       "    <tr>\n",
       "      <th>33158</th>\n",
       "      <td>132662</td>\n",
       "      <td>166565</td>\n",
       "      <td>1.050000</td>\n",
       "      <td>3478000</td>\n",
       "      <td>135.2243</td>\n",
       "      <td>-1.6387</td>\n",
       "      <td>0.0</td>\n",
       "      <td>151.0820</td>\n",
       "      <td>-25.3687</td>\n",
       "      <td>354.924562</td>\n",
       "      <td>28.227178</td>\n",
       "      <td>EIDS</td>\n",
       "      <td>9.582778</td>\n",
       "      <td>1</td>\n",
       "    </tr>\n",
       "  </tbody>\n",
       "</table>\n",
       "</div>"
      ],
      "text/plain": [
       "       source_block  station_block  residual  event_number  source_longitude  \\\n",
       "49650        130364       31202939  0.150000       5273000          100.7719   \n",
       "26347        130833         180555  3.750000       2755000          127.9925   \n",
       "23276        131166         158938 -3.786733       2453000          121.1672   \n",
       "8850         131214         156024 -1.795504        904000          133.2542   \n",
       "33158        132662         166565  1.050000       3478000          135.2243   \n",
       "\n",
       "       source_latitude  source_depth  station_longitude  station_latitude  \\\n",
       "49650          -0.1757           0.0           101.0400            0.3262   \n",
       "26347          -0.4697           0.0           138.5793          -35.0313   \n",
       "23276          -0.6979           0.0           134.3660          -19.8777   \n",
       "8850           -0.6908           0.0           125.6400          -18.0973   \n",
       "33158          -1.6387           0.0           151.0820          -25.3687   \n",
       "\n",
       "       observed_tt  locations2degrees station_code         SNR  P_or_S  \n",
       "49650    11.006560           0.569017         BKNI   49.615829       1  \n",
       "26347   425.172023          35.945209         TWOA   13.547856       1  \n",
       "23276   304.204034          23.124791          WB5   12.414057       1  \n",
       "8850    263.530413          18.945836         FITZ  332.555463       1  \n",
       "33158   354.924562          28.227178         EIDS    9.582778       1  "
      ]
     },
     "execution_count": 7,
     "metadata": {},
     "output_type": "execute_result"
    }
   ],
   "source": [
    "finalpdf.head()"
   ]
  },
  {
   "cell_type": "code",
   "execution_count": 8,
   "metadata": {},
   "outputs": [
    {
     "data": {
      "text/plain": [
       "(23460, 14)"
      ]
     },
     "execution_count": 8,
     "metadata": {},
     "output_type": "execute_result"
    }
   ],
   "source": [
    "finalpdf.shape"
   ]
  },
  {
   "cell_type": "code",
   "execution_count": null,
   "metadata": {},
   "outputs": [],
   "source": []
  },
  {
   "cell_type": "code",
   "execution_count": null,
   "metadata": {},
   "outputs": [],
   "source": []
  },
  {
   "cell_type": "code",
   "execution_count": null,
   "metadata": {},
   "outputs": [],
   "source": []
  },
  {
   "cell_type": "code",
   "execution_count": 9,
   "metadata": {},
   "outputs": [
    {
     "name": "stdout",
     "output_type": "stream",
     "text": [
      "Filtering arrivals.\n",
      "2018-08-07 11:30:49,054 | DEBUG : Number of records in initial CSV file = 23460\n",
      "2018-08-07 11:30:49,059 | DEBUG : Number of records after residual cutoff = 23460\n",
      "2018-08-07 11:30:49,061 | INFO : Sorting arrivals.\n",
      "2018-08-07 11:30:49,135 | DEBUG : Number of records before drop_duplicates = 23460\n",
      "2018-08-07 11:30:49,585 | DEBUG : Number of records in final pdf = 23460\n"
     ]
    }
   ],
   "source": [
    "#sort again\n",
    "pdf2=sort2(sortedfile, sortedfile2, residual_cutoff )"
   ]
  },
  {
   "cell_type": "code",
   "execution_count": 10,
   "metadata": {},
   "outputs": [
    {
     "data": {
      "text/html": [
       "<div>\n",
       "<style scoped>\n",
       "    .dataframe tbody tr th:only-of-type {\n",
       "        vertical-align: middle;\n",
       "    }\n",
       "\n",
       "    .dataframe tbody tr th {\n",
       "        vertical-align: top;\n",
       "    }\n",
       "\n",
       "    .dataframe thead th {\n",
       "        text-align: right;\n",
       "    }\n",
       "</style>\n",
       "<table border=\"1\" class=\"dataframe\">\n",
       "  <thead>\n",
       "    <tr style=\"text-align: right;\">\n",
       "      <th></th>\n",
       "      <th>source_block</th>\n",
       "      <th>station_block</th>\n",
       "      <th>residual</th>\n",
       "      <th>event_number</th>\n",
       "      <th>source_longitude</th>\n",
       "      <th>source_latitude</th>\n",
       "      <th>source_depth</th>\n",
       "      <th>station_longitude</th>\n",
       "      <th>station_latitude</th>\n",
       "      <th>observed_tt</th>\n",
       "      <th>locations2degrees</th>\n",
       "      <th>station_code</th>\n",
       "      <th>SNR</th>\n",
       "      <th>P_or_S</th>\n",
       "    </tr>\n",
       "  </thead>\n",
       "  <tbody>\n",
       "    <tr>\n",
       "      <th>0</th>\n",
       "      <td>130364</td>\n",
       "      <td>31202939</td>\n",
       "      <td>0.150000</td>\n",
       "      <td>5273000</td>\n",
       "      <td>100.7719</td>\n",
       "      <td>-0.1757</td>\n",
       "      <td>0.0</td>\n",
       "      <td>101.0400</td>\n",
       "      <td>0.3262</td>\n",
       "      <td>11.006560</td>\n",
       "      <td>0.569017</td>\n",
       "      <td>BKNI</td>\n",
       "      <td>49.615829</td>\n",
       "      <td>1</td>\n",
       "    </tr>\n",
       "    <tr>\n",
       "      <th>1</th>\n",
       "      <td>130833</td>\n",
       "      <td>180555</td>\n",
       "      <td>3.750000</td>\n",
       "      <td>2755000</td>\n",
       "      <td>127.9925</td>\n",
       "      <td>-0.4697</td>\n",
       "      <td>0.0</td>\n",
       "      <td>138.5793</td>\n",
       "      <td>-35.0313</td>\n",
       "      <td>425.172023</td>\n",
       "      <td>35.945209</td>\n",
       "      <td>TWOA</td>\n",
       "      <td>13.547856</td>\n",
       "      <td>1</td>\n",
       "    </tr>\n",
       "    <tr>\n",
       "      <th>2</th>\n",
       "      <td>131166</td>\n",
       "      <td>158938</td>\n",
       "      <td>-3.786733</td>\n",
       "      <td>2453000</td>\n",
       "      <td>121.1672</td>\n",
       "      <td>-0.6979</td>\n",
       "      <td>0.0</td>\n",
       "      <td>134.3660</td>\n",
       "      <td>-19.8777</td>\n",
       "      <td>304.204034</td>\n",
       "      <td>23.124791</td>\n",
       "      <td>WB5</td>\n",
       "      <td>12.414057</td>\n",
       "      <td>1</td>\n",
       "    </tr>\n",
       "    <tr>\n",
       "      <th>3</th>\n",
       "      <td>131214</td>\n",
       "      <td>156024</td>\n",
       "      <td>-1.795504</td>\n",
       "      <td>904000</td>\n",
       "      <td>133.2542</td>\n",
       "      <td>-0.6908</td>\n",
       "      <td>0.0</td>\n",
       "      <td>125.6400</td>\n",
       "      <td>-18.0973</td>\n",
       "      <td>263.530413</td>\n",
       "      <td>18.945836</td>\n",
       "      <td>FITZ</td>\n",
       "      <td>332.555463</td>\n",
       "      <td>1</td>\n",
       "    </tr>\n",
       "    <tr>\n",
       "      <th>4</th>\n",
       "      <td>132662</td>\n",
       "      <td>166565</td>\n",
       "      <td>1.050000</td>\n",
       "      <td>3478000</td>\n",
       "      <td>135.2243</td>\n",
       "      <td>-1.6387</td>\n",
       "      <td>0.0</td>\n",
       "      <td>151.0820</td>\n",
       "      <td>-25.3687</td>\n",
       "      <td>354.924562</td>\n",
       "      <td>28.227178</td>\n",
       "      <td>EIDS</td>\n",
       "      <td>9.582778</td>\n",
       "      <td>1</td>\n",
       "    </tr>\n",
       "  </tbody>\n",
       "</table>\n",
       "</div>"
      ],
      "text/plain": [
       "   source_block  station_block  residual  event_number  source_longitude  \\\n",
       "0        130364       31202939  0.150000       5273000          100.7719   \n",
       "1        130833         180555  3.750000       2755000          127.9925   \n",
       "2        131166         158938 -3.786733       2453000          121.1672   \n",
       "3        131214         156024 -1.795504        904000          133.2542   \n",
       "4        132662         166565  1.050000       3478000          135.2243   \n",
       "\n",
       "   source_latitude  source_depth  station_longitude  station_latitude  \\\n",
       "0          -0.1757           0.0           101.0400            0.3262   \n",
       "1          -0.4697           0.0           138.5793          -35.0313   \n",
       "2          -0.6979           0.0           134.3660          -19.8777   \n",
       "3          -0.6908           0.0           125.6400          -18.0973   \n",
       "4          -1.6387           0.0           151.0820          -25.3687   \n",
       "\n",
       "   observed_tt  locations2degrees station_code         SNR  P_or_S  \n",
       "0    11.006560           0.569017         BKNI   49.615829       1  \n",
       "1   425.172023          35.945209         TWOA   13.547856       1  \n",
       "2   304.204034          23.124791          WB5   12.414057       1  \n",
       "3   263.530413          18.945836         FITZ  332.555463       1  \n",
       "4   354.924562          28.227178         EIDS    9.582778       1  "
      ]
     },
     "execution_count": 10,
     "metadata": {},
     "output_type": "execute_result"
    }
   ],
   "source": [
    "pdf2.head()"
   ]
  },
  {
   "cell_type": "code",
   "execution_count": 11,
   "metadata": {},
   "outputs": [
    {
     "data": {
      "text/plain": [
       "(23460, 14)"
      ]
     },
     "execution_count": 11,
     "metadata": {},
     "output_type": "execute_result"
    }
   ],
   "source": [
    "pdf2.shape"
   ]
  },
  {
   "cell_type": "code",
   "execution_count": 12,
   "metadata": {},
   "outputs": [
    {
     "data": {
      "text/plain": [
       "<matplotlib.axes._subplots.AxesSubplot at 0x7fd013f4dfd0>"
      ]
     },
     "execution_count": 12,
     "metadata": {},
     "output_type": "execute_result"
    },
    {
     "name": "stdout",
     "output_type": "stream",
     "text": [
      "2018-08-07 11:30:49,720 | DEBUG : findfont: Matching :family=sans-serif:style=normal:variant=normal:weight=normal:stretch=normal:size=10.0 to DejaVu Sans ('/g/data/ha3/fxz547/anaconda2/lib/python2.7/site-packages/matplotlib/mpl-data/fonts/ttf/DejaVuSans.ttf') with score of 0.050000\n"
     ]
    },
    {
     "data": {
      "text/plain": [
       "<Figure size 432x288 with 0 Axes>"
      ]
     },
     "metadata": {},
     "output_type": "display_data"
    },
    {
     "data": {
      "image/png": "[encoded data removed]",
      "text/plain": [
       "<Figure size 432x288 with 1 Axes>"
      ]
     },
     "metadata": {},
     "output_type": "display_data"
    }
   ],
   "source": [
    "plt.figure(); pdf2.plot(x='event_number', y='observed_tt')\n",
    "# plt.figure(); pdf2.plot(x='event_number', y='source_depth')\n",
    "# plt.figure(); pdf2.plot(x='event_number', y='locations2degrees')\n",
    "# plt.figure(); pdf2.plot(x='event_number', y='residual')  # less than +-10s\n",
    "\n"
   ]
  },
  {
   "cell_type": "code",
   "execution_count": 13,
   "metadata": {},
   "outputs": [
    {
     "data": {
      "text/plain": [
       "<matplotlib.axes._subplots.AxesSubplot at 0x7fd013dba828>"
      ]
     },
     "execution_count": 13,
     "metadata": {},
     "output_type": "execute_result"
    },
    {
     "data": {
      "text/plain": [
       "<Figure size 432x288 with 0 Axes>"
      ]
     },
     "metadata": {},
     "output_type": "display_data"
    },
    {
     "data": {
      "image/png": "[encoded data removed]",
      "text/plain": [
       "<Figure size 432x288 with 1 Axes>"
      ]
     },
     "metadata": {},
     "output_type": "display_data"
    }
   ],
   "source": [
    "plt.figure(); pdf2.plot.scatter(x='source_block', y='station_block')"
   ]
  },
  {
   "cell_type": "code",
   "execution_count": 14,
   "metadata": {},
   "outputs": [
    {
     "data": {
      "text/plain": [
       "<matplotlib.axes._subplots.AxesSubplot at 0x7fcff9ceb7f0>"
      ]
     },
     "execution_count": 14,
     "metadata": {},
     "output_type": "execute_result"
    },
    {
     "data": {
      "text/plain": [
       "<Figure size 432x288 with 0 Axes>"
      ]
     },
     "metadata": {},
     "output_type": "display_data"
    },
    {
     "data": {
      "image/png": "[encoded data removed]",
      "text/plain": [
       "<Figure size 432x288 with 1 Axes>"
      ]
     },
     "metadata": {},
     "output_type": "display_data"
    }
   ],
   "source": [
    "plt.figure(); pdf2.plot.scatter(x='source_longitude', y='source_latitude')"
   ]
  },
  {
   "cell_type": "code",
   "execution_count": 31,
   "metadata": {},
   "outputs": [
    {
     "data": {
      "text/plain": [
       "<matplotlib.axes._subplots.AxesSubplot at 0x7fcff9c04588>"
      ]
     },
     "execution_count": 31,
     "metadata": {},
     "output_type": "execute_result"
    },
    {
     "data": {
      "text/plain": [
       "<Figure size 432x288 with 0 Axes>"
      ]
     },
     "metadata": {},
     "output_type": "display_data"
    },
    {
     "data": {
      "image/png": "[encoded data removed]",
      "text/plain": [
       "<Figure size 432x288 with 1 Axes>"
      ]
     },
     "metadata": {},
     "output_type": "display_data"
    }
   ],
   "source": [
    "plt.figure(); pdf2.plot.scatter(x='station_longitude', y='station_latitude')"
   ]
  },
  {
   "cell_type": "code",
   "execution_count": 33,
   "metadata": {},
   "outputs": [
    {
     "data": {
      "text/plain": [
       "<matplotlib.axes._subplots.AxesSubplot at 0x7fcff942c400>"
      ]
     },
     "execution_count": 33,
     "metadata": {},
     "output_type": "execute_result"
    },
    {
     "data": {
      "text/plain": [
       "<Figure size 432x288 with 0 Axes>"
      ]
     },
     "metadata": {},
     "output_type": "display_data"
    },
    {
     "data": {
      "image/png": "[encoded data removed]",
      "text/plain": [
       "<Figure size 432x288 with 1 Axes>"
      ]
     },
     "metadata": {},
     "output_type": "display_data"
    }
   ],
   "source": [
    "plt.figure(); pdf2.plot.scatter(x='locations2degrees', y='observed_tt')"
   ]
  },
  {
   "cell_type": "code",
   "execution_count": 34,
   "metadata": {},
   "outputs": [
    {
     "data": {
      "text/plain": [
       "<matplotlib.axes._subplots.AxesSubplot at 0x7fcff9bc4f60>"
      ]
     },
     "execution_count": 34,
     "metadata": {},
     "output_type": "execute_result"
    },
    {
     "data": {
      "text/plain": [
       "<Figure size 432x288 with 0 Axes>"
      ]
     },
     "metadata": {},
     "output_type": "display_data"
    },
    {
     "data": {
      "image/png": "[encoded data removed]",
      "text/plain": [
       "<Figure size 432x288 with 1 Axes>"
      ]
     },
     "metadata": {},
     "output_type": "display_data"
    }
   ],
   "source": [
    "plt.figure(); pdf2.plot.scatter(x='locations2degrees', y='SNR')"
   ]
  },
  {
   "cell_type": "code",
   "execution_count": 16,
   "metadata": {},
   "outputs": [],
   "source": [
    " med = pdf2.groupby(by=['source_block', 'station_block'])[\n",
    "        'observed_tt'].quantile(q=.5, interpolation='lower').reset_index()"
   ]
  },
  {
   "cell_type": "code",
   "execution_count": 17,
   "metadata": {},
   "outputs": [
    {
     "data": {
      "text/html": [
       "<div>\n",
       "<style scoped>\n",
       "    .dataframe tbody tr th:only-of-type {\n",
       "        vertical-align: middle;\n",
       "    }\n",
       "\n",
       "    .dataframe tbody tr th {\n",
       "        vertical-align: top;\n",
       "    }\n",
       "\n",
       "    .dataframe thead th {\n",
       "        text-align: right;\n",
       "    }\n",
       "</style>\n",
       "<table border=\"1\" class=\"dataframe\">\n",
       "  <thead>\n",
       "    <tr style=\"text-align: right;\">\n",
       "      <th></th>\n",
       "      <th>source_block</th>\n",
       "      <th>station_block</th>\n",
       "      <th>observed_tt</th>\n",
       "    </tr>\n",
       "  </thead>\n",
       "  <tbody>\n",
       "    <tr>\n",
       "      <th>0</th>\n",
       "      <td>130364</td>\n",
       "      <td>31202939</td>\n",
       "      <td>11.006560</td>\n",
       "    </tr>\n",
       "    <tr>\n",
       "      <th>1</th>\n",
       "      <td>130833</td>\n",
       "      <td>180555</td>\n",
       "      <td>425.172023</td>\n",
       "    </tr>\n",
       "    <tr>\n",
       "      <th>2</th>\n",
       "      <td>131166</td>\n",
       "      <td>158938</td>\n",
       "      <td>304.204034</td>\n",
       "    </tr>\n",
       "    <tr>\n",
       "      <th>3</th>\n",
       "      <td>131214</td>\n",
       "      <td>156024</td>\n",
       "      <td>263.530413</td>\n",
       "    </tr>\n",
       "    <tr>\n",
       "      <th>4</th>\n",
       "      <td>132662</td>\n",
       "      <td>166565</td>\n",
       "      <td>354.924562</td>\n",
       "    </tr>\n",
       "  </tbody>\n",
       "</table>\n",
       "</div>"
      ],
      "text/plain": [
       "   source_block  station_block  observed_tt\n",
       "0        130364       31202939    11.006560\n",
       "1        130833         180555   425.172023\n",
       "2        131166         158938   304.204034\n",
       "3        131214         156024   263.530413\n",
       "4        132662         166565   354.924562"
      ]
     },
     "execution_count": 17,
     "metadata": {},
     "output_type": "execute_result"
    }
   ],
   "source": [
    "med.head()"
   ]
  },
  {
   "cell_type": "code",
   "execution_count": 18,
   "metadata": {},
   "outputs": [
    {
     "data": {
      "text/plain": [
       "(23460, 3)"
      ]
     },
     "execution_count": 18,
     "metadata": {},
     "output_type": "execute_result"
    }
   ],
   "source": [
    "med.shape"
   ]
  },
  {
   "cell_type": "code",
   "execution_count": 19,
   "metadata": {},
   "outputs": [],
   "source": [
    "med2 = pdf2.groupby(\n",
    "        by=['source_block', 'station_block'] )['SNR'].max().reset_index() # use a seq index:0,1,2,."
   ]
  },
  {
   "cell_type": "code",
   "execution_count": 20,
   "metadata": {},
   "outputs": [
    {
     "data": {
      "text/html": [
       "<div>\n",
       "<style scoped>\n",
       "    .dataframe tbody tr th:only-of-type {\n",
       "        vertical-align: middle;\n",
       "    }\n",
       "\n",
       "    .dataframe tbody tr th {\n",
       "        vertical-align: top;\n",
       "    }\n",
       "\n",
       "    .dataframe thead th {\n",
       "        text-align: right;\n",
       "    }\n",
       "</style>\n",
       "<table border=\"1\" class=\"dataframe\">\n",
       "  <thead>\n",
       "    <tr style=\"text-align: right;\">\n",
       "      <th></th>\n",
       "      <th>source_block</th>\n",
       "      <th>station_block</th>\n",
       "      <th>SNR</th>\n",
       "    </tr>\n",
       "  </thead>\n",
       "  <tbody>\n",
       "    <tr>\n",
       "      <th>0</th>\n",
       "      <td>130364</td>\n",
       "      <td>31202939</td>\n",
       "      <td>49.615829</td>\n",
       "    </tr>\n",
       "    <tr>\n",
       "      <th>1</th>\n",
       "      <td>130833</td>\n",
       "      <td>180555</td>\n",
       "      <td>13.547856</td>\n",
       "    </tr>\n",
       "    <tr>\n",
       "      <th>2</th>\n",
       "      <td>131166</td>\n",
       "      <td>158938</td>\n",
       "      <td>12.414057</td>\n",
       "    </tr>\n",
       "    <tr>\n",
       "      <th>3</th>\n",
       "      <td>131214</td>\n",
       "      <td>156024</td>\n",
       "      <td>332.555463</td>\n",
       "    </tr>\n",
       "    <tr>\n",
       "      <th>4</th>\n",
       "      <td>132662</td>\n",
       "      <td>166565</td>\n",
       "      <td>9.582778</td>\n",
       "    </tr>\n",
       "  </tbody>\n",
       "</table>\n",
       "</div>"
      ],
      "text/plain": [
       "   source_block  station_block         SNR\n",
       "0        130364       31202939   49.615829\n",
       "1        130833         180555   13.547856\n",
       "2        131166         158938   12.414057\n",
       "3        131214         156024  332.555463\n",
       "4        132662         166565    9.582778"
      ]
     },
     "execution_count": 20,
     "metadata": {},
     "output_type": "execute_result"
    }
   ],
   "source": [
    "med2.head()"
   ]
  },
  {
   "cell_type": "code",
   "execution_count": 21,
   "metadata": {},
   "outputs": [
    {
     "data": {
      "text/plain": [
       "(23460, 3)"
      ]
     },
     "execution_count": 21,
     "metadata": {},
     "output_type": "execute_result"
    }
   ],
   "source": [
    "med2.shape"
   ]
  },
  {
   "cell_type": "code",
   "execution_count": 22,
   "metadata": {},
   "outputs": [
    {
     "data": {
      "text/plain": [
       "source_block          131166\n",
       "station_block         158938\n",
       "residual            -3.78673\n",
       "event_number         2453000\n",
       "source_longitude     121.167\n",
       "source_latitude      -0.6979\n",
       "source_depth               0\n",
       "station_longitude    134.366\n",
       "station_latitude    -19.8777\n",
       "observed_tt          304.204\n",
       "locations2degrees    23.1248\n",
       "station_code             WB5\n",
       "SNR                  12.4141\n",
       "P_or_S                     1\n",
       "Name: 2, dtype: object"
      ]
     },
     "execution_count": 22,
     "metadata": {},
     "output_type": "execute_result"
    }
   ],
   "source": [
    "pdf2.loc[2]"
   ]
  },
  {
   "cell_type": "code",
   "execution_count": 23,
   "metadata": {},
   "outputs": [
    {
     "data": {
      "text/plain": [
       "source_block          130833\n",
       "station_block         180555\n",
       "residual                3.75\n",
       "event_number         2755000\n",
       "source_longitude     127.993\n",
       "source_latitude      -0.4697\n",
       "source_depth               0\n",
       "station_longitude    138.579\n",
       "station_latitude    -35.0313\n",
       "observed_tt          425.172\n",
       "locations2degrees    35.9452\n",
       "station_code            TWOA\n",
       "SNR                  13.5479\n",
       "P_or_S                     1\n",
       "Name: 1, dtype: object"
      ]
     },
     "execution_count": 23,
     "metadata": {},
     "output_type": "execute_result"
    }
   ],
   "source": [
    "pdf2.iloc[1]"
   ]
  },
  {
   "cell_type": "code",
   "execution_count": 24,
   "metadata": {},
   "outputs": [
    {
     "data": {
      "text/html": [
       "<div>\n",
       "<style scoped>\n",
       "    .dataframe tbody tr th:only-of-type {\n",
       "        vertical-align: middle;\n",
       "    }\n",
       "\n",
       "    .dataframe tbody tr th {\n",
       "        vertical-align: top;\n",
       "    }\n",
       "\n",
       "    .dataframe thead th {\n",
       "        text-align: right;\n",
       "    }\n",
       "</style>\n",
       "<table border=\"1\" class=\"dataframe\">\n",
       "  <thead>\n",
       "    <tr style=\"text-align: right;\">\n",
       "      <th></th>\n",
       "      <th>source_block</th>\n",
       "      <th>station_block</th>\n",
       "      <th>residual</th>\n",
       "      <th>event_number</th>\n",
       "      <th>source_longitude</th>\n",
       "      <th>source_latitude</th>\n",
       "      <th>source_depth</th>\n",
       "      <th>station_longitude</th>\n",
       "      <th>station_latitude</th>\n",
       "      <th>observed_tt</th>\n",
       "      <th>locations2degrees</th>\n",
       "      <th>SNR</th>\n",
       "      <th>P_or_S</th>\n",
       "    </tr>\n",
       "  </thead>\n",
       "  <tbody>\n",
       "    <tr>\n",
       "      <th>count</th>\n",
       "      <td>2.346000e+04</td>\n",
       "      <td>2.346000e+04</td>\n",
       "      <td>23460.000000</td>\n",
       "      <td>2.346000e+04</td>\n",
       "      <td>23460.000000</td>\n",
       "      <td>23460.000000</td>\n",
       "      <td>23460.000000</td>\n",
       "      <td>23460.000000</td>\n",
       "      <td>23460.000000</td>\n",
       "      <td>23460.000000</td>\n",
       "      <td>23460.000000</td>\n",
       "      <td>23460.000000</td>\n",
       "      <td>23460.0</td>\n",
       "    </tr>\n",
       "    <tr>\n",
       "      <th>mean</th>\n",
       "      <td>1.532505e+07</td>\n",
       "      <td>2.278929e+06</td>\n",
       "      <td>0.024973</td>\n",
       "      <td>3.224787e+06</td>\n",
       "      <td>85.663270</td>\n",
       "      <td>-4.897048</td>\n",
       "      <td>0.143143</td>\n",
       "      <td>134.944512</td>\n",
       "      <td>-19.289314</td>\n",
       "      <td>364.564631</td>\n",
       "      <td>33.056320</td>\n",
       "      <td>12.763628</td>\n",
       "      <td>1.0</td>\n",
       "    </tr>\n",
       "    <tr>\n",
       "      <th>std</th>\n",
       "      <td>1.481460e+07</td>\n",
       "      <td>7.827617e+06</td>\n",
       "      <td>1.785204</td>\n",
       "      <td>1.913927e+06</td>\n",
       "      <td>118.436563</td>\n",
       "      <td>19.808115</td>\n",
       "      <td>0.171981</td>\n",
       "      <td>13.179486</td>\n",
       "      <td>11.497807</td>\n",
       "      <td>168.662924</td>\n",
       "      <td>19.248160</td>\n",
       "      <td>30.589980</td>\n",
       "      <td>0.0</td>\n",
       "    </tr>\n",
       "    <tr>\n",
       "      <th>min</th>\n",
       "      <td>1.303640e+05</td>\n",
       "      <td>1.315320e+05</td>\n",
       "      <td>-5.000000</td>\n",
       "      <td>3.000000e+03</td>\n",
       "      <td>-179.995400</td>\n",
       "      <td>-77.188300</td>\n",
       "      <td>0.000000</td>\n",
       "      <td>96.835000</td>\n",
       "      <td>-54.498200</td>\n",
       "      <td>1.299029</td>\n",
       "      <td>0.048722</td>\n",
       "      <td>1.501894</td>\n",
       "      <td>1.0</td>\n",
       "    </tr>\n",
       "    <tr>\n",
       "      <th>25%</th>\n",
       "      <td>9.927695e+05</td>\n",
       "      <td>1.560240e+05</td>\n",
       "      <td>-1.100000</td>\n",
       "      <td>1.507000e+06</td>\n",
       "      <td>105.349300</td>\n",
       "      <td>-17.631400</td>\n",
       "      <td>0.031079</td>\n",
       "      <td>128.296000</td>\n",
       "      <td>-26.582700</td>\n",
       "      <td>261.007631</td>\n",
       "      <td>19.435678</td>\n",
       "      <td>5.126403</td>\n",
       "      <td>1.0</td>\n",
       "    </tr>\n",
       "    <tr>\n",
       "      <th>50%</th>\n",
       "      <td>4.495808e+06</td>\n",
       "      <td>1.610400e+05</td>\n",
       "      <td>0.150000</td>\n",
       "      <td>3.235000e+06</td>\n",
       "      <td>129.168400</td>\n",
       "      <td>-6.218600</td>\n",
       "      <td>0.065356</td>\n",
       "      <td>134.367000</td>\n",
       "      <td>-19.959200</td>\n",
       "      <td>359.547859</td>\n",
       "      <td>30.944521</td>\n",
       "      <td>7.100788</td>\n",
       "      <td>1.0</td>\n",
       "    </tr>\n",
       "    <tr>\n",
       "      <th>75%</th>\n",
       "      <td>3.132478e+07</td>\n",
       "      <td>1.741280e+05</td>\n",
       "      <td>1.200000</td>\n",
       "      <td>4.895250e+06</td>\n",
       "      <td>151.455500</td>\n",
       "      <td>1.325500</td>\n",
       "      <td>0.167092</td>\n",
       "      <td>144.317000</td>\n",
       "      <td>-12.686200</td>\n",
       "      <td>477.021314</td>\n",
       "      <td>44.744537</td>\n",
       "      <td>11.565066</td>\n",
       "      <td>1.0</td>\n",
       "    </tr>\n",
       "    <tr>\n",
       "      <th>max</th>\n",
       "      <td>3.257619e+07</td>\n",
       "      <td>3.121566e+07</td>\n",
       "      <td>5.000000</td>\n",
       "      <td>6.519000e+06</td>\n",
       "      <td>179.997500</td>\n",
       "      <td>80.800000</td>\n",
       "      <td>0.668000</td>\n",
       "      <td>174.705000</td>\n",
       "      <td>32.809000</td>\n",
       "      <td>779.922265</td>\n",
       "      <td>89.988315</td>\n",
       "      <td>1307.319956</td>\n",
       "      <td>1.0</td>\n",
       "    </tr>\n",
       "  </tbody>\n",
       "</table>\n",
       "</div>"
      ],
      "text/plain": [
       "       source_block  station_block      residual  event_number  \\\n",
       "count  2.346000e+04   2.346000e+04  23460.000000  2.346000e+04   \n",
       "mean   1.532505e+07   2.278929e+06      0.024973  3.224787e+06   \n",
       "std    1.481460e+07   7.827617e+06      1.785204  1.913927e+06   \n",
       "min    1.303640e+05   1.315320e+05     -5.000000  3.000000e+03   \n",
       "25%    9.927695e+05   1.560240e+05     -1.100000  1.507000e+06   \n",
       "50%    4.495808e+06   1.610400e+05      0.150000  3.235000e+06   \n",
       "75%    3.132478e+07   1.741280e+05      1.200000  4.895250e+06   \n",
       "max    3.257619e+07   3.121566e+07      5.000000  6.519000e+06   \n",
       "\n",
       "       source_longitude  source_latitude  source_depth  station_longitude  \\\n",
       "count      23460.000000     23460.000000  23460.000000       23460.000000   \n",
       "mean          85.663270        -4.897048      0.143143         134.944512   \n",
       "std          118.436563        19.808115      0.171981          13.179486   \n",
       "min         -179.995400       -77.188300      0.000000          96.835000   \n",
       "25%          105.349300       -17.631400      0.031079         128.296000   \n",
       "50%          129.168400        -6.218600      0.065356         134.367000   \n",
       "75%          151.455500         1.325500      0.167092         144.317000   \n",
       "max          179.997500        80.800000      0.668000         174.705000   \n",
       "\n",
       "       station_latitude   observed_tt  locations2degrees           SNR  \\\n",
       "count      23460.000000  23460.000000       23460.000000  23460.000000   \n",
       "mean         -19.289314    364.564631          33.056320     12.763628   \n",
       "std           11.497807    168.662924          19.248160     30.589980   \n",
       "min          -54.498200      1.299029           0.048722      1.501894   \n",
       "25%          -26.582700    261.007631          19.435678      5.126403   \n",
       "50%          -19.959200    359.547859          30.944521      7.100788   \n",
       "75%          -12.686200    477.021314          44.744537     11.565066   \n",
       "max           32.809000    779.922265          89.988315   1307.319956   \n",
       "\n",
       "        P_or_S  \n",
       "count  23460.0  \n",
       "mean       1.0  \n",
       "std        0.0  \n",
       "min        1.0  \n",
       "25%        1.0  \n",
       "50%        1.0  \n",
       "75%        1.0  \n",
       "max        1.0  "
      ]
     },
     "execution_count": 24,
     "metadata": {},
     "output_type": "execute_result"
    }
   ],
   "source": [
    "pdf2.describe()"
   ]
  },
  {
   "cell_type": "code",
   "execution_count": 25,
   "metadata": {},
   "outputs": [
    {
     "data": {
      "text/plain": [
       "Int64Index([    0,     1,     2,     3,     4,     5,     6,     7,     8,\n",
       "                9,\n",
       "            ...\n",
       "            23450, 23451, 23452, 23453, 23454, 23455, 23456, 23457, 23458,\n",
       "            23459],\n",
       "           dtype='int64', length=23460)"
      ]
     },
     "execution_count": 25,
     "metadata": {},
     "output_type": "execute_result"
    }
   ],
   "source": [
    "pdf2.index"
   ]
  },
  {
   "cell_type": "code",
   "execution_count": 26,
   "metadata": {},
   "outputs": [],
   "source": [
    "pdf2.index=pdf2.event_number"
   ]
  },
  {
   "cell_type": "code",
   "execution_count": 27,
   "metadata": {},
   "outputs": [
    {
     "data": {
      "text/plain": [
       "Int64Index([5273000, 2755000, 2453000,  904000, 3478000, 5355000, 6334000,\n",
       "            5071000, 5071000, 5071000,\n",
       "            ...\n",
       "            3112000, 3112000, 3112000, 3112000, 3112000, 6253000, 6179000,\n",
       "            1526000,  897000,  897000],\n",
       "           dtype='int64', name='event_number', length=23460)"
      ]
     },
     "execution_count": 27,
     "metadata": {},
     "output_type": "execute_result"
    }
   ],
   "source": [
    "pdf2.index"
   ]
  },
  {
   "cell_type": "code",
   "execution_count": 28,
   "metadata": {},
   "outputs": [
    {
     "data": {
      "text/html": [
       "<div>\n",
       "<style scoped>\n",
       "    .dataframe tbody tr th:only-of-type {\n",
       "        vertical-align: middle;\n",
       "    }\n",
       "\n",
       "    .dataframe tbody tr th {\n",
       "        vertical-align: top;\n",
       "    }\n",
       "\n",
       "    .dataframe thead th {\n",
       "        text-align: right;\n",
       "    }\n",
       "</style>\n",
       "<table border=\"1\" class=\"dataframe\">\n",
       "  <thead>\n",
       "    <tr style=\"text-align: right;\">\n",
       "      <th></th>\n",
       "      <th>source_block</th>\n",
       "      <th>station_block</th>\n",
       "      <th>residual</th>\n",
       "      <th>event_number</th>\n",
       "      <th>source_longitude</th>\n",
       "      <th>source_latitude</th>\n",
       "      <th>source_depth</th>\n",
       "      <th>station_longitude</th>\n",
       "      <th>station_latitude</th>\n",
       "      <th>observed_tt</th>\n",
       "      <th>locations2degrees</th>\n",
       "      <th>station_code</th>\n",
       "      <th>SNR</th>\n",
       "      <th>P_or_S</th>\n",
       "    </tr>\n",
       "    <tr>\n",
       "      <th>event_number</th>\n",
       "      <th></th>\n",
       "      <th></th>\n",
       "      <th></th>\n",
       "      <th></th>\n",
       "      <th></th>\n",
       "      <th></th>\n",
       "      <th></th>\n",
       "      <th></th>\n",
       "      <th></th>\n",
       "      <th></th>\n",
       "      <th></th>\n",
       "      <th></th>\n",
       "      <th></th>\n",
       "      <th></th>\n",
       "    </tr>\n",
       "  </thead>\n",
       "  <tbody>\n",
       "    <tr>\n",
       "      <th>6253000</th>\n",
       "      <td>32534715</td>\n",
       "      <td>164337</td>\n",
       "      <td>0.95</td>\n",
       "      <td>6253000</td>\n",
       "      <td>-179.0566</td>\n",
       "      <td>-20.3962</td>\n",
       "      <td>0.645</td>\n",
       "      <td>133.9710</td>\n",
       "      <td>-23.6471</td>\n",
       "      <td>429.172090</td>\n",
       "      <td>43.476542</td>\n",
       "      <td>AS06</td>\n",
       "      <td>6.018690</td>\n",
       "      <td>1</td>\n",
       "    </tr>\n",
       "    <tr>\n",
       "      <th>6179000</th>\n",
       "      <td>32534715</td>\n",
       "      <td>177671</td>\n",
       "      <td>4.05</td>\n",
       "      <td>6179000</td>\n",
       "      <td>-178.4087</td>\n",
       "      <td>-19.9659</td>\n",
       "      <td>0.635</td>\n",
       "      <td>137.5744</td>\n",
       "      <td>-33.0330</td>\n",
       "      <td>414.852401</td>\n",
       "      <td>41.167086</td>\n",
       "      <td>WHYH</td>\n",
       "      <td>8.608146</td>\n",
       "      <td>1</td>\n",
       "    </tr>\n",
       "    <tr>\n",
       "      <th>1526000</th>\n",
       "      <td>32535003</td>\n",
       "      <td>164337</td>\n",
       "      <td>1.25</td>\n",
       "      <td>1526000</td>\n",
       "      <td>-179.2445</td>\n",
       "      <td>-20.8474</td>\n",
       "      <td>0.645</td>\n",
       "      <td>133.9050</td>\n",
       "      <td>-23.6642</td>\n",
       "      <td>427.831637</td>\n",
       "      <td>43.261817</td>\n",
       "      <td>AS31</td>\n",
       "      <td>5.144998</td>\n",
       "      <td>1</td>\n",
       "    </tr>\n",
       "    <tr>\n",
       "      <th>897000</th>\n",
       "      <td>32576187</td>\n",
       "      <td>164337</td>\n",
       "      <td>1.10</td>\n",
       "      <td>897000</td>\n",
       "      <td>-179.0704</td>\n",
       "      <td>-19.6998</td>\n",
       "      <td>0.668</td>\n",
       "      <td>133.9700</td>\n",
       "      <td>-23.6652</td>\n",
       "      <td>429.152508</td>\n",
       "      <td>43.627759</td>\n",
       "      <td>AS07</td>\n",
       "      <td>7.415461</td>\n",
       "      <td>1</td>\n",
       "    </tr>\n",
       "    <tr>\n",
       "      <th>897000</th>\n",
       "      <td>32576187</td>\n",
       "      <td>168356</td>\n",
       "      <td>-1.30</td>\n",
       "      <td>897000</td>\n",
       "      <td>-179.0704</td>\n",
       "      <td>-19.6998</td>\n",
       "      <td>0.668</td>\n",
       "      <td>148.7580</td>\n",
       "      <td>-26.4853</td>\n",
       "      <td>318.822995</td>\n",
       "      <td>30.275572</td>\n",
       "      <td>RMQ</td>\n",
       "      <td>5.494720</td>\n",
       "      <td>1</td>\n",
       "    </tr>\n",
       "  </tbody>\n",
       "</table>\n",
       "</div>"
      ],
      "text/plain": [
       "              source_block  station_block  residual  event_number  \\\n",
       "event_number                                                        \n",
       "6253000           32534715         164337      0.95       6253000   \n",
       "6179000           32534715         177671      4.05       6179000   \n",
       "1526000           32535003         164337      1.25       1526000   \n",
       "897000            32576187         164337      1.10        897000   \n",
       "897000            32576187         168356     -1.30        897000   \n",
       "\n",
       "              source_longitude  source_latitude  source_depth  \\\n",
       "event_number                                                    \n",
       "6253000              -179.0566         -20.3962         0.645   \n",
       "6179000              -178.4087         -19.9659         0.635   \n",
       "1526000              -179.2445         -20.8474         0.645   \n",
       "897000               -179.0704         -19.6998         0.668   \n",
       "897000               -179.0704         -19.6998         0.668   \n",
       "\n",
       "              station_longitude  station_latitude  observed_tt  \\\n",
       "event_number                                                     \n",
       "6253000                133.9710          -23.6471   429.172090   \n",
       "6179000                137.5744          -33.0330   414.852401   \n",
       "1526000                133.9050          -23.6642   427.831637   \n",
       "897000                 133.9700          -23.6652   429.152508   \n",
       "897000                 148.7580          -26.4853   318.822995   \n",
       "\n",
       "              locations2degrees station_code       SNR  P_or_S  \n",
       "event_number                                                    \n",
       "6253000               43.476542         AS06  6.018690       1  \n",
       "6179000               41.167086         WHYH  8.608146       1  \n",
       "1526000               43.261817         AS31  5.144998       1  \n",
       "897000                43.627759         AS07  7.415461       1  \n",
       "897000                30.275572          RMQ  5.494720       1  "
      ]
     },
     "execution_count": 28,
     "metadata": {},
     "output_type": "execute_result"
    }
   ],
   "source": [
    "pdf2.tail(n=5)"
   ]
  },
  {
   "cell_type": "code",
   "execution_count": 29,
   "metadata": {},
   "outputs": [
    {
     "data": {
      "text/plain": [
       "source_block          130833\n",
       "station_block         180555\n",
       "residual                3.75\n",
       "event_number         2755000\n",
       "source_longitude     127.993\n",
       "source_latitude      -0.4697\n",
       "source_depth               0\n",
       "station_longitude    138.579\n",
       "station_latitude    -35.0313\n",
       "observed_tt          425.172\n",
       "locations2degrees    35.9452\n",
       "station_code            TWOA\n",
       "SNR                  13.5479\n",
       "P_or_S                     1\n",
       "Name: 2755000, dtype: object"
      ]
     },
     "execution_count": 29,
     "metadata": {},
     "output_type": "execute_result"
    }
   ],
   "source": [
    "pdf2.iloc[1]  # now .loc[2] does not work"
   ]
  },
  {
   "cell_type": "code",
   "execution_count": 30,
   "metadata": {},
   "outputs": [],
   "source": [
    "#pdf2.loc[215]"
   ]
  },
  {
   "cell_type": "code",
   "execution_count": null,
   "metadata": {},
   "outputs": [],
   "source": []
  },
  {
   "cell_type": "code",
   "execution_count": null,
   "metadata": {},
   "outputs": [],
   "source": []
  },
  {
   "cell_type": "code",
   "execution_count": null,
   "metadata": {},
   "outputs": [],
   "source": []
  }
 ],
 "metadata": {
  "kernelspec": {
   "display_name": "Python 3",
   "language": "python",
   "name": "python3"
  },
  "language_info": {
   "codemirror_mode": {
    "name": "ipython",
    "version": 3
   },
   "file_extension": ".py",
   "mimetype": "text/x-python",
   "name": "python",
   "nbconvert_exporter": "python",
   "pygments_lexer": "ipython3",
   "version": "3.6.6"
  }
 },
 "nbformat": 4,
 "nbformat_minor": 2
}
