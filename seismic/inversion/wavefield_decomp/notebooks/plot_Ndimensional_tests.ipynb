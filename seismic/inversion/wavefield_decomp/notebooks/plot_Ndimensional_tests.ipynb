{
 "cells": [
  {
   "cell_type": "code",
   "execution_count": null,
   "metadata": {},
   "outputs": [],
   "source": [
    "import numpy as np\n",
    "import pandas as pd\n",
    "\n",
    "from scipy.optimize import Bounds\n",
    "import matplotlib.pyplot as plt\n",
    "from landscapes.single_objective import sphere, himmelblau, easom, rosenbrock, rastrigin\n",
    "import seaborn as sb\n",
    "\n",
    "from seismic.inversion.wavefield_decomp.solvers import optimize_minimize_mhmcmc_cluster"
   ]
  },
  {
   "cell_type": "code",
   "execution_count": null,
   "metadata": {},
   "outputs": [],
   "source": [
    "def plot_Nd(soln, title, scale=1.0):\n",
    "\n",
    "    soln_alpha = 0.3\n",
    "    samples_alpha = 0.05\n",
    "    hist_alpha = 0.5\n",
    "    axis_font_size = 12\n",
    "    text_font_size = 10\n",
    "    ndims = len(soln.bounds.lb)\n",
    "\n",
    "    # Use PairGrid to set up grid and useful attributes of plot.\n",
    "    df = pd.DataFrame(soln.samples, columns=['x' + str(i) for i in range(ndims)])\n",
    "    p = sb.PairGrid(df, size=3.2*scale)\n",
    "    # Plot samples (not actual solution, just samples of MCMC process) as grey background on off-diagonals.\n",
    "    p = p.map_offdiag(plt.scatter, color='#808080', alpha=samples_alpha, s=2*scale**2)\n",
    "\n",
    "    diag_hist_ax = []\n",
    "    row_idx, col_idx = np.indices((ndims, ndims))\n",
    "    adjustable_text = []  # Collect line text labels\n",
    "    for row, col in zip(row_idx.flat, col_idx.flat):\n",
    "        if row == col:\n",
    "            # Diagonal plots - use full sample histogram.\n",
    "            # axd is the original diagonal axes created by PairGrid\n",
    "            axd = p.axes[row, row]\n",
    "            # Set label sizes\n",
    "            axd.tick_params(labelsize=axis_font_size*scale)\n",
    "            axd.xaxis.label.set_size(axis_font_size*scale)\n",
    "            axd.yaxis.label.set_size(axis_font_size*scale)\n",
    "            # Duplicate axes with separate, hidden vertical scale for the histogram.\n",
    "            ax = axd.twinx()\n",
    "            ax.set_axis_off()\n",
    "            # Plot full samples histogram.\n",
    "            deltas = np.diff(soln.bins[row])\n",
    "            ax.bar(soln.bins[row, :-1] + 0.5*deltas, soln.distribution[row], color='#808080', alpha=hist_alpha, width=np.min(deltas))\n",
    "            ax.set_title('x{} sample distribution'.format(row), y=0.9, color='#404040', fontsize=11*scale)\n",
    "            # Add vertical lines to histogram to indication solution locations and label value.\n",
    "            for i, _x in enumerate(soln.x):\n",
    "                color = 'C' + str(i)\n",
    "                ax.axvline(_x[row], color=color, linestyle='--', linewidth=1.2*scale)\n",
    "                # Sneakily use the axd axes for labelling, as it has same scale on x- and y- axes,\n",
    "                # which we can use to make sure the labels for multiple solutions are at different heights.\n",
    "                # Work out exact position on local x-axis.\n",
    "                x_lim = ax.get_xlim()\n",
    "                x_range = x_lim[1] - x_lim[0]\n",
    "                if (_x[row] - x_lim[0])/x_range >= 0.5:\n",
    "                    hjust = 'left'\n",
    "                    hoffset = 0.02*x_range\n",
    "                else:\n",
    "                    hjust = 'right'\n",
    "                    hoffset = -0.02*x_range\n",
    "                # end if\n",
    "                # Work out exact position on local y-axis, using full N-dimensional solution to minimize\n",
    "                # overlap by project N-dimensional position onto the diagonal of the bounded space.\n",
    "                bounds_diag = soln.bounds.ub - soln.bounds.lb\n",
    "                denom = np.dot(bounds_diag, bounds_diag)\n",
    "                y_pos_norm = np.dot(_x - soln.bounds.lb, bounds_diag)/denom\n",
    "                assert 0.0 <= y_pos_norm <= 1.0\n",
    "                y_pos = x_lim[0] + y_pos_norm*x_range\n",
    "                if y_pos_norm >= 0.5:\n",
    "                    vjust = 'bottom'\n",
    "                else:\n",
    "                    vjust = 'top'\n",
    "                # end if\n",
    "                t = axd.text(_x[row] + hoffset, y_pos, '{:.3f}'.format(_x[row]), ha=hjust, va=vjust, color=color,\n",
    "                             fontsize=text_font_size*scale, fontstyle='italic', fontweight='semibold', zorder=100+i)\n",
    "                adjustable_text.append(t)\n",
    "            # end for\n",
    "            diag_hist_ax.append(ax)\n",
    "        else:\n",
    "            # Off-diagonal plots.\n",
    "            ax = p.axes[row, col]\n",
    "            # Set label sizes\n",
    "            ax.tick_params(labelsize=axis_font_size*scale)\n",
    "            ax.xaxis.label.set_size(axis_font_size*scale)\n",
    "            ax.yaxis.label.set_size(axis_font_size*scale)\n",
    "            # Plot distinct solution clusters\n",
    "            for i, cluster in enumerate(soln.clusters):\n",
    "                color = 'C' + str(i)\n",
    "                ax.scatter(cluster[:, col], cluster[:, row], c=color, s=2*scale**2, alpha=soln_alpha)\n",
    "            # end for\n",
    "            # Add dotted grid\n",
    "            p.axes[row, col].grid(color='#80808080', linestyle=':')\n",
    "        # end if\n",
    "    # end for\n",
    "    # Overall plot title\n",
    "    plt.suptitle(title, y=1.05, fontsize=16*scale)\n",
    "    # TODO: figure out how to adjust line labels in the y-direction so not overlapping\n",
    "\n",
    "    return p, diag_hist_ax, adjustable_text"
   ]
  },
  {
   "cell_type": "code",
   "execution_count": null,
   "metadata": {},
   "outputs": [],
   "source": [
    "translate = np.array([-1, 1.5, 2.5])\n",
    "bounds = Bounds(np.array([-3, -3, -3]) + translate, np.array([3, 3, 3]) + translate)\n",
    "soln = optimize_minimize_mhmcmc_cluster(lambda xyz: sphere(xyz - translate),\n",
    "                                        bounds, burnin=10000, maxiter=50000, collect_samples=10000)"
   ]
  },
  {
   "cell_type": "code",
   "execution_count": null,
   "metadata": {},
   "outputs": [],
   "source": [
    "soln.success"
   ]
  },
  {
   "cell_type": "code",
   "execution_count": null,
   "metadata": {},
   "outputs": [],
   "source": [
    "soln.message"
   ]
  },
  {
   "cell_type": "code",
   "execution_count": null,
   "metadata": {},
   "outputs": [],
   "source": [
    "p = plot_Nd(soln, 'Sphere solution space', scale=1.6)"
   ]
  },
  {
   "cell_type": "code",
   "execution_count": null,
   "metadata": {},
   "outputs": [],
   "source": [
    "bounds = Bounds(np.array([-5, -5, -5]), np.array([5, 5, 5]))\n",
    "soln = optimize_minimize_mhmcmc_cluster(\n",
    "    rastrigin, bounds, burnin=10000, maxiter=50000, collect_samples=10000, T=5, N=5)"
   ]
  },
  {
   "cell_type": "code",
   "execution_count": null,
   "metadata": {},
   "outputs": [],
   "source": [
    "soln.success"
   ]
  },
  {
   "cell_type": "code",
   "execution_count": null,
   "metadata": {},
   "outputs": [],
   "source": [
    "soln.message"
   ]
  },
  {
   "cell_type": "code",
   "execution_count": null,
   "metadata": {},
   "outputs": [],
   "source": [
    "soln.x"
   ]
  },
  {
   "cell_type": "code",
   "execution_count": null,
   "metadata": {},
   "outputs": [],
   "source": [
    "if soln.success:\n",
    "    p = plot_Nd(soln, title='Rastrigin function minima', scale=1.6)\n",
    "# end if"
   ]
  },
  {
   "cell_type": "code",
   "execution_count": null,
   "metadata": {},
   "outputs": [],
   "source": [
    "# TODO: Try JointGrid as an alternative."
   ]
  }
 ],
 "metadata": {
  "kernelspec": {
   "display_name": "Python 3",
   "language": "python",
   "name": "python3"
  },
  "language_info": {
   "codemirror_mode": {
    "name": "ipython",
    "version": 3
   },
   "file_extension": ".py",
   "mimetype": "text/x-python",
   "name": "python",
   "nbconvert_exporter": "python",
   "pygments_lexer": "ipython3",
   "version": "3.6.8"
  }
 },
 "nbformat": 4,
 "nbformat_minor": 4
}
