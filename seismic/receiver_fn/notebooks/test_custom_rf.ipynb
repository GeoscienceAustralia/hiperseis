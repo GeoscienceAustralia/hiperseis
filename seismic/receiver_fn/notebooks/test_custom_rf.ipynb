{
 "cells": [
  {
   "cell_type": "code",
   "execution_count": null,
   "metadata": {},
   "outputs": [],
   "source": [
    "import os"
   ]
  },
  {
   "cell_type": "code",
   "execution_count": null,
   "metadata": {},
   "outputs": [],
   "source": [
    "import numpy as np\n",
    "import scipy\n",
    "import obspy\n",
    "import rf\n",
    "import matplotlib.pyplot as plt"
   ]
  },
  {
   "cell_type": "code",
   "execution_count": null,
   "metadata": {},
   "outputs": [],
   "source": [
    "import seismic.receiver_fn.rf_plot_utils as rf_plot_utils"
   ]
  },
  {
   "cell_type": "code",
   "execution_count": null,
   "metadata": {},
   "outputs": [],
   "source": [
    "src_trace_file = \"/g/data/ha3/am7399/rf_validation/7W_bilby/7W.BL05_event_waveforms_for_rf_filtered.h5\"\n",
    "src_data = obspy.read(src_trace_file, format='h5')"
   ]
  },
  {
   "cell_type": "code",
   "execution_count": null,
   "metadata": {},
   "outputs": [],
   "source": [
    "len(src_data)"
   ]
  },
  {
   "cell_type": "code",
   "execution_count": null,
   "metadata": {},
   "outputs": [],
   "source": [
    "src_data[0].stats"
   ]
  },
  {
   "cell_type": "code",
   "execution_count": null,
   "metadata": {},
   "outputs": [],
   "source": [
    "# Compare inbuilt Toeplitz solver with scipy Toeplitz solver"
   ]
  },
  {
   "cell_type": "code",
   "execution_count": null,
   "metadata": {},
   "outputs": [],
   "source": [
    "# Replicate deconvt from rf and replace solver with scipy Toeplitz solver"
   ]
  },
  {
   "cell_type": "code",
   "execution_count": null,
   "metadata": {},
   "outputs": [],
   "source": [
    "def toeplitz_solver_scipy(a, b):\n",
    "    \"\"\"\n",
    "    Solve linear system Ax=b for real symmetric Toeplitz matrix A.\n",
    "\n",
    "    :param a: first row of Toeplitz matrix A\n",
    "    :param b: vector b\n",
    "    :return: x=A^-1*b\n",
    "    \"\"\"\n",
    "#     return sto_sl(np.hstack((a, a[1:])), b, job=0)\n",
    "    return scipy.linalg.solve_toeplitz(a, b, check_finite=False)\n",
    "\n",
    "\n",
    "def custom_deconvt(rsp_list, src, shift, spiking=1., length=None, normalize=0):\n",
    "    \"\"\"\n",
    "    Time domain deconvolution.\n",
    "\n",
    "    Deconvolve src from arrays in rsp_list.\n",
    "    Calculate Toeplitz auto-correlation matrix of source, invert it, add noise\n",
    "    and multiply it with cross-correlation vector of response and source.\n",
    "\n",
    "    In one formula::\n",
    "\n",
    "        RF = (STS + spiking*I)^-1 * STR\n",
    "\n",
    "        N... length\n",
    "            ( S0   S-1  S-2 ... S-N+1 )\n",
    "            ( S1   S0   S-1 ... S-N+2 )\n",
    "        S = ( S2   ...                )\n",
    "            ( ...                     )\n",
    "            ( SN-1 ...          S0    )\n",
    "        R = (R0 R1 ... RN-1)^T\n",
    "        RF = (RF0 RF1 ... RFN-1)^T\n",
    "        S... source matrix (shape N*N)\n",
    "        R... response vector (length N)\n",
    "        RF... receiver function (deconvolution) vector (length N)\n",
    "        STS = S^T*S = symmetric Toeplitz autocorrelation matrix\n",
    "        STR = S^T*R = cross-correlation vector\n",
    "        I... Identity\n",
    "\n",
    "    :param rsp_list: either a list of arrays containing the response functions\n",
    "        or a single array\n",
    "    :param src: array of source function\n",
    "    :param shift: shift the source by that amount of samples to the left side\n",
    "        to get onset in RF at the desired time (negative -> shift source to the\n",
    "        right side)\\n\n",
    "        shift = (middle of rsp window - middle of src window) +\n",
    "        (0 - middle rf window)\n",
    "    :param spiking: random noise added to autocorrelation (eg. 1.0, 0.1)\n",
    "    :param length: number of data points in results\n",
    "    :param normalize: normalize all results so that the maximum of the trace\n",
    "        with supplied index is 1. Set normalize to None for no normalization.\n",
    "\n",
    "    :return: (list of) array(s) with deconvolution(s)\n",
    "    \"\"\"\n",
    "    if length is None:\n",
    "        length = rf.deconvolve.__get_length(rsp_list)\n",
    "    flag = False\n",
    "    RF_list = []\n",
    "    STS = rf.deconvolve._acorrt(src, length)\n",
    "    STS = STS / STS[0]\n",
    "    STS[0] += spiking\n",
    "    if not isinstance(rsp_list, (list, tuple)):\n",
    "        flag = True\n",
    "        rsp_list = [rsp_list]\n",
    "    for rsp in rsp_list:\n",
    "        STR = rf.deconvolve._xcorrt(rsp, src, length, shift)\n",
    "        assert len(STR) == len(STS)\n",
    "        # Replaced solver here\n",
    "        RF = toeplitz_solver_scipy(STS, STR)\n",
    "        RF_list.append(RF)\n",
    "    if normalize is not None:\n",
    "        norm = 1 / np.max(np.abs(RF_list[normalize]))\n",
    "        for RF in RF_list:\n",
    "            RF *= norm\n",
    "    if flag:\n",
    "        return RF\n",
    "    else:\n",
    "        return RF_list\n"
   ]
  },
  {
   "cell_type": "code",
   "execution_count": null,
   "metadata": {},
   "outputs": [],
   "source": [
    "def iter3c(stream):\n",
    "    return rf.util.IterMultipleComponents(stream, key='onset', number_components=(2, 3))"
   ]
  },
  {
   "cell_type": "code",
   "execution_count": null,
   "metadata": {},
   "outputs": [],
   "source": [
    "def __find_nearest(array, value):\n",
    "    \"\"\"http://stackoverflow.com/a/26026189\"\"\"\n",
    "    idx = np.searchsorted(array, value, side='left')\n",
    "    expr = np.abs(value - array[idx - 1]) < np.abs(value - array[idx])\n",
    "    if idx > 0 and (idx == len(array) or expr):\n",
    "        return idx - 1\n",
    "    else:\n",
    "        return idx\n",
    "\n",
    "def deconvolve_main(stream, func=None, source_components='LZ', response_components=None,\n",
    "                    winsrc=(-10, 30, 5), **kwargs):\n",
    "    \"\"\"Copy of rf.deconvolve.deconvolve() function, modified to allow custom time-domain deconvolution method.\n",
    "    \"\"\"\n",
    "#     method = 'time'\n",
    "    # identify source and response components\n",
    "    src = [tr for tr in stream if tr.stats.channel[-1] in source_components]\n",
    "    if len(src) != 1:\n",
    "        msg = 'Invalid number of source components. %d not equal to one.'\n",
    "        raise ValueError(msg % len(src))\n",
    "    src = src[0]\n",
    "    rsp = [tr for tr in stream if response_components is None or\n",
    "           tr.stats.channel[-1] in response_components]\n",
    "    if 'normalize' not in kwargs and src in rsp:\n",
    "        kwargs['normalize'] = rsp.index(src)\n",
    "    if not 0 < len(rsp) < 4:\n",
    "        msg = 'Invalid number of response components. %d not between 0 and 4.'\n",
    "        raise ValueError(msg % len(rsp))\n",
    "\n",
    "    sr = src.stats.sampling_rate\n",
    "    # shift onset to time of nearest data sample to circumvent complications\n",
    "    # for data with low sampling rate and method='time'\n",
    "    idx = __find_nearest(src.times(), src.stats.onset - src.stats.starttime)\n",
    "    src.stats.onset = onset = src.stats.starttime + idx * src.stats.delta\n",
    "    for tr in rsp:\n",
    "        tr.stats.onset = onset\n",
    "    # define default time windows\n",
    "    lenrsp_sec = src.stats.endtime - src.stats.starttime\n",
    "    onset_sec = onset - src.stats.starttime\n",
    "\n",
    "    # prepare source and response list\n",
    "    if src in rsp:\n",
    "        src = src.copy()\n",
    "    src.trim(onset + winsrc[0], onset + winsrc[1], pad=True, fill_value=0.)\n",
    "    src.taper(max_percentage=None, max_length=winsrc[2])\n",
    "    rsp_data = [tr.data for tr in rsp]\n",
    "    tshift = -winsrc[0]\n",
    "    shift = int(round(tshift * sr - len(src) // 2))\n",
    "    if func is None:\n",
    "        # Use rf library\n",
    "        rf_data = rf.deconvolve.deconvt(rsp_data, src.data, shift,  **kwargs)\n",
    "    else:\n",
    "        rf_data = func(rsp_data, src.data, shift,  **kwargs)\n",
    "\n",
    "    for i, tr in enumerate(rsp):\n",
    "        tr.data = rf_data[i].real\n",
    "\n",
    "    return stream.__class__(rsp)\n"
   ]
  },
  {
   "cell_type": "code",
   "execution_count": null,
   "metadata": {},
   "outputs": [],
   "source": [
    "data_orig = rf.RFStream(src_data)"
   ]
  },
  {
   "cell_type": "code",
   "execution_count": null,
   "metadata": {},
   "outputs": [],
   "source": [
    "filter_args = {'type': 'bandpass', 'freqmin': 0.08, 'freqmax': 0.6, 'corners': 2, 'zerophase': True}"
   ]
  },
  {
   "cell_type": "code",
   "execution_count": null,
   "metadata": {},
   "outputs": [],
   "source": [
    "rf_orig = data_orig.copy().rf(filter=filter_args, rotate='NE->RT', trim=(-10, 30))"
   ]
  },
  {
   "cell_type": "code",
   "execution_count": null,
   "metadata": {},
   "outputs": [],
   "source": [
    "type(rf_orig)"
   ]
  },
  {
   "cell_type": "code",
   "execution_count": null,
   "metadata": {},
   "outputs": [],
   "source": [
    "fig_orig = rf_plot_utils.plot_rf_stack(rf_orig.select(component='R'), time_window=(-10, 30))"
   ]
  },
  {
   "cell_type": "code",
   "execution_count": null,
   "metadata": {},
   "outputs": [],
   "source": [
    "rf_scipy = data_orig.copy()\n",
    "# method = 'P'\n",
    "for stream3c in iter3c(rf_scipy):\n",
    "    stream3c.filter(**filter_args)\n",
    "    stream3c.rotate('NE->RT')\n",
    "    response = deconvolve_main(stream3c, func=custom_deconvt, source_components='Z', winsrc=(-10, 30, 5))\n",
    "    stream3c.traces = response.traces"
   ]
  },
  {
   "cell_type": "code",
   "execution_count": null,
   "metadata": {},
   "outputs": [],
   "source": [
    "type(rf_scipy)"
   ]
  },
  {
   "cell_type": "code",
   "execution_count": null,
   "metadata": {},
   "outputs": [],
   "source": [
    "fig_scipy = rf_plot_utils.plot_rf_stack(rf_scipy.select(component='R'), time_window=(-10, 30))"
   ]
  },
  {
   "cell_type": "code",
   "execution_count": null,
   "metadata": {},
   "outputs": [],
   "source": [
    "rf_orig_R = rf_orig.select(component='R')"
   ]
  },
  {
   "cell_type": "code",
   "execution_count": null,
   "metadata": {},
   "outputs": [],
   "source": [
    "rf_scipy_R = rf_scipy.select(component='R').copy().trim2(-10, 30, reftime='onset')"
   ]
  },
  {
   "cell_type": "code",
   "execution_count": null,
   "metadata": {},
   "outputs": [],
   "source": [
    "len(rf_orig_R)"
   ]
  },
  {
   "cell_type": "code",
   "execution_count": null,
   "metadata": {},
   "outputs": [],
   "source": [
    "for tr_idx in range(len(rf_orig_R)):\n",
    "    fig = plt.figure(figsize=(12,4))\n",
    "    tr_orig = rf_orig_R[tr_idx]\n",
    "    tr_scipy = rf_scipy_R[tr_idx]\n",
    "    plt.plot(tr_orig.times() - (tr_orig.stats.onset - tr_orig.stats.starttime), tr_orig.data)\n",
    "    plt.plot(tr_scipy.times() - (tr_scipy.stats.onset - tr_scipy.stats.starttime), tr_scipy.data)\n",
    "    plt.ylim((-0.3, 0.7))\n",
    "    plt.grid()\n",
    "    plt.title(\"n={}\".format(tr_idx))\n",
    "    plt.show()"
   ]
  },
  {
   "cell_type": "code",
   "execution_count": null,
   "metadata": {},
   "outputs": [],
   "source": []
  }
 ],
 "metadata": {
  "kernelspec": {
   "display_name": "Python 3",
   "language": "python",
   "name": "python3"
  },
  "language_info": {
   "codemirror_mode": {
    "name": "ipython",
    "version": 3
   },
   "file_extension": ".py",
   "mimetype": "text/x-python",
   "name": "python",
   "nbconvert_exporter": "python",
   "pygments_lexer": "ipython3",
   "version": "3.5.2"
  }
 },
 "nbformat": 4,
 "nbformat_minor": 4
}
