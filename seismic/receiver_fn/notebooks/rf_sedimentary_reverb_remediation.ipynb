{
 "cells": [
  {
   "cell_type": "code",
   "execution_count": null,
   "metadata": {},
   "outputs": [],
   "source": [
    "import numpy as np\n",
    "import matplotlib.pyplot as plt\n",
    "import scipy.signal as signal\n",
    "\n",
    "import rf\n",
    "\n",
    "import seismic.receiver_fn.rf_util as rf_util\n",
    "import seismic.receiver_fn.rf_plot_utils as rf_plot_utils\n",
    "import seismic.receiver_fn.rf_stacking as rf_stacking"
   ]
  },
  {
   "cell_type": "code",
   "execution_count": null,
   "metadata": {},
   "outputs": [],
   "source": [
    "# References:\n",
    "# Yu, Y., J. Song, K. H. Liu, and S. S. Gao (2015), Determining crustal structure beneath seismic stations overlying a low-velocity\n",
    "# sedimentary layer using receiver functions, J. Geophys. Res. Solid Earth, 120, 3208–3218, doi:10.1002/2014JB011610.\n",
    "# http://dx.doi.org/10.1002/2014JB011610"
   ]
  },
  {
   "cell_type": "markdown",
   "metadata": {},
   "source": [
    "## Data loading"
   ]
  },
  {
   "cell_type": "code",
   "execution_count": null,
   "metadata": {},
   "outputs": [],
   "source": [
    "rf_type = rf_type = 'ZRT_it'"
   ]
  },
  {
   "cell_type": "code",
   "execution_count": null,
   "metadata": {},
   "outputs": [],
   "source": [
    "network = 'AQ'\n",
    "target_station = 'D7'"
   ]
  },
  {
   "cell_type": "code",
   "execution_count": null,
   "metadata": {},
   "outputs": [],
   "source": [
    "src_file = r\"..\\DATA\\AQT_rfs_20151128T042000-20191108T000317_{}_rev1_qual.h5\".format(rf_type)"
   ]
  },
  {
   "cell_type": "code",
   "execution_count": null,
   "metadata": {},
   "outputs": [],
   "source": [
    "data_all = rf_util.read_h5_rf(src_file, network, target_station)"
   ]
  },
  {
   "cell_type": "code",
   "execution_count": null,
   "metadata": {},
   "outputs": [],
   "source": [
    "data_all"
   ]
  },
  {
   "cell_type": "code",
   "execution_count": null,
   "metadata": {},
   "outputs": [],
   "source": [
    "type(data_all)"
   ]
  },
  {
   "cell_type": "markdown",
   "metadata": {},
   "source": [
    "## Select R-channel data"
   ]
  },
  {
   "cell_type": "code",
   "execution_count": null,
   "metadata": {},
   "outputs": [],
   "source": [
    "db = rf_util.rf_to_dict(data_all)"
   ]
  },
  {
   "cell_type": "code",
   "execution_count": null,
   "metadata": {},
   "outputs": [],
   "source": [
    "station_db = db[target_station]"
   ]
  },
  {
   "cell_type": "code",
   "execution_count": null,
   "metadata": {},
   "outputs": [],
   "source": [
    "channel = rf_util.choose_rf_source_channel(rf_type, station_db)\n",
    "print(\"Selected channel: {}\".format(channel))\n",
    "channel_data = station_db[channel]\n",
    "len(channel_data)"
   ]
  },
  {
   "cell_type": "code",
   "execution_count": null,
   "metadata": {},
   "outputs": [],
   "source": [
    "type(channel_data)"
   ]
  },
  {
   "cell_type": "code",
   "execution_count": null,
   "metadata": {},
   "outputs": [],
   "source": [
    "type(channel_data[0])"
   ]
  },
  {
   "cell_type": "code",
   "execution_count": null,
   "metadata": {},
   "outputs": [],
   "source": [
    "channel_data[0].stats.sampling_rate"
   ]
  },
  {
   "cell_type": "markdown",
   "metadata": {},
   "source": [
    "## Plot initial data"
   ]
  },
  {
   "cell_type": "code",
   "execution_count": null,
   "metadata": {},
   "outputs": [],
   "source": [
    "_ = rf_plot_utils.plot_rf_stack(rf.RFStream(channel_data))"
   ]
  },
  {
   "cell_type": "markdown",
   "metadata": {},
   "source": [
    "## Look at initial H-k stack"
   ]
  },
  {
   "cell_type": "code",
   "execution_count": null,
   "metadata": {},
   "outputs": [],
   "source": [
    "k_grid, h_grid, hk = rf_stacking.compute_hk_stack(channel_data, include_t3=False, root_order=2, k_range=np.linspace(1.5, 2.0, 301))\n",
    "w = (0.5, 0.5)\n",
    "w_str = \"w={:1.2f},{:1.2f}\".format(*w)\n",
    "stack = rf_stacking.compute_weighted_stack(hk, weighting=w)\n",
    "hk_fig = rf_plot_utils.plot_hk_stack(k_grid, h_grid, stack, num=len(channel_data),\n",
    "                                     title=\"Initial H-k stack, reverb ({})\".format(w_str))\n",
    "plt.show()"
   ]
  },
  {
   "cell_type": "markdown",
   "metadata": {},
   "source": [
    "## Trial reverb removal"
   ]
  },
  {
   "cell_type": "code",
   "execution_count": null,
   "metadata": {},
   "outputs": [],
   "source": [
    "x = np.array([d for d in channel_data])"
   ]
  },
  {
   "cell_type": "code",
   "execution_count": null,
   "metadata": {},
   "outputs": [],
   "source": [
    "type(x)"
   ]
  },
  {
   "cell_type": "code",
   "execution_count": null,
   "metadata": {},
   "outputs": [],
   "source": [
    "x.shape"
   ]
  },
  {
   "cell_type": "code",
   "execution_count": null,
   "metadata": {},
   "outputs": [],
   "source": [
    "ac = np.apply_along_axis(lambda _x: np.correlate(_x, _x, 'full')/np.dot(_x, _x), axis=1, arr=x)\n",
    "ac.shape"
   ]
  },
  {
   "cell_type": "code",
   "execution_count": null,
   "metadata": {},
   "outputs": [],
   "source": [
    "ac_causal = ac[:, ac.shape[1]//2:]\n",
    "ac_causal.shape"
   ]
  },
  {
   "cell_type": "code",
   "execution_count": null,
   "metadata": {},
   "outputs": [],
   "source": [
    "plt.plot(ac_causal[0, :500])"
   ]
  },
  {
   "cell_type": "code",
   "execution_count": null,
   "metadata": {},
   "outputs": [],
   "source": [
    "plt.stem(ac_causal[0, :50])"
   ]
  },
  {
   "cell_type": "code",
   "execution_count": null,
   "metadata": {},
   "outputs": [],
   "source": [
    "ac_extrema = np.apply_along_axis(lambda _x: signal.argrelextrema(_x, np.less)[0][0], axis=1, arr=ac_causal)"
   ]
  },
  {
   "cell_type": "code",
   "execution_count": null,
   "metadata": {},
   "outputs": [],
   "source": [
    "ac_extrema"
   ]
  },
  {
   "cell_type": "code",
   "execution_count": null,
   "metadata": {},
   "outputs": [],
   "source": [
    "def reverb_removal_filter(offset, amplitude):\n",
    "    reverb_removal_kernel = np.zeros(offset + 1)\n",
    "    reverb_removal_kernel[0] = 1\n",
    "    reverb_removal_kernel[-1] = amplitude\n",
    "    return reverb_removal_kernel"
   ]
  },
  {
   "cell_type": "code",
   "execution_count": null,
   "metadata": {},
   "outputs": [],
   "source": [
    "x_norev = [np.convolve(_x, reverb_removal_filter(ac_extrema[i], -ac_causal[i, ac_extrema[i]]), 'full') for i, _x in enumerate(x)]"
   ]
  },
  {
   "cell_type": "code",
   "execution_count": null,
   "metadata": {},
   "outputs": [],
   "source": [
    "x_norev = [_x[:(-ac_extrema[i] + 1)] for i, _x in enumerate(x_norev)]"
   ]
  },
  {
   "cell_type": "markdown",
   "metadata": {},
   "source": [
    "## Construct and plot RF stream from de-reverbed traces"
   ]
  },
  {
   "cell_type": "code",
   "execution_count": null,
   "metadata": {},
   "outputs": [],
   "source": [
    "traces = []\n",
    "for i, tr in enumerate(channel_data):\n",
    "    new_tr = tr.copy()\n",
    "    new_tr.data = x_norev[i]\n",
    "    traces.append(new_tr)\n",
    "# end for\n",
    "channel_data_noreverb = rf.RFStream(traces)"
   ]
  },
  {
   "cell_type": "code",
   "execution_count": null,
   "metadata": {},
   "outputs": [],
   "source": [
    "_ = rf_plot_utils.plot_rf_stack(rf.RFStream(channel_data_noreverb))"
   ]
  },
  {
   "cell_type": "markdown",
   "metadata": {},
   "source": [
    "## Look at H-k stacking of de-reverbed traces"
   ]
  },
  {
   "cell_type": "code",
   "execution_count": null,
   "metadata": {},
   "outputs": [],
   "source": [
    "k_grid, h_grid, hk = rf_stacking.compute_hk_stack(channel_data_noreverb, include_t3=False, root_order=2, k_range=np.linspace(1.5, 2.0, 301))\n",
    "w = (0.5, 0.5)\n",
    "w_str = \"w={:1.2f},{:1.2f}\".format(*w)\n",
    "stack = rf_stacking.compute_weighted_stack(hk, weighting=w)\n",
    "hk_fig = rf_plot_utils.plot_hk_stack(k_grid, h_grid, stack, num=len(channel_data_noreverb),\n",
    "                                     title=\"Refined H-k stack, reduced reverb ({})\".format(w_str))\n",
    "plt.show()"
   ]
  },
  {
   "cell_type": "code",
   "execution_count": null,
   "metadata": {},
   "outputs": [],
   "source": [
    "# NEXT: Continue process in reference"
   ]
  },
  {
   "cell_type": "code",
   "execution_count": null,
   "metadata": {},
   "outputs": [],
   "source": []
  }
 ],
 "metadata": {
  "kernelspec": {
   "display_name": "Python 3",
   "language": "python",
   "name": "python3"
  },
  "language_info": {
   "codemirror_mode": {
    "name": "ipython",
    "version": 3
   },
   "file_extension": ".py",
   "mimetype": "text/x-python",
   "name": "python",
   "nbconvert_exporter": "python",
   "pygments_lexer": "ipython3",
   "version": "3.6.8"
  }
 },
 "nbformat": 4,
 "nbformat_minor": 4
}
