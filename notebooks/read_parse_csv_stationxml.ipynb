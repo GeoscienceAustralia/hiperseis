{
 "cells": [
  {
   "cell_type": "markdown",
   "metadata": {},
   "source": [
    "# Read modified station XML files and pandas-parse CSV data\n",
    "\n",
    "\n",
    "## Fei Zhang\n",
    "\n",
    "2020-03-16"
   ]
  },
  {
   "cell_type": "raw",
   "metadata": {},
   "source": []
  },
  {
   "cell_type": "code",
   "execution_count": 22,
   "metadata": {},
   "outputs": [],
   "source": [
    "from obspy import read_inventory\n",
    "\n",
    "our_new_station_xml =\"/g/data/ha3/Passive/SHARED_DATA/GPS_Clock/StationXML_with_time_corrections2/7D.CZ41A_station_inv_modified.xml\"\n",
    "our_inv = read_inventory(our_new_station_xml,format='STATIONXML')\n",
    "# print(our_inv.networks[0].stations[0].extra)\n",
    "\n",
    "csv_str = our_inv.networks[0].stations[0].extra.gpsclockcorrection.value"
   ]
  },
  {
   "cell_type": "code",
   "execution_count": 9,
   "metadata": {},
   "outputs": [
    {
     "name": "stdout",
     "output_type": "stream",
     "text": [
      "<class 'str'>\n"
     ]
    }
   ],
   "source": [
    "print(type(csv_str))"
   ]
  },
  {
   "cell_type": "code",
   "execution_count": 21,
   "metadata": {},
   "outputs": [
    {
     "name": "stdout",
     "output_type": "stream",
     "text": [
      "2\n"
     ]
    }
   ],
   "source": [
    "# What if there are more than one Station Node, such as AU.HTT in testdata/network_AU_0.xml \n",
    "stations =our_inv.networks[0].stations\n",
    "print (len(stations))"
   ]
  },
  {
   "cell_type": "code",
   "execution_count": 10,
   "metadata": {},
   "outputs": [
    {
     "name": "stdout",
     "output_type": "stream",
     "text": [
      "net,sta,date,clock_correction\n"
     ]
    }
   ],
   "source": [
    "header_line =csv_str.split('\\n')[0]\n",
    "print (header_line)"
   ]
  },
  {
   "cell_type": "code",
   "execution_count": 11,
   "metadata": {},
   "outputs": [
    {
     "name": "stdout",
     "output_type": "stream",
     "text": [
      "  net  sta        date  clock_correction\n",
      "0  AU  HTT  2010-11-26        -14.522935\n",
      "1  AU  HTT  2010-11-27        -14.818250\n",
      "2  AU  HTT  2010-11-28        -15.113566\n",
      "3  AU  HTT  2010-11-29        -15.408881\n",
      "4  AU  HTT  2010-11-30        -15.704196\n"
     ]
    }
   ],
   "source": [
    "import io\n",
    "import pandas as pd\n",
    "\n",
    "df_clock_correction = pd.read_csv(io.StringIO(csv_str))\n",
    "\n",
    "print(df_clock_correction.head())"
   ]
  },
  {
   "cell_type": "code",
   "execution_count": 5,
   "metadata": {},
   "outputs": [
    {
     "name": "stdout",
     "output_type": "stream",
     "text": [
      "    net   sta        date  clock_correction\n",
      "227  OA  CF28  2018-08-20         -0.409176\n",
      "228  OA  CF28  2018-08-21         -0.412483\n",
      "229  OA  CF28  2018-08-22         -0.415789\n",
      "230  OA  CF28  2018-08-23         -0.419096\n",
      "231  OA  CF28  2018-08-24         -0.422403\n"
     ]
    }
   ],
   "source": [
    "print (df_clock_correction.tail())"
   ]
  },
  {
   "cell_type": "code",
   "execution_count": 6,
   "metadata": {},
   "outputs": [
    {
     "data": {
      "text/html": [
       "<div>\n",
       "<style scoped>\n",
       "    .dataframe tbody tr th:only-of-type {\n",
       "        vertical-align: middle;\n",
       "    }\n",
       "\n",
       "    .dataframe tbody tr th {\n",
       "        vertical-align: top;\n",
       "    }\n",
       "\n",
       "    .dataframe thead th {\n",
       "        text-align: right;\n",
       "    }\n",
       "</style>\n",
       "<table border=\"1\" class=\"dataframe\">\n",
       "  <thead>\n",
       "    <tr style=\"text-align: right;\">\n",
       "      <th></th>\n",
       "      <th>clock_correction</th>\n",
       "    </tr>\n",
       "  </thead>\n",
       "  <tbody>\n",
       "    <tr>\n",
       "      <th>count</th>\n",
       "      <td>232.000000</td>\n",
       "    </tr>\n",
       "    <tr>\n",
       "      <th>mean</th>\n",
       "      <td>5.270700</td>\n",
       "    </tr>\n",
       "    <tr>\n",
       "      <th>std</th>\n",
       "      <td>10.680244</td>\n",
       "    </tr>\n",
       "    <tr>\n",
       "      <th>min</th>\n",
       "      <td>-1.537359</td>\n",
       "    </tr>\n",
       "    <tr>\n",
       "      <th>25%</th>\n",
       "      <td>-0.383548</td>\n",
       "    </tr>\n",
       "    <tr>\n",
       "      <th>50%</th>\n",
       "      <td>-0.209116</td>\n",
       "    </tr>\n",
       "    <tr>\n",
       "      <th>75%</th>\n",
       "      <td>5.945104</td>\n",
       "    </tr>\n",
       "    <tr>\n",
       "      <th>max</th>\n",
       "      <td>41.845951</td>\n",
       "    </tr>\n",
       "  </tbody>\n",
       "</table>\n",
       "</div>"
      ],
      "text/plain": [
       "       clock_correction\n",
       "count        232.000000\n",
       "mean           5.270700\n",
       "std           10.680244\n",
       "min           -1.537359\n",
       "25%           -0.383548\n",
       "50%           -0.209116\n",
       "75%            5.945104\n",
       "max           41.845951"
      ]
     },
     "execution_count": 6,
     "metadata": {},
     "output_type": "execute_result"
    }
   ],
   "source": [
    "df_clock_correction.describe()\n"
   ]
  },
  {
   "cell_type": "code",
   "execution_count": 7,
   "metadata": {},
   "outputs": [
    {
     "data": {
      "text/plain": [
       "net                  object\n",
       "sta                  object\n",
       "date                 object\n",
       "clock_correction    float64\n",
       "dtype: object"
      ]
     },
     "execution_count": 7,
     "metadata": {},
     "output_type": "execute_result"
    }
   ],
   "source": [
    "df_clock_correction.dtypes"
   ]
  },
  {
   "cell_type": "markdown",
   "metadata": {},
   "source": [
    "# Dealing with multiple station-nodes in a network inventory\n",
    "\n",
    "See Jira: https://gajira.atlassian.net/browse/PV-130\n",
    "\n",
    " What if there are more than one Station Node, such as AU.HTT in testdata/network_AU_0.xml. The multple station code represent the same station with different channel configuraiton over different time periods.\n",
    " "
   ]
  },
  {
   "cell_type": "code",
   "execution_count": 57,
   "metadata": {},
   "outputs": [],
   "source": [
    "\n",
    "# create the modified xml file by running\n",
    "# python  add_time_corrections.py  /g/data/ha3/Passive/SHARED_DATA/GPS_Clock/corrections/AU.HTT_clock_correction.csv ../../tests/testdata/network_AU_0.xml \n",
    "\n",
    "def inspect_stations( our_new_station_xml ):\n",
    "    \n",
    "    our_inv = read_inventory(our_new_station_xml,format='STATIONXML')\n",
    "\n",
    "    #csv_str = our_inv.networks[0].stations[0].extra.gpsclockcorrection.value\n",
    "\n",
    "    stations =our_inv.networks[0].stations\n",
    "    \n",
    "    if len(stations)>=2:\n",
    "        print (our_new_station_xml)\n",
    "        print (\"Warning: more than one Station Node = %s\" %len(stations))\n",
    "    \n",
    "    return stations\n"
   ]
  },
  {
   "cell_type": "code",
   "execution_count": 55,
   "metadata": {},
   "outputs": [
    {
     "name": "stdout",
     "output_type": "stream",
     "text": [
      "Warning: more than one Station Node = 2\n"
     ]
    },
    {
     "data": {
      "text/plain": [
       "[Station HTT (Hallett, South Australia)\n",
       "\tStation Code: HTT\n",
       "\tChannel Count: 15/15 (Selected/Total)\n",
       "\t2009-07-01T00:00:00.000000Z - 2018-12-11T23:59:59.000000Z\n",
       "\tAccess: open \n",
       "\tLatitude: -33.43, Longitude: 138.92, Elevation: 708.0 m\n",
       "\tAvailable Channels:\n",
       "\t\tHTT..BHZ, HTT..BHN, HTT..BHE, HTT..HHZ (2x), HTT..HHN (2x), \n",
       "\t\tHTT..HHE (2x), HTT..HNZ, HTT..HNN, HTT..HNE, HTT..SHZ, HTT..SHN, \n",
       "\t\tHTT..SHE,\n",
       " Station HTT (Hallett, South Australia)\n",
       "\tStation Code: HTT\n",
       "\tChannel Count: 13/13 (Selected/Total)\n",
       "\t2018-12-12T00:00:00.000000Z - 2599-12-31T23:59:59.000000Z\n",
       "\tAccess: open \n",
       "\tLatitude: -33.43, Longitude: 138.92, Elevation: 708.0 m\n",
       "\tAvailable Channels:\n",
       "\t\tHTT.10.BHZ, HTT.10.BHN, HTT.10.BHE, HTT.10.HHZ, HTT.10.HHN, \n",
       "\t\tHTT.10.HHE, HTT.30.EHZ, HTT.30.EHN, HTT.30.EHE, HTT.40.EHZ, \n",
       "\t\tHTT.40.ENZ, HTT.40.ENN, HTT.40.ENE]"
      ]
     },
     "execution_count": 55,
     "metadata": {},
     "output_type": "execute_result"
    }
   ],
   "source": [
    "#our_new_station_xml =\"/g/data/ha3/Passive/SHARED_DATA/GPS_Clock/StationXML_with_time_corrections2/AU.HTT_station_inv_modified.xml\"\n",
    "inspect_stations(our_new_station_xml)"
   ]
  },
  {
   "cell_type": "code",
   "execution_count": 59,
   "metadata": {},
   "outputs": [
    {
     "name": "stdout",
     "output_type": "stream",
     "text": [
      "/g/data/ha3/Passive/SHARED_DATA/GPS_Clock/StationXML_with_time_corrections2/OA.BY22_station_inv_modified.xml\n",
      "Warning: more than one Station Node = 3\n",
      "/g/data/ha3/Passive/SHARED_DATA/GPS_Clock/StationXML_with_time_corrections2/AU.HTT_station_inv_modified.xml\n",
      "Warning: more than one Station Node = 2\n",
      "/g/data/ha3/Passive/SHARED_DATA/GPS_Clock/StationXML_with_time_corrections2/AU.MUN_station_inv_modified.xml\n",
      "Warning: more than one Station Node = 2\n",
      "/g/data/ha3/Passive/SHARED_DATA/GPS_Clock/StationXML_with_time_corrections2/OA.CE28_station_inv_modified.xml\n",
      "Warning: more than one Station Node = 3\n",
      "/g/data/ha3/Passive/SHARED_DATA/GPS_Clock/StationXML_with_time_corrections2/OA.CE22_station_inv_modified.xml\n",
      "Warning: more than one Station Node = 3\n",
      "/g/data/ha3/Passive/SHARED_DATA/GPS_Clock/StationXML_with_time_corrections2/OA.CF28_station_inv_modified.xml\n",
      "Warning: more than one Station Node = 3\n"
     ]
    }
   ],
   "source": [
    "\n",
    "import os, glob\n",
    "\n",
    "xmlfolder = \"/g/data/ha3/Passive/SHARED_DATA/GPS_Clock/StationXML_with_time_corrections2/\"\n",
    "\n",
    "for axmlfile in glob.glob(os.path.join(xmlfolder,\"*.xml\")):\n",
    "    \n",
    "    stations = inspect_stations(axmlfile)\n",
    "    \n",
    "#     if len(stations)>=2:\n",
    "#         for astation in stations:\n",
    "#             print(\"### \", astation.code, astation.extra)"
   ]
  },
  {
   "cell_type": "code",
   "execution_count": null,
   "metadata": {},
   "outputs": [],
   "source": []
  }
 ],
 "metadata": {
  "kernelspec": {
   "display_name": "Python 3",
   "language": "python",
   "name": "python3"
  },
  "language_info": {
   "codemirror_mode": {
    "name": "ipython",
    "version": 3
   },
   "file_extension": ".py",
   "mimetype": "text/x-python",
   "name": "python",
   "nbconvert_exporter": "python",
   "pygments_lexer": "ipython3",
   "version": "3.5.2"
  }
 },
 "nbformat": 4,
 "nbformat_minor": 4
}
