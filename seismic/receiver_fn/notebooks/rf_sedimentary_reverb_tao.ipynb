{
 "cells": [
  {
   "cell_type": "code",
   "execution_count": 1,
   "metadata": {},
   "outputs": [],
   "source": [
    "import numpy as np"
   ]
  },
  {
   "cell_type": "code",
   "execution_count": 2,
   "metadata": {},
   "outputs": [],
   "source": [
    "# References:\n",
    "# Kai Tao, Tianze Liu, Jieyuan Ning, Fenglin Niu, \"Estimating sedimentary and crustal structure\n",
    "# using wavefield continuation: theory, techniques and applications\", Geophysical Journal International,\n",
    "# Volume 197, Issue 1, April, 2014, Pages 443-457, https://doi.org/10.1093/gji/ggt515"
   ]
  },
  {
   "cell_type": "code",
   "execution_count": 3,
   "metadata": {},
   "outputs": [],
   "source": [
    "import sympy"
   ]
  },
  {
   "cell_type": "code",
   "execution_count": 4,
   "metadata": {},
   "outputs": [],
   "source": [
    "sympy.init_printing()"
   ]
  },
  {
   "cell_type": "code",
   "execution_count": 5,
   "metadata": {},
   "outputs": [
    {
     "data": {
      "image/png": "[encoded data removed]",
      "text/latex": [
       "$\\displaystyle \\left( α, \\  β, \\  p, \\  ρ, \\  μ, \\  ω\\right)$"
      ],
      "text/plain": [
       "(α, β, p, ρ, μ, ω)"
      ]
     },
     "execution_count": 5,
     "metadata": {},
     "output_type": "execute_result"
    }
   ],
   "source": [
    "sympy.var('α β p ρ μ ω', positive=True, real=True)"
   ]
  },
  {
   "cell_type": "code",
   "execution_count": 6,
   "metadata": {},
   "outputs": [
    {
     "data": {
      "image/png": "[encoded data removed]",
      "text/latex": [
       "$\\displaystyle \\left( z, \\  z_{0}, \\  t, \\  t_{0}, \\  t_{1}\\right)$"
      ],
      "text/plain": [
       "(z, z₀, t, t₀, t₁)"
      ]
     },
     "execution_count": 6,
     "metadata": {},
     "output_type": "execute_result"
    }
   ],
   "source": [
    "sympy.var('z z0 t t0 t1', real=True)"
   ]
  },
  {
   "cell_type": "code",
   "execution_count": 7,
   "metadata": {},
   "outputs": [
    {
     "data": {
      "image/png": "[encoded data removed]",
      "text/latex": [
       "$\\displaystyle β^{2} ρ$"
      ],
      "text/plain": [
       " 2  \n",
       "β ⋅ρ"
      ]
     },
     "execution_count": 7,
     "metadata": {},
     "output_type": "execute_result"
    }
   ],
   "source": [
    "μ = ρ*β**2\n",
    "μ"
   ]
  },
  {
   "cell_type": "code",
   "execution_count": 8,
   "metadata": {},
   "outputs": [
    {
     "data": {
      "image/png": "[encoded data removed]",
      "text/latex": [
       "$\\displaystyle \\sqrt{- p^{2} + \\frac{1}{α^{2}}}$"
      ],
      "text/plain": [
       "     ___________\n",
       "    ╱    2   1  \n",
       "   ╱  - p  + ── \n",
       "  ╱           2 \n",
       "╲╱           α  "
      ]
     },
     "execution_count": 8,
     "metadata": {},
     "output_type": "execute_result"
    }
   ],
   "source": [
    "q_α = sympy.sqrt(1/α**2 - p**2)\n",
    "q_α"
   ]
  },
  {
   "cell_type": "code",
   "execution_count": 9,
   "metadata": {},
   "outputs": [
    {
     "data": {
      "image/png": "[encoded data removed]",
      "text/latex": [
       "$\\displaystyle \\sqrt{- p^{2} + \\frac{1}{β^{2}}}$"
      ],
      "text/plain": [
       "     ___________\n",
       "    ╱    2   1  \n",
       "   ╱  - p  + ── \n",
       "  ╱           2 \n",
       "╲╱           β  "
      ]
     },
     "execution_count": 9,
     "metadata": {},
     "output_type": "execute_result"
    }
   ],
   "source": [
    "q_β = sympy.sqrt(1/β**2 - p**2)\n",
    "q_β"
   ]
  },
  {
   "cell_type": "code",
   "execution_count": 10,
   "metadata": {},
   "outputs": [
    {
     "data": {
      "image/png": "[encoded data removed]",
      "text/latex": [
       "$\\displaystyle - 2 p^{2} + \\frac{1}{β^{2}}$"
      ],
      "text/plain": [
       "     2   1 \n",
       "- 2⋅p  + ──\n",
       "          2\n",
       "         β "
      ]
     },
     "execution_count": 10,
     "metadata": {},
     "output_type": "execute_result"
    }
   ],
   "source": [
    "η = 1/β**2 - 2*p**2\n",
    "η"
   ]
  },
  {
   "cell_type": "code",
   "execution_count": 11,
   "metadata": {},
   "outputs": [
    {
     "data": {
      "text/latex": [
       "$\\displaystyle \\left[\\begin{matrix}p α & p α & β \\sqrt{- p^{2} + \\frac{1}{β^{2}}} & β \\sqrt{- p^{2} + \\frac{1}{β^{2}}}\\\\α \\sqrt{- p^{2} + \\frac{1}{α^{2}}} & - α \\sqrt{- p^{2} + \\frac{1}{α^{2}}} & - p β & p β\\\\- 2 p α β^{2} ρ \\sqrt{- p^{2} + \\frac{1}{α^{2}}} & 2 p α β^{2} ρ \\sqrt{- p^{2} + \\frac{1}{α^{2}}} & - β^{3} ρ \\left(- 2 p^{2} + \\frac{1}{β^{2}}\\right) & β^{3} ρ \\left(- 2 p^{2} + \\frac{1}{β^{2}}\\right)\\\\- α β^{2} ρ \\left(- 2 p^{2} + \\frac{1}{β^{2}}\\right) & - α β^{2} ρ \\left(- 2 p^{2} + \\frac{1}{β^{2}}\\right) & 2 p β^{3} ρ \\sqrt{- p^{2} + \\frac{1}{β^{2}}} & 2 p β^{3} ρ \\sqrt{- p^{2} + \\frac{1}{β^{2}}}\\end{matrix}\\right]$"
      ],
      "text/plain": [
       "⎡                                                                     ________\n",
       "⎢                                                                    ╱    2   \n",
       "⎢            p⋅α                           p⋅α                 β⋅   ╱  - p  + \n",
       "⎢                                                                  ╱          \n",
       "⎢                                                                ╲╱           \n",
       "⎢                                                                             \n",
       "⎢            ___________                   ___________                        \n",
       "⎢           ╱    2   1                    ╱    2   1                          \n",
       "⎢     α⋅   ╱  - p  + ──            -α⋅   ╱  - p  + ──                 -p⋅β    \n",
       "⎢         ╱           2                 ╱           2                         \n",
       "⎢       ╲╱           α                ╲╱           α                          \n",
       "⎢                                                                             \n",
       "⎢                 ___________                  ___________                    \n",
       "⎢        2       ╱    2   1           2       ╱    2   1         3   ⎛     2  \n",
       "⎢-2⋅p⋅α⋅β ⋅ρ⋅   ╱  - p  + ──   2⋅p⋅α⋅β ⋅ρ⋅   ╱  - p  + ──      -β ⋅ρ⋅⎜- 2⋅p  +\n",
       "⎢              ╱           2                ╱           2            ⎜        \n",
       "⎢            ╲╱           α               ╲╱           α             ⎝        \n",
       "⎢                                                                             \n",
       "⎢                                                                         ____\n",
       "⎢       2   ⎛     2   1 ⎞             2   ⎛     2   1 ⎞          3       ╱    \n",
       "⎢   -α⋅β ⋅ρ⋅⎜- 2⋅p  + ──⎟         -α⋅β ⋅ρ⋅⎜- 2⋅p  + ──⎟     2⋅p⋅β ⋅ρ⋅   ╱  - p\n",
       "⎢           ⎜          2⎟                 ⎜          2⎟                ╱      \n",
       "⎣           ⎝         β ⎠                 ⎝         β ⎠              ╲╱       \n",
       "\n",
       "___                ___________    ⎤\n",
       "1                 ╱    2   1      ⎥\n",
       "──          β⋅   ╱  - p  + ──     ⎥\n",
       " 2              ╱           2     ⎥\n",
       "β             ╲╱           β      ⎥\n",
       "                                  ⎥\n",
       "                                  ⎥\n",
       "                                  ⎥\n",
       "                    p⋅β           ⎥\n",
       "                                  ⎥\n",
       "                                  ⎥\n",
       "                                  ⎥\n",
       "                                  ⎥\n",
       " 1 ⎞         3   ⎛     2   1 ⎞    ⎥\n",
       " ──⎟        β ⋅ρ⋅⎜- 2⋅p  + ──⎟    ⎥\n",
       "  2⎟             ⎜          2⎟    ⎥\n",
       " β ⎠             ⎝         β ⎠    ⎥\n",
       "                                  ⎥\n",
       "_______                ___________⎥\n",
       "2   1         3       ╱    2   1  ⎥\n",
       "  + ──   2⋅p⋅β ⋅ρ⋅   ╱  - p  + ── ⎥\n",
       "     2              ╱           2 ⎥\n",
       "    β             ╲╱           β  ⎦"
      ]
     },
     "execution_count": 11,
     "metadata": {},
     "output_type": "execute_result"
    }
   ],
   "source": [
    "M = sympy.Matrix([\n",
    "    [         α*p,         α*p,       β*q_β,       β*q_β],\n",
    "    [       α*q_α,      -α*q_α,        -β*p,         β*p],\n",
    "    [-2*α*μ*p*q_α, 2*α*μ*p*q_α,      -β*μ*η,       β*μ*η],\n",
    "    [      -α*μ*η,      -α*μ*η, 2*β*μ*p*q_β, 2*β*μ*p*q_β]\n",
    "])\n",
    "M"
   ]
  },
  {
   "cell_type": "code",
   "execution_count": 12,
   "metadata": {},
   "outputs": [
    {
     "data": {
      "text/latex": [
       "$\\displaystyle \\left[\\begin{matrix}\\frac{p β^{2}}{α} & \\frac{β^{2} \\left(- 2 p^{2} + \\frac{1}{β^{2}}\\right)}{2 α \\sqrt{- p^{2} + \\frac{1}{α^{2}}}} & - \\frac{p}{2 α ρ \\sqrt{- p^{2} + \\frac{1}{α^{2}}}} & - \\frac{1}{2 α ρ}\\\\\\frac{p β^{2}}{α} & \\frac{β^{2} \\left(2 p^{2} - \\frac{1}{β^{2}}\\right)}{2 α \\sqrt{- p^{2} + \\frac{1}{α^{2}}}} & \\frac{p}{2 α ρ \\sqrt{- p^{2} + \\frac{1}{α^{2}}}} & - \\frac{1}{2 α ρ}\\\\\\frac{β \\left(- 2 p^{2} + \\frac{1}{β^{2}}\\right)}{2 \\sqrt{- p^{2} + \\frac{1}{β^{2}}}} & - p β & - \\frac{1}{2 β ρ} & \\frac{p}{2 β ρ \\sqrt{- p^{2} + \\frac{1}{β^{2}}}}\\\\\\frac{β \\left(- 2 p^{2} + \\frac{1}{β^{2}}\\right)}{2 \\sqrt{- p^{2} + \\frac{1}{β^{2}}}} & p β & \\frac{1}{2 β ρ} & \\frac{p}{2 β ρ \\sqrt{- p^{2} + \\frac{1}{β^{2}}}}\\end{matrix}\\right]$"
      ],
      "text/plain": [
       "⎡                       2 ⎛     2   1 ⎞                                       \n",
       "⎢                      β ⋅⎜- 2⋅p  + ──⎟                                       \n",
       "⎢          2              ⎜          2⎟                                       \n",
       "⎢       p⋅β               ⎝         β ⎠             -p                      -1\n",
       "⎢       ────         ────────────────────  ──────────────────────          ───\n",
       "⎢        α                    ___________             ___________          2⋅α\n",
       "⎢                            ╱    2   1              ╱    2   1               \n",
       "⎢                    2⋅α⋅   ╱  - p  + ──   2⋅α⋅ρ⋅   ╱  - p  + ──              \n",
       "⎢                          ╱           2           ╱           2              \n",
       "⎢                        ╲╱           α          ╲╱           α               \n",
       "⎢                                                                             \n",
       "⎢                        2 ⎛   2   1 ⎞                                        \n",
       "⎢                       β ⋅⎜2⋅p  - ──⎟                                        \n",
       "⎢          2               ⎜        2⎟                                        \n",
       "⎢       p⋅β                ⎝       β ⎠               p                      -1\n",
       "⎢       ────         ────────────────────  ──────────────────────          ───\n",
       "⎢        α                    ___________             ___________          2⋅α\n",
       "⎢                            ╱    2   1              ╱    2   1               \n",
       "⎢                    2⋅α⋅   ╱  - p  + ──   2⋅α⋅ρ⋅   ╱  - p  + ──              \n",
       "⎢                          ╱           2           ╱           2              \n",
       "⎢                        ╲╱           α          ╲╱           α               \n",
       "⎢                                                                             \n",
       "⎢   ⎛     2   1 ⎞                                                             \n",
       "⎢ β⋅⎜- 2⋅p  + ──⎟                                                             \n",
       "⎢   ⎜          2⎟                                                             \n",
       "⎢   ⎝         β ⎠                                   -1                       p\n",
       "⎢──────────────────          -p⋅β                  ─────           ───────────\n",
       "⎢       ___________                                2⋅β⋅ρ                      \n",
       "⎢      ╱    2   1                                                            ╱\n",
       "⎢2⋅   ╱  - p  + ──                                                 2⋅β⋅ρ⋅   ╱ \n",
       "⎢    ╱           2                                                         ╱  \n",
       "⎢  ╲╱           β                                                        ╲╱   \n",
       "⎢                                                                             \n",
       "⎢   ⎛     2   1 ⎞                                                             \n",
       "⎢ β⋅⎜- 2⋅p  + ──⎟                                                             \n",
       "⎢   ⎜          2⎟                                                             \n",
       "⎢   ⎝         β ⎠                                    1                       p\n",
       "⎢──────────────────          p⋅β                   ─────           ───────────\n",
       "⎢       ___________                                2⋅β⋅ρ                      \n",
       "⎢      ╱    2   1                                                            ╱\n",
       "⎢2⋅   ╱  - p  + ──                                                 2⋅β⋅ρ⋅   ╱ \n",
       "⎢    ╱           2                                                         ╱  \n",
       "⎣  ╲╱           β                                                        ╲╱   \n",
       "\n",
       "           ⎤\n",
       "           ⎥\n",
       "           ⎥\n",
       "           ⎥\n",
       "──         ⎥\n",
       "⋅ρ         ⎥\n",
       "           ⎥\n",
       "           ⎥\n",
       "           ⎥\n",
       "           ⎥\n",
       "           ⎥\n",
       "           ⎥\n",
       "           ⎥\n",
       "           ⎥\n",
       "           ⎥\n",
       "──         ⎥\n",
       "⋅ρ         ⎥\n",
       "           ⎥\n",
       "           ⎥\n",
       "           ⎥\n",
       "           ⎥\n",
       "           ⎥\n",
       "           ⎥\n",
       "           ⎥\n",
       "           ⎥\n",
       "           ⎥\n",
       "───────────⎥\n",
       "___________⎥\n",
       "    2   1  ⎥\n",
       " - p  + ── ⎥\n",
       "         2 ⎥\n",
       "        β  ⎥\n",
       "           ⎥\n",
       "           ⎥\n",
       "           ⎥\n",
       "           ⎥\n",
       "           ⎥\n",
       "───────────⎥\n",
       "___________⎥\n",
       "    2   1  ⎥\n",
       " - p  + ── ⎥\n",
       "         2 ⎥\n",
       "        β  ⎦"
      ]
     },
     "execution_count": 12,
     "metadata": {},
     "output_type": "execute_result"
    }
   ],
   "source": [
    "Minv = (1/ρ)*sympy.Matrix([\n",
    "    [        μ*p/α,  η*μ/(2*α*q_α), -p/(2*α*q_α),    -1/(2*α)],\n",
    "    [        μ*p/α, -η*μ/(2*α*q_α),  p/(2*α*q_α),    -1/(2*α)],\n",
    "    [η*μ/(2*β*q_β),         -μ*p/β,     -1/(2*β), p/(2*β*q_β)],\n",
    "    [η*μ/(2*β*q_β),          μ*p/β,      1/(2*β), p/(2*β*q_β)]\n",
    "])\n",
    "Minv"
   ]
  },
  {
   "cell_type": "code",
   "execution_count": 13,
   "metadata": {},
   "outputs": [
    {
     "data": {
      "text/latex": [
       "$\\displaystyle \\left[\\begin{matrix}- \\sqrt{- p^{2} + \\frac{1}{α^{2}}} & 0 & 0 & 0\\\\0 & \\sqrt{- p^{2} + \\frac{1}{α^{2}}} & 0 & 0\\\\0 & 0 & - \\sqrt{- p^{2} + \\frac{1}{β^{2}}} & 0\\\\0 & 0 & 0 & \\sqrt{- p^{2} + \\frac{1}{β^{2}}}\\end{matrix}\\right]$"
      ],
      "text/plain": [
       "⎡      ___________                                                       ⎤\n",
       "⎢     ╱    2   1                                                         ⎥\n",
       "⎢-   ╱  - p  + ──          0                  0                 0        ⎥\n",
       "⎢   ╱           2                                                        ⎥\n",
       "⎢ ╲╱           α                                                         ⎥\n",
       "⎢                                                                        ⎥\n",
       "⎢                        ___________                                     ⎥\n",
       "⎢                       ╱    2   1                                       ⎥\n",
       "⎢        0             ╱  - p  + ──           0                 0        ⎥\n",
       "⎢                     ╱           2                                      ⎥\n",
       "⎢                   ╲╱           α                                       ⎥\n",
       "⎢                                                                        ⎥\n",
       "⎢                                           ___________                  ⎥\n",
       "⎢                                          ╱    2   1                    ⎥\n",
       "⎢        0                 0          -   ╱  - p  + ──          0        ⎥\n",
       "⎢                                        ╱           2                   ⎥\n",
       "⎢                                      ╲╱           β                    ⎥\n",
       "⎢                                                                        ⎥\n",
       "⎢                                                             ___________⎥\n",
       "⎢                                                            ╱    2   1  ⎥\n",
       "⎢        0                 0                  0             ╱  - p  + ── ⎥\n",
       "⎢                                                          ╱           2 ⎥\n",
       "⎣                                                        ╲╱           β  ⎦"
      ]
     },
     "execution_count": 13,
     "metadata": {},
     "output_type": "execute_result"
    }
   ],
   "source": [
    "deig = sympy.diag(-q_α, q_α, -q_β, q_β)\n",
    "deig"
   ]
  },
  {
   "cell_type": "code",
   "execution_count": 14,
   "metadata": {},
   "outputs": [
    {
     "data": {
      "image/png": "[encoded data removed]",
      "text/latex": [
       "$\\displaystyle ρ \\left(α^{2} - 2 β^{2}\\right)$"
      ],
      "text/plain": [
       "  ⎛ 2      2⎞\n",
       "ρ⋅⎝α  - 2⋅β ⎠"
      ]
     },
     "execution_count": 14,
     "metadata": {},
     "output_type": "execute_result"
    }
   ],
   "source": [
    "# Lame constant\n",
    "λ = ρ*(α**2 - 2*β**2)\n",
    "λ"
   ]
  },
  {
   "cell_type": "code",
   "execution_count": 15,
   "metadata": {},
   "outputs": [
    {
     "data": {
      "image/png": "[encoded data removed]",
      "text/latex": [
       "$\\displaystyle \\frac{4 β^{2} ρ \\left(β^{2} ρ + ρ \\left(α^{2} - 2 β^{2}\\right)\\right)}{2 β^{2} ρ + ρ \\left(α^{2} - 2 β^{2}\\right)}$"
      ],
      "text/plain": [
       "   2   ⎛ 2       ⎛ 2      2⎞⎞\n",
       "4⋅β ⋅ρ⋅⎝β ⋅ρ + ρ⋅⎝α  - 2⋅β ⎠⎠\n",
       "─────────────────────────────\n",
       "       2       ⎛ 2      2⎞   \n",
       "    2⋅β ⋅ρ + ρ⋅⎝α  - 2⋅β ⎠   "
      ]
     },
     "execution_count": 15,
     "metadata": {},
     "output_type": "execute_result"
    }
   ],
   "source": [
    "γ = 4*μ*(λ + μ)/(λ + 2*μ)\n",
    "γ"
   ]
  },
  {
   "cell_type": "code",
   "execution_count": 16,
   "metadata": {},
   "outputs": [
    {
     "data": {
      "text/latex": [
       "$\\displaystyle \\left[\\begin{matrix}0 & p & \\frac{1}{β^{2} ρ} & 0\\\\\\frac{p ρ \\left(α^{2} - 2 β^{2}\\right)}{2 β^{2} ρ + ρ \\left(α^{2} - 2 β^{2}\\right)} & 0 & 0 & \\frac{1}{2 β^{2} ρ + ρ \\left(α^{2} - 2 β^{2}\\right)}\\\\- \\frac{4 p^{2} β^{2} ρ \\left(β^{2} ρ + ρ \\left(α^{2} - 2 β^{2}\\right)\\right)}{2 β^{2} ρ + ρ \\left(α^{2} - 2 β^{2}\\right)} + ρ & 0 & 0 & \\frac{p ρ \\left(α^{2} - 2 β^{2}\\right)}{2 β^{2} ρ + ρ \\left(α^{2} - 2 β^{2}\\right)}\\\\0 & ρ & p & 0\\end{matrix}\\right]$"
      ],
      "text/plain": [
       "⎡                                            1                          ⎤\n",
       "⎢                  0                     p  ────            0           ⎥\n",
       "⎢                                            2                          ⎥\n",
       "⎢                                           β ⋅ρ                        ⎥\n",
       "⎢                                                                       ⎥\n",
       "⎢               ⎛ 2      2⎞                                             ⎥\n",
       "⎢           p⋅ρ⋅⎝α  - 2⋅β ⎠                                 1           ⎥\n",
       "⎢        ──────────────────────          0   0    ──────────────────────⎥\n",
       "⎢           2       ⎛ 2      2⎞                      2       ⎛ 2      2⎞⎥\n",
       "⎢        2⋅β ⋅ρ + ρ⋅⎝α  - 2⋅β ⎠                   2⋅β ⋅ρ + ρ⋅⎝α  - 2⋅β ⎠⎥\n",
       "⎢                                                                       ⎥\n",
       "⎢     2  2   ⎛ 2       ⎛ 2      2⎞⎞                      ⎛ 2      2⎞    ⎥\n",
       "⎢  4⋅p ⋅β ⋅ρ⋅⎝β ⋅ρ + ρ⋅⎝α  - 2⋅β ⎠⎠                  p⋅ρ⋅⎝α  - 2⋅β ⎠    ⎥\n",
       "⎢- ──────────────────────────────── + ρ  0   0    ──────────────────────⎥\n",
       "⎢          2       ⎛ 2      2⎞                       2       ⎛ 2      2⎞⎥\n",
       "⎢       2⋅β ⋅ρ + ρ⋅⎝α  - 2⋅β ⎠                    2⋅β ⋅ρ + ρ⋅⎝α  - 2⋅β ⎠⎥\n",
       "⎢                                                                       ⎥\n",
       "⎣                  0                     ρ   p              0           ⎦"
      ]
     },
     "execution_count": 16,
     "metadata": {},
     "output_type": "execute_result"
    }
   ],
   "source": [
    "A = sympy.Matrix([\n",
    "    [0, p, 1/μ, 0],\n",
    "    [p*λ/(λ + 2*μ), 0, 0, 1/(λ + 2*μ)],\n",
    "    [ρ - (p**2)*γ, 0, 0, p*λ/(λ + 2*μ)],\n",
    "    [0, ρ, p, 0]\n",
    "])\n",
    "A"
   ]
  },
  {
   "cell_type": "code",
   "execution_count": 17,
   "metadata": {},
   "outputs": [
    {
     "data": {
      "text/latex": [
       "$\\displaystyle \\left[\\begin{matrix}0 & 0 & 0 & 0\\\\0 & 0 & 0 & 0\\\\0 & 0 & 0 & 0\\\\0 & 0 & 0 & 0\\end{matrix}\\right]$"
      ],
      "text/plain": [
       "⎡0  0  0  0⎤\n",
       "⎢          ⎥\n",
       "⎢0  0  0  0⎥\n",
       "⎢          ⎥\n",
       "⎢0  0  0  0⎥\n",
       "⎢          ⎥\n",
       "⎣0  0  0  0⎦"
      ]
     },
     "execution_count": 17,
     "metadata": {},
     "output_type": "execute_result"
    }
   ],
   "source": [
    "sympy.simplify(A - M*deig*Minv)"
   ]
  },
  {
   "cell_type": "code",
   "execution_count": 18,
   "metadata": {},
   "outputs": [
    {
     "data": {
      "text/latex": [
       "$\\displaystyle \\left[\\begin{matrix}e^{i ω \\sqrt{- p^{2} + \\frac{1}{α^{2}}} \\left(z - z_{0}\\right)} & 0 & 0 & 0\\\\0 & e^{- i ω \\sqrt{- p^{2} + \\frac{1}{α^{2}}} \\left(z - z_{0}\\right)} & 0 & 0\\\\0 & 0 & e^{i ω \\sqrt{- p^{2} + \\frac{1}{β^{2}}} \\left(z - z_{0}\\right)} & 0\\\\0 & 0 & 0 & e^{- i ω \\sqrt{- p^{2} + \\frac{1}{β^{2}}} \\left(z - z_{0}\\right)}\\end{matrix}\\right]$"
      ],
      "text/plain": [
       "⎡          ___________                                                        \n",
       "⎢         ╱    2   1                                                          \n",
       "⎢ ⅈ⋅ω⋅   ╱  - p  + ── ⋅(z - z₀)                                               \n",
       "⎢       ╱           2                                                         \n",
       "⎢     ╲╱           α                                                          \n",
       "⎢ℯ                                              0                             \n",
       "⎢                                                                             \n",
       "⎢                                           ___________                       \n",
       "⎢                                          ╱    2   1                         \n",
       "⎢                                 -ⅈ⋅ω⋅   ╱  - p  + ── ⋅(z - z₀)              \n",
       "⎢                                        ╱           2                        \n",
       "⎢                                      ╲╱           α                         \n",
       "⎢              0                 ℯ                                            \n",
       "⎢                                                                             \n",
       "⎢                                                                           __\n",
       "⎢                                                                          ╱  \n",
       "⎢                                                                  ⅈ⋅ω⋅   ╱  -\n",
       "⎢                                                                        ╱    \n",
       "⎢                                                                      ╲╱     \n",
       "⎢              0                                0                 ℯ           \n",
       "⎢                                                                             \n",
       "⎢                                                                             \n",
       "⎢                                                                             \n",
       "⎢                                                                             \n",
       "⎢                                                                             \n",
       "⎢                                                                             \n",
       "⎣              0                                0                             \n",
       "\n",
       "                                                   ⎤\n",
       "                                                   ⎥\n",
       "                                                   ⎥\n",
       "                                                   ⎥\n",
       "                                                   ⎥\n",
       "  0                                0               ⎥\n",
       "                                                   ⎥\n",
       "                                                   ⎥\n",
       "                                                   ⎥\n",
       "                                                   ⎥\n",
       "                                                   ⎥\n",
       "                                                   ⎥\n",
       "  0                                0               ⎥\n",
       "                                                   ⎥\n",
       "_________                                          ⎥\n",
       "  2   1                                            ⎥\n",
       " p  + ── ⋅(z - z₀)                                 ⎥\n",
       "       2                                           ⎥\n",
       "      β                                            ⎥\n",
       "                                   0               ⎥\n",
       "                                                   ⎥\n",
       "                               ___________         ⎥\n",
       "                              ╱    2   1           ⎥\n",
       "                     -ⅈ⋅ω⋅   ╱  - p  + ── ⋅(z - z₀)⎥\n",
       "                            ╱           2          ⎥\n",
       "                          ╲╱           β           ⎥\n",
       "  0                 ℯ                              ⎦"
      ]
     },
     "execution_count": 18,
     "metadata": {},
     "output_type": "execute_result"
    }
   ],
   "source": [
    "Pdiag = sympy.diag(sympy.exp(sympy.I*ω*q_α*(z - z0)),\n",
    "                   sympy.exp(-sympy.I*ω*q_α*(z - z0)),\n",
    "                   sympy.exp(sympy.I*ω*q_β*(z - z0)),\n",
    "                   sympy.exp(-sympy.I*ω*q_β*(z - z0)))\n",
    "Pdiag"
   ]
  },
  {
   "cell_type": "code",
   "execution_count": 19,
   "metadata": {},
   "outputs": [],
   "source": [
    "P = M*Pdiag*Minv"
   ]
  },
  {
   "cell_type": "markdown",
   "metadata": {},
   "source": [
    "## Study case of half-space with no layers (mantle only)"
   ]
  },
  {
   "cell_type": "code",
   "execution_count": 20,
   "metadata": {},
   "outputs": [
    {
     "data": {
      "image/png": "[encoded data removed]",
      "text/latex": [
       "$\\displaystyle \\left( v_{r0}, \\  v_{z0}\\right)$"
      ],
      "text/plain": [
       "(vᵣ₀, v_z0)"
      ]
     },
     "execution_count": 20,
     "metadata": {},
     "output_type": "execute_result"
    }
   ],
   "source": [
    "sympy.var('v_r0 v_z0')"
   ]
  },
  {
   "cell_type": "code",
   "execution_count": 21,
   "metadata": {},
   "outputs": [],
   "source": [
    "P0 = P.subs([(z0, 0)])"
   ]
  },
  {
   "cell_type": "code",
   "execution_count": 22,
   "metadata": {},
   "outputs": [],
   "source": [
    "w = Minv*P0*sympy.Matrix([v_r0, v_z0, 0, 0])"
   ]
  },
  {
   "cell_type": "code",
   "execution_count": 23,
   "metadata": {},
   "outputs": [],
   "source": [
    "S_up = sympy.simplify(w[3])"
   ]
  },
  {
   "cell_type": "code",
   "execution_count": 24,
   "metadata": {},
   "outputs": [],
   "source": [
    "St_up = sympy.InverseFourierTransform(S_up, ω, t)"
   ]
  },
  {
   "cell_type": "code",
   "execution_count": 25,
   "metadata": {},
   "outputs": [
    {
     "data": {
      "image/png": "[encoded data removed]",
      "text/latex": [
       "$\\displaystyle \\mathcal{F}^{-1}_{ω}\\left[\\frac{\\left(p^{3} v_{z0} β^{3} + p^{2} v_{r0} β^{2} \\sqrt{- p^{2} β^{2} + 1} - p v_{z0} β - \\frac{v_{r0} \\sqrt{- p^{2} β^{2} + 1}}{2}\\right) e^{- \\frac{i z ω \\sqrt{- p^{2} β^{2} + 1}}{β}}}{p^{2} β^{2} - 1}\\right]\\left(t\\right)$"
      ],
      "text/plain": [
       "                       ⎛                                                      \n",
       "                       ⎜                                                      \n",
       "                       ⎜⎛                                                     \n",
       "                       ⎜⎜                          _____________              \n",
       "                       ⎜⎜ 3       3    2      2   ╱    2  2                   \n",
       "                       ⎜⎜p ⋅v_z0⋅β  + p ⋅vᵣ₀⋅β ⋅╲╱  - p ⋅β  + 1  - p⋅v_z0⋅β - \n",
       "                       ⎜⎝                                                     \n",
       "InverseFourierTransform⎜──────────────────────────────────────────────────────\n",
       "                       ⎜                                               2  2   \n",
       "                       ⎝                                              p ⋅β  - \n",
       "\n",
       "                                 _____________       ⎞\n",
       "                                ╱    2  2            ⎟\n",
       "       _____________⎞  -ⅈ⋅z⋅ω⋅╲╱  - p ⋅β  + 1        ⎟\n",
       "      ╱    2  2     ⎟  ────────────────────────      ⎟\n",
       "vᵣ₀⋅╲╱  - p ⋅β  + 1 ⎟             β                  ⎟\n",
       "────────────────────⎟⋅ℯ                              ⎟\n",
       "         2          ⎠                                ⎟\n",
       "───────────────────────────────────────────────, ω, t⎟\n",
       "                                                     ⎟\n",
       "1                                                    ⎠"
      ]
     },
     "execution_count": 25,
     "metadata": {},
     "output_type": "execute_result"
    }
   ],
   "source": [
    "St_up"
   ]
  },
  {
   "cell_type": "code",
   "execution_count": 26,
   "metadata": {},
   "outputs": [],
   "source": [
    "Jz_Sup = -ρ*(β**2)*q_β*sympy.Abs(St_up)**2"
   ]
  },
  {
   "cell_type": "code",
   "execution_count": 27,
   "metadata": {},
   "outputs": [
    {
     "data": {
      "image/png": "[encoded data removed]",
      "text/latex": [
       "$\\displaystyle - β^{2} ρ \\sqrt{- p^{2} + \\frac{1}{β^{2}}} \\left|{\\mathcal{F}^{-1}_{ω}\\left[\\frac{\\left(p^{3} v_{z0} β^{3} + p^{2} v_{r0} β^{2} \\sqrt{- p^{2} β^{2} + 1} - p v_{z0} β - \\frac{v_{r0} \\sqrt{- p^{2} β^{2} + 1}}{2}\\right) e^{- \\frac{i z ω \\sqrt{- p^{2} β^{2} + 1}}{β}}}{p^{2} β^{2} - 1}\\right]\\left(t\\right)}\\right|^{2}$"
      ],
      "text/plain": [
       "                                                                              \n",
       "                       │                       ⎛                              \n",
       "                       │                       ⎜                              \n",
       "                       │                       ⎜⎛                             \n",
       "                       │                       ⎜⎜                          ___\n",
       "                       │                       ⎜⎜ 3       3    2      2   ╱   \n",
       "           ___________ │                       ⎜⎜p ⋅v_z0⋅β  + p ⋅vᵣ₀⋅β ⋅╲╱  - \n",
       "  2       ╱    2   1   │                       ⎜⎝                             \n",
       "-β ⋅ρ⋅   ╱  - p  + ── ⋅│InverseFourierTransform⎜──────────────────────────────\n",
       "        ╱           2  │                       ⎜                              \n",
       "      ╲╱           β   │                       ⎝                              \n",
       "\n",
       "                                                                              \n",
       "                                                         _____________       ⎞\n",
       "                                                        ╱    2  2            ⎟\n",
       "                               _____________⎞  -ⅈ⋅z⋅ω⋅╲╱  - p ⋅β  + 1        ⎟\n",
       "__________                    ╱    2  2     ⎟  ────────────────────────      ⎟\n",
       " 2  2                   vᵣ₀⋅╲╱  - p ⋅β  + 1 ⎟             β                  ⎟\n",
       "p ⋅β  + 1  - p⋅v_z0⋅β - ────────────────────⎟⋅ℯ                              ⎟\n",
       "                                 2          ⎠                                ⎟\n",
       "───────────────────────────────────────────────────────────────────────, ω, t⎟\n",
       "                 2  2                                                        ⎟\n",
       "                p ⋅β  - 1                                                    ⎠\n",
       "\n",
       " 2\n",
       "│ \n",
       "│ \n",
       "│ \n",
       "│ \n",
       "│ \n",
       "│ \n",
       "│ \n",
       "│ \n",
       "│ \n",
       "│ "
      ]
     },
     "execution_count": 27,
     "metadata": {},
     "output_type": "execute_result"
    }
   ],
   "source": [
    "Jz_Sup"
   ]
  },
  {
   "cell_type": "code",
   "execution_count": 28,
   "metadata": {},
   "outputs": [],
   "source": [
    "energy = sympy.Integral(Jz_Sup, (t, t0, t1))"
   ]
  },
  {
   "cell_type": "code",
   "execution_count": 29,
   "metadata": {},
   "outputs": [
    {
     "data": {
      "image/png": "[encoded data removed]",
      "text/latex": [
       "$\\displaystyle \\int\\limits_{t_{0}}^{t_{1}} - β^{2} ρ \\sqrt{- p^{2} + \\frac{1}{β^{2}}} \\left|{\\mathcal{F}^{-1}_{ω}\\left[\\frac{\\left(p^{3} v_{z0} β^{3} + p^{2} v_{r0} β^{2} \\sqrt{- p^{2} β^{2} + 1} - p v_{z0} β - \\frac{v_{r0} \\sqrt{- p^{2} β^{2} + 1}}{2}\\right) e^{- \\frac{i z ω \\sqrt{- p^{2} β^{2} + 1}}{β}}}{p^{2} β^{2} - 1}\\right]\\left(t\\right)}\\right|^{2}\\, dt$"
      ],
      "text/plain": [
       "t₁                                                                            \n",
       "⌠                                                                             \n",
       "⎮                                                                             \n",
       "⎮                         │                       ⎛                           \n",
       "⎮                         │                       ⎜                           \n",
       "⎮                         │                       ⎜⎛                          \n",
       "⎮                         │                       ⎜⎜                          \n",
       "⎮                         │                       ⎜⎜ 3       3    2      2   ╱\n",
       "⎮             ___________ │                       ⎜⎜p ⋅v_z0⋅β  + p ⋅vᵣ₀⋅β ⋅╲╱ \n",
       "⎮    2       ╱    2   1   │                       ⎜⎝                          \n",
       "⎮  -β ⋅ρ⋅   ╱  - p  + ── ⋅│InverseFourierTransform⎜───────────────────────────\n",
       "⎮          ╱           2  │                       ⎜                           \n",
       "⎮        ╲╱           β   │                       ⎝                           \n",
       "⌡                                                                             \n",
       "t₀                                                                            \n",
       "\n",
       "                                                                              \n",
       "                                                                              \n",
       "                                                                              \n",
       "                                                            _____________     \n",
       "                                                           ╱    2  2          \n",
       "                                  _____________⎞  -ⅈ⋅z⋅ω⋅╲╱  - p ⋅β  + 1      \n",
       "_____________                    ╱    2  2     ⎟  ────────────────────────    \n",
       "    2  2                   vᵣ₀⋅╲╱  - p ⋅β  + 1 ⎟             β                \n",
       " - p ⋅β  + 1  - p⋅v_z0⋅β - ────────────────────⎟⋅ℯ                            \n",
       "                                    2          ⎠                              \n",
       "──────────────────────────────────────────────────────────────────────────, ω,\n",
       "                    2  2                                                      \n",
       "                   p ⋅β  - 1                                                  \n",
       "                                                                              \n",
       "                                                                              \n",
       "\n",
       "        \n",
       "        \n",
       "    2   \n",
       "  ⎞│    \n",
       "  ⎟│    \n",
       "  ⎟│    \n",
       "  ⎟│    \n",
       "  ⎟│    \n",
       "  ⎟│    \n",
       "  ⎟│    \n",
       " t⎟│  dt\n",
       "  ⎟│    \n",
       "  ⎠│    \n",
       "        \n",
       "        "
      ]
     },
     "execution_count": 29,
     "metadata": {},
     "output_type": "execute_result"
    }
   ],
   "source": [
    "energy"
   ]
  },
  {
   "cell_type": "code",
   "execution_count": 30,
   "metadata": {},
   "outputs": [],
   "source": [
    "# Units of density don't matter since it turns out to be just a scaling factor"
   ]
  },
  {
   "cell_type": "code",
   "execution_count": null,
   "metadata": {},
   "outputs": [],
   "source": []
  },
  {
   "cell_type": "code",
   "execution_count": null,
   "metadata": {},
   "outputs": [],
   "source": []
  }
 ],
 "metadata": {
  "kernelspec": {
   "display_name": "Python 3",
   "language": "python",
   "name": "python3"
  },
  "language_info": {
   "codemirror_mode": {
    "name": "ipython",
    "version": 3
   },
   "file_extension": ".py",
   "mimetype": "text/x-python",
   "name": "python",
   "nbconvert_exporter": "python",
   "pygments_lexer": "ipython3",
   "version": "3.5.2"
  }
 },
 "nbformat": 4,
 "nbformat_minor": 4
}
