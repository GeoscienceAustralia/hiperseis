{
 "cells": [
  {
   "cell_type": "markdown",
   "metadata": {},
   "source": [
    "# Obspy deals with station inventory XML files\n",
    "\n",
    "## Fei Zhang\n",
    "\n",
    "2020-02-11"
   ]
  },
  {
   "cell_type": "markdown",
   "metadata": {},
   "source": [
    "## How to build a stationxml file (with extra elements) from scratch"
   ]
  },
  {
   "cell_type": "code",
   "execution_count": 1,
   "metadata": {},
   "outputs": [],
   "source": [
    "# https://docs.obspy.org/tutorial/code_snippets/stationxml_file_from_scratch.html\n",
    "\n",
    "import obspy\n",
    "from obspy import Inventory, UTCDateTime\n",
    "from obspy.core.inventory import Inventory, Network, Station, Channel, Site\n",
    "from obspy.clients.nrl import NRL\n",
    "\n",
    "from obspy.core.util import AttribDict\n",
    "\n",
    "\n",
    "# We'll first create all the various objects. These strongly follow the\n",
    "# hierarchy of StationXML files.\n",
    "inv = Inventory(\n",
    "    # We'll add networks later.\n",
    "    networks=[],\n",
    "    # The source should be the id whoever create the file.\n",
    "    source=\"ObsPy-Tutorial\")\n",
    "\n",
    "net = Network(\n",
    "    # This is the network code according to the SEED standard.\n",
    "    code=\"XX\",\n",
    "    # A list of stations. We'll add one later.\n",
    "    stations=[],\n",
    "    description=\"A test stations.\",\n",
    "    # Start-and end dates are optional.\n",
    "    start_date=obspy.UTCDateTime(2016, 1, 2))\n",
    "\n",
    "sta = Station(\n",
    "    # This is the station code according to the SEED standard.\n",
    "    code=\"ABC\",\n",
    "    latitude=1.0,\n",
    "    longitude=2.0,\n",
    "    elevation=345.0,\n",
    "    creation_date=obspy.UTCDateTime(2016, 1, 2),\n",
    "    site=Site(name=\"First station\"),\n",
    "    )\n",
    "\n",
    "cha = Channel(\n",
    "    # This is the channel code according to the SEED standard.\n",
    "    code=\"HHZ\",\n",
    "    # This is the location code according to the SEED standard.\n",
    "    location_code=\"\",\n",
    "    # Note that these coordinates can differ from the station coordinates.\n",
    "    latitude=1.0,\n",
    "    longitude=2.0,\n",
    "    elevation=345.0,\n",
    "    depth=10.0,\n",
    "    azimuth=0.0,\n",
    "    dip=-90.0,\n",
    "    sample_rate=200)\n",
    "\n",
    "# By default this accesses the NRL online. Offline copies of the NRL can\n",
    "# also be used instead\n",
    "nrl = NRL()\n",
    "# The contents of the NRL can be explored interactively in a Python prompt,\n",
    "# see API documentation of NRL submodule:\n",
    "# http://docs.obspy.org/packages/obspy.clients.nrl.html\n",
    "# Here we assume that the end point of data logger and sensor are already\n",
    "# known:\n",
    "response = nrl.get_response( # doctest: +SKIP\n",
    "    sensor_keys=['Streckeisen', 'STS-1', '360 seconds'],\n",
    "    datalogger_keys=['REF TEK', 'RT 130 & 130-SMA', '1', '200'])\n",
    "\n",
    "\n",
    "# Now tie it all together.\n",
    "cha.response = response\n",
    "sta.channels.append(cha)\n",
    "net.stations.append(sta)\n",
    "inv.networks.append(net)\n",
    "\n",
    "# And finally write it to a StationXML file. We also force a validation against\n",
    "# the StationXML schema to ensure it produces a valid StationXML file.\n",
    "#\n",
    "# Note that it is also possible to serialize to any of the other inventory\n",
    "# output formats ObsPy supports.\n",
    "inv.write(\"station.xml\", format=\"stationxml\", validate=True)\n",
    "\n",
    "\n",
    "# Fei's element\n",
    "#extra=\"GPScorrection2.5\"\n",
    "\n",
    "extra = AttribDict({\n",
    "           'GPSClockCorrection': {\n",
    "                'value': True,\n",
    "                'namespace': 'http://some-page.de/xmlns/1.0',\n",
    "                'attrib': {\n",
    "                  '{http://some-page.de/xmlns/1.0}Description': 'Fei added new Block QA/QC time correction data',\n",
    "                  '{http://some-page.de/xmlns/1.0}date': \"2012-11-27\",\n",
    "                  '{http://some-page.de/xmlns/1.0}value_sec':\"1.0398489\"\n",
    "                }\n",
    "            },\n",
    "          'GPSClockCorrection': {\n",
    "                'value': 'Fei added new Block QA/QC time correction data',\n",
    "                'namespace': 'http://some-page.de/xmlns/1.0',\n",
    "                'attrib': {\n",
    "                  '{http://some-page.de/xmlns/1.0}date': \"2012-11-28\",\n",
    "                  '{http://some-page.de/xmlns/1.0}value_sec':\"0.9498489\"\n",
    "                }\n",
    "            },\n",
    "    \n",
    "           'my_tag_2': {\n",
    "                'value': u'True',\n",
    "                'namespace': 'http://some-page.de/xmlns/1.0'\n",
    "            },\n",
    "           'my_tag_3': {\n",
    "                'value': 1,\n",
    "                'namespace': 'http://some-page.de/xmlns/1.0'\n",
    "            },\n",
    "           'my_tag_4': {\n",
    "                'value': UTCDateTime('2013-01-02T13:12:14.600000Z'),\n",
    "                'namespace': 'http://test.org/xmlns/0.1'\n",
    "            },\n",
    "           'my_attribute': {\n",
    "                'value': 'my_attribute_value',\n",
    "                'type': 'attribute',\n",
    "                'namespace': 'http://test.org/xmlns/0.1'\n",
    "            }\n",
    "        })\n",
    "\n",
    "inv.networks[0].stations[0].extra = extra\n",
    "inv.write('my_inventory_extra.xml', format='STATIONXML',\n",
    "          nsmap={'my_ns': 'http://test.org/xmlns/0.1',\n",
    "                 'somepage_ns': 'http://some-page.de/xmlns/1.0'})"
   ]
  },
  {
   "cell_type": "code",
   "execution_count": 2,
   "metadata": {},
   "outputs": [
    {
     "name": "stdout",
     "output_type": "stream",
     "text": [
      "AttribDict({'GPSClockCorrection': AttribDict({'namespace': 'http://some-page.de/xmlns/1.0', 'value': 'Fei added new Block QA/QC time correction data', 'attrib': {'{http://some-page.de/xmlns/1.0}value_sec': '0.9498489', '{http://some-page.de/xmlns/1.0}date': '2012-11-28'}}), 'my_tag_2': AttribDict({'value': 'True', 'namespace': 'http://some-page.de/xmlns/1.0'}), 'my_tag_3': AttribDict({'value': '1', 'namespace': 'http://some-page.de/xmlns/1.0'}), 'my_tag_4': AttribDict({'value': '2013-01-02T13:12:14.600000Z', 'namespace': 'http://test.org/xmlns/0.1'}), 'my_attribute': AttribDict({'type': 'attribute', 'namespace': 'http://test.org/xmlns/0.1', 'value': 'my_attribute_value'})})\n"
     ]
    }
   ],
   "source": [
    "from obspy import read_inventory\n",
    "\n",
    "inv = read_inventory('my_inventory_extra.xml')\n",
    "print(inv.networks[0].stations[0].extra)"
   ]
  },
  {
   "cell_type": "code",
   "execution_count": null,
   "metadata": {},
   "outputs": [],
   "source": []
  },
  {
   "cell_type": "code",
   "execution_count": null,
   "metadata": {},
   "outputs": [],
   "source": [
    "\n"
   ]
  },
  {
   "cell_type": "markdown",
   "metadata": {},
   "source": [
    "# custom defined tags in StationXML with the Obspy Inventory¶\n",
    "\n",
    "https://docs.obspy.org/tutorial/code_snippets/stationxml_custom_tags.html\n",
    "    "
   ]
  },
  {
   "cell_type": "code",
   "execution_count": 3,
   "metadata": {},
   "outputs": [],
   "source": [
    "from obspy import Inventory, UTCDateTime\n",
    "from obspy.core.inventory import Network\n",
    "from obspy.core.util import AttribDict\n",
    "\n",
    "extra = AttribDict({\n",
    "           'my_tag': {\n",
    "                'value': True,\n",
    "                'namespace': 'http://some-page.de/xmlns/1.0',\n",
    "                'attrib': {\n",
    "                  '{http://some-page.de/xmlns/1.0}my_attrib1': '123.4',\n",
    "                  '{http://some-page.de/xmlns/1.0}my_attrib2': '567'\n",
    "                }\n",
    "            },\n",
    "           'my_tag_2': {\n",
    "                'value': u'True',\n",
    "                'namespace': 'http://some-page.de/xmlns/1.0'\n",
    "            },\n",
    "           'my_tag_3': {\n",
    "                'value': 1,\n",
    "                'namespace': 'http://some-page.de/xmlns/1.0'\n",
    "            },\n",
    "           'my_tag_4': {\n",
    "                'value': UTCDateTime('2013-01-02T13:12:14.600000Z'),\n",
    "                'namespace': 'http://test.org/xmlns/0.1'\n",
    "            },\n",
    "           'my_attribute': {\n",
    "                'value': 'my_attribute_value',\n",
    "                'type': 'attribute',\n",
    "                'namespace': 'http://test.org/xmlns/0.1'\n",
    "            }\n",
    "        })\n",
    "\n",
    "inv = Inventory([Network('XX')], 'XX')\n",
    "inv[0].extra = extra\n",
    "inv.write('my_inventory.xml', format='STATIONXML',\n",
    "          nsmap={'my_ns': 'http://test.org/xmlns/0.1',\n",
    "                 'somepage_ns': 'http://some-page.de/xmlns/1.0'})"
   ]
  },
  {
   "cell_type": "code",
   "execution_count": 4,
   "metadata": {},
   "outputs": [],
   "source": [
    "from obspy import Inventory\n",
    "from obspy.core.inventory import Network\n",
    "from obspy.core.util import AttribDict\n",
    "\n",
    "ns = 'http://some-page.de/xmlns/1.0'\n",
    "# fxz547@vdi-n25 /g/data/ha3/Passive/SHARED_DATA/GPS_Clock/corrections\n",
    "# $ head 7D.DE43_clock_correction.csv\n",
    "csv_data = \"\"\" \n",
    "net,sta,date,clock_correction\n",
    "7D,DE43,2012-11-27,1.0398489013215846\n",
    "7D,DE43,2012-11-28,0.9408504322549281\n",
    "7D,DE43,2012-11-29,0.8418519631882714\n",
    "7D,DE43,2012-11-30,0.7428534941216148\n",
    "7D,DE43,2012-12-01,0.6438550250549583\n",
    "7D,DE43,2012-12-02,0.5448565559883017\n",
    "7D,DE43,2012-12-03,0.445858086921645\n",
    "7D,DE43,2012-12-04,0.3468596178549885\n",
    "7D,DE43,2012-12-05,0.247861148788332\n",
    "\"\"\"\n",
    "\n",
    "my_tag = AttribDict()\n",
    "my_tag.namespace = ns\n",
    "my_tag.value = AttribDict()\n",
    "\n",
    "my_tag.value.my_gpsclockcorrection = AttribDict()\n",
    "my_tag.value.my_gpsclockcorrection.namespace = ns\n",
    "my_tag.value.my_gpsclockcorrection.value = csv_data\n",
    "\n",
    "my_tag.value.my_nested_tag2 = AttribDict()\n",
    "my_tag.value.my_nested_tag2.namespace = ns\n",
    "my_tag.value.my_nested_tag2.value = True\n",
    "\n",
    "inv = Inventory([Network('XX')], 'XX')\n",
    "inv[0].extra = AttribDict()\n",
    "inv[0].extra.my_tag = my_tag\n",
    "inv.write('my_inventory_nested.xml', format='STATIONXML',\n",
    "          nsmap={'somepage_ns': 'http://some-page.de/xmlns/1.0'})"
   ]
  },
  {
   "cell_type": "code",
   "execution_count": 5,
   "metadata": {},
   "outputs": [
    {
     "name": "stdout",
     "output_type": "stream",
     "text": [
      " \n",
      "net,sta,date,clock_correction\n",
      "7D,DE43,2012-11-27,1.0398489013215846\n",
      "7D,DE43,2012-11-28,0.9408504322549281\n",
      "7D,DE43,2012-11-29,0.8418519631882714\n",
      "7D,DE43,2012-11-30,0.7428534941216148\n",
      "7D,DE43,2012-12-01,0.6438550250549583\n",
      "7D,DE43,2012-12-02,0.5448565559883017\n",
      "7D,DE43,2012-12-03,0.445858086921645\n",
      "7D,DE43,2012-12-04,0.3468596178549885\n",
      "7D,DE43,2012-12-05,0.247861148788332\n",
      "\n",
      "True\n"
     ]
    }
   ],
   "source": [
    "from obspy import read_inventory\n",
    "\n",
    "inv = read_inventory('my_inventory_nested.xml')\n",
    "print(inv[0].extra.my_tag.value.my_gpsclockcorrection.value)\n",
    "print(inv[0].extra.my_tag.value.my_nested_tag2.value)"
   ]
  },
  {
   "cell_type": "code",
   "execution_count": 6,
   "metadata": {},
   "outputs": [
    {
     "name": "stdout",
     "output_type": "stream",
     "text": [
      "Inventory created at 2020-02-20T22:32:13.630242Z\n",
      "\tCreated by: ObsPy 1.1.1\n",
      "\t\t    https://www.obspy.org\n",
      "\tSending institution: XX\n",
      "\tContains:\n",
      "\t\tNetworks (1):\n",
      "\t\t\tXX\n",
      "\t\tStations (0):\n",
      "\n",
      "\t\tChannels (0):\n",
      "\n"
     ]
    }
   ],
   "source": [
    "print(inv)"
   ]
  },
  {
   "cell_type": "markdown",
   "metadata": {},
   "source": [
    "# Modify our station xml\n",
    "\n",
    "Given original input station xml file, we want to read in and add extra metadada to it, \n",
    "then write out a new station xml file with the extra metadata stored."
   ]
  },
  {
   "cell_type": "code",
   "execution_count": 8,
   "metadata": {},
   "outputs": [],
   "source": [
    "# print (my_inv.networks[0].stations)"
   ]
  },
  {
   "cell_type": "code",
   "execution_count": 9,
   "metadata": {},
   "outputs": [
    {
     "name": "stdout",
     "output_type": "stream",
     "text": [
      "Inventory created at 2017-09-05T16:57:36.000000Z\n",
      "\tCreated by: ObsPy 1.0.2\n",
      "\t\t    https://www.obspy.org\n",
      "\tSending institution: Geoscience Australia\n",
      "\tContains:\n",
      "\t\tNetworks (1):\n",
      "\t\t\t7D\n",
      "\t\tStations (1):\n",
      "\t\t\t7D.DE43 (DE43)\n",
      "\t\tChannels (3):\n",
      "\t\t\t7D.DE43..BHZ, 7D.DE43..BHN, 7D.DE43..BHE\n"
     ]
    }
   ],
   "source": [
    "print(selected_inv)"
   ]
  },
  {
   "cell_type": "code",
   "execution_count": null,
   "metadata": {},
   "outputs": [],
   "source": []
  },
  {
   "cell_type": "markdown",
   "metadata": {},
   "source": [
    "# Reading the new modified stationxml file and make use of the gps correcton CSV data"
   ]
  },
  {
   "cell_type": "code",
   "execution_count": 10,
   "metadata": {},
   "outputs": [],
   "source": [
    "our_new_station_xml= 'modified_inventory_select.xml'\n",
    "\n",
    "\n",
    "our_inv = read_inventory(our_new_station_xml)\n",
    "# print(our_inv.networks[0].stations[0].extra)\n",
    "\n",
    "csv_str = our_inv.networks[0].stations[0].extra.gpsclockcorrection.value"
   ]
  },
  {
   "cell_type": "code",
   "execution_count": 11,
   "metadata": {},
   "outputs": [
    {
     "name": "stdout",
     "output_type": "stream",
     "text": [
      "net,sta,date,clock_correction\n",
      "7D,DE43,2012-11-27,1.0398489013215846\n",
      "7D,DE43,2012-11-28,0.9408504322549281\n",
      "7D,DE43,2012-11-29,0.8418519631882714\n",
      "7D,DE43,2012-11-30,0.7428534941216148\n",
      "7D,DE43,2012-12-01,0.6438550250549583\n",
      "7D,DE43,2012-12-02,0.5448565559883017\n",
      "7D,DE43,2012-12-03,0.445858086921645\n",
      "7D,DE43,2012-12-04,0.3468596178549885\n",
      "7D,DE43,2012-12-05,0.247861148788332\n",
      "7D,DE43,2012-12-06,0.14886267972167544\n",
      "7D,DE43,2012-12-07,0.04986421065501878\n",
      "7D,DE43,2012-12-08,-0.049134258411637766\n",
      "7D,DE43,2012-12-09,-0.14813272747829442\n",
      "7D,DE43,2012-12-10,-0.24713119654495086\n",
      "7D,DE43,2012-12-11,-0.3461296656116075\n",
      "7D,DE43,2012-12-12,-0.4451281346782642\n",
      "7D,DE43,2012-12-13,-0.5441266037449206\n",
      "7D,DE43,2012-12-14,-0.6431250728115772\n",
      "7D,DE43,2012-12-15,-0.7421235418782337\n",
      "7D,DE43,2012-12-16,-0.8411220109448904\n",
      "7D,DE43,2012-12-17,-0.9401204800115468\n",
      "7D,DE43,2012-12-18,-1.0391189490782036\n",
      "7D,DE43,2012-12-19,-1.13811741814486\n",
      "7D,DE43,2012-12-20,-1.2371158872115164\n",
      "7D,DE43,2012-12-21,-1.3361143562781734\n",
      "7D,DE43,2012-12-22,-1.4351128253448298\n",
      "7D,DE43,2012-12-23,-1.5341112944114863\n",
      "7D,DE43,2012-12-24,-1.6331097634781426\n",
      "7D,DE43,2012-12-25,-1.7321082325447996\n",
      "7D,DE43,2012-12-26,-1.8311067016114562\n",
      "7D,DE43,2012-12-27,-1.9301051706781127\n",
      "7D,DE43,2012-12-28,-2.029103639744769\n",
      "7D,DE43,2012-12-29,-2.128102108811426\n",
      "7D,DE43,2012-12-30,-2.2271005778780824\n",
      "7D,DE43,2013-02-26,1.3976528659016858\n",
      "7D,DE43,2013-02-27,1.2852583172325265\n",
      "7D,DE43,2013-02-28,1.1728637685633672\n",
      "7D,DE43,2013-03-01,1.0604692198942076\n",
      "7D,DE43,2013-03-02,0.9480746712250482\n",
      "7D,DE43,2013-03-03,0.8356801225558886\n",
      "7D,DE43,2013-03-04,0.7232855738867292\n",
      "7D,DE43,2013-03-05,0.6108910252175697\n",
      "7D,DE43,2013-03-06,0.49849647654841034\n",
      "7D,DE43,2013-03-07,0.3861019278792508\n",
      "7D,DE43,2013-03-08,0.2737073792100917\n",
      "7D,DE43,2013-03-09,0.16131283054093215\n",
      "7D,DE43,2013-03-10,0.048918281871772606\n",
      "7D,DE43,2013-03-11,-0.06347626679738694\n",
      "7D,DE43,2013-03-12,-0.17587081546654626\n",
      "7D,DE43,2013-03-13,-0.288265364135706\n",
      "7D,DE43,2013-03-14,-0.4006599128048651\n",
      "7D,DE43,2013-03-15,-0.5130544614740249\n",
      "7D,DE43,2013-03-16,-0.625449010143184\n",
      "7D,DE43,2013-03-17,-0.7378435588123435\n",
      "7D,DE43,2013-03-18,-0.8502381074815029\n",
      "7D,DE43,2013-03-19,-0.9626326561506626\n",
      "7D,DE43,2013-03-20,-1.0750272048198217\n",
      "7D,DE43,2013-03-21,-1.1874217534889815\n",
      "7D,DE43,2013-03-22,-1.299816302158141\n",
      "7D,DE43,2013-03-23,-1.4122108508273004\n",
      "7D,DE43,2013-03-24,-1.5246053994964597\n",
      "7D,DE43,2013-03-25,-1.636999948165619\n",
      "7D,DE43,2013-03-26,-1.7493944968347785\n",
      "7D,DE43,2013-03-27,-1.8617890455039379\n",
      "7D,DE43,2013-03-28,-1.9741835941730979\n",
      "7D,DE43,2013-03-29,-2.0865781428422574\n",
      "7D,DE43,2013-03-30,-2.1989726915114165\n",
      "7D,DE43,2013-03-31,-2.311367240180576\n",
      "7D,DE43,2013-04-01,-2.4237617888497356\n",
      "7D,DE43,2013-04-02,-2.5361563375188947\n",
      "7D,DE43,2013-04-03,-2.648550886188054\n",
      "7D,DE43,2013-04-04,-2.7609454348572138\n",
      "7D,DE43,2013-04-05,-2.873339983526373\n",
      "7D,DE43,2013-04-06,-2.985734532195533\n",
      "7D,DE43,2013-04-07,-3.0981290808646915\n",
      "7D,DE43,2013-04-08,-3.210523629533852\n",
      "7D,DE43,2013-04-09,-3.322918178203011\n",
      "7D,DE43,2013-04-10,-3.4353127268721706\n",
      "7D,DE43,2013-04-11,-3.5477072755413293\n",
      "7D,DE43,2013-04-12,-3.6601018242104892\n",
      "7D,DE43,2013-04-13,-3.772496372879649\n",
      "7D,DE43,2013-04-14,-3.8848909215488083\n",
      "7D,DE43,2013-04-15,-3.9972854702179674\n",
      "7D,DE43,2013-04-16,-4.109680018887127\n",
      "7D,DE43,2013-04-17,-4.2220745675562865\n",
      "7D,DE43,2013-04-18,-4.334469116225446\n",
      "7D,DE43,2013-04-19,-4.446863664894606\n",
      "7D,DE43,2013-04-20,-4.559258213563765\n",
      "7D,DE43,2013-04-21,-4.671652762232924\n",
      "7D,DE43,2013-04-22,-4.784047310902084\n",
      "7D,DE43,2013-04-23,-4.896441859571243\n",
      "7D,DE43,2013-04-24,-5.008836408240402\n",
      "7D,DE43,2013-04-25,-5.121230956909562\n",
      "7D,DE43,2013-04-26,-5.233625505578722\n",
      "7D,DE43,2013-04-27,-5.346020054247882\n",
      "7D,DE43,2013-04-28,-5.458414602917041\n",
      "7D,DE43,2013-04-29,-5.5708091515862\n",
      "7D,DE43,2013-04-30,-5.683203700255358\n",
      "7D,DE43,2013-05-01,-5.795598248924518\n",
      "7D,DE43,2013-05-02,-5.9079927975936775\n",
      "7D,DE43,2013-05-03,-6.020387346262838\n",
      "7D,DE43,2013-05-04,-6.132781894931997\n",
      "7D,DE43,2013-05-05,-6.2451764436011565\n",
      "7D,DE43,2013-05-06,-6.3575709922703165\n",
      "7D,DE43,2013-05-07,-6.469965540939476\n",
      "7D,DE43,2013-05-08,-6.582360089608634\n",
      "7D,DE43,2013-05-09,-6.694754638277794\n",
      "7D,DE43,2013-05-10,-6.807149186946954\n",
      "7D,DE43,2013-05-11,-6.919543735616113\n",
      "7D,DE43,2013-05-12,-7.031938284285273\n",
      "7D,DE43,2013-05-13,-7.144332832954432\n",
      "7D,DE43,2013-05-14,-7.256727381623591\n",
      "7D,DE43,2013-05-15,-7.369121930292752\n",
      "7D,DE43,2013-05-16,-7.481516478961909\n",
      "7D,DE43,2013-05-17,-7.593911027631068\n",
      "7D,DE43,2013-05-18,-7.706305576300228\n",
      "7D,DE43,2013-05-19,-7.818700124969389\n",
      "7D,DE43,2013-05-20,-7.931094673638549\n",
      "7D,DE43,2013-05-21,-8.043489222307707\n",
      "7D,DE43,2013-05-22,-8.155883770976867\n",
      "7D,DE43,2013-05-23,-8.268278319646027\n",
      "7D,DE43,2013-05-24,-8.380672868315186\n",
      "7D,DE43,2013-05-25,-8.493067416984344\n",
      "7D,DE43,2013-05-26,-8.605461965653506\n",
      "7D,DE43,2013-05-27,-8.717856514322664\n",
      "7D,DE43,2013-05-28,-8.830251062991824\n",
      "7D,DE43,2013-05-29,-8.942645611660984\n",
      "7D,DE43,2013-05-30,-9.055040160330144\n",
      "7D,DE43,2013-05-31,-9.167434708999302\n",
      "7D,DE43,2013-06-01,-9.279829257668462\n",
      "7D,DE43,2013-06-02,-9.392223806337622\n",
      "7D,DE43,2013-06-03,-9.50461835500678\n",
      "7D,DE43,2013-06-04,-9.61701290367594\n",
      "7D,DE43,2013-06-05,-9.7294074523451\n",
      "7D,DE43,2013-06-06,-9.841802001014258\n",
      "7D,DE43,2013-06-07,-9.954196549683418\n",
      "7D,DE43,2013-06-08,-10.066591098352578\n",
      "7D,DE43,2013-06-09,-10.178985647021737\n",
      "7D,DE43,2013-06-10,-10.291380195690897\n",
      "7D,DE43,2013-06-11,-10.403774744360057\n",
      "7D,DE43,2013-06-12,-10.516169293029215\n",
      "7D,DE43,2013-06-13,-10.628563841698375\n",
      "7D,DE43,2013-06-14,-10.740958390367535\n",
      "7D,DE43,2013-06-15,-10.853352939036693\n",
      "7D,DE43,2013-06-16,-10.965747487705853\n",
      "7D,DE43,2013-06-17,-11.078142036375013\n",
      "7D,DE43,2013-06-18,-11.190536585044171\n",
      "7D,DE43,2013-06-19,-11.302931133713331\n",
      "7D,DE43,2013-07-06,1.0530986289019317\n",
      "7D,DE43,2013-07-07,1.0514936764358083\n",
      "7D,DE43,2013-07-08,1.049888723969685\n",
      "7D,DE43,2013-07-09,1.0482837715035613\n",
      "7D,DE43,2013-07-10,1.046678819037438\n",
      "7D,DE43,2013-07-11,1.0450738665713146\n",
      "7D,DE43,2013-07-12,1.0434689141051912\n",
      "7D,DE43,2013-07-13,1.0418639616390677\n",
      "7D,DE43,2013-07-14,1.0402590091729442\n",
      "7D,DE43,2013-07-15,1.0386540567068208\n",
      "7D,DE43,2013-07-16,1.0370491042406973\n",
      "7D,DE43,2013-07-17,1.035444151774574\n",
      "7D,DE43,2013-07-18,1.0338391993084504\n",
      "7D,DE43,2013-07-19,1.0322342468423271\n",
      "7D,DE43,2013-07-20,1.0306292943762037\n",
      "7D,DE43,2013-07-21,1.0290243419100802\n",
      "7D,DE43,2013-07-22,1.0274193894439567\n",
      "7D,DE43,2013-07-23,1.0258144369778333\n",
      "7D,DE43,2013-07-24,1.0242094845117098\n",
      "7D,DE43,2013-07-25,1.0226045320455865\n",
      "7D,DE43,2013-07-26,1.020999579579463\n",
      "7D,DE43,2013-07-27,1.0193946271133396\n",
      "7D,DE43,2013-07-28,1.0177896746472161\n",
      "7D,DE43,2013-07-29,1.0161847221810927\n",
      "7D,DE43,2013-07-30,1.0145797697149692\n",
      "7D,DE43,2013-07-31,1.0129748172488457\n",
      "7D,DE43,2013-08-01,1.0113698647827223\n",
      "7D,DE43,2013-08-02,1.0097649123165988\n",
      "7D,DE43,2013-08-03,1.0081599598504756\n",
      "7D,DE43,2013-08-04,1.0065550073843519\n",
      "7D,DE43,2013-08-05,1.0049500549182286\n",
      "7D,DE43,2013-08-06,1.0033451024521052\n",
      "7D,DE43,2013-08-07,1.0017401499859817\n",
      "7D,DE43,2013-08-08,1.0001351975198582\n",
      "7D,DE43,2013-08-09,0.9985302450537348\n",
      "7D,DE43,2013-08-10,0.9969252925876113\n",
      "7D,DE43,2013-08-11,0.9953203401214878\n",
      "7D,DE43,2013-08-12,0.9937153876553646\n",
      "7D,DE43,2013-08-13,0.992110435189241\n",
      "7D,DE43,2013-08-14,0.9905054827231177\n",
      "7D,DE43,2013-08-15,0.9889005302569942\n",
      "7D,DE43,2013-08-16,0.9872955777908707\n",
      "7D,DE43,2013-08-17,0.9856906253247473\n",
      "7D,DE43,2013-08-18,0.9840856728586239\n",
      "7D,DE43,2013-08-19,0.9824807203925003\n",
      "7D,DE43,2013-08-20,0.980875767926377\n",
      "7D,DE43,2013-08-21,0.9792708154602536\n",
      "7D,DE43,2013-08-22,0.97766586299413\n",
      "7D,DE43,2013-08-23,0.9760609105280067\n",
      "7D,DE43,2013-08-24,0.9744559580618832\n",
      "7D,DE43,2013-08-25,0.9728510055957599\n",
      "7D,DE43,2013-08-26,0.9712460531296363\n",
      "7D,DE43,2013-08-27,0.9696411006635128\n",
      "7D,DE43,2013-08-28,0.9680361481973895\n",
      "7D,DE43,2013-08-29,0.966431195731266\n",
      "7D,DE43,2013-08-30,0.9648262432651425\n",
      "7D,DE43,2013-08-31,0.9632212907990192\n",
      "7D,DE43,2013-09-01,0.9616163383328957\n",
      "7D,DE43,2013-09-02,0.9600113858667723\n",
      "7D,DE43,2013-09-03,0.9584064334006488\n",
      "7D,DE43,2013-09-04,0.9568014809345253\n",
      "7D,DE43,2013-09-05,0.9551965284684019\n",
      "7D,DE43,2013-09-06,0.9535915760022786\n",
      "7D,DE43,2013-09-07,0.951986623536155\n",
      "7D,DE43,2013-09-08,0.9503816710700315\n",
      "7D,DE43,2013-09-09,0.9487767186039082\n",
      "7D,DE43,2013-09-10,0.9471717661377848\n",
      "7D,DE43,2013-09-11,0.9455668136716613\n",
      "7D,DE43,2013-09-12,0.9439618612055378\n",
      "7D,DE43,2013-09-13,0.9423569087394145\n",
      "7D,DE43,2013-09-14,0.9407519562732909\n",
      "7D,DE43,2013-09-15,0.9391470038071676\n",
      "7D,DE43,2013-09-16,0.9375420513410441\n",
      "7D,DE43,2013-09-17,0.9359370988749207\n",
      "7D,DE43,2013-09-18,0.9343321464087972\n",
      "7D,DE43,2013-09-19,0.9327271939426738\n",
      "7D,DE43,2013-09-20,0.9311222414765504\n",
      "7D,DE43,2013-09-21,0.9295172890104269\n",
      "7D,DE43,2013-09-22,0.9279123365443035\n",
      "7D,DE43,2013-09-23,0.9263073840781801\n",
      "7D,DE43,2013-09-24,0.9247024316120566\n",
      "7D,DE43,2013-09-25,0.9230974791459331\n",
      "7D,DE43,2013-09-26,0.9214925266798099\n",
      "7D,DE43,2013-09-27,0.9198875742136863\n",
      "7D,DE43,2013-09-28,0.9182826217475628\n",
      "7D,DE43,2013-09-29,0.9166776692814395\n",
      "7D,DE43,2013-09-30,0.915072716815316\n",
      "7D,DE43,2013-10-01,0.9134677643491925\n",
      "7D,DE43,2013-10-02,0.9118628118830692\n",
      "7D,DE43,2013-10-03,0.9102578594169456\n",
      "7D,DE43,2013-10-04,0.9086529069508222\n",
      "7D,DE43,2013-10-05,0.9070479544846989\n",
      "7D,DE43,2013-10-06,0.9054430020185753\n",
      "7D,DE43,2013-10-07,0.9038380495524518\n",
      "7D,DE43,2013-10-08,0.9022330970863285\n",
      "7D,DE43,2013-10-09,0.900628144620205\n",
      "7D,DE43,2013-10-10,0.8990231921540816\n",
      "\n"
     ]
    }
   ],
   "source": [
    "print (csv_str)"
   ]
  },
  {
   "cell_type": "code",
   "execution_count": 12,
   "metadata": {},
   "outputs": [],
   "source": [
    "\n",
    "import pandas as pd"
   ]
  },
  {
   "cell_type": "code",
   "execution_count": 13,
   "metadata": {},
   "outputs": [
    {
     "name": "stdout",
     "output_type": "stream",
     "text": [
      "    0     1           2                   3\n",
      "0  7D  DE43  2012-11-28  0.9408504322549281\n",
      "1  7D  DE43  2012-11-29  0.8418519631882714\n",
      "2  7D  DE43  2012-11-30  0.7428534941216148\n",
      "3  7D  DE43  2012-12-01  0.6438550250549583\n",
      "4  7D  DE43  2012-12-02  0.5448565559883017\n"
     ]
    }
   ],
   "source": [
    "\n",
    "df = pd.DataFrame([x.split(',') for x in csv_str.split('\\n')][2:])\n",
    "print(df.head())"
   ]
  },
  {
   "cell_type": "code",
   "execution_count": 14,
   "metadata": {},
   "outputs": [],
   "source": [
    "# This should be replaced by the next code using tempfile \n",
    "\n",
    "# CSV_FILE_NAME = 'temp_file.csv'  # Consider creating temp file, look example below\n",
    "# with open(CSV_FILE_NAME, 'w') as outfile:\n",
    "#     outfile.write(csv_str)\n",
    "# df = pd.read_csv(CSV_FILE_NAME, sep=',', header=0)"
   ]
  },
  {
   "cell_type": "code",
   "execution_count": null,
   "metadata": {},
   "outputs": [],
   "source": []
  },
  {
   "cell_type": "code",
   "execution_count": 15,
   "metadata": {},
   "outputs": [
    {
     "name": "stdout",
     "output_type": "stream",
     "text": [
      "/local/p25/fxz547/tmp/tmpap7y6j49\n"
     ]
    }
   ],
   "source": [
    "import os, tempfile\n",
    "tmp = tempfile.NamedTemporaryFile(delete=False)\n",
    "\n",
    "try:\n",
    "    print(tmp.name)\n",
    "    with open(tmp.name, 'w') as outfile:\n",
    "        outfile.write(csv_str)\n",
    "    \n",
    "    df = pd.read_csv(tmp.name, sep=',', header=0)\n",
    "    \n",
    "finally:\n",
    "    #os.unlink(tmp.name) # remove the tmp file after use. \n",
    "    tmp.close()"
   ]
  },
  {
   "cell_type": "code",
   "execution_count": 16,
   "metadata": {},
   "outputs": [
    {
     "name": "stdout",
     "output_type": "stream",
     "text": [
      "  net   sta        date  clock_correction\n",
      "0  7D  DE43  2012-11-27          1.039849\n",
      "1  7D  DE43  2012-11-28          0.940850\n",
      "2  7D  DE43  2012-11-29          0.841852\n",
      "3  7D  DE43  2012-11-30          0.742853\n",
      "4  7D  DE43  2012-12-01          0.643855\n"
     ]
    }
   ],
   "source": [
    "print (df.head())"
   ]
  },
  {
   "cell_type": "code",
   "execution_count": 17,
   "metadata": {},
   "outputs": [
    {
     "name": "stdout",
     "output_type": "stream",
     "text": [
      "    net   sta        date  clock_correction\n",
      "240  7D  DE43  2013-10-06          0.905443\n",
      "241  7D  DE43  2013-10-07          0.903838\n",
      "242  7D  DE43  2013-10-08          0.902233\n",
      "243  7D  DE43  2013-10-09          0.900628\n",
      "244  7D  DE43  2013-10-10          0.899023\n"
     ]
    }
   ],
   "source": [
    "print (df.tail())"
   ]
  },
  {
   "cell_type": "code",
   "execution_count": 20,
   "metadata": {},
   "outputs": [
    {
     "data": {
      "text/html": [
       "<div>\n",
       "<style scoped>\n",
       "    .dataframe tbody tr th:only-of-type {\n",
       "        vertical-align: middle;\n",
       "    }\n",
       "\n",
       "    .dataframe tbody tr th {\n",
       "        vertical-align: top;\n",
       "    }\n",
       "\n",
       "    .dataframe thead th {\n",
       "        text-align: right;\n",
       "    }\n",
       "</style>\n",
       "<table border=\"1\" class=\"dataframe\">\n",
       "  <thead>\n",
       "    <tr style=\"text-align: right;\">\n",
       "      <th></th>\n",
       "      <th>clock_correction</th>\n",
       "    </tr>\n",
       "  </thead>\n",
       "  <tbody>\n",
       "    <tr>\n",
       "      <th>count</th>\n",
       "      <td>245.000000</td>\n",
       "    </tr>\n",
       "    <tr>\n",
       "      <th>mean</th>\n",
       "      <td>-2.000434</td>\n",
       "    </tr>\n",
       "    <tr>\n",
       "      <th>std</th>\n",
       "      <td>3.793879</td>\n",
       "    </tr>\n",
       "    <tr>\n",
       "      <th>min</th>\n",
       "      <td>-11.302931</td>\n",
       "    </tr>\n",
       "    <tr>\n",
       "      <th>25%</th>\n",
       "      <td>-4.446864</td>\n",
       "    </tr>\n",
       "    <tr>\n",
       "      <th>50%</th>\n",
       "      <td>-0.063476</td>\n",
       "    </tr>\n",
       "    <tr>\n",
       "      <th>75%</th>\n",
       "      <td>0.963221</td>\n",
       "    </tr>\n",
       "    <tr>\n",
       "      <th>max</th>\n",
       "      <td>1.397653</td>\n",
       "    </tr>\n",
       "  </tbody>\n",
       "</table>\n",
       "</div>"
      ],
      "text/plain": [
       "       clock_correction\n",
       "count        245.000000\n",
       "mean          -2.000434\n",
       "std            3.793879\n",
       "min          -11.302931\n",
       "25%           -4.446864\n",
       "50%           -0.063476\n",
       "75%            0.963221\n",
       "max            1.397653"
      ]
     },
     "execution_count": 20,
     "metadata": {},
     "output_type": "execute_result"
    }
   ],
   "source": [
    "df.describe()\n"
   ]
  },
  {
   "cell_type": "code",
   "execution_count": 23,
   "metadata": {},
   "outputs": [
    {
     "data": {
      "text/plain": [
       "net                  object\n",
       "sta                  object\n",
       "date                 object\n",
       "clock_correction    float64\n",
       "dtype: object"
      ]
     },
     "execution_count": 23,
     "metadata": {},
     "output_type": "execute_result"
    }
   ],
   "source": [
    "df.dtypes"
   ]
  },
  {
   "cell_type": "code",
   "execution_count": null,
   "metadata": {},
   "outputs": [],
   "source": []
  },
  {
   "cell_type": "code",
   "execution_count": null,
   "metadata": {},
   "outputs": [],
   "source": []
  },
  {
   "cell_type": "code",
   "execution_count": null,
   "metadata": {},
   "outputs": [],
   "source": []
  },
  {
   "cell_type": "code",
   "execution_count": null,
   "metadata": {},
   "outputs": [],
   "source": []
  },
  {
   "cell_type": "code",
   "execution_count": null,
   "metadata": {},
   "outputs": [],
   "source": []
  }
 ],
 "metadata": {
  "kernelspec": {
   "display_name": "Python 3",
   "language": "python",
   "name": "python3"
  },
  "language_info": {
   "codemirror_mode": {
    "name": "ipython",
    "version": 3
   },
   "file_extension": ".py",
   "mimetype": "text/x-python",
   "name": "python",
   "nbconvert_exporter": "python",
   "pygments_lexer": "ipython3",
   "version": "3.5.2"
  }
 },
 "nbformat": 4,
 "nbformat_minor": 4
}
